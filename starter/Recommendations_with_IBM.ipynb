{
 "cells": [
  {
   "cell_type": "markdown",
   "metadata": {},
   "source": [
    "# Recommendation System Project: IBM Community\n",
    "\n",
    "In this notebook, you will be putting your recommendation skills to use on real data from the IBM Watson Studio platform. \n",
    "\n",
    "\n",
    "You may either submit your notebook through the workspace here, or you may work from your local machine and submit through the next page.  Either way assure that your code passes the project [RUBRIC](https://review.udacity.com/#!/rubrics/3325/view).  **Please save regularly.**\n",
    "\n",
    "By following the table of contents, you will build out a number of different methods for making recommendations that can be used for different situations. \n",
    "\n",
    "\n",
    "## Table of Contents\n",
    "\n",
    "I. [Exploratory Data Analysis](#Exploratory-Data-Analysis)<br>\n",
    "II. [Rank Based Recommendations](#Rank)<br>\n",
    "III. [User-User Based Collaborative Filtering](#User-User)<br>\n",
    "IV. [Content Based Recommendations](#Content-Recs)<br>\n",
    "V. [Matrix Factorization](#Matrix-Fact)<br>\n",
    "VI. [Extras & Concluding](#conclusions)\n",
    "\n",
    "At the end of the notebook, you will find directions for how to submit your work.  Let's get started by importing the necessary libraries and reading in the data."
   ]
  },
  {
   "cell_type": "code",
   "execution_count": 1,
   "metadata": {},
   "outputs": [
    {
     "data": {
      "text/html": [
       "<div>\n",
       "<style scoped>\n",
       "    .dataframe tbody tr th:only-of-type {\n",
       "        vertical-align: middle;\n",
       "    }\n",
       "\n",
       "    .dataframe tbody tr th {\n",
       "        vertical-align: top;\n",
       "    }\n",
       "\n",
       "    .dataframe thead th {\n",
       "        text-align: right;\n",
       "    }\n",
       "</style>\n",
       "<table border=\"1\" class=\"dataframe\">\n",
       "  <thead>\n",
       "    <tr style=\"text-align: right;\">\n",
       "      <th></th>\n",
       "      <th>Unnamed: 0</th>\n",
       "      <th>article_id</th>\n",
       "      <th>title</th>\n",
       "      <th>email</th>\n",
       "    </tr>\n",
       "  </thead>\n",
       "  <tbody>\n",
       "    <tr>\n",
       "      <th>0</th>\n",
       "      <td>0</td>\n",
       "      <td>1430</td>\n",
       "      <td>using pixiedust for fast, flexible, and easier...</td>\n",
       "      <td>ef5f11f77ba020cd36e1105a00ab868bbdbf7fe7</td>\n",
       "    </tr>\n",
       "    <tr>\n",
       "      <th>1</th>\n",
       "      <td>1</td>\n",
       "      <td>1314</td>\n",
       "      <td>healthcare python streaming application demo</td>\n",
       "      <td>083cbdfa93c8444beaa4c5f5e0f5f9198e4f9e0b</td>\n",
       "    </tr>\n",
       "    <tr>\n",
       "      <th>2</th>\n",
       "      <td>2</td>\n",
       "      <td>1429</td>\n",
       "      <td>use deep learning for image classification</td>\n",
       "      <td>b96a4f2e92d8572034b1e9b28f9ac673765cd074</td>\n",
       "    </tr>\n",
       "    <tr>\n",
       "      <th>3</th>\n",
       "      <td>3</td>\n",
       "      <td>1338</td>\n",
       "      <td>ml optimization using cognitive assistant</td>\n",
       "      <td>06485706b34a5c9bf2a0ecdac41daf7e7654ceb7</td>\n",
       "    </tr>\n",
       "    <tr>\n",
       "      <th>4</th>\n",
       "      <td>4</td>\n",
       "      <td>1276</td>\n",
       "      <td>deploy your python model as a restful api</td>\n",
       "      <td>f01220c46fc92c6e6b161b1849de11faacd7ccb2</td>\n",
       "    </tr>\n",
       "  </tbody>\n",
       "</table>\n",
       "</div>"
      ],
      "text/plain": [
       "   Unnamed: 0  article_id                                              title  \\\n",
       "0           0        1430  using pixiedust for fast, flexible, and easier...   \n",
       "1           1        1314       healthcare python streaming application demo   \n",
       "2           2        1429         use deep learning for image classification   \n",
       "3           3        1338          ml optimization using cognitive assistant   \n",
       "4           4        1276          deploy your python model as a restful api   \n",
       "\n",
       "                                      email  \n",
       "0  ef5f11f77ba020cd36e1105a00ab868bbdbf7fe7  \n",
       "1  083cbdfa93c8444beaa4c5f5e0f5f9198e4f9e0b  \n",
       "2  b96a4f2e92d8572034b1e9b28f9ac673765cd074  \n",
       "3  06485706b34a5c9bf2a0ecdac41daf7e7654ceb7  \n",
       "4  f01220c46fc92c6e6b161b1849de11faacd7ccb2  "
      ]
     },
     "execution_count": 1,
     "metadata": {},
     "output_type": "execute_result"
    }
   ],
   "source": [
    "import pandas as pd\n",
    "import numpy as np\n",
    "import matplotlib.pyplot as plt\n",
    "import project_tests as t\n",
    "\n",
    "\n",
    "df = pd.read_csv(\n",
    "    'data/user-item-interactions.csv', \n",
    "    dtype={'article_id': int, 'title': str, 'email': str}\n",
    ")\n",
    "# Show df to get an idea of the data\n",
    "df.head()"
   ]
  },
  {
   "cell_type": "markdown",
   "metadata": {},
   "source": [
    "### <a class=\"anchor\" id=\"Exploratory-Data-Analysis\">Part I : Exploratory Data Analysis</a>\n",
    "\n",
    "Use the dictionary and cells below to provide some insight into the descriptive statistics of the data.\n",
    "\n",
    "`1.` Are there any missing values? If so, provide a count of missing values. If there are missing values in `email`, assign it the same id value `\"unknown_user\"`."
   ]
  },
  {
   "cell_type": "code",
   "execution_count": 2,
   "metadata": {},
   "outputs": [
    {
     "name": "stdout",
     "output_type": "stream",
     "text": [
      "<class 'pandas.core.frame.DataFrame'>\n",
      "RangeIndex: 45993 entries, 0 to 45992\n",
      "Data columns (total 4 columns):\n",
      " #   Column      Non-Null Count  Dtype \n",
      "---  ------      --------------  ----- \n",
      " 0   Unnamed: 0  45993 non-null  int64 \n",
      " 1   article_id  45993 non-null  int32 \n",
      " 2   title       45993 non-null  object\n",
      " 3   email       45976 non-null  object\n",
      "dtypes: int32(1), int64(1), object(2)\n",
      "memory usage: 1.2+ MB\n"
     ]
    }
   ],
   "source": [
    "# Some interactions do not have a user associated with it, assume the same user.\n",
    "df.info()"
   ]
  },
  {
   "cell_type": "code",
   "execution_count": 3,
   "metadata": {},
   "outputs": [
    {
     "name": "stdout",
     "output_type": "stream",
     "text": [
      "Number of Null email values is: 17\n"
     ]
    }
   ],
   "source": [
    "print(f\"Number of Null email values is: {df['email'].isnull().sum()}\")"
   ]
  },
  {
   "cell_type": "code",
   "execution_count": 4,
   "metadata": {},
   "outputs": [
    {
     "data": {
      "text/html": [
       "<div>\n",
       "<style scoped>\n",
       "    .dataframe tbody tr th:only-of-type {\n",
       "        vertical-align: middle;\n",
       "    }\n",
       "\n",
       "    .dataframe tbody tr th {\n",
       "        vertical-align: top;\n",
       "    }\n",
       "\n",
       "    .dataframe thead th {\n",
       "        text-align: right;\n",
       "    }\n",
       "</style>\n",
       "<table border=\"1\" class=\"dataframe\">\n",
       "  <thead>\n",
       "    <tr style=\"text-align: right;\">\n",
       "      <th></th>\n",
       "      <th>Unnamed: 0</th>\n",
       "      <th>article_id</th>\n",
       "      <th>title</th>\n",
       "      <th>email</th>\n",
       "    </tr>\n",
       "  </thead>\n",
       "  <tbody>\n",
       "    <tr>\n",
       "      <th>25131</th>\n",
       "      <td>25146</td>\n",
       "      <td>1016</td>\n",
       "      <td>why you should master r (even if it might even...</td>\n",
       "      <td>NaN</td>\n",
       "    </tr>\n",
       "    <tr>\n",
       "      <th>29758</th>\n",
       "      <td>30157</td>\n",
       "      <td>1393</td>\n",
       "      <td>the nurse assignment problem</td>\n",
       "      <td>NaN</td>\n",
       "    </tr>\n",
       "    <tr>\n",
       "      <th>29759</th>\n",
       "      <td>30158</td>\n",
       "      <td>20</td>\n",
       "      <td>working interactively with rstudio and noteboo...</td>\n",
       "      <td>NaN</td>\n",
       "    </tr>\n",
       "    <tr>\n",
       "      <th>29760</th>\n",
       "      <td>30159</td>\n",
       "      <td>1174</td>\n",
       "      <td>breast cancer wisconsin (diagnostic) data set</td>\n",
       "      <td>NaN</td>\n",
       "    </tr>\n",
       "    <tr>\n",
       "      <th>29761</th>\n",
       "      <td>30160</td>\n",
       "      <td>62</td>\n",
       "      <td>data visualization: the importance of excludin...</td>\n",
       "      <td>NaN</td>\n",
       "    </tr>\n",
       "    <tr>\n",
       "      <th>35264</th>\n",
       "      <td>36016</td>\n",
       "      <td>224</td>\n",
       "      <td>using apply, sapply, lapply in r</td>\n",
       "      <td>NaN</td>\n",
       "    </tr>\n",
       "    <tr>\n",
       "      <th>35276</th>\n",
       "      <td>36029</td>\n",
       "      <td>961</td>\n",
       "      <td>beyond parallelize and collect</td>\n",
       "      <td>NaN</td>\n",
       "    </tr>\n",
       "    <tr>\n",
       "      <th>35277</th>\n",
       "      <td>36030</td>\n",
       "      <td>268</td>\n",
       "      <td>sector correlations shiny app</td>\n",
       "      <td>NaN</td>\n",
       "    </tr>\n",
       "    <tr>\n",
       "      <th>35278</th>\n",
       "      <td>36031</td>\n",
       "      <td>268</td>\n",
       "      <td>sector correlations shiny app</td>\n",
       "      <td>NaN</td>\n",
       "    </tr>\n",
       "    <tr>\n",
       "      <th>35279</th>\n",
       "      <td>36032</td>\n",
       "      <td>268</td>\n",
       "      <td>sector correlations shiny app</td>\n",
       "      <td>NaN</td>\n",
       "    </tr>\n",
       "    <tr>\n",
       "      <th>35280</th>\n",
       "      <td>36033</td>\n",
       "      <td>268</td>\n",
       "      <td>sector correlations shiny app</td>\n",
       "      <td>NaN</td>\n",
       "    </tr>\n",
       "    <tr>\n",
       "      <th>35281</th>\n",
       "      <td>36034</td>\n",
       "      <td>415</td>\n",
       "      <td>using machine learning to predict value of hom...</td>\n",
       "      <td>NaN</td>\n",
       "    </tr>\n",
       "    <tr>\n",
       "      <th>35282</th>\n",
       "      <td>36035</td>\n",
       "      <td>846</td>\n",
       "      <td>pearson correlation aggregation on sparksql</td>\n",
       "      <td>NaN</td>\n",
       "    </tr>\n",
       "    <tr>\n",
       "      <th>35283</th>\n",
       "      <td>36036</td>\n",
       "      <td>268</td>\n",
       "      <td>sector correlations shiny app</td>\n",
       "      <td>NaN</td>\n",
       "    </tr>\n",
       "    <tr>\n",
       "      <th>35284</th>\n",
       "      <td>36037</td>\n",
       "      <td>162</td>\n",
       "      <td>an introduction to stock market data analysis ...</td>\n",
       "      <td>NaN</td>\n",
       "    </tr>\n",
       "    <tr>\n",
       "      <th>42749</th>\n",
       "      <td>44112</td>\n",
       "      <td>647</td>\n",
       "      <td>getting started with apache mahout</td>\n",
       "      <td>NaN</td>\n",
       "    </tr>\n",
       "    <tr>\n",
       "      <th>42750</th>\n",
       "      <td>44113</td>\n",
       "      <td>965</td>\n",
       "      <td>data visualization playbook: revisiting the ba...</td>\n",
       "      <td>NaN</td>\n",
       "    </tr>\n",
       "  </tbody>\n",
       "</table>\n",
       "</div>"
      ],
      "text/plain": [
       "       Unnamed: 0  article_id  \\\n",
       "25131       25146        1016   \n",
       "29758       30157        1393   \n",
       "29759       30158          20   \n",
       "29760       30159        1174   \n",
       "29761       30160          62   \n",
       "35264       36016         224   \n",
       "35276       36029         961   \n",
       "35277       36030         268   \n",
       "35278       36031         268   \n",
       "35279       36032         268   \n",
       "35280       36033         268   \n",
       "35281       36034         415   \n",
       "35282       36035         846   \n",
       "35283       36036         268   \n",
       "35284       36037         162   \n",
       "42749       44112         647   \n",
       "42750       44113         965   \n",
       "\n",
       "                                                   title email  \n",
       "25131  why you should master r (even if it might even...   NaN  \n",
       "29758                       the nurse assignment problem   NaN  \n",
       "29759  working interactively with rstudio and noteboo...   NaN  \n",
       "29760      breast cancer wisconsin (diagnostic) data set   NaN  \n",
       "29761  data visualization: the importance of excludin...   NaN  \n",
       "35264                   using apply, sapply, lapply in r   NaN  \n",
       "35276                     beyond parallelize and collect   NaN  \n",
       "35277                      sector correlations shiny app   NaN  \n",
       "35278                      sector correlations shiny app   NaN  \n",
       "35279                      sector correlations shiny app   NaN  \n",
       "35280                      sector correlations shiny app   NaN  \n",
       "35281  using machine learning to predict value of hom...   NaN  \n",
       "35282        pearson correlation aggregation on sparksql   NaN  \n",
       "35283                      sector correlations shiny app   NaN  \n",
       "35284  an introduction to stock market data analysis ...   NaN  \n",
       "42749                 getting started with apache mahout   NaN  \n",
       "42750  data visualization playbook: revisiting the ba...   NaN  "
      ]
     },
     "execution_count": 4,
     "metadata": {},
     "output_type": "execute_result"
    }
   ],
   "source": [
    "df[df.email.isna()]"
   ]
  },
  {
   "cell_type": "code",
   "execution_count": 5,
   "metadata": {},
   "outputs": [],
   "source": [
    "# Fill email NaNs with \"unknown_user\"\n",
    "df['email'] = df['email'].fillna('unknown_user')"
   ]
  },
  {
   "cell_type": "code",
   "execution_count": 6,
   "metadata": {},
   "outputs": [
    {
     "data": {
      "text/html": [
       "<div>\n",
       "<style scoped>\n",
       "    .dataframe tbody tr th:only-of-type {\n",
       "        vertical-align: middle;\n",
       "    }\n",
       "\n",
       "    .dataframe tbody tr th {\n",
       "        vertical-align: top;\n",
       "    }\n",
       "\n",
       "    .dataframe thead th {\n",
       "        text-align: right;\n",
       "    }\n",
       "</style>\n",
       "<table border=\"1\" class=\"dataframe\">\n",
       "  <thead>\n",
       "    <tr style=\"text-align: right;\">\n",
       "      <th></th>\n",
       "      <th>Unnamed: 0</th>\n",
       "      <th>article_id</th>\n",
       "      <th>title</th>\n",
       "      <th>email</th>\n",
       "    </tr>\n",
       "  </thead>\n",
       "  <tbody>\n",
       "  </tbody>\n",
       "</table>\n",
       "</div>"
      ],
      "text/plain": [
       "Empty DataFrame\n",
       "Columns: [Unnamed: 0, article_id, title, email]\n",
       "Index: []"
      ]
     },
     "execution_count": 6,
     "metadata": {},
     "output_type": "execute_result"
    }
   ],
   "source": [
    "# Check if no more NaNs \n",
    "df[df.email.isna()]"
   ]
  },
  {
   "cell_type": "markdown",
   "metadata": {},
   "source": [
    "`2.` What is the distribution of how many articles a user interacts with in the dataset?  Provide a visual and descriptive statistics to assist with giving a look at the number of times each user interacts with an article."
   ]
  },
  {
   "cell_type": "code",
   "execution_count": 7,
   "metadata": {},
   "outputs": [
    {
     "name": "stdout",
     "output_type": "stream",
     "text": [
      "count    5149.000000\n",
      "mean        8.932414\n",
      "std        16.801011\n",
      "min         1.000000\n",
      "25%         1.000000\n",
      "50%         3.000000\n",
      "75%         9.000000\n",
      "max       364.000000\n",
      "Name: article_id, dtype: float64\n"
     ]
    }
   ],
   "source": [
    "# What are the descriptive statistics of the number of articles a user interacts with?\n",
    "# Calculate the number of articles each user interacted with\n",
    "# Calculate the number of articles each user (email) interacted with\n",
    "user_interactions = df.groupby('email')['article_id'].count()\n",
    "\n",
    "# Descriptive statistics\n",
    "stats = user_interactions.describe()\n",
    "\n",
    "# Print descriptive statistics\n",
    "print(stats)"
   ]
  },
  {
   "cell_type": "code",
   "execution_count": 8,
   "metadata": {},
   "outputs": [
    {
     "data": {
      "image/png": "[encoded data removed]",
      "text/plain": [
       "<Figure size 640x480 with 1 Axes>"
      ]
     },
     "metadata": {},
     "output_type": "display_data"
    }
   ],
   "source": [
    "# Create a plot of the number of articles read by each user\n",
    "\n",
    "# Create a plot of the number of articles read by each user\n",
    "plt.hist(user_interactions, bins=50, edgecolor='black')\n",
    "plt.xlabel('Number of Articles Read')\n",
    "plt.ylabel('Number of Users')\n",
    "plt.title('Distribution of Number of Articles Read by Each User')\n",
    "plt.show()"
   ]
  },
  {
   "cell_type": "code",
   "execution_count": 9,
   "metadata": {},
   "outputs": [
    {
     "data": {
      "image/png": "[encoded data removed]",
      "text/plain": [
       "<Figure size 640x480 with 1 Axes>"
      ]
     },
     "metadata": {},
     "output_type": "display_data"
    }
   ],
   "source": [
    "# Calculate the number of users who interacted with each article\n",
    "article_interactions = df.groupby('article_id')['email'].nunique()\n",
    "\n",
    "# Create a plot of the number of times each article was read\n",
    "plt.hist(article_interactions, bins=50, edgecolor='black')\n",
    "plt.xlabel('Number of Users')\n",
    "plt.ylabel('Number of Articles')\n",
    "plt.title('Distribution of Article Usage')\n",
    "plt.show()"
   ]
  },
  {
   "cell_type": "code",
   "execution_count": 10,
   "metadata": {},
   "outputs": [
    {
     "name": "stdout",
     "output_type": "stream",
     "text": [
      "Median number of articles: 3.0\n",
      "Maximum number of articles by a user: 364\n"
     ]
    }
   ],
   "source": [
    "# Calculate the number of articles each user interacted with\n",
    "user_interactions = df.groupby('email')['article_id'].count()\n",
    "\n",
    "# Calculate the median and maximum number of user-article interactions\n",
    "median_val = user_interactions.median()\n",
    "max_views_by_user = user_interactions.max()\n",
    "\n",
    "# Print the results\n",
    "print(f\"Median number of articles: {median_val}\")\n",
    "print(f\"Maximum number of articles by a user: {max_views_by_user}\")\n"
   ]
  },
  {
   "cell_type": "markdown",
   "metadata": {},
   "source": [
    "`3.` Use the cells below to find:\n",
    "\n",
    "**a.** The number of unique articles that have an interaction with a user.  \n",
    "**b.** The number of unique articles in the dataset (whether they have any interactions or not).<br>\n",
    "**c.** The number of unique users in the dataset. (excluding null values) <br>\n",
    "**d.** The number of user-article interactions in the dataset."
   ]
  },
  {
   "cell_type": "code",
   "execution_count": 11,
   "metadata": {},
   "outputs": [
    {
     "name": "stdout",
     "output_type": "stream",
     "text": [
      "Unique articles with at least one interaction: 714\n",
      "Total number of articles on the platform: 714\n",
      "Unique users: 5149\n",
      "Total number of user-article interactions: 45993\n"
     ]
    }
   ],
   "source": [
    "# The number of unique articles that have at least one interaction\n",
    "unique_articles = df['article_id'].nunique()\n",
    "\n",
    "# The number of unique articles in the dataset (total articles in the platform)\n",
    "total_articles = df['article_id'].nunique()\n",
    "\n",
    "# The number of unique users\n",
    "unique_users = df['email'].nunique()\n",
    "\n",
    "# The number of user-article interactions (total interactions in the dataset)\n",
    "user_article_interactions = len(df)\n",
    "\n",
    "# Print the results\n",
    "print(f\"Unique articles with at least one interaction: {unique_articles}\")\n",
    "print(f\"Total number of articles on the platform: {total_articles}\")\n",
    "print(f\"Unique users: {unique_users}\")\n",
    "print(f\"Total number of user-article interactions: {user_article_interactions}\")\n"
   ]
  },
  {
   "cell_type": "markdown",
   "metadata": {},
   "source": [
    "`4.` Use the cells below to find the most viewed **article_id**, as well as how often it was viewed.  After talking to the company leaders, the `email_mapper` function was deemed a reasonable way to map users to ids.  There were a small number of null values, and it was found that all of these null values likely belonged to a single user (which is how they are stored using the function below)."
   ]
  },
  {
   "cell_type": "code",
   "execution_count": 12,
   "metadata": {},
   "outputs": [
    {
     "name": "stdout",
     "output_type": "stream",
     "text": [
      "Most viewed article ID: 1429\n",
      "Maximum number of views for an article: 937\n"
     ]
    }
   ],
   "source": [
    "# Find the most viewed article id\n",
    "most_viewed_article_id = df['article_id'].value_counts().idxmax()\n",
    "\n",
    "# Find the maximum number of views (interactions) for any article\n",
    "max_views = df['article_id'].value_counts().max()\n",
    "\n",
    "# Print the results\n",
    "print(f\"Most viewed article ID: {most_viewed_article_id}\")\n",
    "print(f\"Maximum number of views for an article: {max_views}\")"
   ]
  },
  {
   "cell_type": "code",
   "execution_count": 13,
   "metadata": {},
   "outputs": [
    {
     "data": {
      "text/html": [
       "<div>\n",
       "<style scoped>\n",
       "    .dataframe tbody tr th:only-of-type {\n",
       "        vertical-align: middle;\n",
       "    }\n",
       "\n",
       "    .dataframe tbody tr th {\n",
       "        vertical-align: top;\n",
       "    }\n",
       "\n",
       "    .dataframe thead th {\n",
       "        text-align: right;\n",
       "    }\n",
       "</style>\n",
       "<table border=\"1\" class=\"dataframe\">\n",
       "  <thead>\n",
       "    <tr style=\"text-align: right;\">\n",
       "      <th></th>\n",
       "      <th>Unnamed: 0</th>\n",
       "      <th>article_id</th>\n",
       "      <th>title</th>\n",
       "      <th>user_id</th>\n",
       "    </tr>\n",
       "  </thead>\n",
       "  <tbody>\n",
       "    <tr>\n",
       "      <th>0</th>\n",
       "      <td>0</td>\n",
       "      <td>1430</td>\n",
       "      <td>using pixiedust for fast, flexible, and easier...</td>\n",
       "      <td>1</td>\n",
       "    </tr>\n",
       "    <tr>\n",
       "      <th>1</th>\n",
       "      <td>1</td>\n",
       "      <td>1314</td>\n",
       "      <td>healthcare python streaming application demo</td>\n",
       "      <td>2</td>\n",
       "    </tr>\n",
       "    <tr>\n",
       "      <th>2</th>\n",
       "      <td>2</td>\n",
       "      <td>1429</td>\n",
       "      <td>use deep learning for image classification</td>\n",
       "      <td>3</td>\n",
       "    </tr>\n",
       "    <tr>\n",
       "      <th>3</th>\n",
       "      <td>3</td>\n",
       "      <td>1338</td>\n",
       "      <td>ml optimization using cognitive assistant</td>\n",
       "      <td>4</td>\n",
       "    </tr>\n",
       "    <tr>\n",
       "      <th>4</th>\n",
       "      <td>4</td>\n",
       "      <td>1276</td>\n",
       "      <td>deploy your python model as a restful api</td>\n",
       "      <td>5</td>\n",
       "    </tr>\n",
       "  </tbody>\n",
       "</table>\n",
       "</div>"
      ],
      "text/plain": [
       "   Unnamed: 0  article_id                                              title  \\\n",
       "0           0        1430  using pixiedust for fast, flexible, and easier...   \n",
       "1           1        1314       healthcare python streaming application demo   \n",
       "2           2        1429         use deep learning for image classification   \n",
       "3           3        1338          ml optimization using cognitive assistant   \n",
       "4           4        1276          deploy your python model as a restful api   \n",
       "\n",
       "   user_id  \n",
       "0        1  \n",
       "1        2  \n",
       "2        3  \n",
       "3        4  \n",
       "4        5  "
      ]
     },
     "execution_count": 13,
     "metadata": {},
     "output_type": "execute_result"
    }
   ],
   "source": [
    "## No need to change the code here - this will be helpful for later parts of the notebook\n",
    "# Run this cell to map the user email to a user_id column and remove the email column\n",
    "\n",
    "def email_mapper(df=df):\n",
    "    coded_dict = {\n",
    "        email: num \n",
    "        for num, email in enumerate(df['email'].unique(), start=1)\n",
    "    }\n",
    "    return [coded_dict[val] for val in df['email']]\n",
    "\n",
    "df['user_id'] = email_mapper(df)\n",
    "del df['email']\n",
    "\n",
    "# show header\n",
    "df.head()"
   ]
  },
  {
   "cell_type": "code",
   "execution_count": 14,
   "metadata": {},
   "outputs": [
    {
     "name": "stdout",
     "output_type": "stream",
     "text": [
      "It looks like you have everything right here! Nice job!\n"
     ]
    }
   ],
   "source": [
    "## If you stored all your results in the variable names above, \n",
    "## you shouldn't need to change anything in this cell\n",
    "\n",
    "sol_1_dict = {\n",
    "    '`50% of individuals have _____ or fewer interactions.`': median_val,\n",
    "    '`The total number of user-article interactions in the dataset is ______.`': user_article_interactions,\n",
    "    '`The maximum number of user-article interactions by any 1 user is ______.`': max_views_by_user,\n",
    "    '`The most viewed article in the dataset was viewed _____ times.`': max_views,\n",
    "    '`The article_id of the most viewed article is ______.`': most_viewed_article_id,\n",
    "    '`The number of unique articles that have at least 1 rating ______.`': unique_articles,\n",
    "    '`The number of unique users in the dataset is ______`': unique_users,\n",
    "    '`The number of unique articles on the IBM platform`': total_articles\n",
    "}\n",
    "\n",
    "# Test your dictionary against the solution\n",
    "t.sol_1_test(sol_1_dict)"
   ]
  },
  {
   "cell_type": "markdown",
   "metadata": {},
   "source": [
    "### <a class=\"anchor\" id=\"Rank\">Part II: Rank-Based Recommendations</a>\n",
    "\n",
    "In this project, we don't actually have ratings for whether a user liked an article or not.  We only know that a user has interacted with an article. In these cases, the popularity of an article can really only be based on how often an article was interacted with.\n",
    "\n",
    "`1.` Fill in the function below to return the **n** top articles ordered with most interactions as the top. Test your function using the tests below."
   ]
  },
  {
   "cell_type": "code",
   "execution_count": 15,
   "metadata": {},
   "outputs": [
    {
     "name": "stdout",
     "output_type": "stream",
     "text": [
      "Top 10 Articles Titles: ['healthcare python streaming application demo', 'use deep learning for image classification', 'apache spark lab, part 1: basic concepts', 'predicting churn with the spss random tree algorithm', 'analyze energy consumption in buildings', 'visualize car data with brunel', 'use xgboost, scikit-learn & ibm watson machine learning apis', 'gosales transactions for logistic regression model', 'insights from new york car accident reports', 'finding optimal locations of new store using decision optimization']\n",
      "Top 10 Article IDs: [1429, 1330, 1431, 1427, 1364, 1314, 1293, 1170, 1162, 1304]\n"
     ]
    }
   ],
   "source": [
    "def get_top_articles(n, df=df):\n",
    "    \"\"\"\n",
    "    INPUT:\n",
    "    n - (int) the number of top articles to return\n",
    "    df - (pandas dataframe) df as defined at the top of the notebook \n",
    "    \n",
    "    OUTPUT:\n",
    "    top_articles - (list) A list of the top 'n' article titles \n",
    "    \n",
    "    \"\"\"\n",
    "    # Count the interactions for each article\n",
    "    article_counts = df['article_id'].value_counts()\n",
    "    \n",
    "    # Get the top n article ids\n",
    "    top_article_ids = article_counts.head(n).index.tolist()\n",
    "    \n",
    "    # Get the corresponding article titles\n",
    "    top_articles = df[df['article_id'].isin(top_article_ids)]['title'].unique().tolist()\n",
    "    \n",
    "    return top_articles  # Return the top article titles\n",
    "\n",
    "\n",
    "def get_top_article_ids(n, df=df):\n",
    "    \"\"\"\n",
    "    INPUT:\n",
    "    n - (int) the number of top articles to return\n",
    "    df - (pandas dataframe) df as defined at the top of the notebook \n",
    "    \n",
    "    OUTPUT:\n",
    "    top_articles - (list) A list of the top 'n' article ids \n",
    "    \n",
    "    \"\"\"\n",
    "    # Count the interactions for each article\n",
    "    article_counts = df['article_id'].value_counts()\n",
    "    \n",
    "    # Get the top n article ids\n",
    "    top_article_ids = article_counts.head(n).index.tolist()\n",
    "    \n",
    "    return top_article_ids  # Return the top article ids\n",
    "\n",
    "# Example test\n",
    "top_articles = get_top_articles(10)\n",
    "top_article_ids = get_top_article_ids(10)\n",
    "\n",
    "print(\"Top 10 Articles Titles:\", top_articles)\n",
    "print(\"Top 10 Article IDs:\", top_article_ids)"
   ]
  },
  {
   "cell_type": "code",
   "execution_count": 16,
   "metadata": {},
   "outputs": [
    {
     "name": "stdout",
     "output_type": "stream",
     "text": [
      "['healthcare python streaming application demo', 'use deep learning for image classification', 'apache spark lab, part 1: basic concepts', 'predicting churn with the spss random tree algorithm', 'analyze energy consumption in buildings', 'visualize car data with brunel', 'use xgboost, scikit-learn & ibm watson machine learning apis', 'gosales transactions for logistic regression model', 'insights from new york car accident reports', 'finding optimal locations of new store using decision optimization']\n",
      "[1429, 1330, 1431, 1427, 1364, 1314, 1293, 1170, 1162, 1304]\n"
     ]
    }
   ],
   "source": [
    "print(get_top_articles(10))\n",
    "print(get_top_article_ids(10))"
   ]
  },
  {
   "cell_type": "code",
   "execution_count": 17,
   "metadata": {},
   "outputs": [
    {
     "name": "stdout",
     "output_type": "stream",
     "text": [
      "Your top_5 looks like the solution list! Nice job.\n",
      "Your top_10 looks like the solution list! Nice job.\n",
      "Your top_20 looks like the solution list! Nice job.\n"
     ]
    }
   ],
   "source": [
    "# Test your function by returning the top 5, 10, and 20 articles\n",
    "top_5 = get_top_articles(5)\n",
    "top_10 = get_top_articles(10)\n",
    "top_20 = get_top_articles(20)\n",
    "\n",
    "# Test each of your three lists from above\n",
    "t.sol_2_test(get_top_articles)"
   ]
  },
  {
   "cell_type": "markdown",
   "metadata": {},
   "source": [
    "### <a class=\"anchor\" id=\"User-User\">Part III: User-User Based Collaborative Filtering</a>\n",
    "\n",
    "\n",
    "`1.` Use the function below to reformat the **df** dataframe to be shaped with users as the rows and articles as the columns.  \n",
    "\n",
    "* Each **user** should only appear in each **row** once.\n",
    "\n",
    "\n",
    "* Each **article** should only show up in one **column**.  \n",
    "\n",
    "\n",
    "* **If a user has interacted with an article, then place a 1 where the user-row meets for that article-column**.  It does not matter how many times a user has interacted with the article, all entries where a user has interacted with an article should be a 1.  \n",
    "\n",
    "\n",
    "* **If a user has not interacted with an item, then place a zero where the user-row meets for that article-column**. \n",
    "\n",
    "Use the tests to make sure the basic structure of your matrix matches what is expected by the solution."
   ]
  },
  {
   "cell_type": "code",
   "execution_count": 18,
   "metadata": {},
   "outputs": [
    {
     "name": "stderr",
     "output_type": "stream",
     "text": [
      "C:\\Users\\Nandan\\AppData\\Local\\Temp\\ipykernel_24980\\1136465905.py:17: FutureWarning: DataFrame.applymap has been deprecated. Use DataFrame.map instead.\n",
      "  user_item = user_item.applymap(lambda x: 1 if x > 0 else 0)\n"
     ]
    },
    {
     "name": "stdout",
     "output_type": "stream",
     "text": [
      "article_id  0     2     4     8     9     12    14    15    16    18    ...  \\\n",
      "user_id                                                                 ...   \n",
      "1              0     0     0     0     0     0     0     0     0     0  ...   \n",
      "2              0     0     0     0     0     0     0     0     0     0  ...   \n",
      "3              0     0     0     0     0     1     0     0     0     0  ...   \n",
      "4              0     0     0     0     0     0     0     0     0     0  ...   \n",
      "5              0     0     0     0     0     0     0     0     0     0  ...   \n",
      "\n",
      "article_id  1434  1435  1436  1437  1439  1440  1441  1442  1443  1444  \n",
      "user_id                                                                 \n",
      "1              0     0     1     0     1     0     0     0     0     0  \n",
      "2              0     0     0     0     0     0     0     0     0     0  \n",
      "3              0     0     1     0     0     0     0     0     0     0  \n",
      "4              0     0     0     0     0     0     0     0     0     0  \n",
      "5              0     0     0     0     0     0     0     0     0     0  \n",
      "\n",
      "[5 rows x 714 columns]\n"
     ]
    }
   ],
   "source": [
    "def create_user_item_matrix(df, fill_value=0):\n",
    "    \"\"\"\n",
    "    INPUT:\n",
    "    df - pandas dataframe with article_id, title, user_id columns\n",
    "    \n",
    "    OUTPUT:\n",
    "    user_item - user item matrix \n",
    "    \n",
    "    Description:\n",
    "    Return a matrix with user ids as rows and article ids on the columns with 1 values where a user interacted with \n",
    "    an article and a 0 otherwise\n",
    "    \"\"\"\n",
    "    # Update 'email' to the correct user identifier column, such as 'user_id' or whatever the correct column name is.\n",
    "    user_item = df.pivot_table(index='user_id', columns='article_id', aggfunc='size', fill_value=fill_value)\n",
    "    \n",
    "    # Replace values greater than 0 with 1 (indicating interaction)\n",
    "    user_item = user_item.applymap(lambda x: 1 if x > 0 else 0)\n",
    "    \n",
    "    return user_item\n",
    "\n",
    "# Create the user-item matrix\n",
    "user_item = create_user_item_matrix(df)\n",
    "\n",
    "# Display the resulting user-item matrix\n",
    "print(user_item.head())"
   ]
  },
  {
   "cell_type": "code",
   "execution_count": 19,
   "metadata": {},
   "outputs": [
    {
     "name": "stdout",
     "output_type": "stream",
     "text": [
      "You have passed our quick tests!  Please proceed!\n"
     ]
    }
   ],
   "source": [
    "## Tests: You should just need to run this cell.  Don't change the code.\n",
    "assert user_item.shape[0] == 5149, \"Oops!  The number of users in the user-article matrix doesn't look right.\"\n",
    "assert user_item.shape[1] == 714, \"Oops!  The number of articles in the user-article matrix doesn't look right.\"\n",
    "assert user_item.sum(axis=1)[1] == 36, \"Oops!  The number of articles seen by user 1 doesn't look right.\"\n",
    "print(\"You have passed our quick tests!  Please proceed!\")"
   ]
  },
  {
   "cell_type": "markdown",
   "metadata": {},
   "source": [
    "`2.` Complete the function below which should take a user_id and provide an ordered list of the most similar users to that user (from most similar to least similar).  The returned result should not contain the provided user_id, as we know that each user is similar to him/herself. Because the results for each user here are binary, it (perhaps) makes sense to compute similarity as the dot product of two users. \n",
    "\n",
    "Use the tests to test your function."
   ]
  },
  {
   "cell_type": "code",
   "execution_count": 20,
   "metadata": {},
   "outputs": [],
   "source": [
    "# Lets use the cosine_similarity function from sklearn\n",
    "from sklearn.metrics.pairwise import cosine_similarity"
   ]
  },
  {
   "cell_type": "code",
   "execution_count": 21,
   "metadata": {},
   "outputs": [
    {
     "name": "stdout",
     "output_type": "stream",
     "text": [
      "Index([   1,    2,    3,    4,    5,    6,    7,    8,    9,   10,\n",
      "       ...\n",
      "       5140, 5141, 5142, 5143, 5144, 5145, 5146, 5147, 5148, 5149],\n",
      "      dtype='int64', name='user_id', length=5149)\n"
     ]
    }
   ],
   "source": [
    "print(user_item.index)"
   ]
  },
  {
   "cell_type": "code",
   "execution_count": 22,
   "metadata": {},
   "outputs": [
    {
     "name": "stdout",
     "output_type": "stream",
     "text": [
      "[[93, 1.0], [128, 1.0], [818, 1.0], [1077, 1.0], [1164, 1.0], [1371, 1.0], [1495, 1.0], [1624, 1.0], [1675, 1.0], [1697, 1.0], [1892, 1.0], [1930, 1.0], [1966, 1.0], [2018, 1.0], [3661, 1.0], [4602, 1.0], [5112, 1.0], [18, 0.7071067811865475], [177, 0.7071067811865475], [657, 0.7071067811865475], [903, 0.7071067811865475], [1239, 0.7071067811865475], [1420, 0.7071067811865475], [1631, 0.7071067811865475], [1781, 0.7071067811865475], [1929, 0.7071067811865475], [2048, 0.7071067811865475], [2097, 0.7071067811865475], [2770, 0.7071067811865475], [3122, 0.7071067811865475], [3132, 0.7071067811865475], [4435, 0.7071067811865475], [4614, 0.7071067811865475], [16, 0.5773502691896258], [724, 0.5773502691896258], [894, 0.5773502691896258], [947, 0.5773502691896258], [1074, 0.5773502691896258], [1359, 0.5773502691896258], [1375, 0.5773502691896258], [1483, 0.5773502691896258], [1541, 0.5773502691896258], [1561, 0.5773502691896258], [1635, 0.5773502691896258], [1882, 0.5773502691896258], [2969, 0.5773502691896258], [3083, 0.5773502691896258], [3396, 0.5773502691896258], [3809, 0.5773502691896258], [4017, 0.5773502691896258], [4269, 0.5773502691896258], [664, 0.5], [680, 0.5], [908, 0.5], [1215, 0.5], [1461, 0.5], [2209, 0.5], [3115, 0.5], [3581, 0.5], [3595, 0.5], [4028, 0.5], [4626, 0.5], [4696, 0.5], [4970, 0.5], [671, 0.4472135954999579], [753, 0.4472135954999579], [874, 0.4472135954999579], [1007, 0.4472135954999579], [1023, 0.4472135954999579], [1061, 0.4472135954999579], [1270, 0.4472135954999579], [3672, 0.4472135954999579], [3714, 0.4472135954999579], [3824, 0.4472135954999579], [4794, 0.4472135954999579], [4995, 0.4472135954999579], [441, 0.4082482904638631], [714, 0.4082482904638631], [1087, 0.4082482904638631], [1225, 0.4082482904638631], [1476, 0.4082482904638631], [1509, 0.4082482904638631], [3391, 0.4082482904638631], [3402, 0.4082482904638631], [3499, 0.4082482904638631], [4108, 0.4082482904638631], [4373, 0.4082482904638631], [104, 0.3779644730092272], [702, 0.3779644730092272], [1057, 0.3779644730092272], [4371, 0.3779644730092272], [4426, 0.3779644730092272], [89, 0.35355339059327373], [758, 0.35355339059327373], [1114, 0.35355339059327373], [1302, 0.35355339059327373], [3063, 0.35355339059327373], [508, 0.3333333333333333], [2901, 0.3333333333333333], [4085, 0.3333333333333333], [4577, 0.3333333333333333], [15, 0.31622776601683794], [48, 0.31622776601683794], [699, 0.31622776601683794], [932, 0.31622776601683794], [3015, 0.31622776601683794], [4389, 0.31622776601683794], [4680, 0.31622776601683794], [4689, 0.31622776601683794], [4862, 0.31622776601683794], [403, 0.30151134457776363], [469, 0.30151134457776363], [797, 0.30151134457776363], [1150, 0.30151134457776363], [3346, 0.30151134457776363], [3727, 0.30151134457776363], [886, 0.2886751345948129], [972, 0.2886751345948129], [1674, 0.2886751345948129], [3724, 0.2886751345948129], [3420, 0.2773500981126146], [3644, 0.2773500981126146], [3671, 0.2773500981126146], [568, 0.2672612419124244], [582, 0.2672612419124244], [938, 0.2672612419124244], [2993, 0.2672612419124244], [3835, 0.2672612419124244], [209, 0.2581988897471611], [280, 0.2581988897471611], [755, 0.2581988897471611], [2989, 0.2581988897471611], [3636, 0.2581988897471611], [4225, 0.2581988897471611], [733, 0.25], [854, 0.25], [1110, 0.25], [3124, 0.25], [4010, 0.25], [4904, 0.25], [217, 0.24253562503633297], [1384, 0.24253562503633297], [1633, 0.24253562503633297], [3176, 0.24253562503633297], [3338, 0.24253562503633297], [3535, 0.24253562503633297], [4872, 0.24253562503633297], [4909, 0.24253562503633297], [6, 0.23570226039551587], [65, 0.23570226039551587], [107, 0.23570226039551587], [375, 0.23570226039551587], [681, 0.23570226039551587], [1082, 0.23570226039551587], [1172, 0.23570226039551587], [927, 0.22941573387056174], [4788, 0.22941573387056174], [4842, 0.22941573387056174], [5077, 0.22941573387056174], [261, 0.22360679774997896], [697, 0.22360679774997896], [2908, 0.2182178902359924], [745, 0.21320071635561041], [4323, 0.21320071635561041], [134, 0.20851441405707477], [1068, 0.20851441405707477], [4161, 0.20851441405707477], [4274, 0.20851441405707477], [4449, 0.20851441405707477], [438, 0.20412414523193154], [471, 0.20412414523193154], [4876, 0.20412414523193154], [346, 0.2], [521, 0.2], [1240, 0.2], [4241, 0.2], [4824, 0.2], [4, 0.19611613513818404], [28, 0.19611613513818404], [1163, 0.19611613513818404], [3414, 0.19611613513818404], [4137, 0.19245008972987526], [4145, 0.19245008972987526], [55, 0.18569533817705186], [722, 0.18569533817705186], [3417, 0.18569533817705186], [3966, 0.18569533817705186], [11, 0.18257418583505536], [3058, 0.18257418583505536], [538, 0.1796053020267749], [4494, 0.1796053020267749], [313, 0.17677669529663687], [5079, 0.17407765595569785], [1897, 0.17149858514250882], [214, 0.16666666666666666], [3695, 0.1643989873053573], [3898, 0.1643989873053573], [319, 0.16222142113076254], [479, 0.16222142113076254], [2981, 0.16222142113076254], [362, 0.16012815380508713], [3, 0.15811388300841897], [3353, 0.15811388300841897], [4484, 0.15617376188860607], [665, 0.15249857033260467], [4642, 0.15249857033260467], [754, 0.15075567228888181], [3637, 0.15075567228888181], [67, 0.14907119849998599], [256, 0.14907119849998599], [3856, 0.14907119849998599], [4293, 0.14907119849998599], [696, 0.14586499149789456], [45, 0.1386750490563073], [3500, 0.1386750490563073], [4755, 0.13483997249264842], [765, 0.13245323570650439], [52, 0.13130643285972254], [242, 0.13018891098082389], [3596, 0.13018891098082389], [3910, 0.12909944487358055], [5138, 0.11867816581938533], [204, 0.11785113019775793], [203, 0.10206207261596577], [4459, 0.10206207261596577], [98, 0.10153461651336192], [3764, 0.10153461651336192], [3697, 0.1], [49, 0.09950371902099892], [23, 0.08606629658238704], [3782, 0.08606629658238704], [1, 0.0], [2, 0.0], [5, 0.0], [7, 0.0], [8, 0.0], [9, 0.0], [10, 0.0], [12, 0.0], [13, 0.0], [14, 0.0], [17, 0.0], [19, 0.0], [20, 0.0], [21, 0.0], [22, 0.0], [24, 0.0], [25, 0.0], [26, 0.0], [27, 0.0], [29, 0.0], [30, 0.0], [31, 0.0], [32, 0.0], [33, 0.0], [34, 0.0], [35, 0.0], [36, 0.0], [37, 0.0], [38, 0.0], [39, 0.0], [40, 0.0], [41, 0.0], [42, 0.0], [43, 0.0], [44, 0.0], [46, 0.0], [47, 0.0], [50, 0.0], [51, 0.0], [53, 0.0], [54, 0.0], [56, 0.0], [57, 0.0], [58, 0.0], [59, 0.0], [60, 0.0], [61, 0.0], [62, 0.0], [63, 0.0], [64, 0.0], [66, 0.0], [68, 0.0], [69, 0.0], [70, 0.0], [71, 0.0], [72, 0.0], [73, 0.0], [74, 0.0], [75, 0.0], [76, 0.0], [77, 0.0], [78, 0.0], [79, 0.0], [80, 0.0], [81, 0.0], [82, 0.0], [83, 0.0], [84, 0.0], [85, 0.0], [86, 0.0], [87, 0.0], [88, 0.0], [90, 0.0], [91, 0.0], [92, 0.0], [94, 0.0], [95, 0.0], [96, 0.0], [97, 0.0], [99, 0.0], [100, 0.0], [101, 0.0], [102, 0.0], [103, 0.0], [105, 0.0], [106, 0.0], [108, 0.0], [109, 0.0], [110, 0.0], [111, 0.0], [112, 0.0], [113, 0.0], [114, 0.0], [115, 0.0], [116, 0.0], [117, 0.0], [118, 0.0], [119, 0.0], [120, 0.0], [121, 0.0], [122, 0.0], [124, 0.0], [125, 0.0], [126, 0.0], [127, 0.0], [129, 0.0], [130, 0.0], [131, 0.0], [132, 0.0], [133, 0.0], [135, 0.0], [136, 0.0], [137, 0.0], [138, 0.0], [139, 0.0], [140, 0.0], [141, 0.0], [142, 0.0], [143, 0.0], [144, 0.0], [145, 0.0], [146, 0.0], [147, 0.0], [148, 0.0], [149, 0.0], [150, 0.0], [151, 0.0], [152, 0.0], [153, 0.0], [154, 0.0], [155, 0.0], [156, 0.0], [157, 0.0], [158, 0.0], [159, 0.0], [160, 0.0], [161, 0.0], [162, 0.0], [163, 0.0], [164, 0.0], [165, 0.0], [166, 0.0], [167, 0.0], [168, 0.0], [169, 0.0], [170, 0.0], [171, 0.0], [172, 0.0], [173, 0.0], [174, 0.0], [175, 0.0], [176, 0.0], [178, 0.0], [179, 0.0], [180, 0.0], [181, 0.0], [182, 0.0], [183, 0.0], [184, 0.0], [185, 0.0], [186, 0.0], [187, 0.0], [188, 0.0], [189, 0.0], [190, 0.0], [191, 0.0], [192, 0.0], [193, 0.0], [194, 0.0], [195, 0.0], [196, 0.0], [197, 0.0], [198, 0.0], [199, 0.0], [200, 0.0], [201, 0.0], [202, 0.0], [205, 0.0], [206, 0.0], [207, 0.0], [208, 0.0], [210, 0.0], [211, 0.0], [212, 0.0], [213, 0.0], [215, 0.0], [216, 0.0], [218, 0.0], [219, 0.0], [220, 0.0], [221, 0.0], [222, 0.0], [223, 0.0], [224, 0.0], [225, 0.0], [226, 0.0], [227, 0.0], [228, 0.0], [229, 0.0], [230, 0.0], [231, 0.0], [232, 0.0], [233, 0.0], [234, 0.0], [235, 0.0], [236, 0.0], [237, 0.0], [238, 0.0], [239, 0.0], [240, 0.0], [241, 0.0], [243, 0.0], [244, 0.0], [245, 0.0], [246, 0.0], [247, 0.0], [248, 0.0], [249, 0.0], [250, 0.0], [251, 0.0], [252, 0.0], [253, 0.0], [254, 0.0], [255, 0.0], [257, 0.0], [258, 0.0], [259, 0.0], [260, 0.0], [262, 0.0], [263, 0.0], [264, 0.0], [265, 0.0], [266, 0.0], [267, 0.0], [268, 0.0], [269, 0.0], [270, 0.0], [271, 0.0], [272, 0.0], [273, 0.0], [274, 0.0], [275, 0.0], [276, 0.0], [277, 0.0], [278, 0.0], [279, 0.0], [281, 0.0], [282, 0.0], [283, 0.0], [284, 0.0], [285, 0.0], [286, 0.0], [287, 0.0], [288, 0.0], [289, 0.0], [290, 0.0], [291, 0.0], [292, 0.0], [293, 0.0], [294, 0.0], [295, 0.0], [296, 0.0], [297, 0.0], [298, 0.0], [299, 0.0], [300, 0.0], [301, 0.0], [302, 0.0], [303, 0.0], [304, 0.0], [305, 0.0], [306, 0.0], [307, 0.0], [308, 0.0], [309, 0.0], [310, 0.0], [311, 0.0], [312, 0.0], [314, 0.0], [315, 0.0], [316, 0.0], [317, 0.0], [318, 0.0], [320, 0.0], [321, 0.0], [322, 0.0], [323, 0.0], [324, 0.0], [325, 0.0], [326, 0.0], [327, 0.0], [328, 0.0], [329, 0.0], [330, 0.0], [331, 0.0], [332, 0.0], [333, 0.0], [334, 0.0], [335, 0.0], [336, 0.0], [337, 0.0], [338, 0.0], [339, 0.0], [340, 0.0], [341, 0.0], [342, 0.0], [343, 0.0], [344, 0.0], [345, 0.0], [347, 0.0], [348, 0.0], [349, 0.0], [350, 0.0], [351, 0.0], [352, 0.0], [353, 0.0], [354, 0.0], [355, 0.0], [356, 0.0], [357, 0.0], [358, 0.0], [359, 0.0], [360, 0.0], [361, 0.0], [363, 0.0], [364, 0.0], [365, 0.0], [366, 0.0], [367, 0.0], [368, 0.0], [369, 0.0], [370, 0.0], [371, 0.0], [372, 0.0], [373, 0.0], [374, 0.0], [376, 0.0], [377, 0.0], [378, 0.0], [379, 0.0], [380, 0.0], [381, 0.0], [382, 0.0], [383, 0.0], [384, 0.0], [385, 0.0], [386, 0.0], [387, 0.0], [388, 0.0], [389, 0.0], [390, 0.0], [391, 0.0], [392, 0.0], [393, 0.0], [394, 0.0], [395, 0.0], [396, 0.0], [397, 0.0], [398, 0.0], [399, 0.0], [400, 0.0], [401, 0.0], [402, 0.0], [404, 0.0], [405, 0.0], [406, 0.0], [407, 0.0], [408, 0.0], [409, 0.0], [410, 0.0], [411, 0.0], [412, 0.0], [413, 0.0], [414, 0.0], [415, 0.0], [416, 0.0], [417, 0.0], [418, 0.0], [419, 0.0], [420, 0.0], [421, 0.0], [422, 0.0], [423, 0.0], [424, 0.0], [425, 0.0], [426, 0.0], [427, 0.0], [428, 0.0], [429, 0.0], [430, 0.0], [431, 0.0], [432, 0.0], [433, 0.0], [434, 0.0], [435, 0.0], [436, 0.0], [437, 0.0], [439, 0.0], [440, 0.0], [442, 0.0], [443, 0.0], [444, 0.0], [445, 0.0], [446, 0.0], [447, 0.0], [448, 0.0], [449, 0.0], [450, 0.0], [451, 0.0], [452, 0.0], [453, 0.0], [454, 0.0], [455, 0.0], [456, 0.0], [457, 0.0], [458, 0.0], [459, 0.0], [460, 0.0], [461, 0.0], [462, 0.0], [463, 0.0], [464, 0.0], [465, 0.0], [466, 0.0], [467, 0.0], [468, 0.0], [470, 0.0], [472, 0.0], [473, 0.0], [474, 0.0], [475, 0.0], [476, 0.0], [477, 0.0], [478, 0.0], [480, 0.0], [481, 0.0], [482, 0.0], [483, 0.0], [484, 0.0], [485, 0.0], [486, 0.0], [487, 0.0], [488, 0.0], [489, 0.0], [490, 0.0], [491, 0.0], [492, 0.0], [493, 0.0], [494, 0.0], [495, 0.0], [496, 0.0], [497, 0.0], [498, 0.0], [499, 0.0], [500, 0.0], [501, 0.0], [502, 0.0], [503, 0.0], [504, 0.0], [505, 0.0], [506, 0.0], [507, 0.0], [509, 0.0], [510, 0.0], [511, 0.0], [512, 0.0], [513, 0.0], [514, 0.0], [515, 0.0], [516, 0.0], [517, 0.0], [518, 0.0], [519, 0.0], [520, 0.0], [522, 0.0], [523, 0.0], [524, 0.0], [525, 0.0], [526, 0.0], [527, 0.0], [528, 0.0], [529, 0.0], [530, 0.0], [531, 0.0], [532, 0.0], [533, 0.0], [534, 0.0], [535, 0.0], [536, 0.0], [537, 0.0], [539, 0.0], [540, 0.0], [541, 0.0], [542, 0.0], [543, 0.0], [544, 0.0], [545, 0.0], [546, 0.0], [547, 0.0], [548, 0.0], [549, 0.0], [550, 0.0], [551, 0.0], [552, 0.0], [553, 0.0], [554, 0.0], [555, 0.0], [556, 0.0], [557, 0.0], [558, 0.0], [559, 0.0], [560, 0.0], [561, 0.0], [562, 0.0], [563, 0.0], [564, 0.0], [565, 0.0], [566, 0.0], [567, 0.0], [569, 0.0], [570, 0.0], [571, 0.0], [572, 0.0], [573, 0.0], [574, 0.0], [575, 0.0], [576, 0.0], [577, 0.0], [578, 0.0], [579, 0.0], [580, 0.0], [581, 0.0], [583, 0.0], [584, 0.0], [585, 0.0], [586, 0.0], [587, 0.0], [588, 0.0], [589, 0.0], [590, 0.0], [591, 0.0], [592, 0.0], [593, 0.0], [594, 0.0], [595, 0.0], [596, 0.0], [597, 0.0], [598, 0.0], [599, 0.0], [600, 0.0], [601, 0.0], [602, 0.0], [603, 0.0], [604, 0.0], [605, 0.0], [606, 0.0], [607, 0.0], [608, 0.0], [609, 0.0], [610, 0.0], [611, 0.0], [612, 0.0], [613, 0.0], [614, 0.0], [615, 0.0], [616, 0.0], [617, 0.0], [618, 0.0], [619, 0.0], [620, 0.0], [621, 0.0], [622, 0.0], [623, 0.0], [624, 0.0], [625, 0.0], [626, 0.0], [627, 0.0], [628, 0.0], [629, 0.0], [630, 0.0], [631, 0.0], [632, 0.0], [633, 0.0], [634, 0.0], [635, 0.0], [636, 0.0], [637, 0.0], [638, 0.0], [639, 0.0], [640, 0.0], [641, 0.0], [642, 0.0], [643, 0.0], [644, 0.0], [645, 0.0], [646, 0.0], [647, 0.0], [648, 0.0], [649, 0.0], [650, 0.0], [651, 0.0], [652, 0.0], [653, 0.0], [654, 0.0], [655, 0.0], [656, 0.0], [658, 0.0], [659, 0.0], [660, 0.0], [661, 0.0], [662, 0.0], [663, 0.0], [666, 0.0], [667, 0.0], [668, 0.0], [669, 0.0], [670, 0.0], [672, 0.0], [673, 0.0], [674, 0.0], [675, 0.0], [676, 0.0], [677, 0.0], [678, 0.0], [679, 0.0], [682, 0.0], [683, 0.0], [684, 0.0], [685, 0.0], [686, 0.0], [687, 0.0], [688, 0.0], [689, 0.0], [690, 0.0], [691, 0.0], [692, 0.0], [693, 0.0], [694, 0.0], [695, 0.0], [698, 0.0], [700, 0.0], [701, 0.0], [703, 0.0], [704, 0.0], [705, 0.0], [706, 0.0], [707, 0.0], [708, 0.0], [709, 0.0], [710, 0.0], [711, 0.0], [712, 0.0], [713, 0.0], [715, 0.0], [716, 0.0], [717, 0.0], [718, 0.0], [719, 0.0], [720, 0.0], [721, 0.0], [723, 0.0], [725, 0.0], [726, 0.0], [727, 0.0], [728, 0.0], [729, 0.0], [730, 0.0], [731, 0.0], [732, 0.0], [734, 0.0], [735, 0.0], [736, 0.0], [737, 0.0], [738, 0.0], [739, 0.0], [740, 0.0], [741, 0.0], [742, 0.0], [743, 0.0], [744, 0.0], [746, 0.0], [747, 0.0], [748, 0.0], [749, 0.0], [750, 0.0], [751, 0.0], [752, 0.0], [756, 0.0], [757, 0.0], [759, 0.0], [760, 0.0], [761, 0.0], [762, 0.0], [763, 0.0], [764, 0.0], [766, 0.0], [767, 0.0], [768, 0.0], [769, 0.0], [770, 0.0], [771, 0.0], [772, 0.0], [773, 0.0], [774, 0.0], [775, 0.0], [776, 0.0], [777, 0.0], [778, 0.0], [779, 0.0], [780, 0.0], [781, 0.0], [782, 0.0], [783, 0.0], [784, 0.0], [785, 0.0], [786, 0.0], [787, 0.0], [788, 0.0], [789, 0.0], [790, 0.0], [791, 0.0], [792, 0.0], [793, 0.0], [794, 0.0], [795, 0.0], [796, 0.0], [798, 0.0], [799, 0.0], [800, 0.0], [801, 0.0], [802, 0.0], [803, 0.0], [804, 0.0], [805, 0.0], [806, 0.0], [807, 0.0], [808, 0.0], [809, 0.0], [810, 0.0], [811, 0.0], [812, 0.0], [813, 0.0], [814, 0.0], [815, 0.0], [816, 0.0], [817, 0.0], [819, 0.0], [820, 0.0], [821, 0.0], [822, 0.0], [823, 0.0], [824, 0.0], [825, 0.0], [826, 0.0], [827, 0.0], [828, 0.0], [829, 0.0], [830, 0.0], [831, 0.0], [832, 0.0], [833, 0.0], [834, 0.0], [835, 0.0], [836, 0.0], [837, 0.0], [838, 0.0], [839, 0.0], [840, 0.0], [841, 0.0], [842, 0.0], [843, 0.0], [844, 0.0], [845, 0.0], [846, 0.0], [847, 0.0], [848, 0.0], [849, 0.0], [850, 0.0], [851, 0.0], [852, 0.0], [853, 0.0], [855, 0.0], [856, 0.0], [857, 0.0], [858, 0.0], [859, 0.0], [860, 0.0], [861, 0.0], [862, 0.0], [863, 0.0], [864, 0.0], [865, 0.0], [866, 0.0], [867, 0.0], [868, 0.0], [869, 0.0], [870, 0.0], [871, 0.0], [872, 0.0], [873, 0.0], [875, 0.0], [876, 0.0], [877, 0.0], [878, 0.0], [879, 0.0], [880, 0.0], [881, 0.0], [882, 0.0], [883, 0.0], [884, 0.0], [885, 0.0], [887, 0.0], [888, 0.0], [889, 0.0], [890, 0.0], [891, 0.0], [892, 0.0], [893, 0.0], [895, 0.0], [896, 0.0], [897, 0.0], [898, 0.0], [899, 0.0], [900, 0.0], [901, 0.0], [902, 0.0], [904, 0.0], [905, 0.0], [906, 0.0], [907, 0.0], [909, 0.0], [910, 0.0], [911, 0.0], [912, 0.0], [913, 0.0], [914, 0.0], [915, 0.0], [916, 0.0], [917, 0.0], [918, 0.0], [919, 0.0], [920, 0.0], [921, 0.0], [922, 0.0], [923, 0.0], [924, 0.0], [925, 0.0], [926, 0.0], [928, 0.0], [929, 0.0], [930, 0.0], [931, 0.0], [933, 0.0], [934, 0.0], [935, 0.0], [936, 0.0], [937, 0.0], [939, 0.0], [940, 0.0], [941, 0.0], [942, 0.0], [943, 0.0], [944, 0.0], [945, 0.0], [946, 0.0], [948, 0.0], [949, 0.0], [950, 0.0], [951, 0.0], [952, 0.0], [953, 0.0], [954, 0.0], [955, 0.0], [956, 0.0], [957, 0.0], [958, 0.0], [959, 0.0], [960, 0.0], [961, 0.0], [962, 0.0], [963, 0.0], [964, 0.0], [965, 0.0], [966, 0.0], [967, 0.0], [968, 0.0], [969, 0.0], [970, 0.0], [971, 0.0], [973, 0.0], [974, 0.0], [975, 0.0], [976, 0.0], [977, 0.0], [978, 0.0], [979, 0.0], [980, 0.0], [981, 0.0], [982, 0.0], [983, 0.0], [984, 0.0], [985, 0.0], [986, 0.0], [987, 0.0], [988, 0.0], [989, 0.0], [990, 0.0], [991, 0.0], [992, 0.0], [993, 0.0], [994, 0.0], [995, 0.0], [996, 0.0], [997, 0.0], [998, 0.0], [999, 0.0], [1000, 0.0], [1001, 0.0], [1002, 0.0], [1003, 0.0], [1004, 0.0], [1005, 0.0], [1006, 0.0], [1008, 0.0], [1009, 0.0], [1010, 0.0], [1011, 0.0], [1012, 0.0], [1013, 0.0], [1014, 0.0], [1015, 0.0], [1016, 0.0], [1017, 0.0], [1018, 0.0], [1019, 0.0], [1020, 0.0], [1021, 0.0], [1022, 0.0], [1024, 0.0], [1025, 0.0], [1026, 0.0], [1027, 0.0], [1028, 0.0], [1029, 0.0], [1030, 0.0], [1031, 0.0], [1032, 0.0], [1033, 0.0], [1034, 0.0], [1035, 0.0], [1036, 0.0], [1037, 0.0], [1038, 0.0], [1039, 0.0], [1040, 0.0], [1041, 0.0], [1042, 0.0], [1043, 0.0], [1044, 0.0], [1045, 0.0], [1046, 0.0], [1047, 0.0], [1048, 0.0], [1049, 0.0], [1050, 0.0], [1051, 0.0], [1052, 0.0], [1053, 0.0], [1054, 0.0], [1055, 0.0], [1056, 0.0], [1058, 0.0], [1059, 0.0], [1060, 0.0], [1062, 0.0], [1063, 0.0], [1064, 0.0], [1065, 0.0], [1066, 0.0], [1067, 0.0], [1069, 0.0], [1070, 0.0], [1071, 0.0], [1072, 0.0], [1073, 0.0], [1075, 0.0], [1076, 0.0], [1078, 0.0], [1079, 0.0], [1080, 0.0], [1081, 0.0], [1083, 0.0], [1084, 0.0], [1085, 0.0], [1086, 0.0], [1088, 0.0], [1089, 0.0], [1090, 0.0], [1091, 0.0], [1092, 0.0], [1093, 0.0], [1094, 0.0], [1095, 0.0], [1096, 0.0], [1097, 0.0], [1098, 0.0], [1099, 0.0], [1100, 0.0], [1101, 0.0], [1102, 0.0], [1103, 0.0], [1104, 0.0], [1105, 0.0], [1106, 0.0], [1107, 0.0], [1108, 0.0], [1109, 0.0], [1111, 0.0], [1112, 0.0], [1113, 0.0], [1115, 0.0], [1116, 0.0], [1117, 0.0], [1118, 0.0], [1119, 0.0], [1120, 0.0], [1121, 0.0], [1122, 0.0], [1123, 0.0], [1124, 0.0], [1125, 0.0], [1126, 0.0], [1127, 0.0], [1128, 0.0], [1129, 0.0], [1130, 0.0], [1131, 0.0], [1132, 0.0], [1133, 0.0], [1134, 0.0], [1135, 0.0], [1136, 0.0], [1137, 0.0], [1138, 0.0], [1139, 0.0], [1140, 0.0], [1141, 0.0], [1142, 0.0], [1143, 0.0], [1144, 0.0], [1145, 0.0], [1146, 0.0], [1147, 0.0], [1148, 0.0], [1149, 0.0], [1151, 0.0], [1152, 0.0], [1153, 0.0], [1154, 0.0], [1155, 0.0], [1156, 0.0], [1157, 0.0], [1158, 0.0], [1159, 0.0], [1160, 0.0], [1161, 0.0], [1162, 0.0], [1165, 0.0], [1166, 0.0], [1167, 0.0], [1168, 0.0], [1169, 0.0], [1170, 0.0], [1171, 0.0], [1173, 0.0], [1174, 0.0], [1175, 0.0], [1176, 0.0], [1177, 0.0], [1178, 0.0], [1179, 0.0], [1180, 0.0], [1181, 0.0], [1182, 0.0], [1183, 0.0], [1184, 0.0], [1185, 0.0], [1186, 0.0], [1187, 0.0], [1188, 0.0], [1189, 0.0], [1190, 0.0], [1191, 0.0], [1192, 0.0], [1193, 0.0], [1194, 0.0], [1195, 0.0], [1196, 0.0], [1197, 0.0], [1198, 0.0], [1199, 0.0], [1200, 0.0], [1201, 0.0], [1202, 0.0], [1203, 0.0], [1204, 0.0], [1205, 0.0], [1206, 0.0], [1207, 0.0], [1208, 0.0], [1209, 0.0], [1210, 0.0], [1211, 0.0], [1212, 0.0], [1213, 0.0], [1214, 0.0], [1216, 0.0], [1217, 0.0], [1218, 0.0], [1219, 0.0], [1220, 0.0], [1221, 0.0], [1222, 0.0], [1223, 0.0], [1224, 0.0], [1226, 0.0], [1227, 0.0], [1228, 0.0], [1229, 0.0], [1230, 0.0], [1231, 0.0], [1232, 0.0], [1233, 0.0], [1234, 0.0], [1235, 0.0], [1236, 0.0], [1237, 0.0], [1238, 0.0], [1241, 0.0], [1242, 0.0], [1243, 0.0], [1244, 0.0], [1245, 0.0], [1246, 0.0], [1247, 0.0], [1248, 0.0], [1249, 0.0], [1250, 0.0], [1251, 0.0], [1252, 0.0], [1253, 0.0], [1254, 0.0], [1255, 0.0], [1256, 0.0], [1257, 0.0], [1258, 0.0], [1259, 0.0], [1260, 0.0], [1261, 0.0], [1262, 0.0], [1263, 0.0], [1264, 0.0], [1265, 0.0], [1266, 0.0], [1267, 0.0], [1268, 0.0], [1269, 0.0], [1271, 0.0], [1272, 0.0], [1273, 0.0], [1274, 0.0], [1275, 0.0], [1276, 0.0], [1277, 0.0], [1278, 0.0], [1279, 0.0], [1280, 0.0], [1281, 0.0], [1282, 0.0], [1283, 0.0], [1284, 0.0], [1285, 0.0], [1286, 0.0], [1287, 0.0], [1288, 0.0], [1289, 0.0], [1290, 0.0], [1291, 0.0], [1292, 0.0], [1293, 0.0], [1294, 0.0], [1295, 0.0], [1296, 0.0], [1297, 0.0], [1298, 0.0], [1299, 0.0], [1300, 0.0], [1301, 0.0], [1303, 0.0], [1304, 0.0], [1305, 0.0], [1306, 0.0], [1307, 0.0], [1308, 0.0], [1309, 0.0], [1310, 0.0], [1311, 0.0], [1312, 0.0], [1313, 0.0], [1314, 0.0], [1315, 0.0], [1316, 0.0], [1317, 0.0], [1318, 0.0], [1319, 0.0], [1320, 0.0], [1321, 0.0], [1322, 0.0], [1323, 0.0], [1324, 0.0], [1325, 0.0], [1326, 0.0], [1327, 0.0], [1328, 0.0], [1329, 0.0], [1330, 0.0], [1331, 0.0], [1332, 0.0], [1333, 0.0], [1334, 0.0], [1335, 0.0], [1336, 0.0], [1337, 0.0], [1338, 0.0], [1339, 0.0], [1340, 0.0], [1341, 0.0], [1342, 0.0], [1343, 0.0], [1344, 0.0], [1345, 0.0], [1346, 0.0], [1347, 0.0], [1348, 0.0], [1349, 0.0], [1350, 0.0], [1351, 0.0], [1352, 0.0], [1353, 0.0], [1354, 0.0], [1355, 0.0], [1356, 0.0], [1357, 0.0], [1358, 0.0], [1360, 0.0], [1361, 0.0], [1362, 0.0], [1363, 0.0], [1364, 0.0], [1365, 0.0], [1366, 0.0], [1367, 0.0], [1368, 0.0], [1369, 0.0], [1370, 0.0], [1372, 0.0], [1373, 0.0], [1374, 0.0], [1376, 0.0], [1377, 0.0], [1378, 0.0], [1379, 0.0], [1380, 0.0], [1381, 0.0], [1382, 0.0], [1383, 0.0], [1385, 0.0], [1386, 0.0], [1387, 0.0], [1388, 0.0], [1389, 0.0], [1390, 0.0], [1391, 0.0], [1392, 0.0], [1393, 0.0], [1394, 0.0], [1395, 0.0], [1396, 0.0], [1397, 0.0], [1398, 0.0], [1399, 0.0], [1400, 0.0], [1401, 0.0], [1402, 0.0], [1403, 0.0], [1404, 0.0], [1405, 0.0], [1406, 0.0], [1407, 0.0], [1408, 0.0], [1409, 0.0], [1410, 0.0], [1411, 0.0], [1412, 0.0], [1413, 0.0], [1414, 0.0], [1415, 0.0], [1416, 0.0], [1417, 0.0], [1418, 0.0], [1419, 0.0], [1421, 0.0], [1422, 0.0], [1423, 0.0], [1424, 0.0], [1425, 0.0], [1426, 0.0], [1427, 0.0], [1428, 0.0], [1429, 0.0], [1430, 0.0], [1431, 0.0], [1432, 0.0], [1433, 0.0], [1434, 0.0], [1435, 0.0], [1436, 0.0], [1437, 0.0], [1438, 0.0], [1439, 0.0], [1440, 0.0], [1441, 0.0], [1442, 0.0], [1443, 0.0], [1444, 0.0], [1445, 0.0], [1446, 0.0], [1447, 0.0], [1448, 0.0], [1449, 0.0], [1450, 0.0], [1451, 0.0], [1452, 0.0], [1453, 0.0], [1454, 0.0], [1455, 0.0], [1456, 0.0], [1457, 0.0], [1458, 0.0], [1459, 0.0], [1460, 0.0], [1462, 0.0], [1463, 0.0], [1464, 0.0], [1465, 0.0], [1466, 0.0], [1467, 0.0], [1468, 0.0], [1469, 0.0], [1470, 0.0], [1471, 0.0], [1472, 0.0], [1473, 0.0], [1474, 0.0], [1475, 0.0], [1477, 0.0], [1478, 0.0], [1479, 0.0], [1480, 0.0], [1481, 0.0], [1482, 0.0], [1484, 0.0], [1485, 0.0], [1486, 0.0], [1487, 0.0], [1488, 0.0], [1489, 0.0], [1490, 0.0], [1491, 0.0], [1492, 0.0], [1493, 0.0], [1494, 0.0], [1496, 0.0], [1497, 0.0], [1498, 0.0], [1499, 0.0], [1500, 0.0], [1501, 0.0], [1502, 0.0], [1503, 0.0], [1504, 0.0], [1505, 0.0], [1506, 0.0], [1507, 0.0], [1508, 0.0], [1510, 0.0], [1511, 0.0], [1512, 0.0], [1513, 0.0], [1514, 0.0], [1515, 0.0], [1516, 0.0], [1517, 0.0], [1518, 0.0], [1519, 0.0], [1520, 0.0], [1521, 0.0], [1522, 0.0], [1523, 0.0], [1524, 0.0], [1525, 0.0], [1526, 0.0], [1527, 0.0], [1528, 0.0], [1529, 0.0], [1530, 0.0], [1531, 0.0], [1532, 0.0], [1533, 0.0], [1534, 0.0], [1535, 0.0], [1536, 0.0], [1537, 0.0], [1538, 0.0], [1539, 0.0], [1540, 0.0], [1542, 0.0], [1543, 0.0], [1544, 0.0], [1545, 0.0], [1546, 0.0], [1547, 0.0], [1548, 0.0], [1549, 0.0], [1550, 0.0], [1551, 0.0], [1552, 0.0], [1553, 0.0], [1554, 0.0], [1555, 0.0], [1556, 0.0], [1557, 0.0], [1558, 0.0], [1559, 0.0], [1560, 0.0], [1562, 0.0], [1563, 0.0], [1564, 0.0], [1565, 0.0], [1566, 0.0], [1567, 0.0], [1568, 0.0], [1569, 0.0], [1570, 0.0], [1571, 0.0], [1572, 0.0], [1573, 0.0], [1574, 0.0], [1575, 0.0], [1576, 0.0], [1577, 0.0], [1578, 0.0], [1579, 0.0], [1580, 0.0], [1581, 0.0], [1582, 0.0], [1583, 0.0], [1584, 0.0], [1585, 0.0], [1586, 0.0], [1587, 0.0], [1588, 0.0], [1589, 0.0], [1590, 0.0], [1591, 0.0], [1592, 0.0], [1593, 0.0], [1594, 0.0], [1595, 0.0], [1596, 0.0], [1597, 0.0], [1598, 0.0], [1599, 0.0], [1600, 0.0], [1601, 0.0], [1602, 0.0], [1603, 0.0], [1604, 0.0], [1605, 0.0], [1606, 0.0], [1607, 0.0], [1608, 0.0], [1609, 0.0], [1610, 0.0], [1611, 0.0], [1612, 0.0], [1613, 0.0], [1614, 0.0], [1615, 0.0], [1616, 0.0], [1617, 0.0], [1618, 0.0], [1619, 0.0], [1620, 0.0], [1621, 0.0], [1622, 0.0], [1623, 0.0], [1625, 0.0], [1626, 0.0], [1627, 0.0], [1628, 0.0], [1629, 0.0], [1630, 0.0], [1632, 0.0], [1634, 0.0], [1636, 0.0], [1637, 0.0], [1638, 0.0], [1639, 0.0], [1640, 0.0], [1641, 0.0], [1642, 0.0], [1643, 0.0], [1644, 0.0], [1645, 0.0], [1646, 0.0], [1647, 0.0], [1648, 0.0], [1649, 0.0], [1650, 0.0], [1651, 0.0], [1652, 0.0], [1653, 0.0], [1654, 0.0], [1655, 0.0], [1656, 0.0], [1657, 0.0], [1658, 0.0], [1659, 0.0], [1660, 0.0], [1661, 0.0], [1662, 0.0], [1663, 0.0], [1664, 0.0], [1665, 0.0], [1666, 0.0], [1667, 0.0], [1668, 0.0], [1669, 0.0], [1670, 0.0], [1671, 0.0], [1672, 0.0], [1673, 0.0], [1676, 0.0], [1677, 0.0], [1678, 0.0], [1679, 0.0], [1680, 0.0], [1681, 0.0], [1682, 0.0], [1683, 0.0], [1684, 0.0], [1685, 0.0], [1686, 0.0], [1687, 0.0], [1688, 0.0], [1689, 0.0], [1690, 0.0], [1691, 0.0], [1692, 0.0], [1693, 0.0], [1694, 0.0], [1695, 0.0], [1696, 0.0], [1698, 0.0], [1699, 0.0], [1700, 0.0], [1701, 0.0], [1702, 0.0], [1703, 0.0], [1704, 0.0], [1705, 0.0], [1706, 0.0], [1707, 0.0], [1708, 0.0], [1709, 0.0], [1710, 0.0], [1711, 0.0], [1712, 0.0], [1713, 0.0], [1714, 0.0], [1715, 0.0], [1716, 0.0], [1717, 0.0], [1718, 0.0], [1719, 0.0], [1720, 0.0], [1721, 0.0], [1722, 0.0], [1723, 0.0], [1724, 0.0], [1725, 0.0], [1726, 0.0], [1727, 0.0], [1728, 0.0], [1729, 0.0], [1730, 0.0], [1731, 0.0], [1732, 0.0], [1733, 0.0], [1734, 0.0], [1735, 0.0], [1736, 0.0], [1737, 0.0], [1738, 0.0], [1739, 0.0], [1740, 0.0], [1741, 0.0], [1742, 0.0], [1743, 0.0], [1744, 0.0], [1745, 0.0], [1746, 0.0], [1747, 0.0], [1748, 0.0], [1749, 0.0], [1750, 0.0], [1751, 0.0], [1752, 0.0], [1753, 0.0], [1754, 0.0], [1755, 0.0], [1756, 0.0], [1757, 0.0], [1758, 0.0], [1759, 0.0], [1760, 0.0], [1761, 0.0], [1762, 0.0], [1763, 0.0], [1764, 0.0], [1765, 0.0], [1766, 0.0], [1767, 0.0], [1768, 0.0], [1769, 0.0], [1770, 0.0], [1771, 0.0], [1772, 0.0], [1773, 0.0], [1774, 0.0], [1775, 0.0], [1776, 0.0], [1777, 0.0], [1778, 0.0], [1779, 0.0], [1780, 0.0], [1782, 0.0], [1783, 0.0], [1784, 0.0], [1785, 0.0], [1786, 0.0], [1787, 0.0], [1788, 0.0], [1789, 0.0], [1790, 0.0], [1791, 0.0], [1792, 0.0], [1793, 0.0], [1794, 0.0], [1795, 0.0], [1796, 0.0], [1797, 0.0], [1798, 0.0], [1799, 0.0], [1800, 0.0], [1801, 0.0], [1802, 0.0], [1803, 0.0], [1804, 0.0], [1805, 0.0], [1806, 0.0], [1807, 0.0], [1808, 0.0], [1809, 0.0], [1810, 0.0], [1811, 0.0], [1812, 0.0], [1813, 0.0], [1814, 0.0], [1815, 0.0], [1816, 0.0], [1817, 0.0], [1818, 0.0], [1819, 0.0], [1820, 0.0], [1821, 0.0], [1822, 0.0], [1823, 0.0], [1824, 0.0], [1825, 0.0], [1826, 0.0], [1827, 0.0], [1828, 0.0], [1829, 0.0], [1830, 0.0], [1831, 0.0], [1832, 0.0], [1833, 0.0], [1834, 0.0], [1835, 0.0], [1836, 0.0], [1837, 0.0], [1838, 0.0], [1839, 0.0], [1840, 0.0], [1841, 0.0], [1842, 0.0], [1843, 0.0], [1844, 0.0], [1845, 0.0], [1846, 0.0], [1847, 0.0], [1848, 0.0], [1849, 0.0], [1850, 0.0], [1851, 0.0], [1852, 0.0], [1853, 0.0], [1854, 0.0], [1855, 0.0], [1856, 0.0], [1857, 0.0], [1858, 0.0], [1859, 0.0], [1860, 0.0], [1861, 0.0], [1862, 0.0], [1863, 0.0], [1864, 0.0], [1865, 0.0], [1866, 0.0], [1867, 0.0], [1868, 0.0], [1869, 0.0], [1870, 0.0], [1871, 0.0], [1872, 0.0], [1873, 0.0], [1874, 0.0], [1875, 0.0], [1876, 0.0], [1877, 0.0], [1878, 0.0], [1879, 0.0], [1880, 0.0], [1881, 0.0], [1883, 0.0], [1884, 0.0], [1885, 0.0], [1886, 0.0], [1887, 0.0], [1888, 0.0], [1889, 0.0], [1890, 0.0], [1891, 0.0], [1893, 0.0], [1894, 0.0], [1895, 0.0], [1896, 0.0], [1898, 0.0], [1899, 0.0], [1900, 0.0], [1901, 0.0], [1902, 0.0], [1903, 0.0], [1904, 0.0], [1905, 0.0], [1906, 0.0], [1907, 0.0], [1908, 0.0], [1909, 0.0], [1910, 0.0], [1911, 0.0], [1912, 0.0], [1913, 0.0], [1914, 0.0], [1915, 0.0], [1916, 0.0], [1917, 0.0], [1918, 0.0], [1919, 0.0], [1920, 0.0], [1921, 0.0], [1922, 0.0], [1923, 0.0], [1924, 0.0], [1925, 0.0], [1926, 0.0], [1927, 0.0], [1928, 0.0], [1931, 0.0], [1932, 0.0], [1933, 0.0], [1934, 0.0], [1935, 0.0], [1936, 0.0], [1937, 0.0], [1938, 0.0], [1939, 0.0], [1940, 0.0], [1941, 0.0], [1942, 0.0], [1943, 0.0], [1944, 0.0], [1945, 0.0], [1946, 0.0], [1947, 0.0], [1948, 0.0], [1949, 0.0], [1950, 0.0], [1951, 0.0], [1952, 0.0], [1953, 0.0], [1954, 0.0], [1955, 0.0], [1956, 0.0], [1957, 0.0], [1958, 0.0], [1959, 0.0], [1960, 0.0], [1961, 0.0], [1962, 0.0], [1963, 0.0], [1964, 0.0], [1965, 0.0], [1967, 0.0], [1968, 0.0], [1969, 0.0], [1970, 0.0], [1971, 0.0], [1972, 0.0], [1973, 0.0], [1974, 0.0], [1975, 0.0], [1976, 0.0], [1977, 0.0], [1978, 0.0], [1979, 0.0], [1980, 0.0], [1981, 0.0], [1982, 0.0], [1983, 0.0], [1984, 0.0], [1985, 0.0], [1986, 0.0], [1987, 0.0], [1988, 0.0], [1989, 0.0], [1990, 0.0], [1991, 0.0], [1992, 0.0], [1993, 0.0], [1994, 0.0], [1995, 0.0], [1996, 0.0], [1997, 0.0], [1998, 0.0], [1999, 0.0], [2000, 0.0], [2001, 0.0], [2002, 0.0], [2003, 0.0], [2004, 0.0], [2005, 0.0], [2006, 0.0], [2007, 0.0], [2008, 0.0], [2009, 0.0], [2010, 0.0], [2011, 0.0], [2012, 0.0], [2013, 0.0], [2014, 0.0], [2015, 0.0], [2016, 0.0], [2017, 0.0], [2019, 0.0], [2020, 0.0], [2021, 0.0], [2022, 0.0], [2023, 0.0], [2024, 0.0], [2025, 0.0], [2026, 0.0], [2027, 0.0], [2028, 0.0], [2029, 0.0], [2030, 0.0], [2031, 0.0], [2032, 0.0], [2033, 0.0], [2034, 0.0], [2035, 0.0], [2036, 0.0], [2037, 0.0], [2038, 0.0], [2039, 0.0], [2040, 0.0], [2041, 0.0], [2042, 0.0], [2043, 0.0], [2044, 0.0], [2045, 0.0], [2046, 0.0], [2047, 0.0], [2049, 0.0], [2050, 0.0], [2051, 0.0], [2052, 0.0], [2053, 0.0], [2054, 0.0], [2055, 0.0], [2056, 0.0], [2057, 0.0], [2058, 0.0], [2059, 0.0], [2060, 0.0], [2061, 0.0], [2062, 0.0], [2063, 0.0], [2064, 0.0], [2065, 0.0], [2066, 0.0], [2067, 0.0], [2068, 0.0], [2069, 0.0], [2070, 0.0], [2071, 0.0], [2072, 0.0], [2073, 0.0], [2074, 0.0], [2075, 0.0], [2076, 0.0], [2077, 0.0], [2078, 0.0], [2079, 0.0], [2080, 0.0], [2081, 0.0], [2082, 0.0], [2083, 0.0], [2084, 0.0], [2085, 0.0], [2086, 0.0], [2087, 0.0], [2088, 0.0], [2089, 0.0], [2090, 0.0], [2091, 0.0], [2092, 0.0], [2093, 0.0], [2094, 0.0], [2095, 0.0], [2096, 0.0], [2098, 0.0], [2099, 0.0], [2100, 0.0], [2101, 0.0], [2102, 0.0], [2103, 0.0], [2104, 0.0], [2105, 0.0], [2106, 0.0], [2107, 0.0], [2108, 0.0], [2109, 0.0], [2110, 0.0], [2111, 0.0], [2112, 0.0], [2113, 0.0], [2114, 0.0], [2115, 0.0], [2116, 0.0], [2117, 0.0], [2118, 0.0], [2119, 0.0], [2120, 0.0], [2121, 0.0], [2122, 0.0], [2123, 0.0], [2124, 0.0], [2125, 0.0], [2126, 0.0], [2127, 0.0], [2128, 0.0], [2129, 0.0], [2130, 0.0], [2131, 0.0], [2132, 0.0], [2133, 0.0], [2134, 0.0], [2135, 0.0], [2136, 0.0], [2137, 0.0], [2138, 0.0], [2139, 0.0], [2140, 0.0], [2141, 0.0], [2142, 0.0], [2143, 0.0], [2144, 0.0], [2145, 0.0], [2146, 0.0], [2147, 0.0], [2148, 0.0], [2149, 0.0], [2150, 0.0], [2151, 0.0], [2152, 0.0], [2153, 0.0], [2154, 0.0], [2155, 0.0], [2156, 0.0], [2157, 0.0], [2158, 0.0], [2159, 0.0], [2160, 0.0], [2161, 0.0], [2162, 0.0], [2163, 0.0], [2164, 0.0], [2165, 0.0], [2166, 0.0], [2167, 0.0], [2168, 0.0], [2169, 0.0], [2170, 0.0], [2171, 0.0], [2172, 0.0], [2173, 0.0], [2174, 0.0], [2175, 0.0], [2176, 0.0], [2177, 0.0], [2178, 0.0], [2179, 0.0], [2180, 0.0], [2181, 0.0], [2182, 0.0], [2183, 0.0], [2184, 0.0], [2185, 0.0], [2186, 0.0], [2187, 0.0], [2188, 0.0], [2189, 0.0], [2190, 0.0], [2191, 0.0], [2192, 0.0], [2193, 0.0], [2194, 0.0], [2195, 0.0], [2196, 0.0], [2197, 0.0], [2198, 0.0], [2199, 0.0], [2200, 0.0], [2201, 0.0], [2202, 0.0], [2203, 0.0], [2204, 0.0], [2205, 0.0], [2206, 0.0], [2207, 0.0], [2208, 0.0], [2210, 0.0], [2211, 0.0], [2212, 0.0], [2213, 0.0], [2214, 0.0], [2215, 0.0], [2216, 0.0], [2217, 0.0], [2218, 0.0], [2219, 0.0], [2220, 0.0], [2221, 0.0], [2222, 0.0], [2223, 0.0], [2224, 0.0], [2225, 0.0], [2226, 0.0], [2227, 0.0], [2228, 0.0], [2229, 0.0], [2230, 0.0], [2231, 0.0], [2232, 0.0], [2233, 0.0], [2234, 0.0], [2235, 0.0], [2236, 0.0], [2237, 0.0], [2238, 0.0], [2239, 0.0], [2240, 0.0], [2241, 0.0], [2242, 0.0], [2243, 0.0], [2244, 0.0], [2245, 0.0], [2246, 0.0], [2247, 0.0], [2248, 0.0], [2249, 0.0], [2250, 0.0], [2251, 0.0], [2252, 0.0], [2253, 0.0], [2254, 0.0], [2255, 0.0], [2256, 0.0], [2257, 0.0], [2258, 0.0], [2259, 0.0], [2260, 0.0], [2261, 0.0], [2262, 0.0], [2263, 0.0], [2264, 0.0], [2265, 0.0], [2266, 0.0], [2267, 0.0], [2268, 0.0], [2269, 0.0], [2270, 0.0], [2271, 0.0], [2272, 0.0], [2273, 0.0], [2274, 0.0], [2275, 0.0], [2276, 0.0], [2277, 0.0], [2278, 0.0], [2279, 0.0], [2280, 0.0], [2281, 0.0], [2282, 0.0], [2283, 0.0], [2284, 0.0], [2285, 0.0], [2286, 0.0], [2287, 0.0], [2288, 0.0], [2289, 0.0], [2290, 0.0], [2291, 0.0], [2292, 0.0], [2293, 0.0], [2294, 0.0], [2295, 0.0], [2296, 0.0], [2297, 0.0], [2298, 0.0], [2299, 0.0], [2300, 0.0], [2301, 0.0], [2302, 0.0], [2303, 0.0], [2304, 0.0], [2305, 0.0], [2306, 0.0], [2307, 0.0], [2308, 0.0], [2309, 0.0], [2310, 0.0], [2311, 0.0], [2312, 0.0], [2313, 0.0], [2314, 0.0], [2315, 0.0], [2316, 0.0], [2317, 0.0], [2318, 0.0], [2319, 0.0], [2320, 0.0], [2321, 0.0], [2322, 0.0], [2323, 0.0], [2324, 0.0], [2325, 0.0], [2326, 0.0], [2327, 0.0], [2328, 0.0], [2329, 0.0], [2330, 0.0], [2331, 0.0], [2332, 0.0], [2333, 0.0], [2334, 0.0], [2335, 0.0], [2336, 0.0], [2337, 0.0], [2338, 0.0], [2339, 0.0], [2340, 0.0], [2341, 0.0], [2342, 0.0], [2343, 0.0], [2344, 0.0], [2345, 0.0], [2346, 0.0], [2347, 0.0], [2348, 0.0], [2349, 0.0], [2350, 0.0], [2351, 0.0], [2352, 0.0], [2353, 0.0], [2354, 0.0], [2355, 0.0], [2356, 0.0], [2357, 0.0], [2358, 0.0], [2359, 0.0], [2360, 0.0], [2361, 0.0], [2362, 0.0], [2363, 0.0], [2364, 0.0], [2365, 0.0], [2366, 0.0], [2367, 0.0], [2368, 0.0], [2369, 0.0], [2370, 0.0], [2371, 0.0], [2372, 0.0], [2373, 0.0], [2374, 0.0], [2375, 0.0], [2376, 0.0], [2377, 0.0], [2378, 0.0], [2379, 0.0], [2380, 0.0], [2381, 0.0], [2382, 0.0], [2383, 0.0], [2384, 0.0], [2385, 0.0], [2386, 0.0], [2387, 0.0], [2388, 0.0], [2389, 0.0], [2390, 0.0], [2391, 0.0], [2392, 0.0], [2393, 0.0], [2394, 0.0], [2395, 0.0], [2396, 0.0], [2397, 0.0], [2398, 0.0], [2399, 0.0], [2400, 0.0], [2401, 0.0], [2402, 0.0], [2403, 0.0], [2404, 0.0], [2405, 0.0], [2406, 0.0], [2407, 0.0], [2408, 0.0], [2409, 0.0], [2410, 0.0], [2411, 0.0], [2412, 0.0], [2413, 0.0], [2414, 0.0], [2415, 0.0], [2416, 0.0], [2417, 0.0], [2418, 0.0], [2419, 0.0], [2420, 0.0], [2421, 0.0], [2422, 0.0], [2423, 0.0], [2424, 0.0], [2425, 0.0], [2426, 0.0], [2427, 0.0], [2428, 0.0], [2429, 0.0], [2430, 0.0], [2431, 0.0], [2432, 0.0], [2433, 0.0], [2434, 0.0], [2435, 0.0], [2436, 0.0], [2437, 0.0], [2438, 0.0], [2439, 0.0], [2440, 0.0], [2441, 0.0], [2442, 0.0], [2443, 0.0], [2444, 0.0], [2445, 0.0], [2446, 0.0], [2447, 0.0], [2448, 0.0], [2449, 0.0], [2450, 0.0], [2451, 0.0], [2452, 0.0], [2453, 0.0], [2454, 0.0], [2455, 0.0], [2456, 0.0], [2457, 0.0], [2458, 0.0], [2459, 0.0], [2460, 0.0], [2461, 0.0], [2462, 0.0], [2463, 0.0], [2464, 0.0], [2465, 0.0], [2466, 0.0], [2467, 0.0], [2468, 0.0], [2469, 0.0], [2470, 0.0], [2471, 0.0], [2472, 0.0], [2473, 0.0], [2474, 0.0], [2475, 0.0], [2476, 0.0], [2477, 0.0], [2478, 0.0], [2479, 0.0], [2480, 0.0], [2481, 0.0], [2482, 0.0], [2483, 0.0], [2484, 0.0], [2485, 0.0], [2486, 0.0], [2487, 0.0], [2488, 0.0], [2489, 0.0], [2490, 0.0], [2491, 0.0], [2492, 0.0], [2493, 0.0], [2494, 0.0], [2495, 0.0], [2496, 0.0], [2497, 0.0], [2498, 0.0], [2499, 0.0], [2500, 0.0], [2501, 0.0], [2502, 0.0], [2503, 0.0], [2504, 0.0], [2505, 0.0], [2506, 0.0], [2507, 0.0], [2508, 0.0], [2509, 0.0], [2510, 0.0], [2511, 0.0], [2512, 0.0], [2513, 0.0], [2514, 0.0], [2515, 0.0], [2516, 0.0], [2517, 0.0], [2518, 0.0], [2519, 0.0], [2520, 0.0], [2521, 0.0], [2522, 0.0], [2523, 0.0], [2524, 0.0], [2525, 0.0], [2526, 0.0], [2527, 0.0], [2528, 0.0], [2529, 0.0], [2530, 0.0], [2531, 0.0], [2532, 0.0], [2533, 0.0], [2534, 0.0], [2535, 0.0], [2536, 0.0], [2537, 0.0], [2538, 0.0], [2539, 0.0], [2540, 0.0], [2541, 0.0], [2542, 0.0], [2543, 0.0], [2544, 0.0], [2545, 0.0], [2546, 0.0], [2547, 0.0], [2548, 0.0], [2549, 0.0], [2550, 0.0], [2551, 0.0], [2552, 0.0], [2553, 0.0], [2554, 0.0], [2555, 0.0], [2556, 0.0], [2557, 0.0], [2558, 0.0], [2559, 0.0], [2560, 0.0], [2561, 0.0], [2562, 0.0], [2563, 0.0], [2564, 0.0], [2565, 0.0], [2566, 0.0], [2567, 0.0], [2568, 0.0], [2569, 0.0], [2570, 0.0], [2571, 0.0], [2572, 0.0], [2573, 0.0], [2574, 0.0], [2575, 0.0], [2576, 0.0], [2577, 0.0], [2578, 0.0], [2579, 0.0], [2580, 0.0], [2581, 0.0], [2582, 0.0], [2583, 0.0], [2584, 0.0], [2585, 0.0], [2586, 0.0], [2587, 0.0], [2588, 0.0], [2589, 0.0], [2590, 0.0], [2591, 0.0], [2592, 0.0], [2593, 0.0], [2594, 0.0], [2595, 0.0], [2596, 0.0], [2597, 0.0], [2598, 0.0], [2599, 0.0], [2600, 0.0], [2601, 0.0], [2602, 0.0], [2603, 0.0], [2604, 0.0], [2605, 0.0], [2606, 0.0], [2607, 0.0], [2608, 0.0], [2609, 0.0], [2610, 0.0], [2611, 0.0], [2612, 0.0], [2613, 0.0], [2614, 0.0], [2615, 0.0], [2616, 0.0], [2617, 0.0], [2618, 0.0], [2619, 0.0], [2620, 0.0], [2621, 0.0], [2622, 0.0], [2623, 0.0], [2624, 0.0], [2625, 0.0], [2626, 0.0], [2627, 0.0], [2628, 0.0], [2629, 0.0], [2630, 0.0], [2631, 0.0], [2632, 0.0], [2633, 0.0], [2634, 0.0], [2635, 0.0], [2636, 0.0], [2637, 0.0], [2638, 0.0], [2639, 0.0], [2640, 0.0], [2641, 0.0], [2642, 0.0], [2643, 0.0], [2644, 0.0], [2645, 0.0], [2646, 0.0], [2647, 0.0], [2648, 0.0], [2649, 0.0], [2650, 0.0], [2651, 0.0], [2652, 0.0], [2653, 0.0], [2654, 0.0], [2655, 0.0], [2656, 0.0], [2657, 0.0], [2658, 0.0], [2659, 0.0], [2660, 0.0], [2661, 0.0], [2662, 0.0], [2663, 0.0], [2664, 0.0], [2665, 0.0], [2666, 0.0], [2667, 0.0], [2668, 0.0], [2669, 0.0], [2670, 0.0], [2671, 0.0], [2672, 0.0], [2673, 0.0], [2674, 0.0], [2675, 0.0], [2676, 0.0], [2677, 0.0], [2678, 0.0], [2679, 0.0], [2680, 0.0], [2681, 0.0], [2682, 0.0], [2683, 0.0], [2684, 0.0], [2685, 0.0], [2686, 0.0], [2687, 0.0], [2688, 0.0], [2689, 0.0], [2690, 0.0], [2691, 0.0], [2692, 0.0], [2693, 0.0], [2694, 0.0], [2695, 0.0], [2696, 0.0], [2697, 0.0], [2698, 0.0], [2699, 0.0], [2700, 0.0], [2701, 0.0], [2702, 0.0], [2703, 0.0], [2704, 0.0], [2705, 0.0], [2706, 0.0], [2707, 0.0], [2708, 0.0], [2709, 0.0], [2710, 0.0], [2711, 0.0], [2712, 0.0], [2713, 0.0], [2714, 0.0], [2715, 0.0], [2716, 0.0], [2717, 0.0], [2718, 0.0], [2719, 0.0], [2720, 0.0], [2721, 0.0], [2722, 0.0], [2723, 0.0], [2724, 0.0], [2725, 0.0], [2726, 0.0], [2727, 0.0], [2728, 0.0], [2729, 0.0], [2730, 0.0], [2731, 0.0], [2732, 0.0], [2733, 0.0], [2734, 0.0], [2735, 0.0], [2736, 0.0], [2737, 0.0], [2738, 0.0], [2739, 0.0], [2740, 0.0], [2741, 0.0], [2742, 0.0], [2743, 0.0], [2744, 0.0], [2745, 0.0], [2746, 0.0], [2747, 0.0], [2748, 0.0], [2749, 0.0], [2750, 0.0], [2751, 0.0], [2752, 0.0], [2753, 0.0], [2754, 0.0], [2755, 0.0], [2756, 0.0], [2757, 0.0], [2758, 0.0], [2759, 0.0], [2760, 0.0], [2761, 0.0], [2762, 0.0], [2763, 0.0], [2764, 0.0], [2765, 0.0], [2766, 0.0], [2767, 0.0], [2768, 0.0], [2769, 0.0], [2771, 0.0], [2772, 0.0], [2773, 0.0], [2774, 0.0], [2775, 0.0], [2776, 0.0], [2777, 0.0], [2778, 0.0], [2779, 0.0], [2780, 0.0], [2781, 0.0], [2782, 0.0], [2783, 0.0], [2784, 0.0], [2785, 0.0], [2786, 0.0], [2787, 0.0], [2788, 0.0], [2789, 0.0], [2790, 0.0], [2791, 0.0], [2792, 0.0], [2793, 0.0], [2794, 0.0], [2795, 0.0], [2796, 0.0], [2797, 0.0], [2798, 0.0], [2799, 0.0], [2800, 0.0], [2801, 0.0], [2802, 0.0], [2803, 0.0], [2804, 0.0], [2805, 0.0], [2806, 0.0], [2807, 0.0], [2808, 0.0], [2809, 0.0], [2810, 0.0], [2811, 0.0], [2812, 0.0], [2813, 0.0], [2814, 0.0], [2815, 0.0], [2816, 0.0], [2817, 0.0], [2818, 0.0], [2819, 0.0], [2820, 0.0], [2821, 0.0], [2822, 0.0], [2823, 0.0], [2824, 0.0], [2825, 0.0], [2826, 0.0], [2827, 0.0], [2828, 0.0], [2829, 0.0], [2830, 0.0], [2831, 0.0], [2832, 0.0], [2833, 0.0], [2834, 0.0], [2835, 0.0], [2836, 0.0], [2837, 0.0], [2838, 0.0], [2839, 0.0], [2840, 0.0], [2841, 0.0], [2842, 0.0], [2843, 0.0], [2844, 0.0], [2845, 0.0], [2846, 0.0], [2847, 0.0], [2848, 0.0], [2849, 0.0], [2850, 0.0], [2851, 0.0], [2852, 0.0], [2853, 0.0], [2854, 0.0], [2855, 0.0], [2856, 0.0], [2857, 0.0], [2858, 0.0], [2859, 0.0], [2860, 0.0], [2861, 0.0], [2862, 0.0], [2863, 0.0], [2864, 0.0], [2865, 0.0], [2866, 0.0], [2867, 0.0], [2868, 0.0], [2869, 0.0], [2870, 0.0], [2871, 0.0], [2872, 0.0], [2873, 0.0], [2874, 0.0], [2875, 0.0], [2876, 0.0], [2877, 0.0], [2878, 0.0], [2879, 0.0], [2880, 0.0], [2881, 0.0], [2882, 0.0], [2883, 0.0], [2884, 0.0], [2885, 0.0], [2886, 0.0], [2887, 0.0], [2888, 0.0], [2889, 0.0], [2890, 0.0], [2891, 0.0], [2892, 0.0], [2893, 0.0], [2894, 0.0], [2895, 0.0], [2896, 0.0], [2897, 0.0], [2898, 0.0], [2899, 0.0], [2900, 0.0], [2902, 0.0], [2903, 0.0], [2904, 0.0], [2905, 0.0], [2906, 0.0], [2907, 0.0], [2909, 0.0], [2910, 0.0], [2911, 0.0], [2912, 0.0], [2913, 0.0], [2914, 0.0], [2915, 0.0], [2916, 0.0], [2917, 0.0], [2918, 0.0], [2919, 0.0], [2920, 0.0], [2921, 0.0], [2922, 0.0], [2923, 0.0], [2924, 0.0], [2925, 0.0], [2926, 0.0], [2927, 0.0], [2928, 0.0], [2929, 0.0], [2930, 0.0], [2931, 0.0], [2932, 0.0], [2933, 0.0], [2934, 0.0], [2935, 0.0], [2936, 0.0], [2937, 0.0], [2938, 0.0], [2939, 0.0], [2940, 0.0], [2941, 0.0], [2942, 0.0], [2943, 0.0], [2944, 0.0], [2945, 0.0], [2946, 0.0], [2947, 0.0], [2948, 0.0], [2949, 0.0], [2950, 0.0], [2951, 0.0], [2952, 0.0], [2953, 0.0], [2954, 0.0], [2955, 0.0], [2956, 0.0], [2957, 0.0], [2958, 0.0], [2959, 0.0], [2960, 0.0], [2961, 0.0], [2962, 0.0], [2963, 0.0], [2964, 0.0], [2965, 0.0], [2966, 0.0], [2967, 0.0], [2968, 0.0], [2970, 0.0], [2971, 0.0], [2972, 0.0], [2973, 0.0], [2974, 0.0], [2975, 0.0], [2976, 0.0], [2977, 0.0], [2978, 0.0], [2979, 0.0], [2980, 0.0], [2982, 0.0], [2983, 0.0], [2984, 0.0], [2985, 0.0], [2986, 0.0], [2987, 0.0], [2988, 0.0], [2990, 0.0], [2991, 0.0], [2992, 0.0], [2994, 0.0], [2995, 0.0], [2996, 0.0], [2997, 0.0], [2998, 0.0], [2999, 0.0], [3000, 0.0], [3001, 0.0], [3002, 0.0], [3003, 0.0], [3004, 0.0], [3005, 0.0], [3006, 0.0], [3007, 0.0], [3008, 0.0], [3009, 0.0], [3010, 0.0], [3011, 0.0], [3012, 0.0], [3013, 0.0], [3014, 0.0], [3016, 0.0], [3017, 0.0], [3018, 0.0], [3019, 0.0], [3020, 0.0], [3021, 0.0], [3022, 0.0], [3023, 0.0], [3024, 0.0], [3025, 0.0], [3026, 0.0], [3027, 0.0], [3028, 0.0], [3029, 0.0], [3030, 0.0], [3031, 0.0], [3032, 0.0], [3033, 0.0], [3034, 0.0], [3035, 0.0], [3036, 0.0], [3037, 0.0], [3038, 0.0], [3039, 0.0], [3040, 0.0], [3041, 0.0], [3042, 0.0], [3043, 0.0], [3044, 0.0], [3045, 0.0], [3046, 0.0], [3047, 0.0], [3048, 0.0], [3049, 0.0], [3050, 0.0], [3051, 0.0], [3052, 0.0], [3053, 0.0], [3054, 0.0], [3055, 0.0], [3056, 0.0], [3057, 0.0], [3059, 0.0], [3060, 0.0], [3061, 0.0], [3062, 0.0], [3064, 0.0], [3065, 0.0], [3066, 0.0], [3067, 0.0], [3068, 0.0], [3069, 0.0], [3070, 0.0], [3071, 0.0], [3072, 0.0], [3073, 0.0], [3074, 0.0], [3075, 0.0], [3076, 0.0], [3077, 0.0], [3078, 0.0], [3079, 0.0], [3080, 0.0], [3081, 0.0], [3082, 0.0], [3084, 0.0], [3085, 0.0], [3086, 0.0], [3087, 0.0], [3088, 0.0], [3089, 0.0], [3090, 0.0], [3091, 0.0], [3092, 0.0], [3093, 0.0], [3094, 0.0], [3095, 0.0], [3096, 0.0], [3097, 0.0], [3098, 0.0], [3099, 0.0], [3100, 0.0], [3101, 0.0], [3102, 0.0], [3103, 0.0], [3104, 0.0], [3105, 0.0], [3106, 0.0], [3107, 0.0], [3108, 0.0], [3109, 0.0], [3110, 0.0], [3111, 0.0], [3112, 0.0], [3113, 0.0], [3114, 0.0], [3116, 0.0], [3117, 0.0], [3118, 0.0], [3119, 0.0], [3120, 0.0], [3121, 0.0], [3123, 0.0], [3125, 0.0], [3126, 0.0], [3127, 0.0], [3128, 0.0], [3129, 0.0], [3130, 0.0], [3131, 0.0], [3133, 0.0], [3134, 0.0], [3135, 0.0], [3136, 0.0], [3137, 0.0], [3138, 0.0], [3139, 0.0], [3140, 0.0], [3141, 0.0], [3142, 0.0], [3143, 0.0], [3144, 0.0], [3145, 0.0], [3146, 0.0], [3147, 0.0], [3148, 0.0], [3149, 0.0], [3150, 0.0], [3151, 0.0], [3152, 0.0], [3153, 0.0], [3154, 0.0], [3155, 0.0], [3156, 0.0], [3157, 0.0], [3158, 0.0], [3159, 0.0], [3160, 0.0], [3161, 0.0], [3162, 0.0], [3163, 0.0], [3164, 0.0], [3165, 0.0], [3166, 0.0], [3167, 0.0], [3168, 0.0], [3169, 0.0], [3170, 0.0], [3171, 0.0], [3172, 0.0], [3173, 0.0], [3174, 0.0], [3175, 0.0], [3177, 0.0], [3178, 0.0], [3179, 0.0], [3180, 0.0], [3181, 0.0], [3182, 0.0], [3183, 0.0], [3184, 0.0], [3185, 0.0], [3186, 0.0], [3187, 0.0], [3188, 0.0], [3189, 0.0], [3190, 0.0], [3191, 0.0], [3192, 0.0], [3193, 0.0], [3194, 0.0], [3195, 0.0], [3196, 0.0], [3197, 0.0], [3198, 0.0], [3199, 0.0], [3200, 0.0], [3201, 0.0], [3202, 0.0], [3203, 0.0], [3204, 0.0], [3205, 0.0], [3206, 0.0], [3207, 0.0], [3208, 0.0], [3209, 0.0], [3210, 0.0], [3211, 0.0], [3212, 0.0], [3213, 0.0], [3214, 0.0], [3215, 0.0], [3216, 0.0], [3217, 0.0], [3218, 0.0], [3219, 0.0], [3220, 0.0], [3221, 0.0], [3222, 0.0], [3223, 0.0], [3224, 0.0], [3225, 0.0], [3226, 0.0], [3227, 0.0], [3228, 0.0], [3229, 0.0], [3230, 0.0], [3231, 0.0], [3232, 0.0], [3233, 0.0], [3234, 0.0], [3235, 0.0], [3236, 0.0], [3237, 0.0], [3238, 0.0], [3239, 0.0], [3240, 0.0], [3241, 0.0], [3242, 0.0], [3243, 0.0], [3244, 0.0], [3245, 0.0], [3246, 0.0], [3247, 0.0], [3248, 0.0], [3249, 0.0], [3250, 0.0], [3251, 0.0], [3252, 0.0], [3253, 0.0], [3254, 0.0], [3255, 0.0], [3256, 0.0], [3257, 0.0], [3258, 0.0], [3259, 0.0], [3260, 0.0], [3261, 0.0], [3262, 0.0], [3263, 0.0], [3264, 0.0], [3265, 0.0], [3266, 0.0], [3267, 0.0], [3268, 0.0], [3269, 0.0], [3270, 0.0], [3271, 0.0], [3272, 0.0], [3273, 0.0], [3274, 0.0], [3275, 0.0], [3276, 0.0], [3277, 0.0], [3278, 0.0], [3279, 0.0], [3280, 0.0], [3281, 0.0], [3282, 0.0], [3283, 0.0], [3284, 0.0], [3285, 0.0], [3286, 0.0], [3287, 0.0], [3288, 0.0], [3289, 0.0], [3290, 0.0], [3291, 0.0], [3292, 0.0], [3293, 0.0], [3294, 0.0], [3295, 0.0], [3296, 0.0], [3297, 0.0], [3298, 0.0], [3299, 0.0], [3300, 0.0], [3301, 0.0], [3302, 0.0], [3303, 0.0], [3304, 0.0], [3305, 0.0], [3306, 0.0], [3307, 0.0], [3308, 0.0], [3309, 0.0], [3310, 0.0], [3311, 0.0], [3312, 0.0], [3313, 0.0], [3314, 0.0], [3315, 0.0], [3316, 0.0], [3317, 0.0], [3318, 0.0], [3319, 0.0], [3320, 0.0], [3321, 0.0], [3322, 0.0], [3323, 0.0], [3324, 0.0], [3325, 0.0], [3326, 0.0], [3327, 0.0], [3328, 0.0], [3329, 0.0], [3330, 0.0], [3331, 0.0], [3332, 0.0], [3333, 0.0], [3334, 0.0], [3335, 0.0], [3336, 0.0], [3337, 0.0], [3339, 0.0], [3340, 0.0], [3341, 0.0], [3342, 0.0], [3343, 0.0], [3344, 0.0], [3345, 0.0], [3347, 0.0], [3348, 0.0], [3349, 0.0], [3350, 0.0], [3351, 0.0], [3352, 0.0], [3354, 0.0], [3355, 0.0], [3356, 0.0], [3357, 0.0], [3358, 0.0], [3359, 0.0], [3360, 0.0], [3361, 0.0], [3362, 0.0], [3363, 0.0], [3364, 0.0], [3365, 0.0], [3366, 0.0], [3367, 0.0], [3368, 0.0], [3369, 0.0], [3370, 0.0], [3371, 0.0], [3372, 0.0], [3373, 0.0], [3374, 0.0], [3375, 0.0], [3376, 0.0], [3377, 0.0], [3378, 0.0], [3379, 0.0], [3380, 0.0], [3381, 0.0], [3382, 0.0], [3383, 0.0], [3384, 0.0], [3385, 0.0], [3386, 0.0], [3387, 0.0], [3388, 0.0], [3389, 0.0], [3390, 0.0], [3392, 0.0], [3393, 0.0], [3394, 0.0], [3395, 0.0], [3397, 0.0], [3398, 0.0], [3399, 0.0], [3400, 0.0], [3401, 0.0], [3403, 0.0], [3404, 0.0], [3405, 0.0], [3406, 0.0], [3407, 0.0], [3408, 0.0], [3409, 0.0], [3410, 0.0], [3411, 0.0], [3412, 0.0], [3413, 0.0], [3415, 0.0], [3416, 0.0], [3418, 0.0], [3419, 0.0], [3421, 0.0], [3422, 0.0], [3423, 0.0], [3424, 0.0], [3425, 0.0], [3426, 0.0], [3427, 0.0], [3428, 0.0], [3429, 0.0], [3430, 0.0], [3431, 0.0], [3432, 0.0], [3433, 0.0], [3434, 0.0], [3435, 0.0], [3436, 0.0], [3437, 0.0], [3438, 0.0], [3439, 0.0], [3440, 0.0], [3441, 0.0], [3442, 0.0], [3443, 0.0], [3444, 0.0], [3445, 0.0], [3446, 0.0], [3447, 0.0], [3448, 0.0], [3449, 0.0], [3450, 0.0], [3451, 0.0], [3452, 0.0], [3453, 0.0], [3454, 0.0], [3455, 0.0], [3456, 0.0], [3457, 0.0], [3458, 0.0], [3459, 0.0], [3460, 0.0], [3461, 0.0], [3462, 0.0], [3463, 0.0], [3464, 0.0], [3465, 0.0], [3466, 0.0], [3467, 0.0], [3468, 0.0], [3469, 0.0], [3470, 0.0], [3471, 0.0], [3472, 0.0], [3473, 0.0], [3474, 0.0], [3475, 0.0], [3476, 0.0], [3477, 0.0], [3478, 0.0], [3479, 0.0], [3480, 0.0], [3481, 0.0], [3482, 0.0], [3483, 0.0], [3484, 0.0], [3485, 0.0], [3486, 0.0], [3487, 0.0], [3488, 0.0], [3489, 0.0], [3490, 0.0], [3491, 0.0], [3492, 0.0], [3493, 0.0], [3494, 0.0], [3495, 0.0], [3496, 0.0], [3497, 0.0], [3498, 0.0], [3501, 0.0], [3502, 0.0], [3503, 0.0], [3504, 0.0], [3505, 0.0], [3506, 0.0], [3507, 0.0], [3508, 0.0], [3509, 0.0], [3510, 0.0], [3511, 0.0], [3512, 0.0], [3513, 0.0], [3514, 0.0], [3515, 0.0], [3516, 0.0], [3517, 0.0], [3518, 0.0], [3519, 0.0], [3520, 0.0], [3521, 0.0], [3522, 0.0], [3523, 0.0], [3524, 0.0], [3525, 0.0], [3526, 0.0], [3527, 0.0], [3528, 0.0], [3529, 0.0], [3530, 0.0], [3531, 0.0], [3532, 0.0], [3533, 0.0], [3534, 0.0], [3536, 0.0], [3537, 0.0], [3538, 0.0], [3539, 0.0], [3540, 0.0], [3541, 0.0], [3542, 0.0], [3543, 0.0], [3544, 0.0], [3545, 0.0], [3546, 0.0], [3547, 0.0], [3548, 0.0], [3549, 0.0], [3550, 0.0], [3551, 0.0], [3552, 0.0], [3553, 0.0], [3554, 0.0], [3555, 0.0], [3556, 0.0], [3557, 0.0], [3558, 0.0], [3559, 0.0], [3560, 0.0], [3561, 0.0], [3562, 0.0], [3563, 0.0], [3564, 0.0], [3565, 0.0], [3566, 0.0], [3567, 0.0], [3568, 0.0], [3569, 0.0], [3570, 0.0], [3571, 0.0], [3572, 0.0], [3573, 0.0], [3574, 0.0], [3575, 0.0], [3576, 0.0], [3577, 0.0], [3578, 0.0], [3579, 0.0], [3580, 0.0], [3582, 0.0], [3583, 0.0], [3584, 0.0], [3585, 0.0], [3586, 0.0], [3587, 0.0], [3588, 0.0], [3589, 0.0], [3590, 0.0], [3591, 0.0], [3592, 0.0], [3593, 0.0], [3594, 0.0], [3597, 0.0], [3598, 0.0], [3599, 0.0], [3600, 0.0], [3601, 0.0], [3602, 0.0], [3603, 0.0], [3604, 0.0], [3605, 0.0], [3606, 0.0], [3607, 0.0], [3608, 0.0], [3609, 0.0], [3610, 0.0], [3611, 0.0], [3612, 0.0], [3613, 0.0], [3614, 0.0], [3615, 0.0], [3616, 0.0], [3617, 0.0], [3618, 0.0], [3619, 0.0], [3620, 0.0], [3621, 0.0], [3622, 0.0], [3623, 0.0], [3624, 0.0], [3625, 0.0], [3626, 0.0], [3627, 0.0], [3628, 0.0], [3629, 0.0], [3630, 0.0], [3631, 0.0], [3632, 0.0], [3633, 0.0], [3634, 0.0], [3635, 0.0], [3638, 0.0], [3639, 0.0], [3640, 0.0], [3641, 0.0], [3642, 0.0], [3643, 0.0], [3645, 0.0], [3646, 0.0], [3647, 0.0], [3648, 0.0], [3649, 0.0], [3650, 0.0], [3651, 0.0], [3652, 0.0], [3653, 0.0], [3654, 0.0], [3655, 0.0], [3656, 0.0], [3657, 0.0], [3658, 0.0], [3659, 0.0], [3660, 0.0], [3662, 0.0], [3663, 0.0], [3664, 0.0], [3665, 0.0], [3666, 0.0], [3667, 0.0], [3668, 0.0], [3669, 0.0], [3670, 0.0], [3673, 0.0], [3674, 0.0], [3675, 0.0], [3676, 0.0], [3677, 0.0], [3678, 0.0], [3679, 0.0], [3680, 0.0], [3681, 0.0], [3682, 0.0], [3683, 0.0], [3684, 0.0], [3685, 0.0], [3686, 0.0], [3687, 0.0], [3688, 0.0], [3689, 0.0], [3690, 0.0], [3691, 0.0], [3692, 0.0], [3693, 0.0], [3694, 0.0], [3696, 0.0], [3698, 0.0], [3699, 0.0], [3700, 0.0], [3701, 0.0], [3702, 0.0], [3703, 0.0], [3704, 0.0], [3705, 0.0], [3706, 0.0], [3707, 0.0], [3708, 0.0], [3709, 0.0], [3710, 0.0], [3711, 0.0], [3712, 0.0], [3713, 0.0], [3715, 0.0], [3716, 0.0], [3717, 0.0], [3718, 0.0], [3719, 0.0], [3720, 0.0], [3721, 0.0], [3722, 0.0], [3723, 0.0], [3725, 0.0], [3726, 0.0], [3728, 0.0], [3729, 0.0], [3730, 0.0], [3731, 0.0], [3732, 0.0], [3733, 0.0], [3734, 0.0], [3735, 0.0], [3736, 0.0], [3737, 0.0], [3738, 0.0], [3739, 0.0], [3740, 0.0], [3741, 0.0], [3742, 0.0], [3743, 0.0], [3744, 0.0], [3745, 0.0], [3746, 0.0], [3747, 0.0], [3748, 0.0], [3749, 0.0], [3750, 0.0], [3751, 0.0], [3752, 0.0], [3753, 0.0], [3754, 0.0], [3755, 0.0], [3756, 0.0], [3757, 0.0], [3758, 0.0], [3759, 0.0], [3760, 0.0], [3761, 0.0], [3762, 0.0], [3763, 0.0], [3765, 0.0], [3766, 0.0], [3767, 0.0], [3768, 0.0], [3769, 0.0], [3770, 0.0], [3771, 0.0], [3772, 0.0], [3773, 0.0], [3774, 0.0], [3775, 0.0], [3776, 0.0], [3777, 0.0], [3778, 0.0], [3779, 0.0], [3780, 0.0], [3781, 0.0], [3783, 0.0], [3784, 0.0], [3785, 0.0], [3786, 0.0], [3787, 0.0], [3788, 0.0], [3789, 0.0], [3790, 0.0], [3791, 0.0], [3792, 0.0], [3793, 0.0], [3794, 0.0], [3795, 0.0], [3796, 0.0], [3797, 0.0], [3798, 0.0], [3799, 0.0], [3800, 0.0], [3801, 0.0], [3802, 0.0], [3803, 0.0], [3804, 0.0], [3805, 0.0], [3806, 0.0], [3807, 0.0], [3808, 0.0], [3810, 0.0], [3811, 0.0], [3812, 0.0], [3813, 0.0], [3814, 0.0], [3815, 0.0], [3816, 0.0], [3817, 0.0], [3818, 0.0], [3819, 0.0], [3820, 0.0], [3821, 0.0], [3822, 0.0], [3823, 0.0], [3825, 0.0], [3826, 0.0], [3827, 0.0], [3828, 0.0], [3829, 0.0], [3830, 0.0], [3831, 0.0], [3832, 0.0], [3833, 0.0], [3834, 0.0], [3836, 0.0], [3837, 0.0], [3838, 0.0], [3839, 0.0], [3840, 0.0], [3841, 0.0], [3842, 0.0], [3843, 0.0], [3844, 0.0], [3845, 0.0], [3846, 0.0], [3847, 0.0], [3848, 0.0], [3849, 0.0], [3850, 0.0], [3851, 0.0], [3852, 0.0], [3853, 0.0], [3854, 0.0], [3855, 0.0], [3857, 0.0], [3858, 0.0], [3859, 0.0], [3860, 0.0], [3861, 0.0], [3862, 0.0], [3863, 0.0], [3864, 0.0], [3865, 0.0], [3866, 0.0], [3867, 0.0], [3868, 0.0], [3869, 0.0], [3870, 0.0], [3871, 0.0], [3872, 0.0], [3873, 0.0], [3874, 0.0], [3875, 0.0], [3876, 0.0], [3877, 0.0], [3878, 0.0], [3879, 0.0], [3880, 0.0], [3881, 0.0], [3882, 0.0], [3883, 0.0], [3884, 0.0], [3885, 0.0], [3886, 0.0], [3887, 0.0], [3888, 0.0], [3889, 0.0], [3890, 0.0], [3891, 0.0], [3892, 0.0], [3893, 0.0], [3894, 0.0], [3895, 0.0], [3896, 0.0], [3897, 0.0], [3899, 0.0], [3900, 0.0], [3901, 0.0], [3902, 0.0], [3903, 0.0], [3904, 0.0], [3905, 0.0], [3906, 0.0], [3907, 0.0], [3908, 0.0], [3909, 0.0], [3911, 0.0], [3912, 0.0], [3913, 0.0], [3914, 0.0], [3915, 0.0], [3916, 0.0], [3917, 0.0], [3918, 0.0], [3919, 0.0], [3920, 0.0], [3921, 0.0], [3922, 0.0], [3923, 0.0], [3924, 0.0], [3925, 0.0], [3926, 0.0], [3927, 0.0], [3928, 0.0], [3929, 0.0], [3930, 0.0], [3931, 0.0], [3932, 0.0], [3933, 0.0], [3934, 0.0], [3935, 0.0], [3936, 0.0], [3937, 0.0], [3938, 0.0], [3939, 0.0], [3940, 0.0], [3941, 0.0], [3942, 0.0], [3943, 0.0], [3944, 0.0], [3945, 0.0], [3946, 0.0], [3947, 0.0], [3948, 0.0], [3949, 0.0], [3950, 0.0], [3951, 0.0], [3952, 0.0], [3953, 0.0], [3954, 0.0], [3955, 0.0], [3956, 0.0], [3957, 0.0], [3958, 0.0], [3959, 0.0], [3960, 0.0], [3961, 0.0], [3962, 0.0], [3963, 0.0], [3964, 0.0], [3965, 0.0], [3967, 0.0], [3968, 0.0], [3969, 0.0], [3970, 0.0], [3971, 0.0], [3972, 0.0], [3973, 0.0], [3974, 0.0], [3975, 0.0], [3976, 0.0], [3977, 0.0], [3978, 0.0], [3979, 0.0], [3980, 0.0], [3981, 0.0], [3982, 0.0], [3983, 0.0], [3984, 0.0], [3985, 0.0], [3986, 0.0], [3987, 0.0], [3988, 0.0], [3989, 0.0], [3990, 0.0], [3991, 0.0], [3992, 0.0], [3993, 0.0], [3994, 0.0], [3995, 0.0], [3996, 0.0], [3997, 0.0], [3998, 0.0], [3999, 0.0], [4000, 0.0], [4001, 0.0], [4002, 0.0], [4003, 0.0], [4004, 0.0], [4005, 0.0], [4006, 0.0], [4007, 0.0], [4008, 0.0], [4009, 0.0], [4011, 0.0], [4012, 0.0], [4013, 0.0], [4014, 0.0], [4015, 0.0], [4016, 0.0], [4018, 0.0], [4019, 0.0], [4020, 0.0], [4021, 0.0], [4022, 0.0], [4023, 0.0], [4024, 0.0], [4025, 0.0], [4026, 0.0], [4027, 0.0], [4029, 0.0], [4030, 0.0], [4031, 0.0], [4032, 0.0], [4033, 0.0], [4034, 0.0], [4035, 0.0], [4036, 0.0], [4037, 0.0], [4038, 0.0], [4039, 0.0], [4040, 0.0], [4041, 0.0], [4042, 0.0], [4043, 0.0], [4044, 0.0], [4045, 0.0], [4046, 0.0], [4047, 0.0], [4048, 0.0], [4049, 0.0], [4050, 0.0], [4051, 0.0], [4052, 0.0], [4053, 0.0], [4054, 0.0], [4055, 0.0], [4056, 0.0], [4057, 0.0], [4058, 0.0], [4059, 0.0], [4060, 0.0], [4061, 0.0], [4062, 0.0], [4063, 0.0], [4064, 0.0], [4065, 0.0], [4066, 0.0], [4067, 0.0], [4068, 0.0], [4069, 0.0], [4070, 0.0], [4071, 0.0], [4072, 0.0], [4073, 0.0], [4074, 0.0], [4075, 0.0], [4076, 0.0], [4077, 0.0], [4078, 0.0], [4079, 0.0], [4080, 0.0], [4081, 0.0], [4082, 0.0], [4083, 0.0], [4084, 0.0], [4086, 0.0], [4087, 0.0], [4088, 0.0], [4089, 0.0], [4090, 0.0], [4091, 0.0], [4092, 0.0], [4093, 0.0], [4094, 0.0], [4095, 0.0], [4096, 0.0], [4097, 0.0], [4098, 0.0], [4099, 0.0], [4100, 0.0], [4101, 0.0], [4102, 0.0], [4103, 0.0], [4104, 0.0], [4105, 0.0], [4106, 0.0], [4107, 0.0], [4109, 0.0], [4110, 0.0], [4111, 0.0], [4112, 0.0], [4113, 0.0], [4114, 0.0], [4115, 0.0], [4116, 0.0], [4117, 0.0], [4118, 0.0], [4119, 0.0], [4120, 0.0], [4121, 0.0], [4122, 0.0], [4123, 0.0], [4124, 0.0], [4125, 0.0], [4126, 0.0], [4127, 0.0], [4128, 0.0], [4129, 0.0], [4130, 0.0], [4131, 0.0], [4132, 0.0], [4133, 0.0], [4134, 0.0], [4135, 0.0], [4136, 0.0], [4138, 0.0], [4139, 0.0], [4140, 0.0], [4141, 0.0], [4142, 0.0], [4143, 0.0], [4144, 0.0], [4146, 0.0], [4147, 0.0], [4148, 0.0], [4149, 0.0], [4150, 0.0], [4151, 0.0], [4152, 0.0], [4153, 0.0], [4154, 0.0], [4155, 0.0], [4156, 0.0], [4157, 0.0], [4158, 0.0], [4159, 0.0], [4160, 0.0], [4162, 0.0], [4163, 0.0], [4164, 0.0], [4165, 0.0], [4166, 0.0], [4167, 0.0], [4168, 0.0], [4169, 0.0], [4170, 0.0], [4171, 0.0], [4172, 0.0], [4173, 0.0], [4174, 0.0], [4175, 0.0], [4176, 0.0], [4177, 0.0], [4178, 0.0], [4179, 0.0], [4180, 0.0], [4181, 0.0], [4182, 0.0], [4183, 0.0], [4184, 0.0], [4185, 0.0], [4186, 0.0], [4187, 0.0], [4188, 0.0], [4189, 0.0], [4190, 0.0], [4191, 0.0], [4192, 0.0], [4193, 0.0], [4194, 0.0], [4195, 0.0], [4196, 0.0], [4197, 0.0], [4198, 0.0], [4199, 0.0], [4200, 0.0], [4201, 0.0], [4202, 0.0], [4203, 0.0], [4204, 0.0], [4205, 0.0], [4206, 0.0], [4207, 0.0], [4208, 0.0], [4209, 0.0], [4210, 0.0], [4211, 0.0], [4212, 0.0], [4213, 0.0], [4214, 0.0], [4215, 0.0], [4216, 0.0], [4217, 0.0], [4218, 0.0], [4219, 0.0], [4220, 0.0], [4221, 0.0], [4222, 0.0], [4223, 0.0], [4224, 0.0], [4226, 0.0], [4227, 0.0], [4228, 0.0], [4229, 0.0], [4230, 0.0], [4231, 0.0], [4232, 0.0], [4233, 0.0], [4234, 0.0], [4235, 0.0], [4236, 0.0], [4237, 0.0], [4238, 0.0], [4239, 0.0], [4240, 0.0], [4242, 0.0], [4243, 0.0], [4244, 0.0], [4245, 0.0], [4246, 0.0], [4247, 0.0], [4248, 0.0], [4249, 0.0], [4250, 0.0], [4251, 0.0], [4252, 0.0], [4253, 0.0], [4254, 0.0], [4255, 0.0], [4256, 0.0], [4257, 0.0], [4258, 0.0], [4259, 0.0], [4260, 0.0], [4261, 0.0], [4262, 0.0], [4263, 0.0], [4264, 0.0], [4265, 0.0], [4266, 0.0], [4267, 0.0], [4268, 0.0], [4270, 0.0], [4271, 0.0], [4272, 0.0], [4273, 0.0], [4275, 0.0], [4276, 0.0], [4277, 0.0], [4278, 0.0], [4279, 0.0], [4280, 0.0], [4281, 0.0], [4282, 0.0], [4283, 0.0], [4284, 0.0], [4285, 0.0], [4286, 0.0], [4287, 0.0], [4288, 0.0], [4289, 0.0], [4290, 0.0], [4291, 0.0], [4292, 0.0], [4294, 0.0], [4295, 0.0], [4296, 0.0], [4297, 0.0], [4298, 0.0], [4299, 0.0], [4300, 0.0], [4301, 0.0], [4302, 0.0], [4303, 0.0], [4304, 0.0], [4305, 0.0], [4306, 0.0], [4307, 0.0], [4308, 0.0], [4309, 0.0], [4310, 0.0], [4311, 0.0], [4312, 0.0], [4313, 0.0], [4314, 0.0], [4315, 0.0], [4316, 0.0], [4317, 0.0], [4318, 0.0], [4319, 0.0], [4320, 0.0], [4321, 0.0], [4322, 0.0], [4324, 0.0], [4325, 0.0], [4326, 0.0], [4327, 0.0], [4328, 0.0], [4329, 0.0], [4330, 0.0], [4331, 0.0], [4332, 0.0], [4333, 0.0], [4334, 0.0], [4335, 0.0], [4336, 0.0], [4337, 0.0], [4338, 0.0], [4339, 0.0], [4340, 0.0], [4341, 0.0], [4342, 0.0], [4343, 0.0], [4344, 0.0], [4345, 0.0], [4346, 0.0], [4347, 0.0], [4348, 0.0], [4349, 0.0], [4350, 0.0], [4351, 0.0], [4352, 0.0], [4353, 0.0], [4354, 0.0], [4355, 0.0], [4356, 0.0], [4357, 0.0], [4358, 0.0], [4359, 0.0], [4360, 0.0], [4361, 0.0], [4362, 0.0], [4363, 0.0], [4364, 0.0], [4365, 0.0], [4366, 0.0], [4367, 0.0], [4368, 0.0], [4369, 0.0], [4370, 0.0], [4372, 0.0], [4374, 0.0], [4375, 0.0], [4376, 0.0], [4377, 0.0], [4378, 0.0], [4379, 0.0], [4380, 0.0], [4381, 0.0], [4382, 0.0], [4383, 0.0], [4384, 0.0], [4385, 0.0], [4386, 0.0], [4387, 0.0], [4388, 0.0], [4390, 0.0], [4391, 0.0], [4392, 0.0], [4393, 0.0], [4394, 0.0], [4395, 0.0], [4396, 0.0], [4397, 0.0], [4398, 0.0], [4399, 0.0], [4400, 0.0], [4401, 0.0], [4402, 0.0], [4403, 0.0], [4404, 0.0], [4405, 0.0], [4406, 0.0], [4407, 0.0], [4408, 0.0], [4409, 0.0], [4410, 0.0], [4411, 0.0], [4412, 0.0], [4413, 0.0], [4414, 0.0], [4415, 0.0], [4416, 0.0], [4417, 0.0], [4418, 0.0], [4419, 0.0], [4420, 0.0], [4421, 0.0], [4422, 0.0], [4423, 0.0], [4424, 0.0], [4425, 0.0], [4427, 0.0], [4428, 0.0], [4429, 0.0], [4430, 0.0], [4431, 0.0], [4432, 0.0], [4433, 0.0], [4434, 0.0], [4436, 0.0], [4437, 0.0], [4438, 0.0], [4439, 0.0], [4440, 0.0], [4441, 0.0], [4442, 0.0], [4443, 0.0], [4444, 0.0], [4445, 0.0], [4446, 0.0], [4447, 0.0], [4448, 0.0], [4450, 0.0], [4451, 0.0], [4452, 0.0], [4453, 0.0], [4454, 0.0], [4455, 0.0], [4456, 0.0], [4457, 0.0], [4458, 0.0], [4460, 0.0], [4461, 0.0], [4462, 0.0], [4463, 0.0], [4464, 0.0], [4465, 0.0], [4466, 0.0], [4467, 0.0], [4468, 0.0], [4469, 0.0], [4470, 0.0], [4471, 0.0], [4472, 0.0], [4473, 0.0], [4474, 0.0], [4475, 0.0], [4476, 0.0], [4477, 0.0], [4478, 0.0], [4479, 0.0], [4480, 0.0], [4481, 0.0], [4482, 0.0], [4483, 0.0], [4485, 0.0], [4486, 0.0], [4487, 0.0], [4488, 0.0], [4489, 0.0], [4490, 0.0], [4491, 0.0], [4492, 0.0], [4493, 0.0], [4495, 0.0], [4496, 0.0], [4497, 0.0], [4498, 0.0], [4499, 0.0], [4500, 0.0], [4501, 0.0], [4502, 0.0], [4503, 0.0], [4504, 0.0], [4505, 0.0], [4506, 0.0], [4507, 0.0], [4508, 0.0], [4509, 0.0], [4510, 0.0], [4511, 0.0], [4512, 0.0], [4513, 0.0], [4514, 0.0], [4515, 0.0], [4516, 0.0], [4517, 0.0], [4518, 0.0], [4519, 0.0], [4520, 0.0], [4521, 0.0], [4522, 0.0], [4523, 0.0], [4524, 0.0], [4525, 0.0], [4526, 0.0], [4527, 0.0], [4528, 0.0], [4529, 0.0], [4530, 0.0], [4531, 0.0], [4532, 0.0], [4533, 0.0], [4534, 0.0], [4535, 0.0], [4536, 0.0], [4537, 0.0], [4538, 0.0], [4539, 0.0], [4540, 0.0], [4541, 0.0], [4542, 0.0], [4543, 0.0], [4544, 0.0], [4545, 0.0], [4546, 0.0], [4547, 0.0], [4548, 0.0], [4549, 0.0], [4550, 0.0], [4551, 0.0], [4552, 0.0], [4553, 0.0], [4554, 0.0], [4555, 0.0], [4556, 0.0], [4557, 0.0], [4558, 0.0], [4559, 0.0], [4560, 0.0], [4561, 0.0], [4562, 0.0], [4563, 0.0], [4564, 0.0], [4565, 0.0], [4566, 0.0], [4567, 0.0], [4568, 0.0], [4569, 0.0], [4570, 0.0], [4571, 0.0], [4572, 0.0], [4573, 0.0], [4574, 0.0], [4575, 0.0], [4576, 0.0], [4578, 0.0], [4579, 0.0], [4580, 0.0], [4581, 0.0], [4582, 0.0], [4583, 0.0], [4584, 0.0], [4585, 0.0], [4586, 0.0], [4587, 0.0], [4588, 0.0], [4589, 0.0], [4590, 0.0], [4591, 0.0], [4592, 0.0], [4593, 0.0], [4594, 0.0], [4595, 0.0], [4596, 0.0], [4597, 0.0], [4598, 0.0], [4599, 0.0], [4600, 0.0], [4601, 0.0], [4603, 0.0], [4604, 0.0], [4605, 0.0], [4606, 0.0], [4607, 0.0], [4608, 0.0], [4609, 0.0], [4610, 0.0], [4611, 0.0], [4612, 0.0], [4613, 0.0], [4615, 0.0], [4616, 0.0], [4617, 0.0], [4618, 0.0], [4619, 0.0], [4620, 0.0], [4621, 0.0], [4622, 0.0], [4623, 0.0], [4624, 0.0], [4625, 0.0], [4627, 0.0], [4628, 0.0], [4629, 0.0], [4630, 0.0], [4631, 0.0], [4632, 0.0], [4633, 0.0], [4634, 0.0], [4635, 0.0], [4636, 0.0], [4637, 0.0], [4638, 0.0], [4639, 0.0], [4640, 0.0], [4641, 0.0], [4643, 0.0], [4644, 0.0], [4645, 0.0], [4646, 0.0], [4647, 0.0], [4648, 0.0], [4649, 0.0], [4650, 0.0], [4651, 0.0], [4652, 0.0], [4653, 0.0], [4654, 0.0], [4655, 0.0], [4656, 0.0], [4657, 0.0], [4658, 0.0], [4659, 0.0], [4660, 0.0], [4661, 0.0], [4662, 0.0], [4663, 0.0], [4664, 0.0], [4665, 0.0], [4666, 0.0], [4667, 0.0], [4668, 0.0], [4669, 0.0], [4670, 0.0], [4671, 0.0], [4672, 0.0], [4673, 0.0], [4674, 0.0], [4675, 0.0], [4676, 0.0], [4677, 0.0], [4678, 0.0], [4679, 0.0], [4681, 0.0], [4682, 0.0], [4683, 0.0], [4684, 0.0], [4685, 0.0], [4686, 0.0], [4687, 0.0], [4688, 0.0], [4690, 0.0], [4691, 0.0], [4692, 0.0], [4693, 0.0], [4694, 0.0], [4695, 0.0], [4697, 0.0], [4698, 0.0], [4699, 0.0], [4700, 0.0], [4701, 0.0], [4702, 0.0], [4703, 0.0], [4704, 0.0], [4705, 0.0], [4706, 0.0], [4707, 0.0], [4708, 0.0], [4709, 0.0], [4710, 0.0], [4711, 0.0], [4712, 0.0], [4713, 0.0], [4714, 0.0], [4715, 0.0], [4716, 0.0], [4717, 0.0], [4718, 0.0], [4719, 0.0], [4720, 0.0], [4721, 0.0], [4722, 0.0], [4723, 0.0], [4724, 0.0], [4725, 0.0], [4726, 0.0], [4727, 0.0], [4728, 0.0], [4729, 0.0], [4730, 0.0], [4731, 0.0], [4732, 0.0], [4733, 0.0], [4734, 0.0], [4735, 0.0], [4736, 0.0], [4737, 0.0], [4738, 0.0], [4739, 0.0], [4740, 0.0], [4741, 0.0], [4742, 0.0], [4743, 0.0], [4744, 0.0], [4745, 0.0], [4746, 0.0], [4747, 0.0], [4748, 0.0], [4749, 0.0], [4750, 0.0], [4751, 0.0], [4752, 0.0], [4753, 0.0], [4754, 0.0], [4756, 0.0], [4757, 0.0], [4758, 0.0], [4759, 0.0], [4760, 0.0], [4761, 0.0], [4762, 0.0], [4763, 0.0], [4764, 0.0], [4765, 0.0], [4766, 0.0], [4767, 0.0], [4768, 0.0], [4769, 0.0], [4770, 0.0], [4771, 0.0], [4772, 0.0], [4773, 0.0], [4774, 0.0], [4775, 0.0], [4776, 0.0], [4777, 0.0], [4778, 0.0], [4779, 0.0], [4780, 0.0], [4781, 0.0], [4782, 0.0], [4783, 0.0], [4784, 0.0], [4785, 0.0], [4786, 0.0], [4787, 0.0], [4789, 0.0], [4790, 0.0], [4791, 0.0], [4792, 0.0], [4793, 0.0], [4795, 0.0], [4796, 0.0], [4797, 0.0], [4798, 0.0], [4799, 0.0], [4800, 0.0], [4801, 0.0], [4802, 0.0], [4803, 0.0], [4804, 0.0], [4805, 0.0], [4806, 0.0], [4807, 0.0], [4808, 0.0], [4809, 0.0], [4810, 0.0], [4811, 0.0], [4812, 0.0], [4813, 0.0], [4814, 0.0], [4815, 0.0], [4816, 0.0], [4817, 0.0], [4818, 0.0], [4819, 0.0], [4820, 0.0], [4821, 0.0], [4822, 0.0], [4823, 0.0], [4825, 0.0], [4826, 0.0], [4827, 0.0], [4828, 0.0], [4829, 0.0], [4830, 0.0], [4831, 0.0], [4832, 0.0], [4833, 0.0], [4834, 0.0], [4835, 0.0], [4836, 0.0], [4837, 0.0], [4838, 0.0], [4839, 0.0], [4840, 0.0], [4841, 0.0], [4843, 0.0], [4844, 0.0], [4845, 0.0], [4846, 0.0], [4847, 0.0], [4848, 0.0], [4849, 0.0], [4850, 0.0], [4851, 0.0], [4852, 0.0], [4853, 0.0], [4854, 0.0], [4855, 0.0], [4856, 0.0], [4857, 0.0], [4858, 0.0], [4859, 0.0], [4860, 0.0], [4861, 0.0], [4863, 0.0], [4864, 0.0], [4865, 0.0], [4866, 0.0], [4867, 0.0], [4868, 0.0], [4869, 0.0], [4870, 0.0], [4871, 0.0], [4873, 0.0], [4874, 0.0], [4875, 0.0], [4877, 0.0], [4878, 0.0], [4879, 0.0], [4880, 0.0], [4881, 0.0], [4882, 0.0], [4883, 0.0], [4884, 0.0], [4885, 0.0], [4886, 0.0], [4887, 0.0], [4888, 0.0], [4889, 0.0], [4890, 0.0], [4891, 0.0], [4892, 0.0], [4893, 0.0], [4894, 0.0], [4895, 0.0], [4896, 0.0], [4897, 0.0], [4898, 0.0], [4899, 0.0], [4900, 0.0], [4901, 0.0], [4902, 0.0], [4903, 0.0], [4905, 0.0], [4906, 0.0], [4907, 0.0], [4908, 0.0], [4910, 0.0], [4911, 0.0], [4912, 0.0], [4913, 0.0], [4914, 0.0], [4915, 0.0], [4916, 0.0], [4917, 0.0], [4918, 0.0], [4919, 0.0], [4920, 0.0], [4921, 0.0], [4922, 0.0], [4923, 0.0], [4924, 0.0], [4925, 0.0], [4926, 0.0], [4927, 0.0], [4928, 0.0], [4929, 0.0], [4930, 0.0], [4931, 0.0], [4932, 0.0], [4933, 0.0], [4934, 0.0], [4935, 0.0], [4936, 0.0], [4937, 0.0], [4938, 0.0], [4939, 0.0], [4940, 0.0], [4941, 0.0], [4942, 0.0], [4943, 0.0], [4944, 0.0], [4945, 0.0], [4946, 0.0], [4947, 0.0], [4948, 0.0], [4949, 0.0], [4950, 0.0], [4951, 0.0], [4952, 0.0], [4953, 0.0], [4954, 0.0], [4955, 0.0], [4956, 0.0], [4957, 0.0], [4958, 0.0], [4959, 0.0], [4960, 0.0], [4961, 0.0], [4962, 0.0], [4963, 0.0], [4964, 0.0], [4965, 0.0], [4966, 0.0], [4967, 0.0], [4968, 0.0], [4969, 0.0], [4971, 0.0], [4972, 0.0], [4973, 0.0], [4974, 0.0], [4975, 0.0], [4976, 0.0], [4977, 0.0], [4978, 0.0], [4979, 0.0], [4980, 0.0], [4981, 0.0], [4982, 0.0], [4983, 0.0], [4984, 0.0], [4985, 0.0], [4986, 0.0], [4987, 0.0], [4988, 0.0], [4989, 0.0], [4990, 0.0], [4991, 0.0], [4992, 0.0], [4993, 0.0], [4994, 0.0], [4996, 0.0], [4997, 0.0], [4998, 0.0], [4999, 0.0], [5000, 0.0], [5001, 0.0], [5002, 0.0], [5003, 0.0], [5004, 0.0], [5005, 0.0], [5006, 0.0], [5007, 0.0], [5008, 0.0], [5009, 0.0], [5010, 0.0], [5011, 0.0], [5012, 0.0], [5013, 0.0], [5014, 0.0], [5015, 0.0], [5016, 0.0], [5017, 0.0], [5018, 0.0], [5019, 0.0], [5020, 0.0], [5021, 0.0], [5022, 0.0], [5023, 0.0], [5024, 0.0], [5025, 0.0], [5026, 0.0], [5027, 0.0], [5028, 0.0], [5029, 0.0], [5030, 0.0], [5031, 0.0], [5032, 0.0], [5033, 0.0], [5034, 0.0], [5035, 0.0], [5036, 0.0], [5037, 0.0], [5038, 0.0], [5039, 0.0], [5040, 0.0], [5041, 0.0], [5042, 0.0], [5043, 0.0], [5044, 0.0], [5045, 0.0], [5046, 0.0], [5047, 0.0], [5048, 0.0], [5049, 0.0], [5050, 0.0], [5051, 0.0], [5052, 0.0], [5053, 0.0], [5054, 0.0], [5055, 0.0], [5056, 0.0], [5057, 0.0], [5058, 0.0], [5059, 0.0], [5060, 0.0], [5061, 0.0], [5062, 0.0], [5063, 0.0], [5064, 0.0], [5065, 0.0], [5066, 0.0], [5067, 0.0], [5068, 0.0], [5069, 0.0], [5070, 0.0], [5071, 0.0], [5072, 0.0], [5073, 0.0], [5074, 0.0], [5075, 0.0], [5076, 0.0], [5078, 0.0], [5080, 0.0], [5081, 0.0], [5082, 0.0], [5083, 0.0], [5084, 0.0], [5085, 0.0], [5086, 0.0], [5087, 0.0], [5088, 0.0], [5089, 0.0], [5090, 0.0], [5091, 0.0], [5092, 0.0], [5093, 0.0], [5094, 0.0], [5095, 0.0], [5096, 0.0], [5097, 0.0], [5098, 0.0], [5099, 0.0], [5100, 0.0], [5101, 0.0], [5102, 0.0], [5103, 0.0], [5104, 0.0], [5105, 0.0], [5106, 0.0], [5107, 0.0], [5108, 0.0], [5109, 0.0], [5110, 0.0], [5111, 0.0], [5113, 0.0], [5114, 0.0], [5115, 0.0], [5116, 0.0], [5117, 0.0], [5118, 0.0], [5119, 0.0], [5120, 0.0], [5121, 0.0], [5122, 0.0], [5123, 0.0], [5124, 0.0], [5125, 0.0], [5126, 0.0], [5127, 0.0], [5128, 0.0], [5129, 0.0], [5130, 0.0], [5131, 0.0], [5132, 0.0], [5133, 0.0], [5134, 0.0], [5135, 0.0], [5136, 0.0], [5137, 0.0], [5139, 0.0], [5140, 0.0], [5141, 0.0], [5142, 0.0], [5143, 0.0], [5144, 0.0], [5145, 0.0], [5146, 0.0], [5147, 0.0], [5148, 0.0], [5149, 0.0]]\n"
     ]
    }
   ],
   "source": [
    "def find_similar_users(user_id, user_item, include_similarity=False):\n",
    "    \"\"\"\n",
    "    INPUT:\n",
    "    user_id - (int) a user_id\n",
    "    user_item - (pandas dataframe) matrix of users by articles: \n",
    "                1's when a user has interacted with an article, 0 otherwise\n",
    "    include_similarity - (bool) whether to include the similarity in the output\n",
    "    \n",
    "    OUTPUT:\n",
    "    similar_users - (list) an ordered list where the closest users (largest dot product users)\n",
    "                    are listed first\n",
    "    \n",
    "    Description:\n",
    "    Computes the similarity of every pair of users based on the dot product\n",
    "    Returns an ordered list of user ids. If include_similarity is True, returns a list of lists\n",
    "    where the first element is the user id and the second the similarity.\n",
    "    \"\"\"\n",
    "    \n",
    "    # Get the index of the user in the user-item matrix\n",
    "    user_idx = user_item.index.get_loc(user_id)\n",
    "    \n",
    "    # Compute cosine similarity between the provided user and all others (dot product approach)\n",
    "    cosine_similarities = cosine_similarity(user_item.iloc[user_idx:user_idx+1], user_item)\n",
    "    \n",
    "    # Get the similarity scores as a list of tuples (user_index, similarity_score)\n",
    "    similarities = list(enumerate(cosine_similarities[0]))\n",
    "    \n",
    "    # Remove the similarity score for the user itself\n",
    "    similarities = [user for user in similarities if user[0] != user_idx]\n",
    "    \n",
    "    # Sort the users based on the similarity score in descending order\n",
    "    sorted_similarities = sorted(similarities, key=lambda x: x[1], reverse=True)\n",
    "    \n",
    "    # Create a list of just the user ids (sorted by similarity)\n",
    "    most_similar_users = [user_item.index[user[0]] for user in sorted_similarities]\n",
    "    \n",
    "    if include_similarity:\n",
    "        # Return list of lists with [[user_id, similarity], ...]\n",
    "        return [[user_item.index[user[0]], user[1]] for user in sorted_similarities]\n",
    "    \n",
    "    return most_similar_users\n",
    "\n",
    "# Example usage:\n",
    "user_id = 123  # example user_id as an integer\n",
    "similar_users = find_similar_users(user_id, user_item, include_similarity=True)\n",
    "\n",
    "# Print the results\n",
    "print(similar_users)"
   ]
  },
  {
   "cell_type": "code",
   "execution_count": 23,
   "metadata": {},
   "outputs": [
    {
     "name": "stdout",
     "output_type": "stream",
     "text": [
      "[[93, 1.0], [128, 1.0], [818, 1.0], [1077, 1.0], [1164, 1.0], [1371, 1.0], [1495, 1.0], [1624, 1.0], [1675, 1.0], [1697, 1.0], [1892, 1.0], [1930, 1.0], [1966, 1.0], [2018, 1.0], [3661, 1.0], [4602, 1.0], [5112, 1.0], [18, 0.7071067811865475], [177, 0.7071067811865475], [657, 0.7071067811865475], [903, 0.7071067811865475], [1239, 0.7071067811865475], [1420, 0.7071067811865475], [1631, 0.7071067811865475], [1781, 0.7071067811865475], [1929, 0.7071067811865475], [2048, 0.7071067811865475], [2097, 0.7071067811865475], [2770, 0.7071067811865475], [3122, 0.7071067811865475], [3132, 0.7071067811865475], [4435, 0.7071067811865475], [4614, 0.7071067811865475], [16, 0.5773502691896258], [724, 0.5773502691896258], [894, 0.5773502691896258], [947, 0.5773502691896258], [1074, 0.5773502691896258], [1359, 0.5773502691896258], [1375, 0.5773502691896258], [1483, 0.5773502691896258], [1541, 0.5773502691896258], [1561, 0.5773502691896258], [1635, 0.5773502691896258], [1882, 0.5773502691896258], [2969, 0.5773502691896258], [3083, 0.5773502691896258], [3396, 0.5773502691896258], [3809, 0.5773502691896258], [4017, 0.5773502691896258], [4269, 0.5773502691896258], [664, 0.5], [680, 0.5], [908, 0.5], [1215, 0.5], [1461, 0.5], [2209, 0.5], [3115, 0.5], [3581, 0.5], [3595, 0.5], [4028, 0.5], [4626, 0.5], [4696, 0.5], [4970, 0.5], [671, 0.4472135954999579], [753, 0.4472135954999579], [874, 0.4472135954999579], [1007, 0.4472135954999579], [1023, 0.4472135954999579], [1061, 0.4472135954999579], [1270, 0.4472135954999579], [3672, 0.4472135954999579], [3714, 0.4472135954999579], [3824, 0.4472135954999579], [4794, 0.4472135954999579], [4995, 0.4472135954999579], [441, 0.4082482904638631], [714, 0.4082482904638631], [1087, 0.4082482904638631], [1225, 0.4082482904638631], [1476, 0.4082482904638631], [1509, 0.4082482904638631], [3391, 0.4082482904638631], [3402, 0.4082482904638631], [3499, 0.4082482904638631], [4108, 0.4082482904638631], [4373, 0.4082482904638631], [104, 0.3779644730092272], [702, 0.3779644730092272], [1057, 0.3779644730092272], [4371, 0.3779644730092272], [4426, 0.3779644730092272], [89, 0.35355339059327373], [758, 0.35355339059327373], [1114, 0.35355339059327373], [1302, 0.35355339059327373], [3063, 0.35355339059327373], [508, 0.3333333333333333], [2901, 0.3333333333333333], [4085, 0.3333333333333333], [4577, 0.3333333333333333], [15, 0.31622776601683794], [48, 0.31622776601683794], [699, 0.31622776601683794], [932, 0.31622776601683794], [3015, 0.31622776601683794], [4389, 0.31622776601683794], [4680, 0.31622776601683794], [4689, 0.31622776601683794], [4862, 0.31622776601683794], [403, 0.30151134457776363], [469, 0.30151134457776363], [797, 0.30151134457776363], [1150, 0.30151134457776363], [3346, 0.30151134457776363], [3727, 0.30151134457776363], [886, 0.2886751345948129], [972, 0.2886751345948129], [1674, 0.2886751345948129], [3724, 0.2886751345948129], [3420, 0.2773500981126146], [3644, 0.2773500981126146], [3671, 0.2773500981126146], [568, 0.2672612419124244], [582, 0.2672612419124244], [938, 0.2672612419124244], [2993, 0.2672612419124244], [3835, 0.2672612419124244], [209, 0.2581988897471611], [280, 0.2581988897471611], [755, 0.2581988897471611], [2989, 0.2581988897471611], [3636, 0.2581988897471611], [4225, 0.2581988897471611], [733, 0.25], [854, 0.25], [1110, 0.25], [3124, 0.25], [4010, 0.25], [4904, 0.25], [217, 0.24253562503633297], [1384, 0.24253562503633297], [1633, 0.24253562503633297], [3176, 0.24253562503633297], [3338, 0.24253562503633297], [3535, 0.24253562503633297], [4872, 0.24253562503633297], [4909, 0.24253562503633297], [6, 0.23570226039551587], [65, 0.23570226039551587], [107, 0.23570226039551587], [375, 0.23570226039551587], [681, 0.23570226039551587], [1082, 0.23570226039551587], [1172, 0.23570226039551587], [927, 0.22941573387056174], [4788, 0.22941573387056174], [4842, 0.22941573387056174], [5077, 0.22941573387056174], [261, 0.22360679774997896], [697, 0.22360679774997896], [2908, 0.2182178902359924], [745, 0.21320071635561041], [4323, 0.21320071635561041], [134, 0.20851441405707477], [1068, 0.20851441405707477], [4161, 0.20851441405707477], [4274, 0.20851441405707477], [4449, 0.20851441405707477], [438, 0.20412414523193154], [471, 0.20412414523193154], [4876, 0.20412414523193154], [346, 0.2], [521, 0.2], [1240, 0.2], [4241, 0.2], [4824, 0.2], [4, 0.19611613513818404], [28, 0.19611613513818404], [1163, 0.19611613513818404], [3414, 0.19611613513818404], [4137, 0.19245008972987526], [4145, 0.19245008972987526], [55, 0.18569533817705186], [722, 0.18569533817705186], [3417, 0.18569533817705186], [3966, 0.18569533817705186], [11, 0.18257418583505536], [3058, 0.18257418583505536], [538, 0.1796053020267749], [4494, 0.1796053020267749], [313, 0.17677669529663687], [5079, 0.17407765595569785], [1897, 0.17149858514250882], [214, 0.16666666666666666], [3695, 0.1643989873053573], [3898, 0.1643989873053573], [319, 0.16222142113076254], [479, 0.16222142113076254], [2981, 0.16222142113076254], [362, 0.16012815380508713], [3, 0.15811388300841897], [3353, 0.15811388300841897], [4484, 0.15617376188860607], [665, 0.15249857033260467], [4642, 0.15249857033260467], [754, 0.15075567228888181], [3637, 0.15075567228888181], [67, 0.14907119849998599], [256, 0.14907119849998599], [3856, 0.14907119849998599], [4293, 0.14907119849998599], [696, 0.14586499149789456], [45, 0.1386750490563073], [3500, 0.1386750490563073], [4755, 0.13483997249264842], [765, 0.13245323570650439], [52, 0.13130643285972254], [242, 0.13018891098082389], [3596, 0.13018891098082389], [3910, 0.12909944487358055], [5138, 0.11867816581938533], [204, 0.11785113019775793], [203, 0.10206207261596577], [4459, 0.10206207261596577], [98, 0.10153461651336192], [3764, 0.10153461651336192], [3697, 0.1], [49, 0.09950371902099892], [23, 0.08606629658238704], [3782, 0.08606629658238704], [1, 0.0], [2, 0.0], [5, 0.0], [7, 0.0], [8, 0.0], [9, 0.0], [10, 0.0], [12, 0.0], [13, 0.0], [14, 0.0], [17, 0.0], [19, 0.0], [20, 0.0], [21, 0.0], [22, 0.0], [24, 0.0], [25, 0.0], [26, 0.0], [27, 0.0], [29, 0.0], [30, 0.0], [31, 0.0], [32, 0.0], [33, 0.0], [34, 0.0], [35, 0.0], [36, 0.0], [37, 0.0], [38, 0.0], [39, 0.0], [40, 0.0], [41, 0.0], [42, 0.0], [43, 0.0], [44, 0.0], [46, 0.0], [47, 0.0], [50, 0.0], [51, 0.0], [53, 0.0], [54, 0.0], [56, 0.0], [57, 0.0], [58, 0.0], [59, 0.0], [60, 0.0], [61, 0.0], [62, 0.0], [63, 0.0], [64, 0.0], [66, 0.0], [68, 0.0], [69, 0.0], [70, 0.0], [71, 0.0], [72, 0.0], [73, 0.0], [74, 0.0], [75, 0.0], [76, 0.0], [77, 0.0], [78, 0.0], [79, 0.0], [80, 0.0], [81, 0.0], [82, 0.0], [83, 0.0], [84, 0.0], [85, 0.0], [86, 0.0], [87, 0.0], [88, 0.0], [90, 0.0], [91, 0.0], [92, 0.0], [94, 0.0], [95, 0.0], [96, 0.0], [97, 0.0], [99, 0.0], [100, 0.0], [101, 0.0], [102, 0.0], [103, 0.0], [105, 0.0], [106, 0.0], [108, 0.0], [109, 0.0], [110, 0.0], [111, 0.0], [112, 0.0], [113, 0.0], [114, 0.0], [115, 0.0], [116, 0.0], [117, 0.0], [118, 0.0], [119, 0.0], [120, 0.0], [121, 0.0], [122, 0.0], [124, 0.0], [125, 0.0], [126, 0.0], [127, 0.0], [129, 0.0], [130, 0.0], [131, 0.0], [132, 0.0], [133, 0.0], [135, 0.0], [136, 0.0], [137, 0.0], [138, 0.0], [139, 0.0], [140, 0.0], [141, 0.0], [142, 0.0], [143, 0.0], [144, 0.0], [145, 0.0], [146, 0.0], [147, 0.0], [148, 0.0], [149, 0.0], [150, 0.0], [151, 0.0], [152, 0.0], [153, 0.0], [154, 0.0], [155, 0.0], [156, 0.0], [157, 0.0], [158, 0.0], [159, 0.0], [160, 0.0], [161, 0.0], [162, 0.0], [163, 0.0], [164, 0.0], [165, 0.0], [166, 0.0], [167, 0.0], [168, 0.0], [169, 0.0], [170, 0.0], [171, 0.0], [172, 0.0], [173, 0.0], [174, 0.0], [175, 0.0], [176, 0.0], [178, 0.0], [179, 0.0], [180, 0.0], [181, 0.0], [182, 0.0], [183, 0.0], [184, 0.0], [185, 0.0], [186, 0.0], [187, 0.0], [188, 0.0], [189, 0.0], [190, 0.0], [191, 0.0], [192, 0.0], [193, 0.0], [194, 0.0], [195, 0.0], [196, 0.0], [197, 0.0], [198, 0.0], [199, 0.0], [200, 0.0], [201, 0.0], [202, 0.0], [205, 0.0], [206, 0.0], [207, 0.0], [208, 0.0], [210, 0.0], [211, 0.0], [212, 0.0], [213, 0.0], [215, 0.0], [216, 0.0], [218, 0.0], [219, 0.0], [220, 0.0], [221, 0.0], [222, 0.0], [223, 0.0], [224, 0.0], [225, 0.0], [226, 0.0], [227, 0.0], [228, 0.0], [229, 0.0], [230, 0.0], [231, 0.0], [232, 0.0], [233, 0.0], [234, 0.0], [235, 0.0], [236, 0.0], [237, 0.0], [238, 0.0], [239, 0.0], [240, 0.0], [241, 0.0], [243, 0.0], [244, 0.0], [245, 0.0], [246, 0.0], [247, 0.0], [248, 0.0], [249, 0.0], [250, 0.0], [251, 0.0], [252, 0.0], [253, 0.0], [254, 0.0], [255, 0.0], [257, 0.0], [258, 0.0], [259, 0.0], [260, 0.0], [262, 0.0], [263, 0.0], [264, 0.0], [265, 0.0], [266, 0.0], [267, 0.0], [268, 0.0], [269, 0.0], [270, 0.0], [271, 0.0], [272, 0.0], [273, 0.0], [274, 0.0], [275, 0.0], [276, 0.0], [277, 0.0], [278, 0.0], [279, 0.0], [281, 0.0], [282, 0.0], [283, 0.0], [284, 0.0], [285, 0.0], [286, 0.0], [287, 0.0], [288, 0.0], [289, 0.0], [290, 0.0], [291, 0.0], [292, 0.0], [293, 0.0], [294, 0.0], [295, 0.0], [296, 0.0], [297, 0.0], [298, 0.0], [299, 0.0], [300, 0.0], [301, 0.0], [302, 0.0], [303, 0.0], [304, 0.0], [305, 0.0], [306, 0.0], [307, 0.0], [308, 0.0], [309, 0.0], [310, 0.0], [311, 0.0], [312, 0.0], [314, 0.0], [315, 0.0], [316, 0.0], [317, 0.0], [318, 0.0], [320, 0.0], [321, 0.0], [322, 0.0], [323, 0.0], [324, 0.0], [325, 0.0], [326, 0.0], [327, 0.0], [328, 0.0], [329, 0.0], [330, 0.0], [331, 0.0], [332, 0.0], [333, 0.0], [334, 0.0], [335, 0.0], [336, 0.0], [337, 0.0], [338, 0.0], [339, 0.0], [340, 0.0], [341, 0.0], [342, 0.0], [343, 0.0], [344, 0.0], [345, 0.0], [347, 0.0], [348, 0.0], [349, 0.0], [350, 0.0], [351, 0.0], [352, 0.0], [353, 0.0], [354, 0.0], [355, 0.0], [356, 0.0], [357, 0.0], [358, 0.0], [359, 0.0], [360, 0.0], [361, 0.0], [363, 0.0], [364, 0.0], [365, 0.0], [366, 0.0], [367, 0.0], [368, 0.0], [369, 0.0], [370, 0.0], [371, 0.0], [372, 0.0], [373, 0.0], [374, 0.0], [376, 0.0], [377, 0.0], [378, 0.0], [379, 0.0], [380, 0.0], [381, 0.0], [382, 0.0], [383, 0.0], [384, 0.0], [385, 0.0], [386, 0.0], [387, 0.0], [388, 0.0], [389, 0.0], [390, 0.0], [391, 0.0], [392, 0.0], [393, 0.0], [394, 0.0], [395, 0.0], [396, 0.0], [397, 0.0], [398, 0.0], [399, 0.0], [400, 0.0], [401, 0.0], [402, 0.0], [404, 0.0], [405, 0.0], [406, 0.0], [407, 0.0], [408, 0.0], [409, 0.0], [410, 0.0], [411, 0.0], [412, 0.0], [413, 0.0], [414, 0.0], [415, 0.0], [416, 0.0], [417, 0.0], [418, 0.0], [419, 0.0], [420, 0.0], [421, 0.0], [422, 0.0], [423, 0.0], [424, 0.0], [425, 0.0], [426, 0.0], [427, 0.0], [428, 0.0], [429, 0.0], [430, 0.0], [431, 0.0], [432, 0.0], [433, 0.0], [434, 0.0], [435, 0.0], [436, 0.0], [437, 0.0], [439, 0.0], [440, 0.0], [442, 0.0], [443, 0.0], [444, 0.0], [445, 0.0], [446, 0.0], [447, 0.0], [448, 0.0], [449, 0.0], [450, 0.0], [451, 0.0], [452, 0.0], [453, 0.0], [454, 0.0], [455, 0.0], [456, 0.0], [457, 0.0], [458, 0.0], [459, 0.0], [460, 0.0], [461, 0.0], [462, 0.0], [463, 0.0], [464, 0.0], [465, 0.0], [466, 0.0], [467, 0.0], [468, 0.0], [470, 0.0], [472, 0.0], [473, 0.0], [474, 0.0], [475, 0.0], [476, 0.0], [477, 0.0], [478, 0.0], [480, 0.0], [481, 0.0], [482, 0.0], [483, 0.0], [484, 0.0], [485, 0.0], [486, 0.0], [487, 0.0], [488, 0.0], [489, 0.0], [490, 0.0], [491, 0.0], [492, 0.0], [493, 0.0], [494, 0.0], [495, 0.0], [496, 0.0], [497, 0.0], [498, 0.0], [499, 0.0], [500, 0.0], [501, 0.0], [502, 0.0], [503, 0.0], [504, 0.0], [505, 0.0], [506, 0.0], [507, 0.0], [509, 0.0], [510, 0.0], [511, 0.0], [512, 0.0], [513, 0.0], [514, 0.0], [515, 0.0], [516, 0.0], [517, 0.0], [518, 0.0], [519, 0.0], [520, 0.0], [522, 0.0], [523, 0.0], [524, 0.0], [525, 0.0], [526, 0.0], [527, 0.0], [528, 0.0], [529, 0.0], [530, 0.0], [531, 0.0], [532, 0.0], [533, 0.0], [534, 0.0], [535, 0.0], [536, 0.0], [537, 0.0], [539, 0.0], [540, 0.0], [541, 0.0], [542, 0.0], [543, 0.0], [544, 0.0], [545, 0.0], [546, 0.0], [547, 0.0], [548, 0.0], [549, 0.0], [550, 0.0], [551, 0.0], [552, 0.0], [553, 0.0], [554, 0.0], [555, 0.0], [556, 0.0], [557, 0.0], [558, 0.0], [559, 0.0], [560, 0.0], [561, 0.0], [562, 0.0], [563, 0.0], [564, 0.0], [565, 0.0], [566, 0.0], [567, 0.0], [569, 0.0], [570, 0.0], [571, 0.0], [572, 0.0], [573, 0.0], [574, 0.0], [575, 0.0], [576, 0.0], [577, 0.0], [578, 0.0], [579, 0.0], [580, 0.0], [581, 0.0], [583, 0.0], [584, 0.0], [585, 0.0], [586, 0.0], [587, 0.0], [588, 0.0], [589, 0.0], [590, 0.0], [591, 0.0], [592, 0.0], [593, 0.0], [594, 0.0], [595, 0.0], [596, 0.0], [597, 0.0], [598, 0.0], [599, 0.0], [600, 0.0], [601, 0.0], [602, 0.0], [603, 0.0], [604, 0.0], [605, 0.0], [606, 0.0], [607, 0.0], [608, 0.0], [609, 0.0], [610, 0.0], [611, 0.0], [612, 0.0], [613, 0.0], [614, 0.0], [615, 0.0], [616, 0.0], [617, 0.0], [618, 0.0], [619, 0.0], [620, 0.0], [621, 0.0], [622, 0.0], [623, 0.0], [624, 0.0], [625, 0.0], [626, 0.0], [627, 0.0], [628, 0.0], [629, 0.0], [630, 0.0], [631, 0.0], [632, 0.0], [633, 0.0], [634, 0.0], [635, 0.0], [636, 0.0], [637, 0.0], [638, 0.0], [639, 0.0], [640, 0.0], [641, 0.0], [642, 0.0], [643, 0.0], [644, 0.0], [645, 0.0], [646, 0.0], [647, 0.0], [648, 0.0], [649, 0.0], [650, 0.0], [651, 0.0], [652, 0.0], [653, 0.0], [654, 0.0], [655, 0.0], [656, 0.0], [658, 0.0], [659, 0.0], [660, 0.0], [661, 0.0], [662, 0.0], [663, 0.0], [666, 0.0], [667, 0.0], [668, 0.0], [669, 0.0], [670, 0.0], [672, 0.0], [673, 0.0], [674, 0.0], [675, 0.0], [676, 0.0], [677, 0.0], [678, 0.0], [679, 0.0], [682, 0.0], [683, 0.0], [684, 0.0], [685, 0.0], [686, 0.0], [687, 0.0], [688, 0.0], [689, 0.0], [690, 0.0], [691, 0.0], [692, 0.0], [693, 0.0], [694, 0.0], [695, 0.0], [698, 0.0], [700, 0.0], [701, 0.0], [703, 0.0], [704, 0.0], [705, 0.0], [706, 0.0], [707, 0.0], [708, 0.0], [709, 0.0], [710, 0.0], [711, 0.0], [712, 0.0], [713, 0.0], [715, 0.0], [716, 0.0], [717, 0.0], [718, 0.0], [719, 0.0], [720, 0.0], [721, 0.0], [723, 0.0], [725, 0.0], [726, 0.0], [727, 0.0], [728, 0.0], [729, 0.0], [730, 0.0], [731, 0.0], [732, 0.0], [734, 0.0], [735, 0.0], [736, 0.0], [737, 0.0], [738, 0.0], [739, 0.0], [740, 0.0], [741, 0.0], [742, 0.0], [743, 0.0], [744, 0.0], [746, 0.0], [747, 0.0], [748, 0.0], [749, 0.0], [750, 0.0], [751, 0.0], [752, 0.0], [756, 0.0], [757, 0.0], [759, 0.0], [760, 0.0], [761, 0.0], [762, 0.0], [763, 0.0], [764, 0.0], [766, 0.0], [767, 0.0], [768, 0.0], [769, 0.0], [770, 0.0], [771, 0.0], [772, 0.0], [773, 0.0], [774, 0.0], [775, 0.0], [776, 0.0], [777, 0.0], [778, 0.0], [779, 0.0], [780, 0.0], [781, 0.0], [782, 0.0], [783, 0.0], [784, 0.0], [785, 0.0], [786, 0.0], [787, 0.0], [788, 0.0], [789, 0.0], [790, 0.0], [791, 0.0], [792, 0.0], [793, 0.0], [794, 0.0], [795, 0.0], [796, 0.0], [798, 0.0], [799, 0.0], [800, 0.0], [801, 0.0], [802, 0.0], [803, 0.0], [804, 0.0], [805, 0.0], [806, 0.0], [807, 0.0], [808, 0.0], [809, 0.0], [810, 0.0], [811, 0.0], [812, 0.0], [813, 0.0], [814, 0.0], [815, 0.0], [816, 0.0], [817, 0.0], [819, 0.0], [820, 0.0], [821, 0.0], [822, 0.0], [823, 0.0], [824, 0.0], [825, 0.0], [826, 0.0], [827, 0.0], [828, 0.0], [829, 0.0], [830, 0.0], [831, 0.0], [832, 0.0], [833, 0.0], [834, 0.0], [835, 0.0], [836, 0.0], [837, 0.0], [838, 0.0], [839, 0.0], [840, 0.0], [841, 0.0], [842, 0.0], [843, 0.0], [844, 0.0], [845, 0.0], [846, 0.0], [847, 0.0], [848, 0.0], [849, 0.0], [850, 0.0], [851, 0.0], [852, 0.0], [853, 0.0], [855, 0.0], [856, 0.0], [857, 0.0], [858, 0.0], [859, 0.0], [860, 0.0], [861, 0.0], [862, 0.0], [863, 0.0], [864, 0.0], [865, 0.0], [866, 0.0], [867, 0.0], [868, 0.0], [869, 0.0], [870, 0.0], [871, 0.0], [872, 0.0], [873, 0.0], [875, 0.0], [876, 0.0], [877, 0.0], [878, 0.0], [879, 0.0], [880, 0.0], [881, 0.0], [882, 0.0], [883, 0.0], [884, 0.0], [885, 0.0], [887, 0.0], [888, 0.0], [889, 0.0], [890, 0.0], [891, 0.0], [892, 0.0], [893, 0.0], [895, 0.0], [896, 0.0], [897, 0.0], [898, 0.0], [899, 0.0], [900, 0.0], [901, 0.0], [902, 0.0], [904, 0.0], [905, 0.0], [906, 0.0], [907, 0.0], [909, 0.0], [910, 0.0], [911, 0.0], [912, 0.0], [913, 0.0], [914, 0.0], [915, 0.0], [916, 0.0], [917, 0.0], [918, 0.0], [919, 0.0], [920, 0.0], [921, 0.0], [922, 0.0], [923, 0.0], [924, 0.0], [925, 0.0], [926, 0.0], [928, 0.0], [929, 0.0], [930, 0.0], [931, 0.0], [933, 0.0], [934, 0.0], [935, 0.0], [936, 0.0], [937, 0.0], [939, 0.0], [940, 0.0], [941, 0.0], [942, 0.0], [943, 0.0], [944, 0.0], [945, 0.0], [946, 0.0], [948, 0.0], [949, 0.0], [950, 0.0], [951, 0.0], [952, 0.0], [953, 0.0], [954, 0.0], [955, 0.0], [956, 0.0], [957, 0.0], [958, 0.0], [959, 0.0], [960, 0.0], [961, 0.0], [962, 0.0], [963, 0.0], [964, 0.0], [965, 0.0], [966, 0.0], [967, 0.0], [968, 0.0], [969, 0.0], [970, 0.0], [971, 0.0], [973, 0.0], [974, 0.0], [975, 0.0], [976, 0.0], [977, 0.0], [978, 0.0], [979, 0.0], [980, 0.0], [981, 0.0], [982, 0.0], [983, 0.0], [984, 0.0], [985, 0.0], [986, 0.0], [987, 0.0], [988, 0.0], [989, 0.0], [990, 0.0], [991, 0.0], [992, 0.0], [993, 0.0], [994, 0.0], [995, 0.0], [996, 0.0], [997, 0.0], [998, 0.0], [999, 0.0], [1000, 0.0], [1001, 0.0], [1002, 0.0], [1003, 0.0], [1004, 0.0], [1005, 0.0], [1006, 0.0], [1008, 0.0], [1009, 0.0], [1010, 0.0], [1011, 0.0], [1012, 0.0], [1013, 0.0], [1014, 0.0], [1015, 0.0], [1016, 0.0], [1017, 0.0], [1018, 0.0], [1019, 0.0], [1020, 0.0], [1021, 0.0], [1022, 0.0], [1024, 0.0], [1025, 0.0], [1026, 0.0], [1027, 0.0], [1028, 0.0], [1029, 0.0], [1030, 0.0], [1031, 0.0], [1032, 0.0], [1033, 0.0], [1034, 0.0], [1035, 0.0], [1036, 0.0], [1037, 0.0], [1038, 0.0], [1039, 0.0], [1040, 0.0], [1041, 0.0], [1042, 0.0], [1043, 0.0], [1044, 0.0], [1045, 0.0], [1046, 0.0], [1047, 0.0], [1048, 0.0], [1049, 0.0], [1050, 0.0], [1051, 0.0], [1052, 0.0], [1053, 0.0], [1054, 0.0], [1055, 0.0], [1056, 0.0], [1058, 0.0], [1059, 0.0], [1060, 0.0], [1062, 0.0], [1063, 0.0], [1064, 0.0], [1065, 0.0], [1066, 0.0], [1067, 0.0], [1069, 0.0], [1070, 0.0], [1071, 0.0], [1072, 0.0], [1073, 0.0], [1075, 0.0], [1076, 0.0], [1078, 0.0], [1079, 0.0], [1080, 0.0], [1081, 0.0], [1083, 0.0], [1084, 0.0], [1085, 0.0], [1086, 0.0], [1088, 0.0], [1089, 0.0], [1090, 0.0], [1091, 0.0], [1092, 0.0], [1093, 0.0], [1094, 0.0], [1095, 0.0], [1096, 0.0], [1097, 0.0], [1098, 0.0], [1099, 0.0], [1100, 0.0], [1101, 0.0], [1102, 0.0], [1103, 0.0], [1104, 0.0], [1105, 0.0], [1106, 0.0], [1107, 0.0], [1108, 0.0], [1109, 0.0], [1111, 0.0], [1112, 0.0], [1113, 0.0], [1115, 0.0], [1116, 0.0], [1117, 0.0], [1118, 0.0], [1119, 0.0], [1120, 0.0], [1121, 0.0], [1122, 0.0], [1123, 0.0], [1124, 0.0], [1125, 0.0], [1126, 0.0], [1127, 0.0], [1128, 0.0], [1129, 0.0], [1130, 0.0], [1131, 0.0], [1132, 0.0], [1133, 0.0], [1134, 0.0], [1135, 0.0], [1136, 0.0], [1137, 0.0], [1138, 0.0], [1139, 0.0], [1140, 0.0], [1141, 0.0], [1142, 0.0], [1143, 0.0], [1144, 0.0], [1145, 0.0], [1146, 0.0], [1147, 0.0], [1148, 0.0], [1149, 0.0], [1151, 0.0], [1152, 0.0], [1153, 0.0], [1154, 0.0], [1155, 0.0], [1156, 0.0], [1157, 0.0], [1158, 0.0], [1159, 0.0], [1160, 0.0], [1161, 0.0], [1162, 0.0], [1165, 0.0], [1166, 0.0], [1167, 0.0], [1168, 0.0], [1169, 0.0], [1170, 0.0], [1171, 0.0], [1173, 0.0], [1174, 0.0], [1175, 0.0], [1176, 0.0], [1177, 0.0], [1178, 0.0], [1179, 0.0], [1180, 0.0], [1181, 0.0], [1182, 0.0], [1183, 0.0], [1184, 0.0], [1185, 0.0], [1186, 0.0], [1187, 0.0], [1188, 0.0], [1189, 0.0], [1190, 0.0], [1191, 0.0], [1192, 0.0], [1193, 0.0], [1194, 0.0], [1195, 0.0], [1196, 0.0], [1197, 0.0], [1198, 0.0], [1199, 0.0], [1200, 0.0], [1201, 0.0], [1202, 0.0], [1203, 0.0], [1204, 0.0], [1205, 0.0], [1206, 0.0], [1207, 0.0], [1208, 0.0], [1209, 0.0], [1210, 0.0], [1211, 0.0], [1212, 0.0], [1213, 0.0], [1214, 0.0], [1216, 0.0], [1217, 0.0], [1218, 0.0], [1219, 0.0], [1220, 0.0], [1221, 0.0], [1222, 0.0], [1223, 0.0], [1224, 0.0], [1226, 0.0], [1227, 0.0], [1228, 0.0], [1229, 0.0], [1230, 0.0], [1231, 0.0], [1232, 0.0], [1233, 0.0], [1234, 0.0], [1235, 0.0], [1236, 0.0], [1237, 0.0], [1238, 0.0], [1241, 0.0], [1242, 0.0], [1243, 0.0], [1244, 0.0], [1245, 0.0], [1246, 0.0], [1247, 0.0], [1248, 0.0], [1249, 0.0], [1250, 0.0], [1251, 0.0], [1252, 0.0], [1253, 0.0], [1254, 0.0], [1255, 0.0], [1256, 0.0], [1257, 0.0], [1258, 0.0], [1259, 0.0], [1260, 0.0], [1261, 0.0], [1262, 0.0], [1263, 0.0], [1264, 0.0], [1265, 0.0], [1266, 0.0], [1267, 0.0], [1268, 0.0], [1269, 0.0], [1271, 0.0], [1272, 0.0], [1273, 0.0], [1274, 0.0], [1275, 0.0], [1276, 0.0], [1277, 0.0], [1278, 0.0], [1279, 0.0], [1280, 0.0], [1281, 0.0], [1282, 0.0], [1283, 0.0], [1284, 0.0], [1285, 0.0], [1286, 0.0], [1287, 0.0], [1288, 0.0], [1289, 0.0], [1290, 0.0], [1291, 0.0], [1292, 0.0], [1293, 0.0], [1294, 0.0], [1295, 0.0], [1296, 0.0], [1297, 0.0], [1298, 0.0], [1299, 0.0], [1300, 0.0], [1301, 0.0], [1303, 0.0], [1304, 0.0], [1305, 0.0], [1306, 0.0], [1307, 0.0], [1308, 0.0], [1309, 0.0], [1310, 0.0], [1311, 0.0], [1312, 0.0], [1313, 0.0], [1314, 0.0], [1315, 0.0], [1316, 0.0], [1317, 0.0], [1318, 0.0], [1319, 0.0], [1320, 0.0], [1321, 0.0], [1322, 0.0], [1323, 0.0], [1324, 0.0], [1325, 0.0], [1326, 0.0], [1327, 0.0], [1328, 0.0], [1329, 0.0], [1330, 0.0], [1331, 0.0], [1332, 0.0], [1333, 0.0], [1334, 0.0], [1335, 0.0], [1336, 0.0], [1337, 0.0], [1338, 0.0], [1339, 0.0], [1340, 0.0], [1341, 0.0], [1342, 0.0], [1343, 0.0], [1344, 0.0], [1345, 0.0], [1346, 0.0], [1347, 0.0], [1348, 0.0], [1349, 0.0], [1350, 0.0], [1351, 0.0], [1352, 0.0], [1353, 0.0], [1354, 0.0], [1355, 0.0], [1356, 0.0], [1357, 0.0], [1358, 0.0], [1360, 0.0], [1361, 0.0], [1362, 0.0], [1363, 0.0], [1364, 0.0], [1365, 0.0], [1366, 0.0], [1367, 0.0], [1368, 0.0], [1369, 0.0], [1370, 0.0], [1372, 0.0], [1373, 0.0], [1374, 0.0], [1376, 0.0], [1377, 0.0], [1378, 0.0], [1379, 0.0], [1380, 0.0], [1381, 0.0], [1382, 0.0], [1383, 0.0], [1385, 0.0], [1386, 0.0], [1387, 0.0], [1388, 0.0], [1389, 0.0], [1390, 0.0], [1391, 0.0], [1392, 0.0], [1393, 0.0], [1394, 0.0], [1395, 0.0], [1396, 0.0], [1397, 0.0], [1398, 0.0], [1399, 0.0], [1400, 0.0], [1401, 0.0], [1402, 0.0], [1403, 0.0], [1404, 0.0], [1405, 0.0], [1406, 0.0], [1407, 0.0], [1408, 0.0], [1409, 0.0], [1410, 0.0], [1411, 0.0], [1412, 0.0], [1413, 0.0], [1414, 0.0], [1415, 0.0], [1416, 0.0], [1417, 0.0], [1418, 0.0], [1419, 0.0], [1421, 0.0], [1422, 0.0], [1423, 0.0], [1424, 0.0], [1425, 0.0], [1426, 0.0], [1427, 0.0], [1428, 0.0], [1429, 0.0], [1430, 0.0], [1431, 0.0], [1432, 0.0], [1433, 0.0], [1434, 0.0], [1435, 0.0], [1436, 0.0], [1437, 0.0], [1438, 0.0], [1439, 0.0], [1440, 0.0], [1441, 0.0], [1442, 0.0], [1443, 0.0], [1444, 0.0], [1445, 0.0], [1446, 0.0], [1447, 0.0], [1448, 0.0], [1449, 0.0], [1450, 0.0], [1451, 0.0], [1452, 0.0], [1453, 0.0], [1454, 0.0], [1455, 0.0], [1456, 0.0], [1457, 0.0], [1458, 0.0], [1459, 0.0], [1460, 0.0], [1462, 0.0], [1463, 0.0], [1464, 0.0], [1465, 0.0], [1466, 0.0], [1467, 0.0], [1468, 0.0], [1469, 0.0], [1470, 0.0], [1471, 0.0], [1472, 0.0], [1473, 0.0], [1474, 0.0], [1475, 0.0], [1477, 0.0], [1478, 0.0], [1479, 0.0], [1480, 0.0], [1481, 0.0], [1482, 0.0], [1484, 0.0], [1485, 0.0], [1486, 0.0], [1487, 0.0], [1488, 0.0], [1489, 0.0], [1490, 0.0], [1491, 0.0], [1492, 0.0], [1493, 0.0], [1494, 0.0], [1496, 0.0], [1497, 0.0], [1498, 0.0], [1499, 0.0], [1500, 0.0], [1501, 0.0], [1502, 0.0], [1503, 0.0], [1504, 0.0], [1505, 0.0], [1506, 0.0], [1507, 0.0], [1508, 0.0], [1510, 0.0], [1511, 0.0], [1512, 0.0], [1513, 0.0], [1514, 0.0], [1515, 0.0], [1516, 0.0], [1517, 0.0], [1518, 0.0], [1519, 0.0], [1520, 0.0], [1521, 0.0], [1522, 0.0], [1523, 0.0], [1524, 0.0], [1525, 0.0], [1526, 0.0], [1527, 0.0], [1528, 0.0], [1529, 0.0], [1530, 0.0], [1531, 0.0], [1532, 0.0], [1533, 0.0], [1534, 0.0], [1535, 0.0], [1536, 0.0], [1537, 0.0], [1538, 0.0], [1539, 0.0], [1540, 0.0], [1542, 0.0], [1543, 0.0], [1544, 0.0], [1545, 0.0], [1546, 0.0], [1547, 0.0], [1548, 0.0], [1549, 0.0], [1550, 0.0], [1551, 0.0], [1552, 0.0], [1553, 0.0], [1554, 0.0], [1555, 0.0], [1556, 0.0], [1557, 0.0], [1558, 0.0], [1559, 0.0], [1560, 0.0], [1562, 0.0], [1563, 0.0], [1564, 0.0], [1565, 0.0], [1566, 0.0], [1567, 0.0], [1568, 0.0], [1569, 0.0], [1570, 0.0], [1571, 0.0], [1572, 0.0], [1573, 0.0], [1574, 0.0], [1575, 0.0], [1576, 0.0], [1577, 0.0], [1578, 0.0], [1579, 0.0], [1580, 0.0], [1581, 0.0], [1582, 0.0], [1583, 0.0], [1584, 0.0], [1585, 0.0], [1586, 0.0], [1587, 0.0], [1588, 0.0], [1589, 0.0], [1590, 0.0], [1591, 0.0], [1592, 0.0], [1593, 0.0], [1594, 0.0], [1595, 0.0], [1596, 0.0], [1597, 0.0], [1598, 0.0], [1599, 0.0], [1600, 0.0], [1601, 0.0], [1602, 0.0], [1603, 0.0], [1604, 0.0], [1605, 0.0], [1606, 0.0], [1607, 0.0], [1608, 0.0], [1609, 0.0], [1610, 0.0], [1611, 0.0], [1612, 0.0], [1613, 0.0], [1614, 0.0], [1615, 0.0], [1616, 0.0], [1617, 0.0], [1618, 0.0], [1619, 0.0], [1620, 0.0], [1621, 0.0], [1622, 0.0], [1623, 0.0], [1625, 0.0], [1626, 0.0], [1627, 0.0], [1628, 0.0], [1629, 0.0], [1630, 0.0], [1632, 0.0], [1634, 0.0], [1636, 0.0], [1637, 0.0], [1638, 0.0], [1639, 0.0], [1640, 0.0], [1641, 0.0], [1642, 0.0], [1643, 0.0], [1644, 0.0], [1645, 0.0], [1646, 0.0], [1647, 0.0], [1648, 0.0], [1649, 0.0], [1650, 0.0], [1651, 0.0], [1652, 0.0], [1653, 0.0], [1654, 0.0], [1655, 0.0], [1656, 0.0], [1657, 0.0], [1658, 0.0], [1659, 0.0], [1660, 0.0], [1661, 0.0], [1662, 0.0], [1663, 0.0], [1664, 0.0], [1665, 0.0], [1666, 0.0], [1667, 0.0], [1668, 0.0], [1669, 0.0], [1670, 0.0], [1671, 0.0], [1672, 0.0], [1673, 0.0], [1676, 0.0], [1677, 0.0], [1678, 0.0], [1679, 0.0], [1680, 0.0], [1681, 0.0], [1682, 0.0], [1683, 0.0], [1684, 0.0], [1685, 0.0], [1686, 0.0], [1687, 0.0], [1688, 0.0], [1689, 0.0], [1690, 0.0], [1691, 0.0], [1692, 0.0], [1693, 0.0], [1694, 0.0], [1695, 0.0], [1696, 0.0], [1698, 0.0], [1699, 0.0], [1700, 0.0], [1701, 0.0], [1702, 0.0], [1703, 0.0], [1704, 0.0], [1705, 0.0], [1706, 0.0], [1707, 0.0], [1708, 0.0], [1709, 0.0], [1710, 0.0], [1711, 0.0], [1712, 0.0], [1713, 0.0], [1714, 0.0], [1715, 0.0], [1716, 0.0], [1717, 0.0], [1718, 0.0], [1719, 0.0], [1720, 0.0], [1721, 0.0], [1722, 0.0], [1723, 0.0], [1724, 0.0], [1725, 0.0], [1726, 0.0], [1727, 0.0], [1728, 0.0], [1729, 0.0], [1730, 0.0], [1731, 0.0], [1732, 0.0], [1733, 0.0], [1734, 0.0], [1735, 0.0], [1736, 0.0], [1737, 0.0], [1738, 0.0], [1739, 0.0], [1740, 0.0], [1741, 0.0], [1742, 0.0], [1743, 0.0], [1744, 0.0], [1745, 0.0], [1746, 0.0], [1747, 0.0], [1748, 0.0], [1749, 0.0], [1750, 0.0], [1751, 0.0], [1752, 0.0], [1753, 0.0], [1754, 0.0], [1755, 0.0], [1756, 0.0], [1757, 0.0], [1758, 0.0], [1759, 0.0], [1760, 0.0], [1761, 0.0], [1762, 0.0], [1763, 0.0], [1764, 0.0], [1765, 0.0], [1766, 0.0], [1767, 0.0], [1768, 0.0], [1769, 0.0], [1770, 0.0], [1771, 0.0], [1772, 0.0], [1773, 0.0], [1774, 0.0], [1775, 0.0], [1776, 0.0], [1777, 0.0], [1778, 0.0], [1779, 0.0], [1780, 0.0], [1782, 0.0], [1783, 0.0], [1784, 0.0], [1785, 0.0], [1786, 0.0], [1787, 0.0], [1788, 0.0], [1789, 0.0], [1790, 0.0], [1791, 0.0], [1792, 0.0], [1793, 0.0], [1794, 0.0], [1795, 0.0], [1796, 0.0], [1797, 0.0], [1798, 0.0], [1799, 0.0], [1800, 0.0], [1801, 0.0], [1802, 0.0], [1803, 0.0], [1804, 0.0], [1805, 0.0], [1806, 0.0], [1807, 0.0], [1808, 0.0], [1809, 0.0], [1810, 0.0], [1811, 0.0], [1812, 0.0], [1813, 0.0], [1814, 0.0], [1815, 0.0], [1816, 0.0], [1817, 0.0], [1818, 0.0], [1819, 0.0], [1820, 0.0], [1821, 0.0], [1822, 0.0], [1823, 0.0], [1824, 0.0], [1825, 0.0], [1826, 0.0], [1827, 0.0], [1828, 0.0], [1829, 0.0], [1830, 0.0], [1831, 0.0], [1832, 0.0], [1833, 0.0], [1834, 0.0], [1835, 0.0], [1836, 0.0], [1837, 0.0], [1838, 0.0], [1839, 0.0], [1840, 0.0], [1841, 0.0], [1842, 0.0], [1843, 0.0], [1844, 0.0], [1845, 0.0], [1846, 0.0], [1847, 0.0], [1848, 0.0], [1849, 0.0], [1850, 0.0], [1851, 0.0], [1852, 0.0], [1853, 0.0], [1854, 0.0], [1855, 0.0], [1856, 0.0], [1857, 0.0], [1858, 0.0], [1859, 0.0], [1860, 0.0], [1861, 0.0], [1862, 0.0], [1863, 0.0], [1864, 0.0], [1865, 0.0], [1866, 0.0], [1867, 0.0], [1868, 0.0], [1869, 0.0], [1870, 0.0], [1871, 0.0], [1872, 0.0], [1873, 0.0], [1874, 0.0], [1875, 0.0], [1876, 0.0], [1877, 0.0], [1878, 0.0], [1879, 0.0], [1880, 0.0], [1881, 0.0], [1883, 0.0], [1884, 0.0], [1885, 0.0], [1886, 0.0], [1887, 0.0], [1888, 0.0], [1889, 0.0], [1890, 0.0], [1891, 0.0], [1893, 0.0], [1894, 0.0], [1895, 0.0], [1896, 0.0], [1898, 0.0], [1899, 0.0], [1900, 0.0], [1901, 0.0], [1902, 0.0], [1903, 0.0], [1904, 0.0], [1905, 0.0], [1906, 0.0], [1907, 0.0], [1908, 0.0], [1909, 0.0], [1910, 0.0], [1911, 0.0], [1912, 0.0], [1913, 0.0], [1914, 0.0], [1915, 0.0], [1916, 0.0], [1917, 0.0], [1918, 0.0], [1919, 0.0], [1920, 0.0], [1921, 0.0], [1922, 0.0], [1923, 0.0], [1924, 0.0], [1925, 0.0], [1926, 0.0], [1927, 0.0], [1928, 0.0], [1931, 0.0], [1932, 0.0], [1933, 0.0], [1934, 0.0], [1935, 0.0], [1936, 0.0], [1937, 0.0], [1938, 0.0], [1939, 0.0], [1940, 0.0], [1941, 0.0], [1942, 0.0], [1943, 0.0], [1944, 0.0], [1945, 0.0], [1946, 0.0], [1947, 0.0], [1948, 0.0], [1949, 0.0], [1950, 0.0], [1951, 0.0], [1952, 0.0], [1953, 0.0], [1954, 0.0], [1955, 0.0], [1956, 0.0], [1957, 0.0], [1958, 0.0], [1959, 0.0], [1960, 0.0], [1961, 0.0], [1962, 0.0], [1963, 0.0], [1964, 0.0], [1965, 0.0], [1967, 0.0], [1968, 0.0], [1969, 0.0], [1970, 0.0], [1971, 0.0], [1972, 0.0], [1973, 0.0], [1974, 0.0], [1975, 0.0], [1976, 0.0], [1977, 0.0], [1978, 0.0], [1979, 0.0], [1980, 0.0], [1981, 0.0], [1982, 0.0], [1983, 0.0], [1984, 0.0], [1985, 0.0], [1986, 0.0], [1987, 0.0], [1988, 0.0], [1989, 0.0], [1990, 0.0], [1991, 0.0], [1992, 0.0], [1993, 0.0], [1994, 0.0], [1995, 0.0], [1996, 0.0], [1997, 0.0], [1998, 0.0], [1999, 0.0], [2000, 0.0], [2001, 0.0], [2002, 0.0], [2003, 0.0], [2004, 0.0], [2005, 0.0], [2006, 0.0], [2007, 0.0], [2008, 0.0], [2009, 0.0], [2010, 0.0], [2011, 0.0], [2012, 0.0], [2013, 0.0], [2014, 0.0], [2015, 0.0], [2016, 0.0], [2017, 0.0], [2019, 0.0], [2020, 0.0], [2021, 0.0], [2022, 0.0], [2023, 0.0], [2024, 0.0], [2025, 0.0], [2026, 0.0], [2027, 0.0], [2028, 0.0], [2029, 0.0], [2030, 0.0], [2031, 0.0], [2032, 0.0], [2033, 0.0], [2034, 0.0], [2035, 0.0], [2036, 0.0], [2037, 0.0], [2038, 0.0], [2039, 0.0], [2040, 0.0], [2041, 0.0], [2042, 0.0], [2043, 0.0], [2044, 0.0], [2045, 0.0], [2046, 0.0], [2047, 0.0], [2049, 0.0], [2050, 0.0], [2051, 0.0], [2052, 0.0], [2053, 0.0], [2054, 0.0], [2055, 0.0], [2056, 0.0], [2057, 0.0], [2058, 0.0], [2059, 0.0], [2060, 0.0], [2061, 0.0], [2062, 0.0], [2063, 0.0], [2064, 0.0], [2065, 0.0], [2066, 0.0], [2067, 0.0], [2068, 0.0], [2069, 0.0], [2070, 0.0], [2071, 0.0], [2072, 0.0], [2073, 0.0], [2074, 0.0], [2075, 0.0], [2076, 0.0], [2077, 0.0], [2078, 0.0], [2079, 0.0], [2080, 0.0], [2081, 0.0], [2082, 0.0], [2083, 0.0], [2084, 0.0], [2085, 0.0], [2086, 0.0], [2087, 0.0], [2088, 0.0], [2089, 0.0], [2090, 0.0], [2091, 0.0], [2092, 0.0], [2093, 0.0], [2094, 0.0], [2095, 0.0], [2096, 0.0], [2098, 0.0], [2099, 0.0], [2100, 0.0], [2101, 0.0], [2102, 0.0], [2103, 0.0], [2104, 0.0], [2105, 0.0], [2106, 0.0], [2107, 0.0], [2108, 0.0], [2109, 0.0], [2110, 0.0], [2111, 0.0], [2112, 0.0], [2113, 0.0], [2114, 0.0], [2115, 0.0], [2116, 0.0], [2117, 0.0], [2118, 0.0], [2119, 0.0], [2120, 0.0], [2121, 0.0], [2122, 0.0], [2123, 0.0], [2124, 0.0], [2125, 0.0], [2126, 0.0], [2127, 0.0], [2128, 0.0], [2129, 0.0], [2130, 0.0], [2131, 0.0], [2132, 0.0], [2133, 0.0], [2134, 0.0], [2135, 0.0], [2136, 0.0], [2137, 0.0], [2138, 0.0], [2139, 0.0], [2140, 0.0], [2141, 0.0], [2142, 0.0], [2143, 0.0], [2144, 0.0], [2145, 0.0], [2146, 0.0], [2147, 0.0], [2148, 0.0], [2149, 0.0], [2150, 0.0], [2151, 0.0], [2152, 0.0], [2153, 0.0], [2154, 0.0], [2155, 0.0], [2156, 0.0], [2157, 0.0], [2158, 0.0], [2159, 0.0], [2160, 0.0], [2161, 0.0], [2162, 0.0], [2163, 0.0], [2164, 0.0], [2165, 0.0], [2166, 0.0], [2167, 0.0], [2168, 0.0], [2169, 0.0], [2170, 0.0], [2171, 0.0], [2172, 0.0], [2173, 0.0], [2174, 0.0], [2175, 0.0], [2176, 0.0], [2177, 0.0], [2178, 0.0], [2179, 0.0], [2180, 0.0], [2181, 0.0], [2182, 0.0], [2183, 0.0], [2184, 0.0], [2185, 0.0], [2186, 0.0], [2187, 0.0], [2188, 0.0], [2189, 0.0], [2190, 0.0], [2191, 0.0], [2192, 0.0], [2193, 0.0], [2194, 0.0], [2195, 0.0], [2196, 0.0], [2197, 0.0], [2198, 0.0], [2199, 0.0], [2200, 0.0], [2201, 0.0], [2202, 0.0], [2203, 0.0], [2204, 0.0], [2205, 0.0], [2206, 0.0], [2207, 0.0], [2208, 0.0], [2210, 0.0], [2211, 0.0], [2212, 0.0], [2213, 0.0], [2214, 0.0], [2215, 0.0], [2216, 0.0], [2217, 0.0], [2218, 0.0], [2219, 0.0], [2220, 0.0], [2221, 0.0], [2222, 0.0], [2223, 0.0], [2224, 0.0], [2225, 0.0], [2226, 0.0], [2227, 0.0], [2228, 0.0], [2229, 0.0], [2230, 0.0], [2231, 0.0], [2232, 0.0], [2233, 0.0], [2234, 0.0], [2235, 0.0], [2236, 0.0], [2237, 0.0], [2238, 0.0], [2239, 0.0], [2240, 0.0], [2241, 0.0], [2242, 0.0], [2243, 0.0], [2244, 0.0], [2245, 0.0], [2246, 0.0], [2247, 0.0], [2248, 0.0], [2249, 0.0], [2250, 0.0], [2251, 0.0], [2252, 0.0], [2253, 0.0], [2254, 0.0], [2255, 0.0], [2256, 0.0], [2257, 0.0], [2258, 0.0], [2259, 0.0], [2260, 0.0], [2261, 0.0], [2262, 0.0], [2263, 0.0], [2264, 0.0], [2265, 0.0], [2266, 0.0], [2267, 0.0], [2268, 0.0], [2269, 0.0], [2270, 0.0], [2271, 0.0], [2272, 0.0], [2273, 0.0], [2274, 0.0], [2275, 0.0], [2276, 0.0], [2277, 0.0], [2278, 0.0], [2279, 0.0], [2280, 0.0], [2281, 0.0], [2282, 0.0], [2283, 0.0], [2284, 0.0], [2285, 0.0], [2286, 0.0], [2287, 0.0], [2288, 0.0], [2289, 0.0], [2290, 0.0], [2291, 0.0], [2292, 0.0], [2293, 0.0], [2294, 0.0], [2295, 0.0], [2296, 0.0], [2297, 0.0], [2298, 0.0], [2299, 0.0], [2300, 0.0], [2301, 0.0], [2302, 0.0], [2303, 0.0], [2304, 0.0], [2305, 0.0], [2306, 0.0], [2307, 0.0], [2308, 0.0], [2309, 0.0], [2310, 0.0], [2311, 0.0], [2312, 0.0], [2313, 0.0], [2314, 0.0], [2315, 0.0], [2316, 0.0], [2317, 0.0], [2318, 0.0], [2319, 0.0], [2320, 0.0], [2321, 0.0], [2322, 0.0], [2323, 0.0], [2324, 0.0], [2325, 0.0], [2326, 0.0], [2327, 0.0], [2328, 0.0], [2329, 0.0], [2330, 0.0], [2331, 0.0], [2332, 0.0], [2333, 0.0], [2334, 0.0], [2335, 0.0], [2336, 0.0], [2337, 0.0], [2338, 0.0], [2339, 0.0], [2340, 0.0], [2341, 0.0], [2342, 0.0], [2343, 0.0], [2344, 0.0], [2345, 0.0], [2346, 0.0], [2347, 0.0], [2348, 0.0], [2349, 0.0], [2350, 0.0], [2351, 0.0], [2352, 0.0], [2353, 0.0], [2354, 0.0], [2355, 0.0], [2356, 0.0], [2357, 0.0], [2358, 0.0], [2359, 0.0], [2360, 0.0], [2361, 0.0], [2362, 0.0], [2363, 0.0], [2364, 0.0], [2365, 0.0], [2366, 0.0], [2367, 0.0], [2368, 0.0], [2369, 0.0], [2370, 0.0], [2371, 0.0], [2372, 0.0], [2373, 0.0], [2374, 0.0], [2375, 0.0], [2376, 0.0], [2377, 0.0], [2378, 0.0], [2379, 0.0], [2380, 0.0], [2381, 0.0], [2382, 0.0], [2383, 0.0], [2384, 0.0], [2385, 0.0], [2386, 0.0], [2387, 0.0], [2388, 0.0], [2389, 0.0], [2390, 0.0], [2391, 0.0], [2392, 0.0], [2393, 0.0], [2394, 0.0], [2395, 0.0], [2396, 0.0], [2397, 0.0], [2398, 0.0], [2399, 0.0], [2400, 0.0], [2401, 0.0], [2402, 0.0], [2403, 0.0], [2404, 0.0], [2405, 0.0], [2406, 0.0], [2407, 0.0], [2408, 0.0], [2409, 0.0], [2410, 0.0], [2411, 0.0], [2412, 0.0], [2413, 0.0], [2414, 0.0], [2415, 0.0], [2416, 0.0], [2417, 0.0], [2418, 0.0], [2419, 0.0], [2420, 0.0], [2421, 0.0], [2422, 0.0], [2423, 0.0], [2424, 0.0], [2425, 0.0], [2426, 0.0], [2427, 0.0], [2428, 0.0], [2429, 0.0], [2430, 0.0], [2431, 0.0], [2432, 0.0], [2433, 0.0], [2434, 0.0], [2435, 0.0], [2436, 0.0], [2437, 0.0], [2438, 0.0], [2439, 0.0], [2440, 0.0], [2441, 0.0], [2442, 0.0], [2443, 0.0], [2444, 0.0], [2445, 0.0], [2446, 0.0], [2447, 0.0], [2448, 0.0], [2449, 0.0], [2450, 0.0], [2451, 0.0], [2452, 0.0], [2453, 0.0], [2454, 0.0], [2455, 0.0], [2456, 0.0], [2457, 0.0], [2458, 0.0], [2459, 0.0], [2460, 0.0], [2461, 0.0], [2462, 0.0], [2463, 0.0], [2464, 0.0], [2465, 0.0], [2466, 0.0], [2467, 0.0], [2468, 0.0], [2469, 0.0], [2470, 0.0], [2471, 0.0], [2472, 0.0], [2473, 0.0], [2474, 0.0], [2475, 0.0], [2476, 0.0], [2477, 0.0], [2478, 0.0], [2479, 0.0], [2480, 0.0], [2481, 0.0], [2482, 0.0], [2483, 0.0], [2484, 0.0], [2485, 0.0], [2486, 0.0], [2487, 0.0], [2488, 0.0], [2489, 0.0], [2490, 0.0], [2491, 0.0], [2492, 0.0], [2493, 0.0], [2494, 0.0], [2495, 0.0], [2496, 0.0], [2497, 0.0], [2498, 0.0], [2499, 0.0], [2500, 0.0], [2501, 0.0], [2502, 0.0], [2503, 0.0], [2504, 0.0], [2505, 0.0], [2506, 0.0], [2507, 0.0], [2508, 0.0], [2509, 0.0], [2510, 0.0], [2511, 0.0], [2512, 0.0], [2513, 0.0], [2514, 0.0], [2515, 0.0], [2516, 0.0], [2517, 0.0], [2518, 0.0], [2519, 0.0], [2520, 0.0], [2521, 0.0], [2522, 0.0], [2523, 0.0], [2524, 0.0], [2525, 0.0], [2526, 0.0], [2527, 0.0], [2528, 0.0], [2529, 0.0], [2530, 0.0], [2531, 0.0], [2532, 0.0], [2533, 0.0], [2534, 0.0], [2535, 0.0], [2536, 0.0], [2537, 0.0], [2538, 0.0], [2539, 0.0], [2540, 0.0], [2541, 0.0], [2542, 0.0], [2543, 0.0], [2544, 0.0], [2545, 0.0], [2546, 0.0], [2547, 0.0], [2548, 0.0], [2549, 0.0], [2550, 0.0], [2551, 0.0], [2552, 0.0], [2553, 0.0], [2554, 0.0], [2555, 0.0], [2556, 0.0], [2557, 0.0], [2558, 0.0], [2559, 0.0], [2560, 0.0], [2561, 0.0], [2562, 0.0], [2563, 0.0], [2564, 0.0], [2565, 0.0], [2566, 0.0], [2567, 0.0], [2568, 0.0], [2569, 0.0], [2570, 0.0], [2571, 0.0], [2572, 0.0], [2573, 0.0], [2574, 0.0], [2575, 0.0], [2576, 0.0], [2577, 0.0], [2578, 0.0], [2579, 0.0], [2580, 0.0], [2581, 0.0], [2582, 0.0], [2583, 0.0], [2584, 0.0], [2585, 0.0], [2586, 0.0], [2587, 0.0], [2588, 0.0], [2589, 0.0], [2590, 0.0], [2591, 0.0], [2592, 0.0], [2593, 0.0], [2594, 0.0], [2595, 0.0], [2596, 0.0], [2597, 0.0], [2598, 0.0], [2599, 0.0], [2600, 0.0], [2601, 0.0], [2602, 0.0], [2603, 0.0], [2604, 0.0], [2605, 0.0], [2606, 0.0], [2607, 0.0], [2608, 0.0], [2609, 0.0], [2610, 0.0], [2611, 0.0], [2612, 0.0], [2613, 0.0], [2614, 0.0], [2615, 0.0], [2616, 0.0], [2617, 0.0], [2618, 0.0], [2619, 0.0], [2620, 0.0], [2621, 0.0], [2622, 0.0], [2623, 0.0], [2624, 0.0], [2625, 0.0], [2626, 0.0], [2627, 0.0], [2628, 0.0], [2629, 0.0], [2630, 0.0], [2631, 0.0], [2632, 0.0], [2633, 0.0], [2634, 0.0], [2635, 0.0], [2636, 0.0], [2637, 0.0], [2638, 0.0], [2639, 0.0], [2640, 0.0], [2641, 0.0], [2642, 0.0], [2643, 0.0], [2644, 0.0], [2645, 0.0], [2646, 0.0], [2647, 0.0], [2648, 0.0], [2649, 0.0], [2650, 0.0], [2651, 0.0], [2652, 0.0], [2653, 0.0], [2654, 0.0], [2655, 0.0], [2656, 0.0], [2657, 0.0], [2658, 0.0], [2659, 0.0], [2660, 0.0], [2661, 0.0], [2662, 0.0], [2663, 0.0], [2664, 0.0], [2665, 0.0], [2666, 0.0], [2667, 0.0], [2668, 0.0], [2669, 0.0], [2670, 0.0], [2671, 0.0], [2672, 0.0], [2673, 0.0], [2674, 0.0], [2675, 0.0], [2676, 0.0], [2677, 0.0], [2678, 0.0], [2679, 0.0], [2680, 0.0], [2681, 0.0], [2682, 0.0], [2683, 0.0], [2684, 0.0], [2685, 0.0], [2686, 0.0], [2687, 0.0], [2688, 0.0], [2689, 0.0], [2690, 0.0], [2691, 0.0], [2692, 0.0], [2693, 0.0], [2694, 0.0], [2695, 0.0], [2696, 0.0], [2697, 0.0], [2698, 0.0], [2699, 0.0], [2700, 0.0], [2701, 0.0], [2702, 0.0], [2703, 0.0], [2704, 0.0], [2705, 0.0], [2706, 0.0], [2707, 0.0], [2708, 0.0], [2709, 0.0], [2710, 0.0], [2711, 0.0], [2712, 0.0], [2713, 0.0], [2714, 0.0], [2715, 0.0], [2716, 0.0], [2717, 0.0], [2718, 0.0], [2719, 0.0], [2720, 0.0], [2721, 0.0], [2722, 0.0], [2723, 0.0], [2724, 0.0], [2725, 0.0], [2726, 0.0], [2727, 0.0], [2728, 0.0], [2729, 0.0], [2730, 0.0], [2731, 0.0], [2732, 0.0], [2733, 0.0], [2734, 0.0], [2735, 0.0], [2736, 0.0], [2737, 0.0], [2738, 0.0], [2739, 0.0], [2740, 0.0], [2741, 0.0], [2742, 0.0], [2743, 0.0], [2744, 0.0], [2745, 0.0], [2746, 0.0], [2747, 0.0], [2748, 0.0], [2749, 0.0], [2750, 0.0], [2751, 0.0], [2752, 0.0], [2753, 0.0], [2754, 0.0], [2755, 0.0], [2756, 0.0], [2757, 0.0], [2758, 0.0], [2759, 0.0], [2760, 0.0], [2761, 0.0], [2762, 0.0], [2763, 0.0], [2764, 0.0], [2765, 0.0], [2766, 0.0], [2767, 0.0], [2768, 0.0], [2769, 0.0], [2771, 0.0], [2772, 0.0], [2773, 0.0], [2774, 0.0], [2775, 0.0], [2776, 0.0], [2777, 0.0], [2778, 0.0], [2779, 0.0], [2780, 0.0], [2781, 0.0], [2782, 0.0], [2783, 0.0], [2784, 0.0], [2785, 0.0], [2786, 0.0], [2787, 0.0], [2788, 0.0], [2789, 0.0], [2790, 0.0], [2791, 0.0], [2792, 0.0], [2793, 0.0], [2794, 0.0], [2795, 0.0], [2796, 0.0], [2797, 0.0], [2798, 0.0], [2799, 0.0], [2800, 0.0], [2801, 0.0], [2802, 0.0], [2803, 0.0], [2804, 0.0], [2805, 0.0], [2806, 0.0], [2807, 0.0], [2808, 0.0], [2809, 0.0], [2810, 0.0], [2811, 0.0], [2812, 0.0], [2813, 0.0], [2814, 0.0], [2815, 0.0], [2816, 0.0], [2817, 0.0], [2818, 0.0], [2819, 0.0], [2820, 0.0], [2821, 0.0], [2822, 0.0], [2823, 0.0], [2824, 0.0], [2825, 0.0], [2826, 0.0], [2827, 0.0], [2828, 0.0], [2829, 0.0], [2830, 0.0], [2831, 0.0], [2832, 0.0], [2833, 0.0], [2834, 0.0], [2835, 0.0], [2836, 0.0], [2837, 0.0], [2838, 0.0], [2839, 0.0], [2840, 0.0], [2841, 0.0], [2842, 0.0], [2843, 0.0], [2844, 0.0], [2845, 0.0], [2846, 0.0], [2847, 0.0], [2848, 0.0], [2849, 0.0], [2850, 0.0], [2851, 0.0], [2852, 0.0], [2853, 0.0], [2854, 0.0], [2855, 0.0], [2856, 0.0], [2857, 0.0], [2858, 0.0], [2859, 0.0], [2860, 0.0], [2861, 0.0], [2862, 0.0], [2863, 0.0], [2864, 0.0], [2865, 0.0], [2866, 0.0], [2867, 0.0], [2868, 0.0], [2869, 0.0], [2870, 0.0], [2871, 0.0], [2872, 0.0], [2873, 0.0], [2874, 0.0], [2875, 0.0], [2876, 0.0], [2877, 0.0], [2878, 0.0], [2879, 0.0], [2880, 0.0], [2881, 0.0], [2882, 0.0], [2883, 0.0], [2884, 0.0], [2885, 0.0], [2886, 0.0], [2887, 0.0], [2888, 0.0], [2889, 0.0], [2890, 0.0], [2891, 0.0], [2892, 0.0], [2893, 0.0], [2894, 0.0], [2895, 0.0], [2896, 0.0], [2897, 0.0], [2898, 0.0], [2899, 0.0], [2900, 0.0], [2902, 0.0], [2903, 0.0], [2904, 0.0], [2905, 0.0], [2906, 0.0], [2907, 0.0], [2909, 0.0], [2910, 0.0], [2911, 0.0], [2912, 0.0], [2913, 0.0], [2914, 0.0], [2915, 0.0], [2916, 0.0], [2917, 0.0], [2918, 0.0], [2919, 0.0], [2920, 0.0], [2921, 0.0], [2922, 0.0], [2923, 0.0], [2924, 0.0], [2925, 0.0], [2926, 0.0], [2927, 0.0], [2928, 0.0], [2929, 0.0], [2930, 0.0], [2931, 0.0], [2932, 0.0], [2933, 0.0], [2934, 0.0], [2935, 0.0], [2936, 0.0], [2937, 0.0], [2938, 0.0], [2939, 0.0], [2940, 0.0], [2941, 0.0], [2942, 0.0], [2943, 0.0], [2944, 0.0], [2945, 0.0], [2946, 0.0], [2947, 0.0], [2948, 0.0], [2949, 0.0], [2950, 0.0], [2951, 0.0], [2952, 0.0], [2953, 0.0], [2954, 0.0], [2955, 0.0], [2956, 0.0], [2957, 0.0], [2958, 0.0], [2959, 0.0], [2960, 0.0], [2961, 0.0], [2962, 0.0], [2963, 0.0], [2964, 0.0], [2965, 0.0], [2966, 0.0], [2967, 0.0], [2968, 0.0], [2970, 0.0], [2971, 0.0], [2972, 0.0], [2973, 0.0], [2974, 0.0], [2975, 0.0], [2976, 0.0], [2977, 0.0], [2978, 0.0], [2979, 0.0], [2980, 0.0], [2982, 0.0], [2983, 0.0], [2984, 0.0], [2985, 0.0], [2986, 0.0], [2987, 0.0], [2988, 0.0], [2990, 0.0], [2991, 0.0], [2992, 0.0], [2994, 0.0], [2995, 0.0], [2996, 0.0], [2997, 0.0], [2998, 0.0], [2999, 0.0], [3000, 0.0], [3001, 0.0], [3002, 0.0], [3003, 0.0], [3004, 0.0], [3005, 0.0], [3006, 0.0], [3007, 0.0], [3008, 0.0], [3009, 0.0], [3010, 0.0], [3011, 0.0], [3012, 0.0], [3013, 0.0], [3014, 0.0], [3016, 0.0], [3017, 0.0], [3018, 0.0], [3019, 0.0], [3020, 0.0], [3021, 0.0], [3022, 0.0], [3023, 0.0], [3024, 0.0], [3025, 0.0], [3026, 0.0], [3027, 0.0], [3028, 0.0], [3029, 0.0], [3030, 0.0], [3031, 0.0], [3032, 0.0], [3033, 0.0], [3034, 0.0], [3035, 0.0], [3036, 0.0], [3037, 0.0], [3038, 0.0], [3039, 0.0], [3040, 0.0], [3041, 0.0], [3042, 0.0], [3043, 0.0], [3044, 0.0], [3045, 0.0], [3046, 0.0], [3047, 0.0], [3048, 0.0], [3049, 0.0], [3050, 0.0], [3051, 0.0], [3052, 0.0], [3053, 0.0], [3054, 0.0], [3055, 0.0], [3056, 0.0], [3057, 0.0], [3059, 0.0], [3060, 0.0], [3061, 0.0], [3062, 0.0], [3064, 0.0], [3065, 0.0], [3066, 0.0], [3067, 0.0], [3068, 0.0], [3069, 0.0], [3070, 0.0], [3071, 0.0], [3072, 0.0], [3073, 0.0], [3074, 0.0], [3075, 0.0], [3076, 0.0], [3077, 0.0], [3078, 0.0], [3079, 0.0], [3080, 0.0], [3081, 0.0], [3082, 0.0], [3084, 0.0], [3085, 0.0], [3086, 0.0], [3087, 0.0], [3088, 0.0], [3089, 0.0], [3090, 0.0], [3091, 0.0], [3092, 0.0], [3093, 0.0], [3094, 0.0], [3095, 0.0], [3096, 0.0], [3097, 0.0], [3098, 0.0], [3099, 0.0], [3100, 0.0], [3101, 0.0], [3102, 0.0], [3103, 0.0], [3104, 0.0], [3105, 0.0], [3106, 0.0], [3107, 0.0], [3108, 0.0], [3109, 0.0], [3110, 0.0], [3111, 0.0], [3112, 0.0], [3113, 0.0], [3114, 0.0], [3116, 0.0], [3117, 0.0], [3118, 0.0], [3119, 0.0], [3120, 0.0], [3121, 0.0], [3123, 0.0], [3125, 0.0], [3126, 0.0], [3127, 0.0], [3128, 0.0], [3129, 0.0], [3130, 0.0], [3131, 0.0], [3133, 0.0], [3134, 0.0], [3135, 0.0], [3136, 0.0], [3137, 0.0], [3138, 0.0], [3139, 0.0], [3140, 0.0], [3141, 0.0], [3142, 0.0], [3143, 0.0], [3144, 0.0], [3145, 0.0], [3146, 0.0], [3147, 0.0], [3148, 0.0], [3149, 0.0], [3150, 0.0], [3151, 0.0], [3152, 0.0], [3153, 0.0], [3154, 0.0], [3155, 0.0], [3156, 0.0], [3157, 0.0], [3158, 0.0], [3159, 0.0], [3160, 0.0], [3161, 0.0], [3162, 0.0], [3163, 0.0], [3164, 0.0], [3165, 0.0], [3166, 0.0], [3167, 0.0], [3168, 0.0], [3169, 0.0], [3170, 0.0], [3171, 0.0], [3172, 0.0], [3173, 0.0], [3174, 0.0], [3175, 0.0], [3177, 0.0], [3178, 0.0], [3179, 0.0], [3180, 0.0], [3181, 0.0], [3182, 0.0], [3183, 0.0], [3184, 0.0], [3185, 0.0], [3186, 0.0], [3187, 0.0], [3188, 0.0], [3189, 0.0], [3190, 0.0], [3191, 0.0], [3192, 0.0], [3193, 0.0], [3194, 0.0], [3195, 0.0], [3196, 0.0], [3197, 0.0], [3198, 0.0], [3199, 0.0], [3200, 0.0], [3201, 0.0], [3202, 0.0], [3203, 0.0], [3204, 0.0], [3205, 0.0], [3206, 0.0], [3207, 0.0], [3208, 0.0], [3209, 0.0], [3210, 0.0], [3211, 0.0], [3212, 0.0], [3213, 0.0], [3214, 0.0], [3215, 0.0], [3216, 0.0], [3217, 0.0], [3218, 0.0], [3219, 0.0], [3220, 0.0], [3221, 0.0], [3222, 0.0], [3223, 0.0], [3224, 0.0], [3225, 0.0], [3226, 0.0], [3227, 0.0], [3228, 0.0], [3229, 0.0], [3230, 0.0], [3231, 0.0], [3232, 0.0], [3233, 0.0], [3234, 0.0], [3235, 0.0], [3236, 0.0], [3237, 0.0], [3238, 0.0], [3239, 0.0], [3240, 0.0], [3241, 0.0], [3242, 0.0], [3243, 0.0], [3244, 0.0], [3245, 0.0], [3246, 0.0], [3247, 0.0], [3248, 0.0], [3249, 0.0], [3250, 0.0], [3251, 0.0], [3252, 0.0], [3253, 0.0], [3254, 0.0], [3255, 0.0], [3256, 0.0], [3257, 0.0], [3258, 0.0], [3259, 0.0], [3260, 0.0], [3261, 0.0], [3262, 0.0], [3263, 0.0], [3264, 0.0], [3265, 0.0], [3266, 0.0], [3267, 0.0], [3268, 0.0], [3269, 0.0], [3270, 0.0], [3271, 0.0], [3272, 0.0], [3273, 0.0], [3274, 0.0], [3275, 0.0], [3276, 0.0], [3277, 0.0], [3278, 0.0], [3279, 0.0], [3280, 0.0], [3281, 0.0], [3282, 0.0], [3283, 0.0], [3284, 0.0], [3285, 0.0], [3286, 0.0], [3287, 0.0], [3288, 0.0], [3289, 0.0], [3290, 0.0], [3291, 0.0], [3292, 0.0], [3293, 0.0], [3294, 0.0], [3295, 0.0], [3296, 0.0], [3297, 0.0], [3298, 0.0], [3299, 0.0], [3300, 0.0], [3301, 0.0], [3302, 0.0], [3303, 0.0], [3304, 0.0], [3305, 0.0], [3306, 0.0], [3307, 0.0], [3308, 0.0], [3309, 0.0], [3310, 0.0], [3311, 0.0], [3312, 0.0], [3313, 0.0], [3314, 0.0], [3315, 0.0], [3316, 0.0], [3317, 0.0], [3318, 0.0], [3319, 0.0], [3320, 0.0], [3321, 0.0], [3322, 0.0], [3323, 0.0], [3324, 0.0], [3325, 0.0], [3326, 0.0], [3327, 0.0], [3328, 0.0], [3329, 0.0], [3330, 0.0], [3331, 0.0], [3332, 0.0], [3333, 0.0], [3334, 0.0], [3335, 0.0], [3336, 0.0], [3337, 0.0], [3339, 0.0], [3340, 0.0], [3341, 0.0], [3342, 0.0], [3343, 0.0], [3344, 0.0], [3345, 0.0], [3347, 0.0], [3348, 0.0], [3349, 0.0], [3350, 0.0], [3351, 0.0], [3352, 0.0], [3354, 0.0], [3355, 0.0], [3356, 0.0], [3357, 0.0], [3358, 0.0], [3359, 0.0], [3360, 0.0], [3361, 0.0], [3362, 0.0], [3363, 0.0], [3364, 0.0], [3365, 0.0], [3366, 0.0], [3367, 0.0], [3368, 0.0], [3369, 0.0], [3370, 0.0], [3371, 0.0], [3372, 0.0], [3373, 0.0], [3374, 0.0], [3375, 0.0], [3376, 0.0], [3377, 0.0], [3378, 0.0], [3379, 0.0], [3380, 0.0], [3381, 0.0], [3382, 0.0], [3383, 0.0], [3384, 0.0], [3385, 0.0], [3386, 0.0], [3387, 0.0], [3388, 0.0], [3389, 0.0], [3390, 0.0], [3392, 0.0], [3393, 0.0], [3394, 0.0], [3395, 0.0], [3397, 0.0], [3398, 0.0], [3399, 0.0], [3400, 0.0], [3401, 0.0], [3403, 0.0], [3404, 0.0], [3405, 0.0], [3406, 0.0], [3407, 0.0], [3408, 0.0], [3409, 0.0], [3410, 0.0], [3411, 0.0], [3412, 0.0], [3413, 0.0], [3415, 0.0], [3416, 0.0], [3418, 0.0], [3419, 0.0], [3421, 0.0], [3422, 0.0], [3423, 0.0], [3424, 0.0], [3425, 0.0], [3426, 0.0], [3427, 0.0], [3428, 0.0], [3429, 0.0], [3430, 0.0], [3431, 0.0], [3432, 0.0], [3433, 0.0], [3434, 0.0], [3435, 0.0], [3436, 0.0], [3437, 0.0], [3438, 0.0], [3439, 0.0], [3440, 0.0], [3441, 0.0], [3442, 0.0], [3443, 0.0], [3444, 0.0], [3445, 0.0], [3446, 0.0], [3447, 0.0], [3448, 0.0], [3449, 0.0], [3450, 0.0], [3451, 0.0], [3452, 0.0], [3453, 0.0], [3454, 0.0], [3455, 0.0], [3456, 0.0], [3457, 0.0], [3458, 0.0], [3459, 0.0], [3460, 0.0], [3461, 0.0], [3462, 0.0], [3463, 0.0], [3464, 0.0], [3465, 0.0], [3466, 0.0], [3467, 0.0], [3468, 0.0], [3469, 0.0], [3470, 0.0], [3471, 0.0], [3472, 0.0], [3473, 0.0], [3474, 0.0], [3475, 0.0], [3476, 0.0], [3477, 0.0], [3478, 0.0], [3479, 0.0], [3480, 0.0], [3481, 0.0], [3482, 0.0], [3483, 0.0], [3484, 0.0], [3485, 0.0], [3486, 0.0], [3487, 0.0], [3488, 0.0], [3489, 0.0], [3490, 0.0], [3491, 0.0], [3492, 0.0], [3493, 0.0], [3494, 0.0], [3495, 0.0], [3496, 0.0], [3497, 0.0], [3498, 0.0], [3501, 0.0], [3502, 0.0], [3503, 0.0], [3504, 0.0], [3505, 0.0], [3506, 0.0], [3507, 0.0], [3508, 0.0], [3509, 0.0], [3510, 0.0], [3511, 0.0], [3512, 0.0], [3513, 0.0], [3514, 0.0], [3515, 0.0], [3516, 0.0], [3517, 0.0], [3518, 0.0], [3519, 0.0], [3520, 0.0], [3521, 0.0], [3522, 0.0], [3523, 0.0], [3524, 0.0], [3525, 0.0], [3526, 0.0], [3527, 0.0], [3528, 0.0], [3529, 0.0], [3530, 0.0], [3531, 0.0], [3532, 0.0], [3533, 0.0], [3534, 0.0], [3536, 0.0], [3537, 0.0], [3538, 0.0], [3539, 0.0], [3540, 0.0], [3541, 0.0], [3542, 0.0], [3543, 0.0], [3544, 0.0], [3545, 0.0], [3546, 0.0], [3547, 0.0], [3548, 0.0], [3549, 0.0], [3550, 0.0], [3551, 0.0], [3552, 0.0], [3553, 0.0], [3554, 0.0], [3555, 0.0], [3556, 0.0], [3557, 0.0], [3558, 0.0], [3559, 0.0], [3560, 0.0], [3561, 0.0], [3562, 0.0], [3563, 0.0], [3564, 0.0], [3565, 0.0], [3566, 0.0], [3567, 0.0], [3568, 0.0], [3569, 0.0], [3570, 0.0], [3571, 0.0], [3572, 0.0], [3573, 0.0], [3574, 0.0], [3575, 0.0], [3576, 0.0], [3577, 0.0], [3578, 0.0], [3579, 0.0], [3580, 0.0], [3582, 0.0], [3583, 0.0], [3584, 0.0], [3585, 0.0], [3586, 0.0], [3587, 0.0], [3588, 0.0], [3589, 0.0], [3590, 0.0], [3591, 0.0], [3592, 0.0], [3593, 0.0], [3594, 0.0], [3597, 0.0], [3598, 0.0], [3599, 0.0], [3600, 0.0], [3601, 0.0], [3602, 0.0], [3603, 0.0], [3604, 0.0], [3605, 0.0], [3606, 0.0], [3607, 0.0], [3608, 0.0], [3609, 0.0], [3610, 0.0], [3611, 0.0], [3612, 0.0], [3613, 0.0], [3614, 0.0], [3615, 0.0], [3616, 0.0], [3617, 0.0], [3618, 0.0], [3619, 0.0], [3620, 0.0], [3621, 0.0], [3622, 0.0], [3623, 0.0], [3624, 0.0], [3625, 0.0], [3626, 0.0], [3627, 0.0], [3628, 0.0], [3629, 0.0], [3630, 0.0], [3631, 0.0], [3632, 0.0], [3633, 0.0], [3634, 0.0], [3635, 0.0], [3638, 0.0], [3639, 0.0], [3640, 0.0], [3641, 0.0], [3642, 0.0], [3643, 0.0], [3645, 0.0], [3646, 0.0], [3647, 0.0], [3648, 0.0], [3649, 0.0], [3650, 0.0], [3651, 0.0], [3652, 0.0], [3653, 0.0], [3654, 0.0], [3655, 0.0], [3656, 0.0], [3657, 0.0], [3658, 0.0], [3659, 0.0], [3660, 0.0], [3662, 0.0], [3663, 0.0], [3664, 0.0], [3665, 0.0], [3666, 0.0], [3667, 0.0], [3668, 0.0], [3669, 0.0], [3670, 0.0], [3673, 0.0], [3674, 0.0], [3675, 0.0], [3676, 0.0], [3677, 0.0], [3678, 0.0], [3679, 0.0], [3680, 0.0], [3681, 0.0], [3682, 0.0], [3683, 0.0], [3684, 0.0], [3685, 0.0], [3686, 0.0], [3687, 0.0], [3688, 0.0], [3689, 0.0], [3690, 0.0], [3691, 0.0], [3692, 0.0], [3693, 0.0], [3694, 0.0], [3696, 0.0], [3698, 0.0], [3699, 0.0], [3700, 0.0], [3701, 0.0], [3702, 0.0], [3703, 0.0], [3704, 0.0], [3705, 0.0], [3706, 0.0], [3707, 0.0], [3708, 0.0], [3709, 0.0], [3710, 0.0], [3711, 0.0], [3712, 0.0], [3713, 0.0], [3715, 0.0], [3716, 0.0], [3717, 0.0], [3718, 0.0], [3719, 0.0], [3720, 0.0], [3721, 0.0], [3722, 0.0], [3723, 0.0], [3725, 0.0], [3726, 0.0], [3728, 0.0], [3729, 0.0], [3730, 0.0], [3731, 0.0], [3732, 0.0], [3733, 0.0], [3734, 0.0], [3735, 0.0], [3736, 0.0], [3737, 0.0], [3738, 0.0], [3739, 0.0], [3740, 0.0], [3741, 0.0], [3742, 0.0], [3743, 0.0], [3744, 0.0], [3745, 0.0], [3746, 0.0], [3747, 0.0], [3748, 0.0], [3749, 0.0], [3750, 0.0], [3751, 0.0], [3752, 0.0], [3753, 0.0], [3754, 0.0], [3755, 0.0], [3756, 0.0], [3757, 0.0], [3758, 0.0], [3759, 0.0], [3760, 0.0], [3761, 0.0], [3762, 0.0], [3763, 0.0], [3765, 0.0], [3766, 0.0], [3767, 0.0], [3768, 0.0], [3769, 0.0], [3770, 0.0], [3771, 0.0], [3772, 0.0], [3773, 0.0], [3774, 0.0], [3775, 0.0], [3776, 0.0], [3777, 0.0], [3778, 0.0], [3779, 0.0], [3780, 0.0], [3781, 0.0], [3783, 0.0], [3784, 0.0], [3785, 0.0], [3786, 0.0], [3787, 0.0], [3788, 0.0], [3789, 0.0], [3790, 0.0], [3791, 0.0], [3792, 0.0], [3793, 0.0], [3794, 0.0], [3795, 0.0], [3796, 0.0], [3797, 0.0], [3798, 0.0], [3799, 0.0], [3800, 0.0], [3801, 0.0], [3802, 0.0], [3803, 0.0], [3804, 0.0], [3805, 0.0], [3806, 0.0], [3807, 0.0], [3808, 0.0], [3810, 0.0], [3811, 0.0], [3812, 0.0], [3813, 0.0], [3814, 0.0], [3815, 0.0], [3816, 0.0], [3817, 0.0], [3818, 0.0], [3819, 0.0], [3820, 0.0], [3821, 0.0], [3822, 0.0], [3823, 0.0], [3825, 0.0], [3826, 0.0], [3827, 0.0], [3828, 0.0], [3829, 0.0], [3830, 0.0], [3831, 0.0], [3832, 0.0], [3833, 0.0], [3834, 0.0], [3836, 0.0], [3837, 0.0], [3838, 0.0], [3839, 0.0], [3840, 0.0], [3841, 0.0], [3842, 0.0], [3843, 0.0], [3844, 0.0], [3845, 0.0], [3846, 0.0], [3847, 0.0], [3848, 0.0], [3849, 0.0], [3850, 0.0], [3851, 0.0], [3852, 0.0], [3853, 0.0], [3854, 0.0], [3855, 0.0], [3857, 0.0], [3858, 0.0], [3859, 0.0], [3860, 0.0], [3861, 0.0], [3862, 0.0], [3863, 0.0], [3864, 0.0], [3865, 0.0], [3866, 0.0], [3867, 0.0], [3868, 0.0], [3869, 0.0], [3870, 0.0], [3871, 0.0], [3872, 0.0], [3873, 0.0], [3874, 0.0], [3875, 0.0], [3876, 0.0], [3877, 0.0], [3878, 0.0], [3879, 0.0], [3880, 0.0], [3881, 0.0], [3882, 0.0], [3883, 0.0], [3884, 0.0], [3885, 0.0], [3886, 0.0], [3887, 0.0], [3888, 0.0], [3889, 0.0], [3890, 0.0], [3891, 0.0], [3892, 0.0], [3893, 0.0], [3894, 0.0], [3895, 0.0], [3896, 0.0], [3897, 0.0], [3899, 0.0], [3900, 0.0], [3901, 0.0], [3902, 0.0], [3903, 0.0], [3904, 0.0], [3905, 0.0], [3906, 0.0], [3907, 0.0], [3908, 0.0], [3909, 0.0], [3911, 0.0], [3912, 0.0], [3913, 0.0], [3914, 0.0], [3915, 0.0], [3916, 0.0], [3917, 0.0], [3918, 0.0], [3919, 0.0], [3920, 0.0], [3921, 0.0], [3922, 0.0], [3923, 0.0], [3924, 0.0], [3925, 0.0], [3926, 0.0], [3927, 0.0], [3928, 0.0], [3929, 0.0], [3930, 0.0], [3931, 0.0], [3932, 0.0], [3933, 0.0], [3934, 0.0], [3935, 0.0], [3936, 0.0], [3937, 0.0], [3938, 0.0], [3939, 0.0], [3940, 0.0], [3941, 0.0], [3942, 0.0], [3943, 0.0], [3944, 0.0], [3945, 0.0], [3946, 0.0], [3947, 0.0], [3948, 0.0], [3949, 0.0], [3950, 0.0], [3951, 0.0], [3952, 0.0], [3953, 0.0], [3954, 0.0], [3955, 0.0], [3956, 0.0], [3957, 0.0], [3958, 0.0], [3959, 0.0], [3960, 0.0], [3961, 0.0], [3962, 0.0], [3963, 0.0], [3964, 0.0], [3965, 0.0], [3967, 0.0], [3968, 0.0], [3969, 0.0], [3970, 0.0], [3971, 0.0], [3972, 0.0], [3973, 0.0], [3974, 0.0], [3975, 0.0], [3976, 0.0], [3977, 0.0], [3978, 0.0], [3979, 0.0], [3980, 0.0], [3981, 0.0], [3982, 0.0], [3983, 0.0], [3984, 0.0], [3985, 0.0], [3986, 0.0], [3987, 0.0], [3988, 0.0], [3989, 0.0], [3990, 0.0], [3991, 0.0], [3992, 0.0], [3993, 0.0], [3994, 0.0], [3995, 0.0], [3996, 0.0], [3997, 0.0], [3998, 0.0], [3999, 0.0], [4000, 0.0], [4001, 0.0], [4002, 0.0], [4003, 0.0], [4004, 0.0], [4005, 0.0], [4006, 0.0], [4007, 0.0], [4008, 0.0], [4009, 0.0], [4011, 0.0], [4012, 0.0], [4013, 0.0], [4014, 0.0], [4015, 0.0], [4016, 0.0], [4018, 0.0], [4019, 0.0], [4020, 0.0], [4021, 0.0], [4022, 0.0], [4023, 0.0], [4024, 0.0], [4025, 0.0], [4026, 0.0], [4027, 0.0], [4029, 0.0], [4030, 0.0], [4031, 0.0], [4032, 0.0], [4033, 0.0], [4034, 0.0], [4035, 0.0], [4036, 0.0], [4037, 0.0], [4038, 0.0], [4039, 0.0], [4040, 0.0], [4041, 0.0], [4042, 0.0], [4043, 0.0], [4044, 0.0], [4045, 0.0], [4046, 0.0], [4047, 0.0], [4048, 0.0], [4049, 0.0], [4050, 0.0], [4051, 0.0], [4052, 0.0], [4053, 0.0], [4054, 0.0], [4055, 0.0], [4056, 0.0], [4057, 0.0], [4058, 0.0], [4059, 0.0], [4060, 0.0], [4061, 0.0], [4062, 0.0], [4063, 0.0], [4064, 0.0], [4065, 0.0], [4066, 0.0], [4067, 0.0], [4068, 0.0], [4069, 0.0], [4070, 0.0], [4071, 0.0], [4072, 0.0], [4073, 0.0], [4074, 0.0], [4075, 0.0], [4076, 0.0], [4077, 0.0], [4078, 0.0], [4079, 0.0], [4080, 0.0], [4081, 0.0], [4082, 0.0], [4083, 0.0], [4084, 0.0], [4086, 0.0], [4087, 0.0], [4088, 0.0], [4089, 0.0], [4090, 0.0], [4091, 0.0], [4092, 0.0], [4093, 0.0], [4094, 0.0], [4095, 0.0], [4096, 0.0], [4097, 0.0], [4098, 0.0], [4099, 0.0], [4100, 0.0], [4101, 0.0], [4102, 0.0], [4103, 0.0], [4104, 0.0], [4105, 0.0], [4106, 0.0], [4107, 0.0], [4109, 0.0], [4110, 0.0], [4111, 0.0], [4112, 0.0], [4113, 0.0], [4114, 0.0], [4115, 0.0], [4116, 0.0], [4117, 0.0], [4118, 0.0], [4119, 0.0], [4120, 0.0], [4121, 0.0], [4122, 0.0], [4123, 0.0], [4124, 0.0], [4125, 0.0], [4126, 0.0], [4127, 0.0], [4128, 0.0], [4129, 0.0], [4130, 0.0], [4131, 0.0], [4132, 0.0], [4133, 0.0], [4134, 0.0], [4135, 0.0], [4136, 0.0], [4138, 0.0], [4139, 0.0], [4140, 0.0], [4141, 0.0], [4142, 0.0], [4143, 0.0], [4144, 0.0], [4146, 0.0], [4147, 0.0], [4148, 0.0], [4149, 0.0], [4150, 0.0], [4151, 0.0], [4152, 0.0], [4153, 0.0], [4154, 0.0], [4155, 0.0], [4156, 0.0], [4157, 0.0], [4158, 0.0], [4159, 0.0], [4160, 0.0], [4162, 0.0], [4163, 0.0], [4164, 0.0], [4165, 0.0], [4166, 0.0], [4167, 0.0], [4168, 0.0], [4169, 0.0], [4170, 0.0], [4171, 0.0], [4172, 0.0], [4173, 0.0], [4174, 0.0], [4175, 0.0], [4176, 0.0], [4177, 0.0], [4178, 0.0], [4179, 0.0], [4180, 0.0], [4181, 0.0], [4182, 0.0], [4183, 0.0], [4184, 0.0], [4185, 0.0], [4186, 0.0], [4187, 0.0], [4188, 0.0], [4189, 0.0], [4190, 0.0], [4191, 0.0], [4192, 0.0], [4193, 0.0], [4194, 0.0], [4195, 0.0], [4196, 0.0], [4197, 0.0], [4198, 0.0], [4199, 0.0], [4200, 0.0], [4201, 0.0], [4202, 0.0], [4203, 0.0], [4204, 0.0], [4205, 0.0], [4206, 0.0], [4207, 0.0], [4208, 0.0], [4209, 0.0], [4210, 0.0], [4211, 0.0], [4212, 0.0], [4213, 0.0], [4214, 0.0], [4215, 0.0], [4216, 0.0], [4217, 0.0], [4218, 0.0], [4219, 0.0], [4220, 0.0], [4221, 0.0], [4222, 0.0], [4223, 0.0], [4224, 0.0], [4226, 0.0], [4227, 0.0], [4228, 0.0], [4229, 0.0], [4230, 0.0], [4231, 0.0], [4232, 0.0], [4233, 0.0], [4234, 0.0], [4235, 0.0], [4236, 0.0], [4237, 0.0], [4238, 0.0], [4239, 0.0], [4240, 0.0], [4242, 0.0], [4243, 0.0], [4244, 0.0], [4245, 0.0], [4246, 0.0], [4247, 0.0], [4248, 0.0], [4249, 0.0], [4250, 0.0], [4251, 0.0], [4252, 0.0], [4253, 0.0], [4254, 0.0], [4255, 0.0], [4256, 0.0], [4257, 0.0], [4258, 0.0], [4259, 0.0], [4260, 0.0], [4261, 0.0], [4262, 0.0], [4263, 0.0], [4264, 0.0], [4265, 0.0], [4266, 0.0], [4267, 0.0], [4268, 0.0], [4270, 0.0], [4271, 0.0], [4272, 0.0], [4273, 0.0], [4275, 0.0], [4276, 0.0], [4277, 0.0], [4278, 0.0], [4279, 0.0], [4280, 0.0], [4281, 0.0], [4282, 0.0], [4283, 0.0], [4284, 0.0], [4285, 0.0], [4286, 0.0], [4287, 0.0], [4288, 0.0], [4289, 0.0], [4290, 0.0], [4291, 0.0], [4292, 0.0], [4294, 0.0], [4295, 0.0], [4296, 0.0], [4297, 0.0], [4298, 0.0], [4299, 0.0], [4300, 0.0], [4301, 0.0], [4302, 0.0], [4303, 0.0], [4304, 0.0], [4305, 0.0], [4306, 0.0], [4307, 0.0], [4308, 0.0], [4309, 0.0], [4310, 0.0], [4311, 0.0], [4312, 0.0], [4313, 0.0], [4314, 0.0], [4315, 0.0], [4316, 0.0], [4317, 0.0], [4318, 0.0], [4319, 0.0], [4320, 0.0], [4321, 0.0], [4322, 0.0], [4324, 0.0], [4325, 0.0], [4326, 0.0], [4327, 0.0], [4328, 0.0], [4329, 0.0], [4330, 0.0], [4331, 0.0], [4332, 0.0], [4333, 0.0], [4334, 0.0], [4335, 0.0], [4336, 0.0], [4337, 0.0], [4338, 0.0], [4339, 0.0], [4340, 0.0], [4341, 0.0], [4342, 0.0], [4343, 0.0], [4344, 0.0], [4345, 0.0], [4346, 0.0], [4347, 0.0], [4348, 0.0], [4349, 0.0], [4350, 0.0], [4351, 0.0], [4352, 0.0], [4353, 0.0], [4354, 0.0], [4355, 0.0], [4356, 0.0], [4357, 0.0], [4358, 0.0], [4359, 0.0], [4360, 0.0], [4361, 0.0], [4362, 0.0], [4363, 0.0], [4364, 0.0], [4365, 0.0], [4366, 0.0], [4367, 0.0], [4368, 0.0], [4369, 0.0], [4370, 0.0], [4372, 0.0], [4374, 0.0], [4375, 0.0], [4376, 0.0], [4377, 0.0], [4378, 0.0], [4379, 0.0], [4380, 0.0], [4381, 0.0], [4382, 0.0], [4383, 0.0], [4384, 0.0], [4385, 0.0], [4386, 0.0], [4387, 0.0], [4388, 0.0], [4390, 0.0], [4391, 0.0], [4392, 0.0], [4393, 0.0], [4394, 0.0], [4395, 0.0], [4396, 0.0], [4397, 0.0], [4398, 0.0], [4399, 0.0], [4400, 0.0], [4401, 0.0], [4402, 0.0], [4403, 0.0], [4404, 0.0], [4405, 0.0], [4406, 0.0], [4407, 0.0], [4408, 0.0], [4409, 0.0], [4410, 0.0], [4411, 0.0], [4412, 0.0], [4413, 0.0], [4414, 0.0], [4415, 0.0], [4416, 0.0], [4417, 0.0], [4418, 0.0], [4419, 0.0], [4420, 0.0], [4421, 0.0], [4422, 0.0], [4423, 0.0], [4424, 0.0], [4425, 0.0], [4427, 0.0], [4428, 0.0], [4429, 0.0], [4430, 0.0], [4431, 0.0], [4432, 0.0], [4433, 0.0], [4434, 0.0], [4436, 0.0], [4437, 0.0], [4438, 0.0], [4439, 0.0], [4440, 0.0], [4441, 0.0], [4442, 0.0], [4443, 0.0], [4444, 0.0], [4445, 0.0], [4446, 0.0], [4447, 0.0], [4448, 0.0], [4450, 0.0], [4451, 0.0], [4452, 0.0], [4453, 0.0], [4454, 0.0], [4455, 0.0], [4456, 0.0], [4457, 0.0], [4458, 0.0], [4460, 0.0], [4461, 0.0], [4462, 0.0], [4463, 0.0], [4464, 0.0], [4465, 0.0], [4466, 0.0], [4467, 0.0], [4468, 0.0], [4469, 0.0], [4470, 0.0], [4471, 0.0], [4472, 0.0], [4473, 0.0], [4474, 0.0], [4475, 0.0], [4476, 0.0], [4477, 0.0], [4478, 0.0], [4479, 0.0], [4480, 0.0], [4481, 0.0], [4482, 0.0], [4483, 0.0], [4485, 0.0], [4486, 0.0], [4487, 0.0], [4488, 0.0], [4489, 0.0], [4490, 0.0], [4491, 0.0], [4492, 0.0], [4493, 0.0], [4495, 0.0], [4496, 0.0], [4497, 0.0], [4498, 0.0], [4499, 0.0], [4500, 0.0], [4501, 0.0], [4502, 0.0], [4503, 0.0], [4504, 0.0], [4505, 0.0], [4506, 0.0], [4507, 0.0], [4508, 0.0], [4509, 0.0], [4510, 0.0], [4511, 0.0], [4512, 0.0], [4513, 0.0], [4514, 0.0], [4515, 0.0], [4516, 0.0], [4517, 0.0], [4518, 0.0], [4519, 0.0], [4520, 0.0], [4521, 0.0], [4522, 0.0], [4523, 0.0], [4524, 0.0], [4525, 0.0], [4526, 0.0], [4527, 0.0], [4528, 0.0], [4529, 0.0], [4530, 0.0], [4531, 0.0], [4532, 0.0], [4533, 0.0], [4534, 0.0], [4535, 0.0], [4536, 0.0], [4537, 0.0], [4538, 0.0], [4539, 0.0], [4540, 0.0], [4541, 0.0], [4542, 0.0], [4543, 0.0], [4544, 0.0], [4545, 0.0], [4546, 0.0], [4547, 0.0], [4548, 0.0], [4549, 0.0], [4550, 0.0], [4551, 0.0], [4552, 0.0], [4553, 0.0], [4554, 0.0], [4555, 0.0], [4556, 0.0], [4557, 0.0], [4558, 0.0], [4559, 0.0], [4560, 0.0], [4561, 0.0], [4562, 0.0], [4563, 0.0], [4564, 0.0], [4565, 0.0], [4566, 0.0], [4567, 0.0], [4568, 0.0], [4569, 0.0], [4570, 0.0], [4571, 0.0], [4572, 0.0], [4573, 0.0], [4574, 0.0], [4575, 0.0], [4576, 0.0], [4578, 0.0], [4579, 0.0], [4580, 0.0], [4581, 0.0], [4582, 0.0], [4583, 0.0], [4584, 0.0], [4585, 0.0], [4586, 0.0], [4587, 0.0], [4588, 0.0], [4589, 0.0], [4590, 0.0], [4591, 0.0], [4592, 0.0], [4593, 0.0], [4594, 0.0], [4595, 0.0], [4596, 0.0], [4597, 0.0], [4598, 0.0], [4599, 0.0], [4600, 0.0], [4601, 0.0], [4603, 0.0], [4604, 0.0], [4605, 0.0], [4606, 0.0], [4607, 0.0], [4608, 0.0], [4609, 0.0], [4610, 0.0], [4611, 0.0], [4612, 0.0], [4613, 0.0], [4615, 0.0], [4616, 0.0], [4617, 0.0], [4618, 0.0], [4619, 0.0], [4620, 0.0], [4621, 0.0], [4622, 0.0], [4623, 0.0], [4624, 0.0], [4625, 0.0], [4627, 0.0], [4628, 0.0], [4629, 0.0], [4630, 0.0], [4631, 0.0], [4632, 0.0], [4633, 0.0], [4634, 0.0], [4635, 0.0], [4636, 0.0], [4637, 0.0], [4638, 0.0], [4639, 0.0], [4640, 0.0], [4641, 0.0], [4643, 0.0], [4644, 0.0], [4645, 0.0], [4646, 0.0], [4647, 0.0], [4648, 0.0], [4649, 0.0], [4650, 0.0], [4651, 0.0], [4652, 0.0], [4653, 0.0], [4654, 0.0], [4655, 0.0], [4656, 0.0], [4657, 0.0], [4658, 0.0], [4659, 0.0], [4660, 0.0], [4661, 0.0], [4662, 0.0], [4663, 0.0], [4664, 0.0], [4665, 0.0], [4666, 0.0], [4667, 0.0], [4668, 0.0], [4669, 0.0], [4670, 0.0], [4671, 0.0], [4672, 0.0], [4673, 0.0], [4674, 0.0], [4675, 0.0], [4676, 0.0], [4677, 0.0], [4678, 0.0], [4679, 0.0], [4681, 0.0], [4682, 0.0], [4683, 0.0], [4684, 0.0], [4685, 0.0], [4686, 0.0], [4687, 0.0], [4688, 0.0], [4690, 0.0], [4691, 0.0], [4692, 0.0], [4693, 0.0], [4694, 0.0], [4695, 0.0], [4697, 0.0], [4698, 0.0], [4699, 0.0], [4700, 0.0], [4701, 0.0], [4702, 0.0], [4703, 0.0], [4704, 0.0], [4705, 0.0], [4706, 0.0], [4707, 0.0], [4708, 0.0], [4709, 0.0], [4710, 0.0], [4711, 0.0], [4712, 0.0], [4713, 0.0], [4714, 0.0], [4715, 0.0], [4716, 0.0], [4717, 0.0], [4718, 0.0], [4719, 0.0], [4720, 0.0], [4721, 0.0], [4722, 0.0], [4723, 0.0], [4724, 0.0], [4725, 0.0], [4726, 0.0], [4727, 0.0], [4728, 0.0], [4729, 0.0], [4730, 0.0], [4731, 0.0], [4732, 0.0], [4733, 0.0], [4734, 0.0], [4735, 0.0], [4736, 0.0], [4737, 0.0], [4738, 0.0], [4739, 0.0], [4740, 0.0], [4741, 0.0], [4742, 0.0], [4743, 0.0], [4744, 0.0], [4745, 0.0], [4746, 0.0], [4747, 0.0], [4748, 0.0], [4749, 0.0], [4750, 0.0], [4751, 0.0], [4752, 0.0], [4753, 0.0], [4754, 0.0], [4756, 0.0], [4757, 0.0], [4758, 0.0], [4759, 0.0], [4760, 0.0], [4761, 0.0], [4762, 0.0], [4763, 0.0], [4764, 0.0], [4765, 0.0], [4766, 0.0], [4767, 0.0], [4768, 0.0], [4769, 0.0], [4770, 0.0], [4771, 0.0], [4772, 0.0], [4773, 0.0], [4774, 0.0], [4775, 0.0], [4776, 0.0], [4777, 0.0], [4778, 0.0], [4779, 0.0], [4780, 0.0], [4781, 0.0], [4782, 0.0], [4783, 0.0], [4784, 0.0], [4785, 0.0], [4786, 0.0], [4787, 0.0], [4789, 0.0], [4790, 0.0], [4791, 0.0], [4792, 0.0], [4793, 0.0], [4795, 0.0], [4796, 0.0], [4797, 0.0], [4798, 0.0], [4799, 0.0], [4800, 0.0], [4801, 0.0], [4802, 0.0], [4803, 0.0], [4804, 0.0], [4805, 0.0], [4806, 0.0], [4807, 0.0], [4808, 0.0], [4809, 0.0], [4810, 0.0], [4811, 0.0], [4812, 0.0], [4813, 0.0], [4814, 0.0], [4815, 0.0], [4816, 0.0], [4817, 0.0], [4818, 0.0], [4819, 0.0], [4820, 0.0], [4821, 0.0], [4822, 0.0], [4823, 0.0], [4825, 0.0], [4826, 0.0], [4827, 0.0], [4828, 0.0], [4829, 0.0], [4830, 0.0], [4831, 0.0], [4832, 0.0], [4833, 0.0], [4834, 0.0], [4835, 0.0], [4836, 0.0], [4837, 0.0], [4838, 0.0], [4839, 0.0], [4840, 0.0], [4841, 0.0], [4843, 0.0], [4844, 0.0], [4845, 0.0], [4846, 0.0], [4847, 0.0], [4848, 0.0], [4849, 0.0], [4850, 0.0], [4851, 0.0], [4852, 0.0], [4853, 0.0], [4854, 0.0], [4855, 0.0], [4856, 0.0], [4857, 0.0], [4858, 0.0], [4859, 0.0], [4860, 0.0], [4861, 0.0], [4863, 0.0], [4864, 0.0], [4865, 0.0], [4866, 0.0], [4867, 0.0], [4868, 0.0], [4869, 0.0], [4870, 0.0], [4871, 0.0], [4873, 0.0], [4874, 0.0], [4875, 0.0], [4877, 0.0], [4878, 0.0], [4879, 0.0], [4880, 0.0], [4881, 0.0], [4882, 0.0], [4883, 0.0], [4884, 0.0], [4885, 0.0], [4886, 0.0], [4887, 0.0], [4888, 0.0], [4889, 0.0], [4890, 0.0], [4891, 0.0], [4892, 0.0], [4893, 0.0], [4894, 0.0], [4895, 0.0], [4896, 0.0], [4897, 0.0], [4898, 0.0], [4899, 0.0], [4900, 0.0], [4901, 0.0], [4902, 0.0], [4903, 0.0], [4905, 0.0], [4906, 0.0], [4907, 0.0], [4908, 0.0], [4910, 0.0], [4911, 0.0], [4912, 0.0], [4913, 0.0], [4914, 0.0], [4915, 0.0], [4916, 0.0], [4917, 0.0], [4918, 0.0], [4919, 0.0], [4920, 0.0], [4921, 0.0], [4922, 0.0], [4923, 0.0], [4924, 0.0], [4925, 0.0], [4926, 0.0], [4927, 0.0], [4928, 0.0], [4929, 0.0], [4930, 0.0], [4931, 0.0], [4932, 0.0], [4933, 0.0], [4934, 0.0], [4935, 0.0], [4936, 0.0], [4937, 0.0], [4938, 0.0], [4939, 0.0], [4940, 0.0], [4941, 0.0], [4942, 0.0], [4943, 0.0], [4944, 0.0], [4945, 0.0], [4946, 0.0], [4947, 0.0], [4948, 0.0], [4949, 0.0], [4950, 0.0], [4951, 0.0], [4952, 0.0], [4953, 0.0], [4954, 0.0], [4955, 0.0], [4956, 0.0], [4957, 0.0], [4958, 0.0], [4959, 0.0], [4960, 0.0], [4961, 0.0], [4962, 0.0], [4963, 0.0], [4964, 0.0], [4965, 0.0], [4966, 0.0], [4967, 0.0], [4968, 0.0], [4969, 0.0], [4971, 0.0], [4972, 0.0], [4973, 0.0], [4974, 0.0], [4975, 0.0], [4976, 0.0], [4977, 0.0], [4978, 0.0], [4979, 0.0], [4980, 0.0], [4981, 0.0], [4982, 0.0], [4983, 0.0], [4984, 0.0], [4985, 0.0], [4986, 0.0], [4987, 0.0], [4988, 0.0], [4989, 0.0], [4990, 0.0], [4991, 0.0], [4992, 0.0], [4993, 0.0], [4994, 0.0], [4996, 0.0], [4997, 0.0], [4998, 0.0], [4999, 0.0], [5000, 0.0], [5001, 0.0], [5002, 0.0], [5003, 0.0], [5004, 0.0], [5005, 0.0], [5006, 0.0], [5007, 0.0], [5008, 0.0], [5009, 0.0], [5010, 0.0], [5011, 0.0], [5012, 0.0], [5013, 0.0], [5014, 0.0], [5015, 0.0], [5016, 0.0], [5017, 0.0], [5018, 0.0], [5019, 0.0], [5020, 0.0], [5021, 0.0], [5022, 0.0], [5023, 0.0], [5024, 0.0], [5025, 0.0], [5026, 0.0], [5027, 0.0], [5028, 0.0], [5029, 0.0], [5030, 0.0], [5031, 0.0], [5032, 0.0], [5033, 0.0], [5034, 0.0], [5035, 0.0], [5036, 0.0], [5037, 0.0], [5038, 0.0], [5039, 0.0], [5040, 0.0], [5041, 0.0], [5042, 0.0], [5043, 0.0], [5044, 0.0], [5045, 0.0], [5046, 0.0], [5047, 0.0], [5048, 0.0], [5049, 0.0], [5050, 0.0], [5051, 0.0], [5052, 0.0], [5053, 0.0], [5054, 0.0], [5055, 0.0], [5056, 0.0], [5057, 0.0], [5058, 0.0], [5059, 0.0], [5060, 0.0], [5061, 0.0], [5062, 0.0], [5063, 0.0], [5064, 0.0], [5065, 0.0], [5066, 0.0], [5067, 0.0], [5068, 0.0], [5069, 0.0], [5070, 0.0], [5071, 0.0], [5072, 0.0], [5073, 0.0], [5074, 0.0], [5075, 0.0], [5076, 0.0], [5078, 0.0], [5080, 0.0], [5081, 0.0], [5082, 0.0], [5083, 0.0], [5084, 0.0], [5085, 0.0], [5086, 0.0], [5087, 0.0], [5088, 0.0], [5089, 0.0], [5090, 0.0], [5091, 0.0], [5092, 0.0], [5093, 0.0], [5094, 0.0], [5095, 0.0], [5096, 0.0], [5097, 0.0], [5098, 0.0], [5099, 0.0], [5100, 0.0], [5101, 0.0], [5102, 0.0], [5103, 0.0], [5104, 0.0], [5105, 0.0], [5106, 0.0], [5107, 0.0], [5108, 0.0], [5109, 0.0], [5110, 0.0], [5111, 0.0], [5113, 0.0], [5114, 0.0], [5115, 0.0], [5116, 0.0], [5117, 0.0], [5118, 0.0], [5119, 0.0], [5120, 0.0], [5121, 0.0], [5122, 0.0], [5123, 0.0], [5124, 0.0], [5125, 0.0], [5126, 0.0], [5127, 0.0], [5128, 0.0], [5129, 0.0], [5130, 0.0], [5131, 0.0], [5132, 0.0], [5133, 0.0], [5134, 0.0], [5135, 0.0], [5136, 0.0], [5137, 0.0], [5139, 0.0], [5140, 0.0], [5141, 0.0], [5142, 0.0], [5143, 0.0], [5144, 0.0], [5145, 0.0], [5146, 0.0], [5147, 0.0], [5148, 0.0], [5149, 0.0]]\n"
     ]
    }
   ],
   "source": [
    "user_id = 123  # Use integer user_id\n",
    "similar_users = find_similar_users(user_id, user_item, include_similarity=True)\n",
    "\n",
    "# Print the results\n",
    "print(similar_users)"
   ]
  },
  {
   "cell_type": "code",
   "execution_count": 24,
   "metadata": {},
   "outputs": [
    {
     "name": "stdout",
     "output_type": "stream",
     "text": [
      "The 10 most similar users to user 1 are: [3933, 46, 4201, 253, 824, 5034, 5041, 136, 2305, 395]\n",
      "The 5 most similar users to user 3933 are: [1, 46, 4201, 253, 824]\n",
      "The 3 most similar users to user 46 are: [4201, 790, 5077]\n"
     ]
    }
   ],
   "source": [
    "# Do a spot check of your function\n",
    "print(\"The 10 most similar users to user 1 are: {}\".format(find_similar_users(1, user_item)[:10]))\n",
    "print(\"The 5 most similar users to user 3933 are: {}\".format(find_similar_users(3933, user_item)[:5]))\n",
    "print(\"The 3 most similar users to user 46 are: {}\".format(find_similar_users(46, user_item)[:3]))"
   ]
  },
  {
   "cell_type": "markdown",
   "metadata": {},
   "source": [
    "`3.` Now that you have a function that provides the most similar users to each user, you will want to use these users to find articles you can recommend.  Complete the functions below to return the articles you would recommend to each user. "
   ]
  },
  {
   "cell_type": "code",
   "execution_count": 25,
   "metadata": {},
   "outputs": [],
   "source": [
    "def get_article_names(article_ids, df=df):\n",
    "    \"\"\"\n",
    "    INPUT:\n",
    "    article_ids - (list) a list of article ids\n",
    "    df - (pandas dataframe) df as defined at the top of the notebook\n",
    "    \n",
    "    OUTPUT:\n",
    "    article_names - (list) a list of article names associated with the list of article ids \n",
    "                    (this is identified by the title column in df)\n",
    "    \"\"\"\n",
    "    # Extract article titles from the df based on the given article_ids\n",
    "    article_names = df[df['article_id'].isin(article_ids)]['title'].tolist()\n",
    "    \n",
    "    return article_names  # Return the article names associated with the list of article ids"
   ]
  },
  {
   "cell_type": "code",
   "execution_count": 26,
   "metadata": {},
   "outputs": [],
   "source": [
    "def get_ranked_article_unique_counts(article_ids, user_item=user_item):\n",
    "    \"\"\"\n",
    "    INPUT:\n",
    "    article_ids - (list) a list of article ids\n",
    "    user_item - (pandas dataframe) matrix of users by articles: \n",
    "                1's when a user has interacted with an article, 0 otherwise \n",
    "    \n",
    "    OUTPUT:\n",
    "    article_counts - (list) a list of tuples with article_id and number of \n",
    "                     unique users that have interacted with the article, sorted\n",
    "                     by the number of unique users in descending order\n",
    "    \n",
    "    Description:\n",
    "    Provides a list of the article_ids and the number of unique users that have\n",
    "    interacted with the article using the user_item matrix, sorted by the number\n",
    "    of unique users in descending order\n",
    "    \"\"\"\n",
    "    # Count unique users per article (sum the rows for each article)\n",
    "    article_counts = user_item[article_ids].sum(axis=0).reset_index()\n",
    "    article_counts.columns = ['article_id', 'user_count']\n",
    "    \n",
    "    # Sort by the number of unique users in descending order\n",
    "    ranked_article_unique_counts = article_counts.sort_values(by='user_count', ascending=False)\n",
    "    \n",
    "    return ranked_article_unique_counts.values.tolist()  # Return sorted list of article_id and user_count\n"
   ]
  },
  {
   "cell_type": "code",
   "execution_count": 27,
   "metadata": {},
   "outputs": [],
   "source": [
    "def get_user_articles(user_id, user_item=user_item):\n",
    "    \"\"\"\n",
    "    INPUT:\n",
    "    user_id - (int) a user id\n",
    "    user_item - (pandas dataframe) matrix of users by articles: \n",
    "                1's when a user has interacted with an article, 0 otherwise\n",
    "    \n",
    "    OUTPUT:\n",
    "    article_ids - (list) a list of the article ids seen by the user\n",
    "    article_names - (list) a list of article names associated with the list of article ids \n",
    "                    (this is identified by the title column in df)\n",
    "    \n",
    "    Description:\n",
    "    Provides a list of the article_ids and article titles that have been seen by a user\n",
    "    \"\"\"\n",
    "    # Get the list of articles the user has interacted with\n",
    "    article_ids = user_item.columns[user_item.loc[user_id] == 1].tolist()\n",
    "    \n",
    "    # Get the article names corresponding to the article_ids\n",
    "    article_names = get_article_names(article_ids, df)\n",
    "    \n",
    "    return article_ids, article_names  # Return the ids and names\n"
   ]
  },
  {
   "cell_type": "code",
   "execution_count": null,
   "metadata": {},
   "outputs": [],
   "source": [
    "def user_user_recs(user_id, m=10):\n",
    "    \"\"\"\n",
    "    INPUT:\n",
    "    user_id - (int) a user id\n",
    "    m - (int) the number of recommendations you want for the user\n",
    "    \n",
    "    OUTPUT:\n",
    "    recs - (list) a list of recommendations for the user\n",
    "    \n",
    "    Description:\n",
    "    Loops through the users based on closeness to the input user_id\n",
    "    For each user - finds articles the user hasn't seen before and provides them as recs\n",
    "    Does this until m recommendations are found\n",
    "    \n",
    "    Notes:\n",
    "    Users who are the same closeness are chosen arbitrarily as the 'next' user\n",
    "    \n",
    "    For the user where the number of recommended articles starts below m \n",
    "    and ends exceeding m, the last items are chosen arbitrarily\n",
    "    \"\"\"\n",
    "    # Get the most similar users\n",
    "    similar_users = find_similar_users(user_id, user_item, include_similarity=False)\n",
    "    \n",
    "    # Get the articles that the input user has already seen\n",
    "    user_articles, _ = get_user_articles(user_id, user_item)\n",
    "    \n",
    "    recs = []\n",
    "    \n",
    "    # Loop through similar users to find recommendations\n",
    "    for similar_user in similar_users:\n",
    "        # Get the articles that the similar user has seen\n",
    "        similar_user_articles, _ = get_user_articles(similar_user, user_item)\n",
    "        \n",
    "        # Filter out articles that the input user has already seen\n",
    "        new_articles = [article for article in similar_user_articles if article not in user_articles]\n",
    "        \n",
    "        # Add the new articles to recommendations\n",
    "        recs.extend(new_articles)\n",
    "        \n",
    "        # If we've found enough recommendations, break the loop\n",
    "        if len(recs) >= m:\n",
    "            break\n",
    "    \n",
    "    # If there are too many, limit the recommendations to the first m articles\n",
    "    recs = recs[:m]\n",
    "    \n",
    "    return recs  # Return the list of recommended articles for the user\n"
   ]
  },
  {
   "cell_type": "code",
   "execution_count": 29,
   "metadata": {},
   "outputs": [
    {
     "data": {
      "text/plain": [
       "['leverage python, scikit, and text classification for behavioral profiling',\n",
       " 'leverage python, scikit, and text classification for behavioral profiling',\n",
       " 'challenges in deep learning',\n",
       " 'awesome deep learning papers',\n",
       " 'leverage python, scikit, and text classification for behavioral profiling',\n",
       " 'leverage python, scikit, and text classification for behavioral profiling',\n",
       " 'leverage python, scikit, and text classification for behavioral profiling',\n",
       " 'leverage python, scikit, and text classification for behavioral profiling',\n",
       " 'leverage python, scikit, and text classification for behavioral profiling',\n",
       " 'awesome deep learning papers',\n",
       " 'this week in data science (april 18, 2017)',\n",
       " 'this week in data science (april 18, 2017)',\n",
       " 'leverage python, scikit, and text classification for behavioral profiling',\n",
       " 'leverage python, scikit, and text classification for behavioral profiling',\n",
       " 'improving the roi of big data and analytics through leveraging new sources of data',\n",
       " 'this week in data science (may 2, 2017)',\n",
       " 'improving the roi of big data and analytics through leveraging new sources of data',\n",
       " 'leverage python, scikit, and text classification for behavioral profiling',\n",
       " 'this week in data science (may 2, 2017)',\n",
       " 'this week in data science (april 18, 2017)',\n",
       " 'challenges in deep learning',\n",
       " 'challenges in deep learning',\n",
       " 'this week in data science (april 18, 2017)',\n",
       " 'challenges in deep learning',\n",
       " 'challenges in deep learning',\n",
       " 'awesome deep learning papers',\n",
       " 'challenges in deep learning',\n",
       " 'this week in data science (april 18, 2017)',\n",
       " 'leverage python, scikit, and text classification for behavioral profiling',\n",
       " 'this week in data science (april 18, 2017)',\n",
       " 'challenges in deep learning',\n",
       " 'leverage python, scikit, and text classification for behavioral profiling',\n",
       " 'challenges in deep learning',\n",
       " 'challenges in deep learning',\n",
       " 'this week in data science (may 2, 2017)',\n",
       " 'this week in data science (april 18, 2017)',\n",
       " 'this week in data science (may 2, 2017)',\n",
       " 'improving the roi of big data and analytics through leveraging new sources of data',\n",
       " 'challenges in deep learning',\n",
       " 'this week in data science (april 18, 2017)',\n",
       " 'improving the roi of big data and analytics through leveraging new sources of data',\n",
       " 'challenges in deep learning',\n",
       " 'this week in data science (may 2, 2017)',\n",
       " 'awesome deep learning papers',\n",
       " 'leverage python, scikit, and text classification for behavioral profiling',\n",
       " 'using apply, sapply, lapply in r',\n",
       " 'improving the roi of big data and analytics through leveraging new sources of data',\n",
       " 'this week in data science (april 18, 2017)',\n",
       " 'this week in data science (may 2, 2017)',\n",
       " 'how can data scientists collaborate to build better business',\n",
       " 'improving the roi of big data and analytics through leveraging new sources of data',\n",
       " 'this week in data science (may 2, 2017)',\n",
       " 'top 20 r machine learning and data science packages',\n",
       " 'challenges in deep learning',\n",
       " 'this week in data science (april 18, 2017)',\n",
       " 'this week in data science (may 2, 2017)',\n",
       " 'leverage python, scikit, and text classification for behavioral profiling',\n",
       " 'how can data scientists collaborate to build better business',\n",
       " 'improving the roi of big data and analytics through leveraging new sources of data',\n",
       " 'challenges in deep learning',\n",
       " 'this week in data science (may 2, 2017)',\n",
       " 'using apply, sapply, lapply in r',\n",
       " 'using apply, sapply, lapply in r',\n",
       " 'challenges in deep learning',\n",
       " 'this week in data science (april 18, 2017)',\n",
       " 'this week in data science (may 2, 2017)',\n",
       " 'top 20 r machine learning and data science packages',\n",
       " 'this week in data science (may 2, 2017)',\n",
       " 'challenges in deep learning',\n",
       " 'awesome deep learning papers',\n",
       " 'awesome deep learning papers',\n",
       " 'leverage python, scikit, and text classification for behavioral profiling',\n",
       " 'using apply, sapply, lapply in r',\n",
       " 'using apply, sapply, lapply in r',\n",
       " 'how can data scientists collaborate to build better business',\n",
       " 'this week in data science (may 2, 2017)',\n",
       " 'how can data scientists collaborate to build better business',\n",
       " 'this week in data science (april 18, 2017)',\n",
       " 'this week in data science (may 2, 2017)',\n",
       " 'this week in data science (may 2, 2017)',\n",
       " 'this week in data science (may 2, 2017)',\n",
       " 'challenges in deep learning',\n",
       " 'challenges in deep learning',\n",
       " 'improving the roi of big data and analytics through leveraging new sources of data',\n",
       " 'improving the roi of big data and analytics through leveraging new sources of data',\n",
       " 'leverage python, scikit, and text classification for behavioral profiling',\n",
       " 'this week in data science (april 18, 2017)',\n",
       " 'this week in data science (april 18, 2017)',\n",
       " 'leverage python, scikit, and text classification for behavioral profiling',\n",
       " 'how can data scientists collaborate to build better business',\n",
       " 'awesome deep learning papers',\n",
       " 'challenges in deep learning',\n",
       " 'this week in data science (april 18, 2017)',\n",
       " 'challenges in deep learning',\n",
       " 'using apply, sapply, lapply in r',\n",
       " 'this week in data science (april 18, 2017)',\n",
       " 'this week in data science (may 2, 2017)',\n",
       " 'using apply, sapply, lapply in r',\n",
       " 'challenges in deep learning',\n",
       " 'challenges in deep learning',\n",
       " 'improving the roi of big data and analytics through leveraging new sources of data',\n",
       " 'challenges in deep learning',\n",
       " 'challenges in deep learning',\n",
       " 'improving the roi of big data and analytics through leveraging new sources of data',\n",
       " 'challenges in deep learning',\n",
       " 'challenges in deep learning',\n",
       " 'this week in data science (may 2, 2017)',\n",
       " 'this week in data science (april 18, 2017)',\n",
       " 'challenges in deep learning',\n",
       " 'challenges in deep learning',\n",
       " 'challenges in deep learning',\n",
       " 'leverage python, scikit, and text classification for behavioral profiling',\n",
       " 'using apply, sapply, lapply in r',\n",
       " 'this week in data science (april 18, 2017)',\n",
       " 'this week in data science (april 18, 2017)',\n",
       " 'this week in data science (april 18, 2017)',\n",
       " 'challenges in deep learning',\n",
       " 'top 20 r machine learning and data science packages',\n",
       " 'this week in data science (may 2, 2017)',\n",
       " 'improving the roi of big data and analytics through leveraging new sources of data',\n",
       " 'this week in data science (may 2, 2017)',\n",
       " 'challenges in deep learning',\n",
       " 'awesome deep learning papers',\n",
       " 'leverage python, scikit, and text classification for behavioral profiling',\n",
       " 'leverage python, scikit, and text classification for behavioral profiling',\n",
       " 'leverage python, scikit, and text classification for behavioral profiling',\n",
       " 'challenges in deep learning',\n",
       " 'this week in data science (may 2, 2017)',\n",
       " 'challenges in deep learning',\n",
       " 'this week in data science (april 18, 2017)',\n",
       " 'leverage python, scikit, and text classification for behavioral profiling',\n",
       " 'awesome deep learning papers',\n",
       " 'leverage python, scikit, and text classification for behavioral profiling',\n",
       " 'leverage python, scikit, and text classification for behavioral profiling',\n",
       " 'this week in data science (may 2, 2017)',\n",
       " 'challenges in deep learning',\n",
       " 'using apply, sapply, lapply in r',\n",
       " 'this week in data science (april 18, 2017)',\n",
       " 'challenges in deep learning',\n",
       " 'this week in data science (may 2, 2017)',\n",
       " 'challenges in deep learning',\n",
       " 'awesome deep learning papers',\n",
       " 'challenges in deep learning',\n",
       " 'improving the roi of big data and analytics through leveraging new sources of data',\n",
       " 'top 20 r machine learning and data science packages',\n",
       " 'leverage python, scikit, and text classification for behavioral profiling',\n",
       " 'improving the roi of big data and analytics through leveraging new sources of data',\n",
       " 'this week in data science (april 18, 2017)',\n",
       " 'this week in data science (may 2, 2017)',\n",
       " 'do i need to learn r?',\n",
       " 'this week in data science (april 18, 2017)',\n",
       " 'improving the roi of big data and analytics through leveraging new sources of data',\n",
       " 'this week in data science (may 2, 2017)',\n",
       " 'how can data scientists collaborate to build better business',\n",
       " 'this week in data science (may 2, 2017)',\n",
       " 'this week in data science (april 18, 2017)',\n",
       " 'leverage python, scikit, and text classification for behavioral profiling',\n",
       " 'using apply, sapply, lapply in r',\n",
       " 'challenges in deep learning',\n",
       " 'leverage python, scikit, and text classification for behavioral profiling',\n",
       " 'how can data scientists collaborate to build better business',\n",
       " 'leverage python, scikit, and text classification for behavioral profiling',\n",
       " 'challenges in deep learning',\n",
       " 'improving the roi of big data and analytics through leveraging new sources of data',\n",
       " 'leverage python, scikit, and text classification for behavioral profiling',\n",
       " 'challenges in deep learning',\n",
       " 'challenges in deep learning',\n",
       " 'this week in data science (april 18, 2017)',\n",
       " 'challenges in deep learning',\n",
       " 'awesome deep learning papers',\n",
       " 'challenges in deep learning',\n",
       " 'leverage python, scikit, and text classification for behavioral profiling',\n",
       " 'challenges in deep learning',\n",
       " 'using apply, sapply, lapply in r',\n",
       " 'challenges in deep learning',\n",
       " 'do i need to learn r?',\n",
       " 'challenges in deep learning',\n",
       " 'this week in data science (may 2, 2017)',\n",
       " 'this week in data science (april 18, 2017)',\n",
       " 'do i need to learn r?',\n",
       " 'improving the roi of big data and analytics through leveraging new sources of data',\n",
       " 'leverage python, scikit, and text classification for behavioral profiling',\n",
       " 'leverage python, scikit, and text classification for behavioral profiling',\n",
       " 'leverage python, scikit, and text classification for behavioral profiling',\n",
       " 'leverage python, scikit, and text classification for behavioral profiling',\n",
       " 'how can data scientists collaborate to build better business',\n",
       " 'leverage python, scikit, and text classification for behavioral profiling',\n",
       " 'leverage python, scikit, and text classification for behavioral profiling',\n",
       " 'leverage python, scikit, and text classification for behavioral profiling',\n",
       " 'using apply, sapply, lapply in r',\n",
       " 'awesome deep learning papers',\n",
       " 'leverage python, scikit, and text classification for behavioral profiling',\n",
       " 'leverage python, scikit, and text classification for behavioral profiling',\n",
       " 'challenges in deep learning',\n",
       " 'leverage python, scikit, and text classification for behavioral profiling',\n",
       " 'challenges in deep learning',\n",
       " 'leverage python, scikit, and text classification for behavioral profiling',\n",
       " 'challenges in deep learning',\n",
       " 'leverage python, scikit, and text classification for behavioral profiling',\n",
       " 'leverage python, scikit, and text classification for behavioral profiling',\n",
       " 'using apply, sapply, lapply in r',\n",
       " 'challenges in deep learning',\n",
       " 'challenges in deep learning',\n",
       " 'leverage python, scikit, and text classification for behavioral profiling',\n",
       " 'leverage python, scikit, and text classification for behavioral profiling',\n",
       " 'using apply, sapply, lapply in r',\n",
       " 'leverage python, scikit, and text classification for behavioral profiling',\n",
       " 'how can data scientists collaborate to build better business',\n",
       " 'awesome deep learning papers',\n",
       " 'how can data scientists collaborate to build better business',\n",
       " 'awesome deep learning papers',\n",
       " 'leverage python, scikit, and text classification for behavioral profiling',\n",
       " 'awesome deep learning papers',\n",
       " 'leverage python, scikit, and text classification for behavioral profiling',\n",
       " 'leverage python, scikit, and text classification for behavioral profiling',\n",
       " 'leverage python, scikit, and text classification for behavioral profiling',\n",
       " 'improving the roi of big data and analytics through leveraging new sources of data',\n",
       " 'challenges in deep learning',\n",
       " 'leverage python, scikit, and text classification for behavioral profiling',\n",
       " 'top 20 r machine learning and data science packages',\n",
       " 'awesome deep learning papers',\n",
       " 'challenges in deep learning',\n",
       " 'improving the roi of big data and analytics through leveraging new sources of data',\n",
       " 'challenges in deep learning',\n",
       " 'top 20 r machine learning and data science packages',\n",
       " 'this week in data science (may 2, 2017)',\n",
       " 'awesome deep learning papers',\n",
       " 'using apply, sapply, lapply in r',\n",
       " 'leverage python, scikit, and text classification for behavioral profiling',\n",
       " 'challenges in deep learning',\n",
       " 'top 20 r machine learning and data science packages',\n",
       " 'improving the roi of big data and analytics through leveraging new sources of data',\n",
       " 'improving the roi of big data and analytics through leveraging new sources of data',\n",
       " 'leverage python, scikit, and text classification for behavioral profiling',\n",
       " 'using apply, sapply, lapply in r',\n",
       " 'challenges in deep learning',\n",
       " 'this week in data science (april 18, 2017)',\n",
       " 'awesome deep learning papers',\n",
       " 'using apply, sapply, lapply in r',\n",
       " 'leverage python, scikit, and text classification for behavioral profiling',\n",
       " 'awesome deep learning papers',\n",
       " 'do i need to learn r?',\n",
       " 'using apply, sapply, lapply in r',\n",
       " 'awesome deep learning papers',\n",
       " 'using apply, sapply, lapply in r',\n",
       " 'leverage python, scikit, and text classification for behavioral profiling',\n",
       " 'top 20 r machine learning and data science packages',\n",
       " 'challenges in deep learning',\n",
       " 'this week in data science (april 18, 2017)',\n",
       " 'challenges in deep learning',\n",
       " 'challenges in deep learning',\n",
       " 'challenges in deep learning',\n",
       " 'awesome deep learning papers',\n",
       " 'this week in data science (may 2, 2017)',\n",
       " 'using apply, sapply, lapply in r',\n",
       " 'this week in data science (may 2, 2017)',\n",
       " 'challenges in deep learning',\n",
       " 'top 20 r machine learning and data science packages',\n",
       " 'this week in data science (may 2, 2017)',\n",
       " 'using apply, sapply, lapply in r',\n",
       " 'awesome deep learning papers',\n",
       " 'leverage python, scikit, and text classification for behavioral profiling',\n",
       " 'using apply, sapply, lapply in r',\n",
       " 'challenges in deep learning',\n",
       " 'using apply, sapply, lapply in r',\n",
       " 'top 20 r machine learning and data science packages',\n",
       " 'leverage python, scikit, and text classification for behavioral profiling',\n",
       " 'top 20 r machine learning and data science packages',\n",
       " 'top 20 r machine learning and data science packages',\n",
       " 'improving the roi of big data and analytics through leveraging new sources of data',\n",
       " 'top 20 r machine learning and data science packages',\n",
       " 'using apply, sapply, lapply in r',\n",
       " 'this week in data science (april 18, 2017)',\n",
       " 'awesome deep learning papers',\n",
       " 'top 20 r machine learning and data science packages',\n",
       " 'using apply, sapply, lapply in r',\n",
       " 'this week in data science (april 18, 2017)',\n",
       " 'challenges in deep learning',\n",
       " 'challenges in deep learning',\n",
       " 'awesome deep learning papers',\n",
       " 'challenges in deep learning',\n",
       " 'leverage python, scikit, and text classification for behavioral profiling',\n",
       " 'awesome deep learning papers',\n",
       " 'top 20 r machine learning and data science packages',\n",
       " 'leverage python, scikit, and text classification for behavioral profiling',\n",
       " 'leverage python, scikit, and text classification for behavioral profiling',\n",
       " 'leverage python, scikit, and text classification for behavioral profiling',\n",
       " 'this week in data science (april 18, 2017)',\n",
       " 'challenges in deep learning',\n",
       " 'this week in data science (may 2, 2017)',\n",
       " 'leverage python, scikit, and text classification for behavioral profiling',\n",
       " 'this week in data science (april 18, 2017)',\n",
       " 'this week in data science (may 2, 2017)',\n",
       " 'this week in data science (may 2, 2017)',\n",
       " 'leverage python, scikit, and text classification for behavioral profiling',\n",
       " 'this week in data science (april 18, 2017)',\n",
       " 'leverage python, scikit, and text classification for behavioral profiling',\n",
       " 'awesome deep learning papers',\n",
       " 'leverage python, scikit, and text classification for behavioral profiling',\n",
       " 'challenges in deep learning',\n",
       " 'this week in data science (may 2, 2017)',\n",
       " 'this week in data science (april 18, 2017)',\n",
       " 'challenges in deep learning',\n",
       " 'this week in data science (may 2, 2017)',\n",
       " 'how can data scientists collaborate to build better business',\n",
       " 'this week in data science (may 2, 2017)',\n",
       " 'challenges in deep learning',\n",
       " 'using apply, sapply, lapply in r',\n",
       " 'challenges in deep learning',\n",
       " 'this week in data science (may 2, 2017)',\n",
       " 'this week in data science (may 2, 2017)',\n",
       " 'challenges in deep learning',\n",
       " 'challenges in deep learning',\n",
       " 'this week in data science (may 2, 2017)',\n",
       " 'using apply, sapply, lapply in r',\n",
       " 'awesome deep learning papers',\n",
       " 'improving the roi of big data and analytics through leveraging new sources of data',\n",
       " 'top 20 r machine learning and data science packages',\n",
       " 'using apply, sapply, lapply in r',\n",
       " 'this week in data science (april 18, 2017)',\n",
       " 'improving the roi of big data and analytics through leveraging new sources of data',\n",
       " 'using apply, sapply, lapply in r',\n",
       " 'awesome deep learning papers',\n",
       " 'challenges in deep learning',\n",
       " 'improving the roi of big data and analytics through leveraging new sources of data',\n",
       " 'top 20 r machine learning and data science packages',\n",
       " 'improving the roi of big data and analytics through leveraging new sources of data',\n",
       " 'top 20 r machine learning and data science packages',\n",
       " 'challenges in deep learning',\n",
       " 'how can data scientists collaborate to build better business',\n",
       " 'using apply, sapply, lapply in r',\n",
       " 'awesome deep learning papers',\n",
       " 'leverage python, scikit, and text classification for behavioral profiling',\n",
       " 'challenges in deep learning',\n",
       " 'this week in data science (april 18, 2017)',\n",
       " 'this week in data science (may 2, 2017)',\n",
       " 'this week in data science (may 2, 2017)',\n",
       " 'leverage python, scikit, and text classification for behavioral profiling',\n",
       " 'awesome deep learning papers',\n",
       " 'leverage python, scikit, and text classification for behavioral profiling',\n",
       " 'improving the roi of big data and analytics through leveraging new sources of data',\n",
       " 'this week in data science (april 18, 2017)',\n",
       " 'leverage python, scikit, and text classification for behavioral profiling',\n",
       " 'challenges in deep learning',\n",
       " 'awesome deep learning papers',\n",
       " 'this week in data science (april 18, 2017)',\n",
       " 'this week in data science (may 2, 2017)',\n",
       " 'how can data scientists collaborate to build better business',\n",
       " 'this week in data science (may 2, 2017)',\n",
       " 'do i need to learn r?',\n",
       " 'how can data scientists collaborate to build better business',\n",
       " 'this week in data science (april 18, 2017)',\n",
       " 'challenges in deep learning',\n",
       " 'using apply, sapply, lapply in r',\n",
       " 'leverage python, scikit, and text classification for behavioral profiling',\n",
       " 'top 20 r machine learning and data science packages',\n",
       " 'awesome deep learning papers',\n",
       " 'this week in data science (may 2, 2017)',\n",
       " 'improving the roi of big data and analytics through leveraging new sources of data',\n",
       " 'this week in data science (may 2, 2017)',\n",
       " 'improving the roi of big data and analytics through leveraging new sources of data',\n",
       " 'this week in data science (may 2, 2017)',\n",
       " 'improving the roi of big data and analytics through leveraging new sources of data',\n",
       " 'this week in data science (may 2, 2017)',\n",
       " 'this week in data science (april 18, 2017)',\n",
       " 'this week in data science (april 18, 2017)',\n",
       " 'top 20 r machine learning and data science packages',\n",
       " 'leverage python, scikit, and text classification for behavioral profiling',\n",
       " 'awesome deep learning papers',\n",
       " 'awesome deep learning papers',\n",
       " 'using apply, sapply, lapply in r',\n",
       " 'this week in data science (april 18, 2017)',\n",
       " 'using apply, sapply, lapply in r',\n",
       " 'using apply, sapply, lapply in r',\n",
       " 'using apply, sapply, lapply in r',\n",
       " 'challenges in deep learning',\n",
       " 'improving the roi of big data and analytics through leveraging new sources of data',\n",
       " 'this week in data science (may 2, 2017)',\n",
       " 'challenges in deep learning',\n",
       " 'improving the roi of big data and analytics through leveraging new sources of data',\n",
       " 'leverage python, scikit, and text classification for behavioral profiling',\n",
       " 'challenges in deep learning',\n",
       " 'how can data scientists collaborate to build better business',\n",
       " 'this week in data science (april 18, 2017)',\n",
       " 'awesome deep learning papers',\n",
       " 'this week in data science (may 2, 2017)',\n",
       " 'awesome deep learning papers',\n",
       " 'leverage python, scikit, and text classification for behavioral profiling',\n",
       " 'improving the roi of big data and analytics through leveraging new sources of data',\n",
       " 'challenges in deep learning',\n",
       " 'challenges in deep learning',\n",
       " 'this week in data science (april 18, 2017)',\n",
       " 'awesome deep learning papers',\n",
       " 'leverage python, scikit, and text classification for behavioral profiling',\n",
       " 'leverage python, scikit, and text classification for behavioral profiling',\n",
       " 'leverage python, scikit, and text classification for behavioral profiling',\n",
       " 'this week in data science (may 2, 2017)',\n",
       " 'this week in data science (april 18, 2017)',\n",
       " 'this week in data science (may 2, 2017)',\n",
       " 'how can data scientists collaborate to build better business',\n",
       " 'improving the roi of big data and analytics through leveraging new sources of data',\n",
       " 'leverage python, scikit, and text classification for behavioral profiling',\n",
       " 'this week in data science (may 2, 2017)',\n",
       " 'improving the roi of big data and analytics through leveraging new sources of data',\n",
       " 'this week in data science (may 2, 2017)',\n",
       " 'awesome deep learning papers',\n",
       " 'leverage python, scikit, and text classification for behavioral profiling',\n",
       " 'leverage python, scikit, and text classification for behavioral profiling',\n",
       " 'this week in data science (may 2, 2017)',\n",
       " 'using apply, sapply, lapply in r',\n",
       " 'this week in data science (april 18, 2017)',\n",
       " 'top 20 r machine learning and data science packages',\n",
       " 'awesome deep learning papers',\n",
       " 'improving the roi of big data and analytics through leveraging new sources of data',\n",
       " 'this week in data science (april 18, 2017)',\n",
       " 'improving the roi of big data and analytics through leveraging new sources of data',\n",
       " 'leverage python, scikit, and text classification for behavioral profiling',\n",
       " 'top 20 r machine learning and data science packages',\n",
       " 'top 20 r machine learning and data science packages',\n",
       " 'this week in data science (april 18, 2017)',\n",
       " 'leverage python, scikit, and text classification for behavioral profiling',\n",
       " 'how can data scientists collaborate to build better business',\n",
       " 'top 20 r machine learning and data science packages',\n",
       " 'improving the roi of big data and analytics through leveraging new sources of data',\n",
       " 'leverage python, scikit, and text classification for behavioral profiling',\n",
       " 'leverage python, scikit, and text classification for behavioral profiling',\n",
       " 'this week in data science (april 18, 2017)',\n",
       " 'improving the roi of big data and analytics through leveraging new sources of data',\n",
       " 'this week in data science (may 2, 2017)',\n",
       " 'challenges in deep learning',\n",
       " 'leverage python, scikit, and text classification for behavioral profiling',\n",
       " 'this week in data science (april 18, 2017)',\n",
       " 'this week in data science (april 18, 2017)',\n",
       " 'challenges in deep learning',\n",
       " 'using apply, sapply, lapply in r',\n",
       " 'using apply, sapply, lapply in r',\n",
       " 'awesome deep learning papers',\n",
       " 'leverage python, scikit, and text classification for behavioral profiling',\n",
       " 'using apply, sapply, lapply in r',\n",
       " 'this week in data science (may 2, 2017)',\n",
       " 'using apply, sapply, lapply in r',\n",
       " 'improving the roi of big data and analytics through leveraging new sources of data',\n",
       " 'leverage python, scikit, and text classification for behavioral profiling',\n",
       " 'do i need to learn r?',\n",
       " 'this week in data science (may 2, 2017)',\n",
       " 'using apply, sapply, lapply in r',\n",
       " 'this week in data science (april 18, 2017)',\n",
       " 'this week in data science (april 18, 2017)',\n",
       " 'this week in data science (april 18, 2017)',\n",
       " 'leverage python, scikit, and text classification for behavioral profiling',\n",
       " 'leverage python, scikit, and text classification for behavioral profiling',\n",
       " 'challenges in deep learning',\n",
       " 'using apply, sapply, lapply in r',\n",
       " 'awesome deep learning papers',\n",
       " 'challenges in deep learning',\n",
       " 'leverage python, scikit, and text classification for behavioral profiling',\n",
       " 'leverage python, scikit, and text classification for behavioral profiling',\n",
       " 'this week in data science (april 18, 2017)',\n",
       " 'this week in data science (april 18, 2017)',\n",
       " 'how can data scientists collaborate to build better business',\n",
       " 'this week in data science (april 18, 2017)']"
      ]
     },
     "execution_count": 29,
     "metadata": {},
     "output_type": "execute_result"
    }
   ],
   "source": [
    "# Check Results\n",
    "get_article_names(user_user_recs(1, 10)) # Return 10 recommendations for user 1"
   ]
  },
  {
   "cell_type": "code",
   "execution_count": 30,
   "metadata": {},
   "outputs": [
    {
     "data": {
      "text/plain": [
       "[[1320, 123], [844, 78], [232, 62]]"
      ]
     },
     "execution_count": 30,
     "metadata": {},
     "output_type": "execute_result"
    }
   ],
   "source": [
    "get_ranked_article_unique_counts([1320, 232, 844])"
   ]
  },
  {
   "cell_type": "code",
   "execution_count": 31,
   "metadata": {},
   "outputs": [
    {
     "name": "stdout",
     "output_type": "stream",
     "text": [
      "If this is all you see, you passed all of our tests!  Nice job!\n"
     ]
    }
   ],
   "source": [
    "# Test your functions here - No need to change this code - just run this cell\n",
    "assert set(get_article_names([1024, 1176, 1305, 1314, 1422, 1427])) == set(['using deep learning to reconstruct high-resolution audio', 'build a python app on the streaming analytics service', 'gosales transactions for naive bayes model', 'healthcare python streaming application demo', 'use r dataframes & ibm watson natural language understanding', 'use xgboost, scikit-learn & ibm watson machine learning apis']), \"Oops! Your the get_article_names function doesn't work quite how we expect.\"\n",
    "assert set(get_article_names([1320, 232, 844])) == set(['housing (2015): united states demographic measures','self-service data preparation with ibm data refinery','use the cloudant-spark connector in python notebook']), \"Oops! Your the get_article_names function doesn't work quite how we expect.\"\n",
    "assert set(get_user_articles(20)[0]) == set([1320, 232, 844])\n",
    "assert set(get_user_articles(20)[1]) == set(['housing (2015): united states demographic measures', 'self-service data preparation with ibm data refinery','use the cloudant-spark connector in python notebook'])\n",
    "assert set(get_user_articles(2)[0]) == set([1024, 1176, 1305, 1314, 1422, 1427])\n",
    "assert set(get_user_articles(2)[1]) == set(['using deep learning to reconstruct high-resolution audio', 'build a python app on the streaming analytics service', 'gosales transactions for naive bayes model', 'healthcare python streaming application demo', 'use r dataframes & ibm watson natural language understanding', 'use xgboost, scikit-learn & ibm watson machine learning apis'])\n",
    "assert get_ranked_article_unique_counts([1320, 232, 844])[0] == [1320, 123], \"Oops! Your the get_ranked_article_unique_counts function doesn't work quite how we expect.\\nMake sure you are using the user_item matrix to create the article counts.\"\n",
    "print(\"If this is all you see, you passed all of our tests!  Nice job!\")"
   ]
  },
  {
   "cell_type": "markdown",
   "metadata": {},
   "source": [
    "`4.` Now we are going to improve the consistency of the **user_user_recs** function from above.  \n",
    "\n",
    "* Instead of arbitrarily choosing when we obtain users who are all the same closeness to a given user - choose the users that have the most total article interactions before choosing those with fewer article interactions.\n",
    "\n",
    "\n",
    "* Instead of arbitrarily choosing articles from the user where the number of recommended articles starts below m and ends exceeding m, choose articles with the articles with the most total interactions before choosing those with fewer total interactions. This ranking should be  what would be obtained from the **top_articles** function you wrote earlier."
   ]
  },
  {
   "cell_type": "code",
   "execution_count": 32,
   "metadata": {},
   "outputs": [],
   "source": [
    "def get_top_sorted_users(user_id, user_item=user_item):\n",
    "    \"\"\"\n",
    "    INPUT:\n",
    "    user_id - (int)\n",
    "    user_item - (pandas dataframe) matrix of users by articles: \n",
    "            1's when a user has interacted with an article, 0 otherwise\n",
    "    \n",
    "    OUTPUT:\n",
    "    neighbors_df - (pandas dataframe) a dataframe with:\n",
    "                    neighbor_id - is a neighbor user_id\n",
    "                    similarity - measure of the similarity of each user to the provided user_id\n",
    "                    num_interactions - the number of articles viewed by the user\n",
    "    \"\"\"\n",
    "    # Compute similarity between the given user and all others\n",
    "    similar_users = find_similar_users(user_id, user_item, include_similarity=True)\n",
    "    \n",
    "    # Convert to a dataframe for easier manipulation\n",
    "    neighbors_df = pd.DataFrame(similar_users, columns=['neighbor_id', 'similarity'])\n",
    "    \n",
    "    # Add the number of interactions for each neighbor (how many articles they have interacted with)\n",
    "    neighbors_df['num_interactions'] = neighbors_df['neighbor_id'].apply(lambda x: user_item.loc[x].sum())\n",
    "    \n",
    "    # Sort by similarity (descending), and by number of interactions (descending) for users with equal similarity\n",
    "    neighbors_df = neighbors_df.sort_values(by=['similarity', 'num_interactions'], ascending=[False, False])\n",
    "    \n",
    "    return neighbors_df  # Return the sorted dataframe with neighbors' similarity and number of interactions\n"
   ]
  },
  {
   "cell_type": "code",
   "execution_count": 33,
   "metadata": {},
   "outputs": [],
   "source": [
    "def user_user_recs_part2(user_id, m=10):\n",
    "    \"\"\"\n",
    "    INPUT:\n",
    "    user_id - (int) a user id\n",
    "    m - (int) the number of recommendations you want for the user\n",
    "    \n",
    "    OUTPUT:\n",
    "    recs - (list) a list of recommendations for the user by article id\n",
    "    rec_names - (list) a list of recommendations for the user by article title\n",
    "    \n",
    "    Description:\n",
    "    Loops through the users based on closeness to the input user_id\n",
    "    For each user - finds articles the user hasn't seen before and provides them as recs\n",
    "    Does this until m recommendations are found\n",
    "    \n",
    "    Notes:\n",
    "    * Choose the users that have the most total article interactions \n",
    "    before choosing those with fewer article interactions.\n",
    "\n",
    "    * Choose articles with the articles with the most total interactions \n",
    "    before choosing those with fewer total interactions. \n",
    "    \"\"\"\n",
    "    # Get the sorted list of users based on similarity and number of interactions\n",
    "    top_users_df = get_top_sorted_users(user_id, user_item)\n",
    "    \n",
    "    # Get the articles the input user has already interacted with\n",
    "    user_articles, _ = get_user_articles(user_id, user_item)\n",
    "    \n",
    "    # Initialize an empty list for the recommendations\n",
    "    recs = []\n",
    "    \n",
    "    # Iterate through the top users and gather articles they have interacted with that the input user hasn't seen\n",
    "    for _, row in top_users_df.iterrows():\n",
    "        neighbor_id = row['neighbor_id']\n",
    "        \n",
    "        # Get articles this similar user has interacted with\n",
    "        neighbor_articles, _ = get_user_articles(neighbor_id, user_item)\n",
    "        \n",
    "        # Filter out articles the input user has already seen\n",
    "        new_articles = [article for article in neighbor_articles if article not in user_articles]\n",
    "        \n",
    "        # Add the new articles to the recommendations list\n",
    "        recs.extend(new_articles)\n",
    "        \n",
    "        # Stop if we've reached the desired number of recommendations\n",
    "        if len(recs) >= m:\n",
    "            break\n",
    "    \n",
    "    # Limit the recommendations to the top m articles\n",
    "    recs = recs[:m]\n",
    "    \n",
    "    # Get the article names corresponding to the recommended article ids\n",
    "    rec_names = get_article_names(recs, df)\n",
    "    \n",
    "    return recs, rec_names  # Return the article ids and their corresponding names\n"
   ]
  },
  {
   "cell_type": "code",
   "execution_count": 34,
   "metadata": {},
   "outputs": [
    {
     "name": "stdout",
     "output_type": "stream",
     "text": [
      "The top 10 recommendations for user 20 are the following article ids:\n",
      "[1162, 1165, 1185, 1293, 254, 1165, 1185, 1293, 40, 1271]\n",
      "\n",
      "The top 10 recommendations for user 20 are the following article names:\n",
      "['classify tumors with machine learning', 'analyze energy consumption in buildings', 'analyze energy consumption in buildings', 'analyze energy consumption in buildings', 'analyze energy consumption in buildings', 'analyze energy consumption in buildings', 'analyze energy consumption in buildings', 'analyze energy consumption in buildings', 'analyze energy consumption in buildings', 'analyze precipitation data', 'analyze precipitation data', 'classify tumors with machine learning', 'finding optimal locations of new store using decision optimization', 'finding optimal locations of new store using decision optimization', 'analyze energy consumption in buildings', 'finding optimal locations of new store using decision optimization', 'analyze energy consumption in buildings', 'analyze energy consumption in buildings', 'analyze energy consumption in buildings', 'analyze precipitation data', 'finding optimal locations of new store using decision optimization', 'analyze energy consumption in buildings', 'finding optimal locations of new store using decision optimization', 'analyze energy consumption in buildings', 'analyze energy consumption in buildings', 'classify tumors with machine learning', 'analyze energy consumption in buildings', 'analyze energy consumption in buildings', 'analyze energy consumption in buildings', 'finding optimal locations of new store using decision optimization', 'analyze energy consumption in buildings', 'analyze energy consumption in buildings', 'classify tumors with machine learning', 'analyze precipitation data', 'analyze energy consumption in buildings', 'finding optimal locations of new store using decision optimization', 'finding optimal locations of new store using decision optimization', 'finding optimal locations of new store using decision optimization', 'classify tumors with machine learning', 'analyze energy consumption in buildings', 'analyze precipitation data', 'finding optimal locations of new store using decision optimization', 'finding optimal locations of new store using decision optimization', 'analyze precipitation data', 'finding optimal locations of new store using decision optimization', 'analyze energy consumption in buildings', 'finding optimal locations of new store using decision optimization', 'classify tumors with machine learning', 'finding optimal locations of new store using decision optimization', 'analyze precipitation data', 'classify tumors with machine learning', 'analyze energy consumption in buildings', 'finding optimal locations of new store using decision optimization', 'finding optimal locations of new store using decision optimization', 'finding optimal locations of new store using decision optimization', 'analyze energy consumption in buildings', 'finding optimal locations of new store using decision optimization', 'classify tumors with machine learning', 'analyze precipitation data', 'finding optimal locations of new store using decision optimization', 'finding optimal locations of new store using decision optimization', 'analyze energy consumption in buildings', 'finding optimal locations of new store using decision optimization', 'finding optimal locations of new store using decision optimization', 'finding optimal locations of new store using decision optimization', 'finding optimal locations of new store using decision optimization', 'finding optimal locations of new store using decision optimization', 'classify tumors with machine learning', 'analyze energy consumption in buildings', 'finding optimal locations of new store using decision optimization', 'analyze energy consumption in buildings', 'customer demographics and sales', 'analyze energy consumption in buildings', 'analyze energy consumption in buildings', 'classify tumors with machine learning', 'analyze energy consumption in buildings', 'analyze energy consumption in buildings', 'finding optimal locations of new store using decision optimization', 'customer demographics and sales', 'classify tumors with machine learning', 'analyze precipitation data', 'customer demographics and sales', 'analyze precipitation data', 'analyze energy consumption in buildings', 'customer demographics and sales', 'classify tumors with machine learning', 'classify tumors with machine learning', 'finding optimal locations of new store using decision optimization', 'customer demographics and sales', 'customer demographics and sales', 'analyze energy consumption in buildings', 'classify tumors with machine learning', 'analyze energy consumption in buildings', 'classify tumors with machine learning', 'finding optimal locations of new store using decision optimization', 'customer demographics and sales', 'customer demographics and sales', 'customer demographics and sales', 'analyze precipitation data', 'classify tumors with machine learning', 'customer demographics and sales', 'customer demographics and sales', 'customer demographics and sales', 'classify tumors with machine learning', 'customer demographics and sales', 'customer demographics and sales', 'customer demographics and sales', 'customer demographics and sales', 'classify tumors with machine learning', 'customer demographics and sales', 'finding optimal locations of new store using decision optimization', 'classify tumors with machine learning', 'customer demographics and sales', 'analyze precipitation data', 'classify tumors with machine learning', 'customer demographics and sales', 'customer demographics and sales', 'analyze precipitation data', 'analyze precipitation data', 'customer demographics and sales', 'customer demographics and sales', 'customer demographics and sales', 'customer demographics and sales', 'customer demographics and sales', 'customer demographics and sales', 'customer demographics and sales', 'customer demographics and sales', 'customer demographics and sales', 'customer demographics and sales', 'customer demographics and sales', 'customer demographics and sales', 'customer demographics and sales', 'customer demographics and sales', 'customer demographics and sales', 'customer demographics and sales', 'customer demographics and sales', 'customer demographics and sales', 'customer demographics and sales', 'customer demographics and sales', 'customer demographics and sales', 'analyze energy consumption in buildings', 'customer demographics and sales', 'customer demographics and sales', 'customer demographics and sales', 'customer demographics and sales', 'classify tumors with machine learning', 'customer demographics and sales', 'customer demographics and sales', 'customer demographics and sales', 'customer demographics and sales', 'customer demographics and sales', 'customer demographics and sales', 'customer demographics and sales', 'customer demographics and sales', 'finding optimal locations of new store using decision optimization', 'customer demographics and sales', 'customer demographics and sales', 'classify tumors with machine learning', 'analyze energy consumption in buildings', 'customer demographics and sales', 'analyze energy consumption in buildings', 'classify tumors with machine learning', 'customer demographics and sales', 'customer demographics and sales', 'customer demographics and sales', 'customer demographics and sales', 'customer demographics and sales', 'customer demographics and sales', 'customer demographics and sales', 'analyze energy consumption in buildings', 'customer demographics and sales', 'analyze energy consumption in buildings', 'customer demographics and sales', 'analyze energy consumption in buildings', 'analyze energy consumption in buildings', 'analyze precipitation data', 'customer demographics and sales', 'customer demographics and sales', 'customer demographics and sales', 'customer demographics and sales', 'customer demographics and sales', 'customer demographics and sales', 'customer demographics and sales', 'customer demographics and sales', 'finding optimal locations of new store using decision optimization', 'customer demographics and sales', 'customer demographics and sales', 'customer demographics and sales', 'customer demographics and sales', 'analyze energy consumption in buildings', 'finding optimal locations of new store using decision optimization', 'finding optimal locations of new store using decision optimization', 'analyze precipitation data', 'finding optimal locations of new store using decision optimization', 'ensemble learning to improve machine learning results', 'analyze precipitation data', 'analyze energy consumption in buildings', 'analyze precipitation data', 'classify tumors with machine learning', 'finding optimal locations of new store using decision optimization', 'classify tumors with machine learning', 'classify tumors with machine learning', 'finding optimal locations of new store using decision optimization', 'classify tumors with machine learning', 'classify tumors with machine learning', 'finding optimal locations of new store using decision optimization', 'analyze precipitation data', 'analyze energy consumption in buildings', 'classify tumors with machine learning', 'analyze energy consumption in buildings', 'classify tumors with machine learning', 'analyze precipitation data', 'analyze precipitation data', 'analyze precipitation data', 'analyze precipitation data', 'analyze energy consumption in buildings', 'finding optimal locations of new store using decision optimization', 'analyze energy consumption in buildings', 'ensemble learning to improve machine learning results', 'finding optimal locations of new store using decision optimization', 'analyze energy consumption in buildings', 'analyze energy consumption in buildings', 'finding optimal locations of new store using decision optimization', 'classify tumors with machine learning', 'finding optimal locations of new store using decision optimization', 'analyze precipitation data', 'finding optimal locations of new store using decision optimization', 'finding optimal locations of new store using decision optimization', 'classify tumors with machine learning', 'finding optimal locations of new store using decision optimization', 'classify tumors with machine learning', 'finding optimal locations of new store using decision optimization', 'finding optimal locations of new store using decision optimization', 'finding optimal locations of new store using decision optimization', 'ensemble learning to improve machine learning results', 'analyze precipitation data', 'finding optimal locations of new store using decision optimization', 'finding optimal locations of new store using decision optimization', 'classify tumors with machine learning', 'classify tumors with machine learning', 'analyze energy consumption in buildings', 'finding optimal locations of new store using decision optimization', 'analyze precipitation data', 'analyze energy consumption in buildings', 'finding optimal locations of new store using decision optimization', 'finding optimal locations of new store using decision optimization', 'ensemble learning to improve machine learning results', 'analyze energy consumption in buildings', 'analyze energy consumption in buildings', 'classify tumors with machine learning', 'analyze energy consumption in buildings', 'classify tumors with machine learning', 'classify tumors with machine learning', 'classify tumors with machine learning', 'finding optimal locations of new store using decision optimization', 'analyze energy consumption in buildings', 'analyze precipitation data', 'analyze precipitation data', 'analyze precipitation data', 'classify tumors with machine learning', 'finding optimal locations of new store using decision optimization', 'analyze energy consumption in buildings', 'analyze precipitation data', 'finding optimal locations of new store using decision optimization', 'analyze precipitation data', 'analyze energy consumption in buildings', 'classify tumors with machine learning', 'classify tumors with machine learning', 'classify tumors with machine learning', 'analyze precipitation data', 'analyze energy consumption in buildings', 'analyze energy consumption in buildings', 'analyze energy consumption in buildings', 'classify tumors with machine learning', 'classify tumors with machine learning', 'analyze energy consumption in buildings', 'analyze energy consumption in buildings', 'classify tumors with machine learning', 'analyze energy consumption in buildings', 'analyze energy consumption in buildings', 'analyze precipitation data', 'finding optimal locations of new store using decision optimization', 'classify tumors with machine learning', 'finding optimal locations of new store using decision optimization', 'classify tumors with machine learning', 'classify tumors with machine learning', 'finding optimal locations of new store using decision optimization', 'analyze energy consumption in buildings', 'analyze energy consumption in buildings', 'classify tumors with machine learning', 'classify tumors with machine learning', 'analyze energy consumption in buildings', 'finding optimal locations of new store using decision optimization', 'finding optimal locations of new store using decision optimization', 'classify tumors with machine learning', 'finding optimal locations of new store using decision optimization', 'finding optimal locations of new store using decision optimization', 'ensemble learning to improve machine learning results', 'finding optimal locations of new store using decision optimization', 'analyze precipitation data', 'analyze energy consumption in buildings', 'analyze precipitation data', 'analyze precipitation data', 'classify tumors with machine learning', 'ensemble learning to improve machine learning results', 'analyze energy consumption in buildings', 'analyze precipitation data', 'analyze energy consumption in buildings', 'analyze precipitation data', 'analyze precipitation data', 'finding optimal locations of new store using decision optimization', 'finding optimal locations of new store using decision optimization', 'analyze energy consumption in buildings', 'ensemble learning to improve machine learning results', 'finding optimal locations of new store using decision optimization', 'analyze energy consumption in buildings', 'finding optimal locations of new store using decision optimization', 'ensemble learning to improve machine learning results', 'analyze energy consumption in buildings', 'analyze energy consumption in buildings', 'analyze energy consumption in buildings', 'finding optimal locations of new store using decision optimization', 'analyze precipitation data', 'finding optimal locations of new store using decision optimization', 'analyze precipitation data', 'analyze energy consumption in buildings', 'finding optimal locations of new store using decision optimization', 'ensemble learning to improve machine learning results', 'finding optimal locations of new store using decision optimization', 'classify tumors with machine learning', 'finding optimal locations of new store using decision optimization', 'finding optimal locations of new store using decision optimization', 'classify tumors with machine learning', 'classify tumors with machine learning', 'finding optimal locations of new store using decision optimization', 'analyze precipitation data', 'finding optimal locations of new store using decision optimization', 'analyze precipitation data', 'finding optimal locations of new store using decision optimization', 'finding optimal locations of new store using decision optimization', 'ensemble learning to improve machine learning results', 'analyze energy consumption in buildings', 'classify tumors with machine learning', 'classify tumors with machine learning', 'ensemble learning to improve machine learning results', 'classify tumors with machine learning', 'analyze precipitation data', 'finding optimal locations of new store using decision optimization', 'analyze energy consumption in buildings', 'analyze energy consumption in buildings', 'classify tumors with machine learning', 'finding optimal locations of new store using decision optimization', 'classify tumors with machine learning', 'ensemble learning to improve machine learning results', 'classify tumors with machine learning', 'finding optimal locations of new store using decision optimization', 'classify tumors with machine learning', 'analyze energy consumption in buildings', 'finding optimal locations of new store using decision optimization', 'finding optimal locations of new store using decision optimization', 'analyze precipitation data', 'finding optimal locations of new store using decision optimization', 'analyze precipitation data', 'classify tumors with machine learning', 'finding optimal locations of new store using decision optimization', 'finding optimal locations of new store using decision optimization', 'finding optimal locations of new store using decision optimization', 'analyze energy consumption in buildings', 'analyze energy consumption in buildings', 'finding optimal locations of new store using decision optimization', 'finding optimal locations of new store using decision optimization', 'classify tumors with machine learning', 'analyze energy consumption in buildings', 'finding optimal locations of new store using decision optimization', 'analyze precipitation data', 'analyze energy consumption in buildings', 'analyze energy consumption in buildings', 'finding optimal locations of new store using decision optimization', 'finding optimal locations of new store using decision optimization', 'ensemble learning to improve machine learning results', 'analyze precipitation data', 'analyze energy consumption in buildings', 'analyze precipitation data', 'finding optimal locations of new store using decision optimization', 'analyze energy consumption in buildings', 'classify tumors with machine learning', 'analyze energy consumption in buildings', 'analyze energy consumption in buildings', 'finding optimal locations of new store using decision optimization', 'classify tumors with machine learning', 'classify tumors with machine learning', 'analyze precipitation data', 'analyze energy consumption in buildings', 'finding optimal locations of new store using decision optimization', 'classify tumors with machine learning', 'finding optimal locations of new store using decision optimization', 'analyze energy consumption in buildings', 'classify tumors with machine learning', 'finding optimal locations of new store using decision optimization', 'finding optimal locations of new store using decision optimization', 'classify tumors with machine learning', 'analyze energy consumption in buildings', 'analyze energy consumption in buildings', 'analyze energy consumption in buildings', 'analyze precipitation data', 'finding optimal locations of new store using decision optimization', 'analyze precipitation data', 'analyze energy consumption in buildings', 'analyze energy consumption in buildings', 'finding optimal locations of new store using decision optimization', 'finding optimal locations of new store using decision optimization', 'analyze energy consumption in buildings', 'ensemble learning to improve machine learning results', 'analyze precipitation data', 'finding optimal locations of new store using decision optimization', 'finding optimal locations of new store using decision optimization', 'analyze energy consumption in buildings', 'finding optimal locations of new store using decision optimization', 'analyze energy consumption in buildings', 'analyze energy consumption in buildings', 'finding optimal locations of new store using decision optimization', 'finding optimal locations of new store using decision optimization', 'analyze precipitation data', 'analyze energy consumption in buildings', 'finding optimal locations of new store using decision optimization', 'analyze precipitation data', 'analyze energy consumption in buildings', 'analyze precipitation data', 'classify tumors with machine learning', 'classify tumors with machine learning', 'analyze precipitation data', 'analyze energy consumption in buildings', 'analyze precipitation data', 'classify tumors with machine learning', 'analyze energy consumption in buildings', 'classify tumors with machine learning', 'finding optimal locations of new store using decision optimization', 'finding optimal locations of new store using decision optimization', 'classify tumors with machine learning', 'analyze energy consumption in buildings', 'classify tumors with machine learning', 'ensemble learning to improve machine learning results', 'analyze energy consumption in buildings', 'finding optimal locations of new store using decision optimization', 'analyze energy consumption in buildings', 'finding optimal locations of new store using decision optimization', 'classify tumors with machine learning', 'classify tumors with machine learning', 'classify tumors with machine learning', 'classify tumors with machine learning', 'finding optimal locations of new store using decision optimization', 'analyze precipitation data', 'finding optimal locations of new store using decision optimization', 'finding optimal locations of new store using decision optimization', 'analyze precipitation data', 'analyze precipitation data', 'analyze energy consumption in buildings', 'finding optimal locations of new store using decision optimization', 'classify tumors with machine learning', 'classify tumors with machine learning', 'finding optimal locations of new store using decision optimization', 'finding optimal locations of new store using decision optimization', 'classify tumors with machine learning', 'classify tumors with machine learning', 'analyze precipitation data', 'finding optimal locations of new store using decision optimization', 'finding optimal locations of new store using decision optimization', 'analyze energy consumption in buildings', 'analyze energy consumption in buildings', 'analyze energy consumption in buildings', 'analyze energy consumption in buildings', 'analyze energy consumption in buildings', 'finding optimal locations of new store using decision optimization', 'finding optimal locations of new store using decision optimization', 'finding optimal locations of new store using decision optimization', 'analyze energy consumption in buildings', 'finding optimal locations of new store using decision optimization', 'finding optimal locations of new store using decision optimization', 'analyze energy consumption in buildings', 'classify tumors with machine learning', 'finding optimal locations of new store using decision optimization', 'analyze precipitation data', 'analyze precipitation data', 'classify tumors with machine learning', 'analyze energy consumption in buildings', 'finding optimal locations of new store using decision optimization', 'analyze precipitation data', 'classify tumors with machine learning', 'analyze energy consumption in buildings', 'analyze energy consumption in buildings', 'classify tumors with machine learning', 'ensemble learning to improve machine learning results', 'analyze precipitation data', 'analyze energy consumption in buildings', 'classify tumors with machine learning', 'classify tumors with machine learning', 'analyze energy consumption in buildings', 'ensemble learning to improve machine learning results', 'finding optimal locations of new store using decision optimization', 'analyze energy consumption in buildings', 'classify tumors with machine learning', 'analyze energy consumption in buildings', 'analyze precipitation data', 'finding optimal locations of new store using decision optimization', 'analyze energy consumption in buildings', 'analyze energy consumption in buildings', 'analyze precipitation data', 'classify tumors with machine learning', 'classify tumors with machine learning', 'analyze energy consumption in buildings', 'finding optimal locations of new store using decision optimization', 'classify tumors with machine learning', 'analyze energy consumption in buildings', 'analyze precipitation data', 'finding optimal locations of new store using decision optimization', 'finding optimal locations of new store using decision optimization', 'classify tumors with machine learning', 'analyze energy consumption in buildings', 'ensemble learning to improve machine learning results', 'finding optimal locations of new store using decision optimization', 'classify tumors with machine learning', 'analyze energy consumption in buildings', 'finding optimal locations of new store using decision optimization', 'finding optimal locations of new store using decision optimization', 'finding optimal locations of new store using decision optimization', 'classify tumors with machine learning', 'finding optimal locations of new store using decision optimization', 'analyze precipitation data', 'analyze energy consumption in buildings', 'analyze energy consumption in buildings', 'classify tumors with machine learning', 'finding optimal locations of new store using decision optimization', 'analyze precipitation data', 'analyze precipitation data', 'finding optimal locations of new store using decision optimization', 'analyze energy consumption in buildings', 'classify tumors with machine learning', 'finding optimal locations of new store using decision optimization', 'classify tumors with machine learning', 'classify tumors with machine learning', 'finding optimal locations of new store using decision optimization', 'finding optimal locations of new store using decision optimization', 'analyze precipitation data', 'finding optimal locations of new store using decision optimization', 'analyze energy consumption in buildings', 'finding optimal locations of new store using decision optimization', 'finding optimal locations of new store using decision optimization', 'classify tumors with machine learning', 'finding optimal locations of new store using decision optimization', 'ensemble learning to improve machine learning results', 'finding optimal locations of new store using decision optimization', 'finding optimal locations of new store using decision optimization', 'finding optimal locations of new store using decision optimization', 'finding optimal locations of new store using decision optimization', 'analyze energy consumption in buildings', 'classify tumors with machine learning', 'finding optimal locations of new store using decision optimization', 'classify tumors with machine learning', 'finding optimal locations of new store using decision optimization', 'classify tumors with machine learning', 'finding optimal locations of new store using decision optimization', 'analyze energy consumption in buildings', 'classify tumors with machine learning', 'analyze energy consumption in buildings', 'analyze precipitation data', 'finding optimal locations of new store using decision optimization', 'finding optimal locations of new store using decision optimization', 'analyze energy consumption in buildings', 'analyze energy consumption in buildings', 'finding optimal locations of new store using decision optimization', 'finding optimal locations of new store using decision optimization', 'analyze energy consumption in buildings', 'analyze energy consumption in buildings', 'classify tumors with machine learning', 'classify tumors with machine learning', 'analyze energy consumption in buildings', 'analyze energy consumption in buildings', 'classify tumors with machine learning', 'finding optimal locations of new store using decision optimization', 'finding optimal locations of new store using decision optimization', 'analyze energy consumption in buildings', 'finding optimal locations of new store using decision optimization', 'classify tumors with machine learning', 'finding optimal locations of new store using decision optimization', 'finding optimal locations of new store using decision optimization', 'analyze energy consumption in buildings', 'finding optimal locations of new store using decision optimization', 'analyze precipitation data', 'finding optimal locations of new store using decision optimization', 'classify tumors with machine learning', 'classify tumors with machine learning', 'finding optimal locations of new store using decision optimization', 'analyze precipitation data', 'classify tumors with machine learning', 'analyze precipitation data', 'analyze precipitation data', 'analyze energy consumption in buildings', 'finding optimal locations of new store using decision optimization', 'finding optimal locations of new store using decision optimization', 'ensemble learning to improve machine learning results', 'classify tumors with machine learning', 'analyze energy consumption in buildings', 'analyze energy consumption in buildings', 'finding optimal locations of new store using decision optimization', 'analyze precipitation data', 'finding optimal locations of new store using decision optimization', 'analyze energy consumption in buildings', 'ensemble learning to improve machine learning results', 'analyze precipitation data', 'finding optimal locations of new store using decision optimization', 'classify tumors with machine learning', 'finding optimal locations of new store using decision optimization', 'finding optimal locations of new store using decision optimization', 'ensemble learning to improve machine learning results', 'finding optimal locations of new store using decision optimization', 'classify tumors with machine learning', 'analyze precipitation data', 'analyze energy consumption in buildings', 'classify tumors with machine learning', 'finding optimal locations of new store using decision optimization', 'classify tumors with machine learning', 'analyze precipitation data', 'analyze energy consumption in buildings', 'classify tumors with machine learning', 'finding optimal locations of new store using decision optimization', 'classify tumors with machine learning', 'classify tumors with machine learning', 'analyze energy consumption in buildings', 'finding optimal locations of new store using decision optimization', 'ensemble learning to improve machine learning results', 'classify tumors with machine learning', 'classify tumors with machine learning', 'classify tumors with machine learning', 'finding optimal locations of new store using decision optimization', 'finding optimal locations of new store using decision optimization', 'analyze precipitation data', 'analyze precipitation data', 'analyze energy consumption in buildings', 'analyze energy consumption in buildings', 'classify tumors with machine learning', 'finding optimal locations of new store using decision optimization', 'finding optimal locations of new store using decision optimization', 'finding optimal locations of new store using decision optimization', 'classify tumors with machine learning', 'finding optimal locations of new store using decision optimization', 'analyze energy consumption in buildings', 'finding optimal locations of new store using decision optimization', 'analyze energy consumption in buildings', 'analyze energy consumption in buildings', 'analyze precipitation data', 'classify tumors with machine learning', 'finding optimal locations of new store using decision optimization', 'finding optimal locations of new store using decision optimization', 'analyze energy consumption in buildings', 'classify tumors with machine learning', 'classify tumors with machine learning', 'classify tumors with machine learning', 'classify tumors with machine learning', 'ensemble learning to improve machine learning results', 'analyze energy consumption in buildings', 'analyze energy consumption in buildings', 'finding optimal locations of new store using decision optimization', 'analyze precipitation data', 'classify tumors with machine learning', 'analyze precipitation data', 'finding optimal locations of new store using decision optimization', 'analyze precipitation data', 'analyze precipitation data', 'ensemble learning to improve machine learning results', 'analyze precipitation data', 'finding optimal locations of new store using decision optimization', 'analyze energy consumption in buildings', 'analyze energy consumption in buildings', 'analyze energy consumption in buildings', 'analyze precipitation data', 'analyze energy consumption in buildings', 'analyze energy consumption in buildings', 'analyze precipitation data', 'ensemble learning to improve machine learning results', 'classify tumors with machine learning', 'classify tumors with machine learning', 'analyze energy consumption in buildings', 'finding optimal locations of new store using decision optimization', 'finding optimal locations of new store using decision optimization', 'analyze precipitation data', 'classify tumors with machine learning', 'classify tumors with machine learning', 'analyze energy consumption in buildings', 'analyze precipitation data', 'analyze energy consumption in buildings', 'finding optimal locations of new store using decision optimization', 'finding optimal locations of new store using decision optimization', 'analyze energy consumption in buildings', 'analyze precipitation data', 'classify tumors with machine learning', 'analyze energy consumption in buildings', 'classify tumors with machine learning', 'analyze precipitation data', 'classify tumors with machine learning', 'analyze precipitation data', 'ensemble learning to improve machine learning results', 'analyze precipitation data', 'analyze energy consumption in buildings', 'analyze energy consumption in buildings', 'finding optimal locations of new store using decision optimization', 'analyze precipitation data', 'analyze energy consumption in buildings', 'classify tumors with machine learning', 'finding optimal locations of new store using decision optimization', 'ensemble learning to improve machine learning results', 'analyze energy consumption in buildings', 'analyze energy consumption in buildings', 'classify tumors with machine learning', 'analyze precipitation data', 'analyze precipitation data', 'finding optimal locations of new store using decision optimization', 'analyze energy consumption in buildings', 'finding optimal locations of new store using decision optimization', 'analyze precipitation data', 'finding optimal locations of new store using decision optimization', 'finding optimal locations of new store using decision optimization', 'analyze energy consumption in buildings', 'finding optimal locations of new store using decision optimization', 'finding optimal locations of new store using decision optimization', 'finding optimal locations of new store using decision optimization', 'analyze energy consumption in buildings', 'analyze precipitation data', 'finding optimal locations of new store using decision optimization', 'analyze precipitation data', 'analyze energy consumption in buildings', 'ensemble learning to improve machine learning results', 'analyze precipitation data', 'finding optimal locations of new store using decision optimization', 'analyze energy consumption in buildings', 'analyze energy consumption in buildings', 'finding optimal locations of new store using decision optimization', 'analyze energy consumption in buildings', 'finding optimal locations of new store using decision optimization', 'classify tumors with machine learning', 'analyze energy consumption in buildings', 'analyze energy consumption in buildings', 'classify tumors with machine learning', 'finding optimal locations of new store using decision optimization', 'analyze energy consumption in buildings', 'finding optimal locations of new store using decision optimization', 'finding optimal locations of new store using decision optimization', 'classify tumors with machine learning', 'analyze precipitation data', 'analyze energy consumption in buildings', 'finding optimal locations of new store using decision optimization', 'analyze energy consumption in buildings', 'analyze precipitation data', 'finding optimal locations of new store using decision optimization', 'classify tumors with machine learning', 'customer demographics and sales', 'finding optimal locations of new store using decision optimization', 'customer demographics and sales', 'analyze precipitation data', 'customer demographics and sales', 'analyze energy consumption in buildings', 'analyze energy consumption in buildings', 'analyze energy consumption in buildings', 'customer demographics and sales', 'customer demographics and sales', 'customer demographics and sales', 'customer demographics and sales', 'customer demographics and sales', 'customer demographics and sales', 'finding optimal locations of new store using decision optimization', 'finding optimal locations of new store using decision optimization', 'customer demographics and sales', 'customer demographics and sales', 'customer demographics and sales', 'customer demographics and sales', 'customer demographics and sales', 'customer demographics and sales', 'classify tumors with machine learning', 'classify tumors with machine learning', 'analyze precipitation data', 'analyze energy consumption in buildings', 'finding optimal locations of new store using decision optimization', 'finding optimal locations of new store using decision optimization', 'analyze energy consumption in buildings', 'classify tumors with machine learning', 'customer demographics and sales', 'customer demographics and sales', 'customer demographics and sales', 'finding optimal locations of new store using decision optimization', 'finding optimal locations of new store using decision optimization', 'analyze energy consumption in buildings', 'customer demographics and sales', 'customer demographics and sales', 'customer demographics and sales', 'customer demographics and sales', 'customer demographics and sales', 'classify tumors with machine learning', 'classify tumors with machine learning', 'classify tumors with machine learning', 'customer demographics and sales', 'customer demographics and sales', 'customer demographics and sales', 'ensemble learning to improve machine learning results', 'customer demographics and sales', 'customer demographics and sales', 'customer demographics and sales', 'customer demographics and sales', 'customer demographics and sales', 'finding optimal locations of new store using decision optimization', 'customer demographics and sales', 'customer demographics and sales', 'customer demographics and sales', 'customer demographics and sales', 'customer demographics and sales', 'finding optimal locations of new store using decision optimization', 'customer demographics and sales', 'customer demographics and sales', 'finding optimal locations of new store using decision optimization', 'customer demographics and sales', 'customer demographics and sales', 'customer demographics and sales', 'finding optimal locations of new store using decision optimization', 'finding optimal locations of new store using decision optimization', 'customer demographics and sales', 'customer demographics and sales', 'customer demographics and sales', 'customer demographics and sales', 'customer demographics and sales', 'analyze energy consumption in buildings', 'analyze energy consumption in buildings', 'analyze energy consumption in buildings', 'customer demographics and sales', 'customer demographics and sales', 'customer demographics and sales', 'finding optimal locations of new store using decision optimization', 'customer demographics and sales', 'customer demographics and sales', 'customer demographics and sales', 'customer demographics and sales', 'customer demographics and sales', 'classify tumors with machine learning', 'customer demographics and sales', 'customer demographics and sales', 'finding optimal locations of new store using decision optimization', 'customer demographics and sales', 'analyze energy consumption in buildings', 'analyze energy consumption in buildings', 'customer demographics and sales', 'customer demographics and sales', 'customer demographics and sales', 'customer demographics and sales', 'customer demographics and sales', 'classify tumors with machine learning', 'customer demographics and sales', 'customer demographics and sales', 'customer demographics and sales', 'customer demographics and sales', 'analyze precipitation data', 'customer demographics and sales', 'customer demographics and sales', 'customer demographics and sales', 'customer demographics and sales', 'customer demographics and sales', 'customer demographics and sales', 'customer demographics and sales', 'customer demographics and sales', 'customer demographics and sales', 'customer demographics and sales', 'customer demographics and sales', 'customer demographics and sales', 'analyze precipitation data', 'analyze precipitation data', 'customer demographics and sales', 'customer demographics and sales', 'analyze energy consumption in buildings', 'analyze energy consumption in buildings', 'customer demographics and sales', 'customer demographics and sales', 'customer demographics and sales', 'customer demographics and sales', 'customer demographics and sales', 'finding optimal locations of new store using decision optimization', 'finding optimal locations of new store using decision optimization', 'customer demographics and sales', 'finding optimal locations of new store using decision optimization', 'customer demographics and sales', 'finding optimal locations of new store using decision optimization', 'customer demographics and sales', 'customer demographics and sales', 'customer demographics and sales', 'customer demographics and sales', 'customer demographics and sales', 'classify tumors with machine learning', 'analyze precipitation data', 'customer demographics and sales', 'analyze precipitation data', 'customer demographics and sales', 'customer demographics and sales', 'customer demographics and sales', 'customer demographics and sales', 'customer demographics and sales', 'customer demographics and sales', 'analyze precipitation data', 'analyze precipitation data', 'customer demographics and sales', 'customer demographics and sales', 'analyze precipitation data', 'customer demographics and sales', 'customer demographics and sales', 'analyze precipitation data', 'analyze precipitation data', 'customer demographics and sales', 'customer demographics and sales', 'customer demographics and sales', 'classify tumors with machine learning', 'customer demographics and sales', 'customer demographics and sales', 'customer demographics and sales', 'customer demographics and sales', 'finding optimal locations of new store using decision optimization', 'customer demographics and sales', 'finding optimal locations of new store using decision optimization', 'finding optimal locations of new store using decision optimization', 'finding optimal locations of new store using decision optimization', 'finding optimal locations of new store using decision optimization', 'classify tumors with machine learning', 'customer demographics and sales', 'finding optimal locations of new store using decision optimization', 'customer demographics and sales', 'finding optimal locations of new store using decision optimization', 'customer demographics and sales', 'customer demographics and sales', 'customer demographics and sales', 'finding optimal locations of new store using decision optimization', 'finding optimal locations of new store using decision optimization', 'analyze precipitation data', 'finding optimal locations of new store using decision optimization', 'finding optimal locations of new store using decision optimization', 'finding optimal locations of new store using decision optimization', 'customer demographics and sales', 'finding optimal locations of new store using decision optimization', 'finding optimal locations of new store using decision optimization', 'analyze precipitation data', 'customer demographics and sales', 'customer demographics and sales', 'customer demographics and sales', 'customer demographics and sales', 'customer demographics and sales', 'customer demographics and sales', 'customer demographics and sales', 'analyze energy consumption in buildings', 'analyze energy consumption in buildings', 'classify tumors with machine learning', 'classify tumors with machine learning', 'analyze energy consumption in buildings', 'customer demographics and sales', 'classify tumors with machine learning', 'customer demographics and sales', 'customer demographics and sales', 'customer demographics and sales', 'analyze precipitation data', 'customer demographics and sales', 'customer demographics and sales', 'customer demographics and sales', 'customer demographics and sales', 'analyze precipitation data', 'customer demographics and sales', 'classify tumors with machine learning', 'customer demographics and sales', 'customer demographics and sales', 'customer demographics and sales', 'customer demographics and sales', 'classify tumors with machine learning', 'customer demographics and sales', 'customer demographics and sales', 'classify tumors with machine learning', 'customer demographics and sales', 'customer demographics and sales', 'classify tumors with machine learning', 'classify tumors with machine learning', 'customer demographics and sales', 'customer demographics and sales', 'classify tumors with machine learning', 'customer demographics and sales', 'analyze energy consumption in buildings', 'customer demographics and sales', 'customer demographics and sales', 'customer demographics and sales', 'finding optimal locations of new store using decision optimization', 'customer demographics and sales', 'analyze energy consumption in buildings', 'analyze energy consumption in buildings', 'analyze energy consumption in buildings', 'analyze energy consumption in buildings', 'finding optimal locations of new store using decision optimization', 'analyze energy consumption in buildings', 'analyze precipitation data', 'analyze energy consumption in buildings', 'finding optimal locations of new store using decision optimization', 'customer demographics and sales', 'finding optimal locations of new store using decision optimization', 'customer demographics and sales', 'customer demographics and sales', 'analyze precipitation data', 'analyze precipitation data', 'analyze precipitation data', 'analyze precipitation data', 'analyze precipitation data', 'finding optimal locations of new store using decision optimization', 'finding optimal locations of new store using decision optimization', 'customer demographics and sales', 'finding optimal locations of new store using decision optimization', 'finding optimal locations of new store using decision optimization', 'finding optimal locations of new store using decision optimization', 'finding optimal locations of new store using decision optimization', 'customer demographics and sales', 'analyze precipitation data', 'analyze precipitation data', 'analyze precipitation data', 'classify tumors with machine learning', 'customer demographics and sales', 'customer demographics and sales', 'customer demographics and sales', 'customer demographics and sales', 'customer demographics and sales', 'customer demographics and sales', 'customer demographics and sales', 'classify tumors with machine learning', 'customer demographics and sales', 'customer demographics and sales', 'customer demographics and sales', 'customer demographics and sales', 'customer demographics and sales', 'customer demographics and sales', 'classify tumors with machine learning', 'customer demographics and sales', 'analyze precipitation data', 'customer demographics and sales', 'classify tumors with machine learning', 'customer demographics and sales', 'customer demographics and sales', 'customer demographics and sales', 'customer demographics and sales', 'customer demographics and sales', 'classify tumors with machine learning', 'analyze energy consumption in buildings', 'customer demographics and sales', 'analyze energy consumption in buildings', 'customer demographics and sales', 'customer demographics and sales', 'customer demographics and sales', 'customer demographics and sales', 'customer demographics and sales', 'customer demographics and sales', 'customer demographics and sales', 'customer demographics and sales', 'customer demographics and sales', 'customer demographics and sales', 'analyze energy consumption in buildings', 'analyze energy consumption in buildings', 'analyze energy consumption in buildings', 'analyze energy consumption in buildings', 'analyze energy consumption in buildings', 'analyze energy consumption in buildings', 'analyze energy consumption in buildings', 'finding optimal locations of new store using decision optimization', 'customer demographics and sales', 'analyze precipitation data', 'analyze precipitation data', 'customer demographics and sales', 'analyze precipitation data', 'analyze precipitation data', 'analyze precipitation data', 'analyze precipitation data', 'analyze energy consumption in buildings', 'analyze energy consumption in buildings', 'customer demographics and sales', 'analyze precipitation data', 'finding optimal locations of new store using decision optimization', 'analyze precipitation data', 'analyze precipitation data', 'ensemble learning to improve machine learning results', 'analyze energy consumption in buildings', 'customer demographics and sales', 'analyze precipitation data', 'analyze precipitation data', 'finding optimal locations of new store using decision optimization', 'analyze energy consumption in buildings', 'customer demographics and sales', 'analyze energy consumption in buildings', 'analyze precipitation data', 'analyze precipitation data', 'analyze energy consumption in buildings', 'classify tumors with machine learning', 'analyze precipitation data', 'analyze precipitation data', 'classify tumors with machine learning', 'analyze precipitation data', 'analyze precipitation data', 'classify tumors with machine learning', 'finding optimal locations of new store using decision optimization', 'classify tumors with machine learning', 'classify tumors with machine learning', 'classify tumors with machine learning', 'classify tumors with machine learning', 'classify tumors with machine learning', 'analyze precipitation data', 'classify tumors with machine learning', 'classify tumors with machine learning', 'classify tumors with machine learning', 'classify tumors with machine learning', 'analyze energy consumption in buildings', 'classify tumors with machine learning', 'classify tumors with machine learning', 'analyze energy consumption in buildings', 'classify tumors with machine learning', 'analyze energy consumption in buildings', 'classify tumors with machine learning', 'classify tumors with machine learning', 'classify tumors with machine learning', 'customer demographics and sales', 'analyze precipitation data', 'customer demographics and sales', 'customer demographics and sales', 'customer demographics and sales', 'classify tumors with machine learning', 'analyze precipitation data', 'analyze energy consumption in buildings', 'analyze precipitation data', 'analyze precipitation data', 'analyze precipitation data', 'analyze precipitation data', 'customer demographics and sales', 'analyze precipitation data', 'classify tumors with machine learning', 'finding optimal locations of new store using decision optimization', 'finding optimal locations of new store using decision optimization', 'analyze precipitation data', 'customer demographics and sales', 'classify tumors with machine learning', 'analyze energy consumption in buildings', 'classify tumors with machine learning', 'analyze energy consumption in buildings', 'classify tumors with machine learning', 'analyze energy consumption in buildings', 'analyze energy consumption in buildings', 'classify tumors with machine learning', 'classify tumors with machine learning', 'classify tumors with machine learning', 'classify tumors with machine learning', 'classify tumors with machine learning', 'apple, ibm add machine learning to partnership with watson-core ml coupling', 'analyze energy consumption in buildings', 'apple, ibm add machine learning to partnership with watson-core ml coupling', 'analyze precipitation data', 'apple, ibm add machine learning to partnership with watson-core ml coupling', 'apple, ibm add machine learning to partnership with watson-core ml coupling', 'apple, ibm add machine learning to partnership with watson-core ml coupling', 'apple, ibm add machine learning to partnership with watson-core ml coupling', 'classify tumors with machine learning', 'apple, ibm add machine learning to partnership with watson-core ml coupling', 'analyze energy consumption in buildings', 'analyze energy consumption in buildings', 'analyze energy consumption in buildings', 'analyze energy consumption in buildings', 'analyze precipitation data', 'analyze energy consumption in buildings', 'classify tumors with machine learning', 'apple, ibm add machine learning to partnership with watson-core ml coupling', 'analyze precipitation data', 'customer demographics and sales', 'apple, ibm add machine learning to partnership with watson-core ml coupling', 'apple, ibm add machine learning to partnership with watson-core ml coupling', 'finding optimal locations of new store using decision optimization', 'analyze precipitation data', 'analyze precipitation data', 'apple, ibm add machine learning to partnership with watson-core ml coupling', 'analyze precipitation data', 'analyze precipitation data', 'classify tumors with machine learning', 'analyze precipitation data', 'analyze precipitation data', 'apple, ibm add machine learning to partnership with watson-core ml coupling', 'analyze precipitation data', 'analyze precipitation data', 'analyze precipitation data', 'apple, ibm add machine learning to partnership with watson-core ml coupling', 'classify tumors with machine learning', 'analyze precipitation data', 'analyze energy consumption in buildings', 'apple, ibm add machine learning to partnership with watson-core ml coupling', 'apple, ibm add machine learning to partnership with watson-core ml coupling', 'apple, ibm add machine learning to partnership with watson-core ml coupling', 'classify tumors with machine learning', 'apple, ibm add machine learning to partnership with watson-core ml coupling', 'apple, ibm add machine learning to partnership with watson-core ml coupling', 'apple, ibm add machine learning to partnership with watson-core ml coupling', 'apple, ibm add machine learning to partnership with watson-core ml coupling', 'apple, ibm add machine learning to partnership with watson-core ml coupling', 'analyze energy consumption in buildings', 'finding optimal locations of new store using decision optimization', 'analyze energy consumption in buildings', 'analyze energy consumption in buildings', 'analyze precipitation data', 'apple, ibm add machine learning to partnership with watson-core ml coupling', 'classify tumors with machine learning', 'analyze energy consumption in buildings', 'analyze precipitation data', 'analyze precipitation data', 'analyze precipitation data', 'analyze precipitation data', 'analyze precipitation data', 'analyze precipitation data', 'analyze precipitation data', 'analyze precipitation data', 'classify tumors with machine learning', 'classify tumors with machine learning', 'classify tumors with machine learning', 'classify tumors with machine learning', 'analyze precipitation data', 'analyze precipitation data', 'analyze precipitation data', 'analyze precipitation data', 'analyze precipitation data', 'finding optimal locations of new store using decision optimization', 'analyze precipitation data', 'apple, ibm add machine learning to partnership with watson-core ml coupling', 'apple, ibm add machine learning to partnership with watson-core ml coupling', 'apple, ibm add machine learning to partnership with watson-core ml coupling', 'analyze precipitation data', 'analyze energy consumption in buildings', 'apple, ibm add machine learning to partnership with watson-core ml coupling', 'finding optimal locations of new store using decision optimization', 'analyze precipitation data', 'analyze precipitation data', 'analyze precipitation data', 'apple, ibm add machine learning to partnership with watson-core ml coupling', 'apple, ibm add machine learning to partnership with watson-core ml coupling', 'finding optimal locations of new store using decision optimization', 'finding optimal locations of new store using decision optimization', 'customer demographics and sales', 'finding optimal locations of new store using decision optimization', 'analyze precipitation data', 'finding optimal locations of new store using decision optimization', 'finding optimal locations of new store using decision optimization', 'finding optimal locations of new store using decision optimization', 'customer demographics and sales', 'finding optimal locations of new store using decision optimization', 'apple, ibm add machine learning to partnership with watson-core ml coupling', 'customer demographics and sales', 'apple, ibm add machine learning to partnership with watson-core ml coupling', 'customer demographics and sales', 'finding optimal locations of new store using decision optimization', 'finding optimal locations of new store using decision optimization', 'classify tumors with machine learning', 'finding optimal locations of new store using decision optimization', 'finding optimal locations of new store using decision optimization', 'classify tumors with machine learning', 'classify tumors with machine learning', 'analyze precipitation data', 'classify tumors with machine learning', 'classify tumors with machine learning', 'finding optimal locations of new store using decision optimization', 'classify tumors with machine learning', 'analyze energy consumption in buildings', 'analyze energy consumption in buildings', 'classify tumors with machine learning', 'analyze energy consumption in buildings', 'finding optimal locations of new store using decision optimization', 'analyze precipitation data', 'classify tumors with machine learning', 'classify tumors with machine learning', 'finding optimal locations of new store using decision optimization', 'finding optimal locations of new store using decision optimization', 'analyze precipitation data', 'analyze precipitation data', 'classify tumors with machine learning', 'analyze precipitation data', 'classify tumors with machine learning', 'analyze energy consumption in buildings', 'analyze precipitation data', 'finding optimal locations of new store using decision optimization', 'classify tumors with machine learning', 'classify tumors with machine learning', 'classify tumors with machine learning', 'finding optimal locations of new store using decision optimization', 'finding optimal locations of new store using decision optimization', 'classify tumors with machine learning', 'analyze energy consumption in buildings', 'analyze precipitation data', 'finding optimal locations of new store using decision optimization', 'analyze precipitation data', 'analyze energy consumption in buildings', 'finding optimal locations of new store using decision optimization', 'analyze energy consumption in buildings', 'finding optimal locations of new store using decision optimization', 'analyze precipitation data', 'finding optimal locations of new store using decision optimization', 'classify tumors with machine learning', 'analyze energy consumption in buildings', 'analyze energy consumption in buildings', 'analyze precipitation data', 'finding optimal locations of new store using decision optimization', 'finding optimal locations of new store using decision optimization', 'analyze energy consumption in buildings', 'finding optimal locations of new store using decision optimization', 'finding optimal locations of new store using decision optimization', 'classify tumors with machine learning', 'analyze precipitation data', 'analyze energy consumption in buildings', 'finding optimal locations of new store using decision optimization', 'finding optimal locations of new store using decision optimization', 'analyze precipitation data', 'classify tumors with machine learning', 'analyze precipitation data', 'analyze precipitation data', 'classify tumors with machine learning', 'finding optimal locations of new store using decision optimization', 'classify tumors with machine learning', 'finding optimal locations of new store using decision optimization', 'analyze energy consumption in buildings', 'classify tumors with machine learning', 'finding optimal locations of new store using decision optimization', 'analyze energy consumption in buildings', 'classify tumors with machine learning', 'finding optimal locations of new store using decision optimization', 'analyze energy consumption in buildings', 'finding optimal locations of new store using decision optimization', 'finding optimal locations of new store using decision optimization', 'analyze precipitation data', 'classify tumors with machine learning', 'classify tumors with machine learning', 'customer demographics and sales', 'analyze precipitation data', 'classify tumors with machine learning', 'analyze energy consumption in buildings', 'analyze energy consumption in buildings', 'analyze precipitation data', 'finding optimal locations of new store using decision optimization', 'analyze energy consumption in buildings', 'analyze energy consumption in buildings', 'analyze energy consumption in buildings', 'analyze energy consumption in buildings', 'finding optimal locations of new store using decision optimization', 'classify tumors with machine learning', 'analyze energy consumption in buildings', 'analyze energy consumption in buildings', 'analyze energy consumption in buildings', 'finding optimal locations of new store using decision optimization', 'finding optimal locations of new store using decision optimization', 'analyze energy consumption in buildings', 'analyze energy consumption in buildings', 'analyze precipitation data', 'classify tumors with machine learning', 'analyze precipitation data', 'classify tumors with machine learning', 'classify tumors with machine learning', 'finding optimal locations of new store using decision optimization', 'finding optimal locations of new store using decision optimization', 'finding optimal locations of new store using decision optimization', 'finding optimal locations of new store using decision optimization', 'classify tumors with machine learning', 'analyze energy consumption in buildings', 'analyze energy consumption in buildings', 'analyze energy consumption in buildings', 'analyze energy consumption in buildings', 'finding optimal locations of new store using decision optimization', 'finding optimal locations of new store using decision optimization', 'analyze energy consumption in buildings', 'finding optimal locations of new store using decision optimization', 'finding optimal locations of new store using decision optimization', 'finding optimal locations of new store using decision optimization', 'customer demographics and sales', 'customer demographics and sales', 'customer demographics and sales', 'customer demographics and sales', 'customer demographics and sales', 'customer demographics and sales', 'customer demographics and sales', 'analyze precipitation data', 'finding optimal locations of new store using decision optimization', 'classify tumors with machine learning', 'finding optimal locations of new store using decision optimization', 'analyze precipitation data', 'apple, ibm add machine learning to partnership with watson-core ml coupling', 'customer demographics and sales', 'customer demographics and sales', 'customer demographics and sales', 'analyze energy consumption in buildings', 'analyze energy consumption in buildings', 'analyze energy consumption in buildings', 'finding optimal locations of new store using decision optimization', 'finding optimal locations of new store using decision optimization', 'finding optimal locations of new store using decision optimization', 'customer demographics and sales', 'analyze precipitation data', 'customer demographics and sales', 'finding optimal locations of new store using decision optimization', 'finding optimal locations of new store using decision optimization', 'finding optimal locations of new store using decision optimization', 'analyze precipitation data', 'finding optimal locations of new store using decision optimization', 'finding optimal locations of new store using decision optimization', 'finding optimal locations of new store using decision optimization', 'classify tumors with machine learning', 'analyze energy consumption in buildings', 'analyze precipitation data', 'finding optimal locations of new store using decision optimization', 'classify tumors with machine learning', 'ensemble learning to improve machine learning results', 'customer demographics and sales', 'analyze energy consumption in buildings', 'analyze energy consumption in buildings', 'analyze energy consumption in buildings', 'customer demographics and sales', 'customer demographics and sales', 'customer demographics and sales', 'classify tumors with machine learning', 'finding optimal locations of new store using decision optimization', 'analyze precipitation data', 'analyze precipitation data', 'analyze precipitation data', 'analyze precipitation data', 'classify tumors with machine learning', 'customer demographics and sales', 'customer demographics and sales', 'customer demographics and sales', 'analyze precipitation data', 'analyze precipitation data', 'apple, ibm add machine learning to partnership with watson-core ml coupling', 'customer demographics and sales', 'classify tumors with machine learning', 'finding optimal locations of new store using decision optimization', 'finding optimal locations of new store using decision optimization', 'analyze energy consumption in buildings', 'finding optimal locations of new store using decision optimization', 'analyze energy consumption in buildings', 'analyze energy consumption in buildings', 'ensemble learning to improve machine learning results', 'classify tumors with machine learning', 'classify tumors with machine learning', 'analyze energy consumption in buildings', 'analyze energy consumption in buildings', 'analyze energy consumption in buildings', 'analyze precipitation data', 'customer demographics and sales', 'customer demographics and sales', 'customer demographics and sales', 'analyze energy consumption in buildings', 'classify tumors with machine learning', 'analyze energy consumption in buildings', 'analyze energy consumption in buildings', 'analyze energy consumption in buildings', 'classify tumors with machine learning', 'analyze energy consumption in buildings', 'customer demographics and sales', 'customer demographics and sales', 'analyze energy consumption in buildings', 'apple, ibm add machine learning to partnership with watson-core ml coupling', 'analyze energy consumption in buildings', 'classify tumors with machine learning', 'classify tumors with machine learning', 'finding optimal locations of new store using decision optimization', 'finding optimal locations of new store using decision optimization', 'finding optimal locations of new store using decision optimization', 'analyze energy consumption in buildings', 'classify tumors with machine learning', 'classify tumors with machine learning', 'customer demographics and sales', 'classify tumors with machine learning', 'finding optimal locations of new store using decision optimization', 'ensemble learning to improve machine learning results', 'analyze energy consumption in buildings', 'finding optimal locations of new store using decision optimization', 'analyze precipitation data', 'ensemble learning to improve machine learning results', 'customer demographics and sales', 'ensemble learning to improve machine learning results', 'ensemble learning to improve machine learning results', 'analyze energy consumption in buildings', 'customer demographics and sales', 'finding optimal locations of new store using decision optimization', 'customer demographics and sales', 'classify tumors with machine learning', 'analyze energy consumption in buildings', 'analyze energy consumption in buildings', 'analyze energy consumption in buildings', 'finding optimal locations of new store using decision optimization', 'analyze energy consumption in buildings', 'analyze energy consumption in buildings', 'finding optimal locations of new store using decision optimization', 'analyze energy consumption in buildings', 'analyze energy consumption in buildings', 'analyze energy consumption in buildings', 'finding optimal locations of new store using decision optimization', 'finding optimal locations of new store using decision optimization', 'analyze energy consumption in buildings', 'analyze precipitation data', 'analyze energy consumption in buildings', 'analyze energy consumption in buildings', 'analyze energy consumption in buildings', 'analyze energy consumption in buildings', 'analyze precipitation data', 'analyze precipitation data', 'analyze precipitation data', 'analyze energy consumption in buildings', 'analyze energy consumption in buildings', 'customer demographics and sales', 'customer demographics and sales', 'customer demographics and sales', 'customer demographics and sales', 'customer demographics and sales', 'analyze energy consumption in buildings', 'finding optimal locations of new store using decision optimization', 'analyze precipitation data', 'classify tumors with machine learning', 'finding optimal locations of new store using decision optimization', 'classify tumors with machine learning', 'analyze energy consumption in buildings', 'analyze energy consumption in buildings', 'finding optimal locations of new store using decision optimization', 'analyze precipitation data', 'customer demographics and sales', 'customer demographics and sales', 'customer demographics and sales', 'customer demographics and sales', 'analyze precipitation data', 'analyze energy consumption in buildings', 'finding optimal locations of new store using decision optimization', 'finding optimal locations of new store using decision optimization', 'finding optimal locations of new store using decision optimization', 'finding optimal locations of new store using decision optimization', 'analyze precipitation data', 'analyze precipitation data', 'analyze precipitation data', 'analyze precipitation data', 'analyze precipitation data', 'analyze precipitation data', 'ensemble learning to improve machine learning results', 'analyze energy consumption in buildings', 'analyze energy consumption in buildings', 'customer demographics and sales', 'analyze energy consumption in buildings', 'classify tumors with machine learning', 'analyze energy consumption in buildings', 'analyze precipitation data', 'customer demographics and sales', 'analyze energy consumption in buildings', 'classify tumors with machine learning', 'customer demographics and sales', 'customer demographics and sales', 'customer demographics and sales', 'analyze energy consumption in buildings', 'analyze energy consumption in buildings', 'analyze energy consumption in buildings', 'analyze energy consumption in buildings', 'analyze energy consumption in buildings', 'analyze energy consumption in buildings', 'analyze energy consumption in buildings', 'analyze energy consumption in buildings', 'analyze precipitation data', 'analyze energy consumption in buildings', 'classify tumors with machine learning', 'ensemble learning to improve machine learning results', 'analyze energy consumption in buildings', 'analyze precipitation data', 'finding optimal locations of new store using decision optimization', 'finding optimal locations of new store using decision optimization', 'customer demographics and sales', 'analyze precipitation data', 'finding optimal locations of new store using decision optimization', 'analyze precipitation data', 'finding optimal locations of new store using decision optimization', 'customer demographics and sales', 'classify tumors with machine learning', 'classify tumors with machine learning', 'ensemble learning to improve machine learning results', 'finding optimal locations of new store using decision optimization', 'customer demographics and sales', 'analyze energy consumption in buildings', 'analyze energy consumption in buildings', 'analyze energy consumption in buildings', 'analyze precipitation data', 'customer demographics and sales', 'analyze energy consumption in buildings', 'customer demographics and sales', 'customer demographics and sales', 'customer demographics and sales', 'customer demographics and sales', 'customer demographics and sales', 'finding optimal locations of new store using decision optimization', 'finding optimal locations of new store using decision optimization', 'finding optimal locations of new store using decision optimization', 'finding optimal locations of new store using decision optimization', 'apple, ibm add machine learning to partnership with watson-core ml coupling', 'customer demographics and sales', 'customer demographics and sales', 'customer demographics and sales', 'customer demographics and sales', 'analyze precipitation data', 'customer demographics and sales', 'customer demographics and sales', 'apple, ibm add machine learning to partnership with watson-core ml coupling', 'apple, ibm add machine learning to partnership with watson-core ml coupling', 'customer demographics and sales', 'finding optimal locations of new store using decision optimization', 'analyze precipitation data', 'analyze precipitation data', 'finding optimal locations of new store using decision optimization', 'analyze precipitation data', 'finding optimal locations of new store using decision optimization', 'finding optimal locations of new store using decision optimization', 'finding optimal locations of new store using decision optimization', 'classify tumors with machine learning', 'customer demographics and sales', 'customer demographics and sales', 'customer demographics and sales', 'customer demographics and sales', 'customer demographics and sales', 'customer demographics and sales', 'ensemble learning to improve machine learning results', 'finding optimal locations of new store using decision optimization', 'finding optimal locations of new store using decision optimization', 'finding optimal locations of new store using decision optimization', 'finding optimal locations of new store using decision optimization', 'analyze precipitation data', 'analyze precipitation data', 'finding optimal locations of new store using decision optimization', 'finding optimal locations of new store using decision optimization', 'finding optimal locations of new store using decision optimization', 'classify tumors with machine learning', 'customer demographics and sales', 'analyze precipitation data', 'classify tumors with machine learning', 'customer demographics and sales', 'classify tumors with machine learning', 'analyze energy consumption in buildings', 'ensemble learning to improve machine learning results', 'customer demographics and sales', 'customer demographics and sales', 'customer demographics and sales', 'customer demographics and sales', 'classify tumors with machine learning', 'analyze energy consumption in buildings', 'analyze energy consumption in buildings', 'customer demographics and sales', 'analyze precipitation data', 'customer demographics and sales', 'customer demographics and sales', 'finding optimal locations of new store using decision optimization', 'finding optimal locations of new store using decision optimization', 'finding optimal locations of new store using decision optimization', 'customer demographics and sales', 'customer demographics and sales', 'customer demographics and sales', 'classify tumors with machine learning', 'classify tumors with machine learning', 'customer demographics and sales', 'analyze precipitation data', 'analyze precipitation data', 'analyze energy consumption in buildings', 'analyze precipitation data', 'customer demographics and sales', 'classify tumors with machine learning', 'analyze precipitation data', 'finding optimal locations of new store using decision optimization', 'customer demographics and sales', 'customer demographics and sales', 'finding optimal locations of new store using decision optimization', 'analyze precipitation data', 'customer demographics and sales', 'finding optimal locations of new store using decision optimization', 'finding optimal locations of new store using decision optimization', 'finding optimal locations of new store using decision optimization', 'finding optimal locations of new store using decision optimization', 'finding optimal locations of new store using decision optimization', 'finding optimal locations of new store using decision optimization', 'analyze energy consumption in buildings', 'finding optimal locations of new store using decision optimization', 'classify tumors with machine learning', 'finding optimal locations of new store using decision optimization', 'analyze energy consumption in buildings', 'classify tumors with machine learning', 'analyze energy consumption in buildings', 'finding optimal locations of new store using decision optimization', 'analyze energy consumption in buildings', 'analyze energy consumption in buildings', 'classify tumors with machine learning', 'finding optimal locations of new store using decision optimization', 'finding optimal locations of new store using decision optimization', 'analyze energy consumption in buildings', 'finding optimal locations of new store using decision optimization', 'customer demographics and sales', 'analyze energy consumption in buildings', 'customer demographics and sales', 'analyze precipitation data', 'analyze energy consumption in buildings', 'classify tumors with machine learning', 'finding optimal locations of new store using decision optimization', 'analyze energy consumption in buildings', 'finding optimal locations of new store using decision optimization', 'finding optimal locations of new store using decision optimization', 'finding optimal locations of new store using decision optimization', 'analyze energy consumption in buildings', 'classify tumors with machine learning', 'classify tumors with machine learning', 'classify tumors with machine learning', 'classify tumors with machine learning', 'classify tumors with machine learning', 'classify tumors with machine learning', 'classify tumors with machine learning', 'classify tumors with machine learning', 'classify tumors with machine learning', 'classify tumors with machine learning', 'classify tumors with machine learning', 'customer demographics and sales', 'analyze precipitation data', 'analyze precipitation data', 'finding optimal locations of new store using decision optimization', 'finding optimal locations of new store using decision optimization', 'analyze precipitation data', 'analyze precipitation data', 'analyze precipitation data', 'analyze precipitation data', 'classify tumors with machine learning', 'analyze energy consumption in buildings', 'classify tumors with machine learning', 'ensemble learning to improve machine learning results', 'customer demographics and sales', 'customer demographics and sales', 'classify tumors with machine learning', 'classify tumors with machine learning', 'classify tumors with machine learning', 'classify tumors with machine learning', 'analyze energy consumption in buildings', 'analyze energy consumption in buildings', 'analyze energy consumption in buildings', 'analyze energy consumption in buildings', 'analyze energy consumption in buildings', 'customer demographics and sales', 'customer demographics and sales', 'classify tumors with machine learning', 'classify tumors with machine learning', 'classify tumors with machine learning', 'ensemble learning to improve machine learning results', 'finding optimal locations of new store using decision optimization', 'classify tumors with machine learning', 'analyze energy consumption in buildings', 'analyze energy consumption in buildings', 'finding optimal locations of new store using decision optimization', 'analyze precipitation data', 'analyze precipitation data', 'classify tumors with machine learning', 'classify tumors with machine learning', 'analyze energy consumption in buildings', 'analyze energy consumption in buildings', 'finding optimal locations of new store using decision optimization', 'apple, ibm add machine learning to partnership with watson-core ml coupling', 'apple, ibm add machine learning to partnership with watson-core ml coupling', 'analyze energy consumption in buildings', 'analyze energy consumption in buildings', 'analyze energy consumption in buildings', 'analyze energy consumption in buildings', 'analyze energy consumption in buildings', 'analyze energy consumption in buildings', 'analyze energy consumption in buildings', 'ensemble learning to improve machine learning results', 'customer demographics and sales', 'analyze precipitation data', 'ensemble learning to improve machine learning results', 'classify tumors with machine learning', 'analyze precipitation data', 'apple, ibm add machine learning to partnership with watson-core ml coupling', 'finding optimal locations of new store using decision optimization', 'analyze precipitation data', 'ensemble learning to improve machine learning results', 'analyze energy consumption in buildings', 'analyze energy consumption in buildings', 'classify tumors with machine learning', 'analyze energy consumption in buildings', 'analyze energy consumption in buildings', 'analyze precipitation data', 'finding optimal locations of new store using decision optimization', 'finding optimal locations of new store using decision optimization', 'analyze precipitation data', 'finding optimal locations of new store using decision optimization', 'analyze energy consumption in buildings', 'customer demographics and sales', 'analyze energy consumption in buildings', 'analyze energy consumption in buildings', 'classify tumors with machine learning', 'analyze energy consumption in buildings', 'analyze energy consumption in buildings', 'analyze energy consumption in buildings', 'analyze energy consumption in buildings', 'finding optimal locations of new store using decision optimization', 'finding optimal locations of new store using decision optimization', 'finding optimal locations of new store using decision optimization', 'analyze energy consumption in buildings', 'finding optimal locations of new store using decision optimization', 'analyze energy consumption in buildings', 'finding optimal locations of new store using decision optimization', 'classify tumors with machine learning', 'finding optimal locations of new store using decision optimization', 'analyze energy consumption in buildings', 'finding optimal locations of new store using decision optimization', 'finding optimal locations of new store using decision optimization', 'analyze energy consumption in buildings', 'finding optimal locations of new store using decision optimization', 'finding optimal locations of new store using decision optimization', 'analyze energy consumption in buildings', 'finding optimal locations of new store using decision optimization', 'finding optimal locations of new store using decision optimization', 'finding optimal locations of new store using decision optimization', 'finding optimal locations of new store using decision optimization', 'finding optimal locations of new store using decision optimization', 'finding optimal locations of new store using decision optimization', 'analyze precipitation data', 'analyze energy consumption in buildings', 'analyze energy consumption in buildings', 'analyze energy consumption in buildings', 'finding optimal locations of new store using decision optimization', 'classify tumors with machine learning', 'finding optimal locations of new store using decision optimization', 'finding optimal locations of new store using decision optimization', 'finding optimal locations of new store using decision optimization', 'finding optimal locations of new store using decision optimization', 'finding optimal locations of new store using decision optimization', 'finding optimal locations of new store using decision optimization', 'finding optimal locations of new store using decision optimization', 'finding optimal locations of new store using decision optimization', 'finding optimal locations of new store using decision optimization', 'finding optimal locations of new store using decision optimization', 'finding optimal locations of new store using decision optimization', 'analyze energy consumption in buildings', 'classify tumors with machine learning', 'finding optimal locations of new store using decision optimization', 'finding optimal locations of new store using decision optimization', 'customer demographics and sales', 'classify tumors with machine learning', 'classify tumors with machine learning', 'customer demographics and sales', 'customer demographics and sales', 'finding optimal locations of new store using decision optimization', 'classify tumors with machine learning', 'apple, ibm add machine learning to partnership with watson-core ml coupling', 'classify tumors with machine learning', 'classify tumors with machine learning', 'finding optimal locations of new store using decision optimization', 'finding optimal locations of new store using decision optimization', 'finding optimal locations of new store using decision optimization', 'finding optimal locations of new store using decision optimization', 'finding optimal locations of new store using decision optimization', 'finding optimal locations of new store using decision optimization', 'finding optimal locations of new store using decision optimization', 'finding optimal locations of new store using decision optimization', 'finding optimal locations of new store using decision optimization', 'finding optimal locations of new store using decision optimization', 'finding optimal locations of new store using decision optimization', 'finding optimal locations of new store using decision optimization', 'finding optimal locations of new store using decision optimization', 'finding optimal locations of new store using decision optimization', 'analyze energy consumption in buildings', 'analyze energy consumption in buildings', 'customer demographics and sales', 'classify tumors with machine learning', 'analyze energy consumption in buildings', 'analyze energy consumption in buildings', 'analyze energy consumption in buildings', 'analyze energy consumption in buildings', 'analyze energy consumption in buildings', 'analyze energy consumption in buildings', 'analyze energy consumption in buildings', 'customer demographics and sales', 'customer demographics and sales', 'customer demographics and sales', 'customer demographics and sales', 'customer demographics and sales', 'analyze precipitation data', 'analyze energy consumption in buildings', 'finding optimal locations of new store using decision optimization', 'ensemble learning to improve machine learning results', 'analyze energy consumption in buildings', 'analyze energy consumption in buildings', 'analyze energy consumption in buildings', 'customer demographics and sales', 'analyze energy consumption in buildings', 'finding optimal locations of new store using decision optimization', 'classify tumors with machine learning', 'customer demographics and sales', 'analyze energy consumption in buildings', 'finding optimal locations of new store using decision optimization', 'classify tumors with machine learning', 'finding optimal locations of new store using decision optimization', 'analyze precipitation data', 'finding optimal locations of new store using decision optimization', 'finding optimal locations of new store using decision optimization', 'analyze precipitation data', 'finding optimal locations of new store using decision optimization', 'analyze energy consumption in buildings', 'analyze precipitation data', 'finding optimal locations of new store using decision optimization', 'finding optimal locations of new store using decision optimization', 'finding optimal locations of new store using decision optimization', 'analyze energy consumption in buildings', 'analyze precipitation data', 'analyze precipitation data', 'analyze precipitation data', 'ensemble learning to improve machine learning results', 'analyze energy consumption in buildings', 'analyze precipitation data', 'analyze precipitation data', 'analyze precipitation data', 'analyze precipitation data', 'customer demographics and sales', 'finding optimal locations of new store using decision optimization', 'finding optimal locations of new store using decision optimization', 'finding optimal locations of new store using decision optimization', 'analyze precipitation data', 'finding optimal locations of new store using decision optimization', 'finding optimal locations of new store using decision optimization', 'finding optimal locations of new store using decision optimization', 'finding optimal locations of new store using decision optimization', 'customer demographics and sales', 'classify tumors with machine learning', 'classify tumors with machine learning', 'classify tumors with machine learning', 'finding optimal locations of new store using decision optimization', 'classify tumors with machine learning', 'finding optimal locations of new store using decision optimization', 'customer demographics and sales', 'customer demographics and sales', 'ensemble learning to improve machine learning results', 'customer demographics and sales', 'classify tumors with machine learning', 'finding optimal locations of new store using decision optimization', 'classify tumors with machine learning', 'analyze precipitation data', 'customer demographics and sales', 'customer demographics and sales', 'customer demographics and sales', 'finding optimal locations of new store using decision optimization', 'analyze precipitation data', 'analyze precipitation data', 'analyze precipitation data', 'analyze precipitation data', 'analyze precipitation data', 'analyze precipitation data', 'analyze energy consumption in buildings', 'ensemble learning to improve machine learning results', 'analyze precipitation data', 'customer demographics and sales', 'apple, ibm add machine learning to partnership with watson-core ml coupling', 'analyze energy consumption in buildings', 'finding optimal locations of new store using decision optimization', 'finding optimal locations of new store using decision optimization', 'customer demographics and sales', 'finding optimal locations of new store using decision optimization', 'finding optimal locations of new store using decision optimization', 'analyze precipitation data', 'classify tumors with machine learning', 'analyze energy consumption in buildings', 'customer demographics and sales', 'apple, ibm add machine learning to partnership with watson-core ml coupling', 'customer demographics and sales', 'analyze precipitation data', 'analyze precipitation data', 'analyze precipitation data', 'customer demographics and sales', 'analyze precipitation data', 'classify tumors with machine learning', 'customer demographics and sales', 'analyze energy consumption in buildings', 'analyze precipitation data', 'classify tumors with machine learning', 'analyze precipitation data', 'analyze precipitation data', 'customer demographics and sales', 'classify tumors with machine learning', 'analyze energy consumption in buildings', 'customer demographics and sales', 'analyze precipitation data', 'classify tumors with machine learning', 'classify tumors with machine learning', 'customer demographics and sales', 'customer demographics and sales', 'customer demographics and sales', 'finding optimal locations of new store using decision optimization', 'finding optimal locations of new store using decision optimization', 'finding optimal locations of new store using decision optimization', 'classify tumors with machine learning', 'finding optimal locations of new store using decision optimization', 'finding optimal locations of new store using decision optimization', 'finding optimal locations of new store using decision optimization', 'classify tumors with machine learning', 'analyze energy consumption in buildings', 'classify tumors with machine learning', 'analyze energy consumption in buildings', 'customer demographics and sales', 'finding optimal locations of new store using decision optimization', 'finding optimal locations of new store using decision optimization', 'finding optimal locations of new store using decision optimization', 'finding optimal locations of new store using decision optimization', 'finding optimal locations of new store using decision optimization', 'apple, ibm add machine learning to partnership with watson-core ml coupling', 'finding optimal locations of new store using decision optimization', 'classify tumors with machine learning', 'finding optimal locations of new store using decision optimization', 'finding optimal locations of new store using decision optimization', 'classify tumors with machine learning', 'finding optimal locations of new store using decision optimization', 'finding optimal locations of new store using decision optimization', 'finding optimal locations of new store using decision optimization', 'finding optimal locations of new store using decision optimization', 'finding optimal locations of new store using decision optimization', 'finding optimal locations of new store using decision optimization', 'finding optimal locations of new store using decision optimization', 'finding optimal locations of new store using decision optimization', 'analyze energy consumption in buildings', 'analyze energy consumption in buildings', 'analyze energy consumption in buildings', 'analyze energy consumption in buildings', 'classify tumors with machine learning', 'analyze precipitation data', 'analyze energy consumption in buildings', 'classify tumors with machine learning', 'apple, ibm add machine learning to partnership with watson-core ml coupling', 'classify tumors with machine learning', 'classify tumors with machine learning', 'classify tumors with machine learning', 'classify tumors with machine learning', 'classify tumors with machine learning', 'classify tumors with machine learning', 'classify tumors with machine learning', 'classify tumors with machine learning', 'customer demographics and sales', 'classify tumors with machine learning', 'finding optimal locations of new store using decision optimization', 'analyze energy consumption in buildings', 'classify tumors with machine learning', 'classify tumors with machine learning', 'finding optimal locations of new store using decision optimization', 'classify tumors with machine learning', 'finding optimal locations of new store using decision optimization', 'ensemble learning to improve machine learning results', 'classify tumors with machine learning', 'analyze energy consumption in buildings', 'customer demographics and sales', 'customer demographics and sales', 'analyze precipitation data', 'analyze precipitation data', 'analyze energy consumption in buildings', 'analyze energy consumption in buildings', 'classify tumors with machine learning', 'apple, ibm add machine learning to partnership with watson-core ml coupling', 'analyze energy consumption in buildings', 'customer demographics and sales', 'classify tumors with machine learning', 'customer demographics and sales', 'ensemble learning to improve machine learning results', 'finding optimal locations of new store using decision optimization', 'customer demographics and sales', 'classify tumors with machine learning', 'customer demographics and sales', 'analyze energy consumption in buildings', 'analyze energy consumption in buildings', 'analyze energy consumption in buildings', 'analyze energy consumption in buildings', 'analyze energy consumption in buildings', 'analyze energy consumption in buildings', 'analyze energy consumption in buildings', 'analyze energy consumption in buildings', 'customer demographics and sales', 'customer demographics and sales', 'customer demographics and sales', 'classify tumors with machine learning', 'ensemble learning to improve machine learning results', 'ensemble learning to improve machine learning results', 'analyze precipitation data', 'customer demographics and sales', 'classify tumors with machine learning', 'classify tumors with machine learning', 'customer demographics and sales', 'customer demographics and sales', 'customer demographics and sales', 'customer demographics and sales', 'customer demographics and sales', 'analyze energy consumption in buildings', 'analyze energy consumption in buildings', 'classify tumors with machine learning', 'classify tumors with machine learning', 'classify tumors with machine learning', 'analyze precipitation data', 'analyze energy consumption in buildings', 'analyze precipitation data', 'analyze precipitation data', 'classify tumors with machine learning', 'analyze energy consumption in buildings', 'analyze energy consumption in buildings', 'finding optimal locations of new store using decision optimization', 'analyze energy consumption in buildings', 'ensemble learning to improve machine learning results', 'finding optimal locations of new store using decision optimization', 'analyze energy consumption in buildings', 'ensemble learning to improve machine learning results', 'customer demographics and sales', 'analyze precipitation data', 'finding optimal locations of new store using decision optimization', 'finding optimal locations of new store using decision optimization', 'finding optimal locations of new store using decision optimization', 'finding optimal locations of new store using decision optimization', 'finding optimal locations of new store using decision optimization', 'analyze precipitation data', 'analyze precipitation data', 'analyze precipitation data', 'analyze precipitation data', 'analyze precipitation data', 'analyze precipitation data', 'analyze precipitation data', 'customer demographics and sales', 'analyze precipitation data', 'customer demographics and sales', 'analyze precipitation data', 'classify tumors with machine learning', 'analyze energy consumption in buildings', 'customer demographics and sales', 'customer demographics and sales', 'analyze energy consumption in buildings', 'analyze energy consumption in buildings', 'finding optimal locations of new store using decision optimization', 'finding optimal locations of new store using decision optimization', 'analyze precipitation data', 'finding optimal locations of new store using decision optimization', 'analyze precipitation data', 'classify tumors with machine learning', 'finding optimal locations of new store using decision optimization', 'apple, ibm add machine learning to partnership with watson-core ml coupling', 'classify tumors with machine learning', 'finding optimal locations of new store using decision optimization', 'classify tumors with machine learning', 'classify tumors with machine learning', 'customer demographics and sales', 'customer demographics and sales', 'customer demographics and sales', 'customer demographics and sales', 'analyze precipitation data', 'classify tumors with machine learning', 'classify tumors with machine learning', 'classify tumors with machine learning', 'analyze energy consumption in buildings', 'classify tumors with machine learning', 'classify tumors with machine learning', 'ensemble learning to improve machine learning results', 'ensemble learning to improve machine learning results', 'ensemble learning to improve machine learning results', 'finding optimal locations of new store using decision optimization', 'finding optimal locations of new store using decision optimization', 'finding optimal locations of new store using decision optimization', 'finding optimal locations of new store using decision optimization', 'classify tumors with machine learning', 'classify tumors with machine learning', 'analyze precipitation data', 'classify tumors with machine learning', 'analyze energy consumption in buildings', 'analyze precipitation data', 'analyze precipitation data', 'finding optimal locations of new store using decision optimization', 'finding optimal locations of new store using decision optimization', 'finding optimal locations of new store using decision optimization', 'customer demographics and sales', 'classify tumors with machine learning', 'classify tumors with machine learning', 'analyze precipitation data', 'classify tumors with machine learning', 'classify tumors with machine learning', 'classify tumors with machine learning', 'analyze energy consumption in buildings', 'ensemble learning to improve machine learning results', 'apple, ibm add machine learning to partnership with watson-core ml coupling', 'classify tumors with machine learning', 'apple, ibm add machine learning to partnership with watson-core ml coupling', 'ensemble learning to improve machine learning results', 'classify tumors with machine learning', 'finding optimal locations of new store using decision optimization', 'apple, ibm add machine learning to partnership with watson-core ml coupling', 'classify tumors with machine learning', 'classify tumors with machine learning', 'classify tumors with machine learning', 'ensemble learning to improve machine learning results', 'ensemble learning to improve machine learning results', 'classify tumors with machine learning', 'classify tumors with machine learning', 'analyze energy consumption in buildings', 'classify tumors with machine learning', 'analyze precipitation data', 'classify tumors with machine learning', 'customer demographics and sales', 'finding optimal locations of new store using decision optimization', 'classify tumors with machine learning', 'classify tumors with machine learning', 'classify tumors with machine learning', 'analyze precipitation data', 'classify tumors with machine learning', 'classify tumors with machine learning', 'customer demographics and sales', 'finding optimal locations of new store using decision optimization', 'finding optimal locations of new store using decision optimization', 'finding optimal locations of new store using decision optimization', 'analyze precipitation data', 'ensemble learning to improve machine learning results', 'classify tumors with machine learning', 'classify tumors with machine learning', 'classify tumors with machine learning', 'analyze precipitation data', 'analyze energy consumption in buildings', 'analyze energy consumption in buildings', 'finding optimal locations of new store using decision optimization', 'analyze energy consumption in buildings', 'analyze energy consumption in buildings', 'classify tumors with machine learning', 'classify tumors with machine learning', 'analyze precipitation data', 'finding optimal locations of new store using decision optimization', 'classify tumors with machine learning', 'analyze energy consumption in buildings', 'customer demographics and sales', 'customer demographics and sales', 'analyze energy consumption in buildings', 'analyze energy consumption in buildings', 'analyze energy consumption in buildings', 'finding optimal locations of new store using decision optimization', 'analyze precipitation data', 'analyze precipitation data', 'classify tumors with machine learning', 'analyze precipitation data', 'apple, ibm add machine learning to partnership with watson-core ml coupling', 'finding optimal locations of new store using decision optimization', 'ensemble learning to improve machine learning results', 'finding optimal locations of new store using decision optimization', 'analyze energy consumption in buildings', 'analyze energy consumption in buildings', 'customer demographics and sales', 'classify tumors with machine learning', 'analyze precipitation data', 'classify tumors with machine learning', 'analyze energy consumption in buildings', 'finding optimal locations of new store using decision optimization', 'classify tumors with machine learning', 'finding optimal locations of new store using decision optimization', 'analyze precipitation data', 'analyze precipitation data', 'analyze precipitation data', 'analyze precipitation data', 'classify tumors with machine learning', 'classify tumors with machine learning', 'classify tumors with machine learning', 'classify tumors with machine learning', 'apple, ibm add machine learning to partnership with watson-core ml coupling', 'classify tumors with machine learning', 'finding optimal locations of new store using decision optimization', 'finding optimal locations of new store using decision optimization', 'finding optimal locations of new store using decision optimization', 'finding optimal locations of new store using decision optimization', 'finding optimal locations of new store using decision optimization', 'finding optimal locations of new store using decision optimization', 'finding optimal locations of new store using decision optimization', 'analyze precipitation data', 'analyze precipitation data', 'analyze precipitation data', 'ensemble learning to improve machine learning results', 'apple, ibm add machine learning to partnership with watson-core ml coupling', 'classify tumors with machine learning', 'classify tumors with machine learning', 'customer demographics and sales', 'customer demographics and sales', 'finding optimal locations of new store using decision optimization', 'analyze energy consumption in buildings', 'analyze energy consumption in buildings', 'customer demographics and sales', 'finding optimal locations of new store using decision optimization', 'customer demographics and sales', 'customer demographics and sales', 'finding optimal locations of new store using decision optimization', 'classify tumors with machine learning', 'classify tumors with machine learning', 'finding optimal locations of new store using decision optimization', 'finding optimal locations of new store using decision optimization', 'finding optimal locations of new store using decision optimization', 'classify tumors with machine learning', 'classify tumors with machine learning', 'analyze energy consumption in buildings', 'analyze energy consumption in buildings', 'classify tumors with machine learning', 'finding optimal locations of new store using decision optimization', 'finding optimal locations of new store using decision optimization', 'analyze precipitation data', 'analyze precipitation data', 'apple, ibm add machine learning to partnership with watson-core ml coupling', 'finding optimal locations of new store using decision optimization', 'finding optimal locations of new store using decision optimization', 'finding optimal locations of new store using decision optimization', 'finding optimal locations of new store using decision optimization', 'finding optimal locations of new store using decision optimization', 'finding optimal locations of new store using decision optimization', 'finding optimal locations of new store using decision optimization', 'finding optimal locations of new store using decision optimization', 'finding optimal locations of new store using decision optimization', 'finding optimal locations of new store using decision optimization', 'analyze energy consumption in buildings', 'analyze precipitation data', 'analyze energy consumption in buildings', 'customer demographics and sales', 'analyze precipitation data', 'analyze energy consumption in buildings', 'finding optimal locations of new store using decision optimization', 'customer demographics and sales', 'finding optimal locations of new store using decision optimization', 'finding optimal locations of new store using decision optimization', 'finding optimal locations of new store using decision optimization', 'finding optimal locations of new store using decision optimization', 'finding optimal locations of new store using decision optimization', 'customer demographics and sales', 'finding optimal locations of new store using decision optimization', 'finding optimal locations of new store using decision optimization', 'analyze energy consumption in buildings', 'analyze energy consumption in buildings', 'analyze energy consumption in buildings', 'analyze energy consumption in buildings', 'analyze energy consumption in buildings', 'analyze precipitation data', 'analyze energy consumption in buildings', 'analyze energy consumption in buildings', 'finding optimal locations of new store using decision optimization', 'analyze precipitation data', 'customer demographics and sales', 'customer demographics and sales', 'finding optimal locations of new store using decision optimization', 'analyze energy consumption in buildings', 'ensemble learning to improve machine learning results', 'customer demographics and sales', 'analyze energy consumption in buildings', 'analyze energy consumption in buildings', 'analyze energy consumption in buildings', 'classify tumors with machine learning', 'classify tumors with machine learning', 'classify tumors with machine learning', 'classify tumors with machine learning', 'classify tumors with machine learning', 'classify tumors with machine learning', 'classify tumors with machine learning', 'classify tumors with machine learning', 'classify tumors with machine learning', 'classify tumors with machine learning', 'classify tumors with machine learning', 'analyze precipitation data', 'classify tumors with machine learning', 'classify tumors with machine learning', 'customer demographics and sales', 'customer demographics and sales', 'customer demographics and sales', 'analyze energy consumption in buildings', 'customer demographics and sales', 'analyze energy consumption in buildings', 'apple, ibm add machine learning to partnership with watson-core ml coupling', 'classify tumors with machine learning', 'classify tumors with machine learning', 'analyze energy consumption in buildings', 'analyze energy consumption in buildings', 'analyze energy consumption in buildings', 'classify tumors with machine learning', 'customer demographics and sales', 'customer demographics and sales', 'customer demographics and sales', 'analyze energy consumption in buildings', 'classify tumors with machine learning', 'classify tumors with machine learning', 'analyze energy consumption in buildings', 'analyze energy consumption in buildings', 'analyze energy consumption in buildings', 'analyze energy consumption in buildings', 'customer demographics and sales', 'analyze energy consumption in buildings', 'customer demographics and sales', 'customer demographics and sales', 'analyze energy consumption in buildings', 'analyze energy consumption in buildings', 'ensemble learning to improve machine learning results', 'customer demographics and sales', 'finding optimal locations of new store using decision optimization', 'finding optimal locations of new store using decision optimization', 'analyze energy consumption in buildings', 'analyze energy consumption in buildings', 'analyze precipitation data', 'classify tumors with machine learning', 'analyze energy consumption in buildings', 'classify tumors with machine learning', 'classify tumors with machine learning', 'finding optimal locations of new store using decision optimization', 'finding optimal locations of new store using decision optimization', 'finding optimal locations of new store using decision optimization', 'classify tumors with machine learning', 'classify tumors with machine learning', 'finding optimal locations of new store using decision optimization', 'finding optimal locations of new store using decision optimization', 'classify tumors with machine learning', 'classify tumors with machine learning', 'classify tumors with machine learning', 'finding optimal locations of new store using decision optimization', 'finding optimal locations of new store using decision optimization', 'analyze precipitation data', 'analyze precipitation data', 'analyze precipitation data', 'analyze precipitation data', 'classify tumors with machine learning', 'analyze precipitation data', 'analyze precipitation data', 'analyze precipitation data', 'analyze precipitation data', 'analyze precipitation data', 'analyze precipitation data', 'analyze precipitation data', 'analyze precipitation data', 'analyze energy consumption in buildings', 'analyze energy consumption in buildings', 'analyze energy consumption in buildings', 'apple, ibm add machine learning to partnership with watson-core ml coupling', 'customer demographics and sales', 'customer demographics and sales', 'analyze precipitation data', 'analyze precipitation data', 'ensemble learning to improve machine learning results', 'apple, ibm add machine learning to partnership with watson-core ml coupling', 'customer demographics and sales', 'finding optimal locations of new store using decision optimization', 'customer demographics and sales', 'analyze energy consumption in buildings', 'finding optimal locations of new store using decision optimization', 'apple, ibm add machine learning to partnership with watson-core ml coupling', 'apple, ibm add machine learning to partnership with watson-core ml coupling', 'apple, ibm add machine learning to partnership with watson-core ml coupling', 'customer demographics and sales', 'analyze energy consumption in buildings', 'analyze energy consumption in buildings', 'analyze energy consumption in buildings', 'classify tumors with machine learning', 'analyze energy consumption in buildings', 'analyze precipitation data', 'analyze precipitation data', 'finding optimal locations of new store using decision optimization', 'finding optimal locations of new store using decision optimization', 'analyze energy consumption in buildings', 'finding optimal locations of new store using decision optimization', 'finding optimal locations of new store using decision optimization', 'finding optimal locations of new store using decision optimization', 'classify tumors with machine learning', 'analyze energy consumption in buildings', 'analyze precipitation data', 'finding optimal locations of new store using decision optimization', 'analyze energy consumption in buildings', 'customer demographics and sales', 'customer demographics and sales', 'customer demographics and sales', 'classify tumors with machine learning', 'customer demographics and sales', 'customer demographics and sales', 'customer demographics and sales', 'analyze precipitation data', 'analyze precipitation data', 'analyze precipitation data', 'analyze energy consumption in buildings', 'analyze energy consumption in buildings', 'classify tumors with machine learning', 'customer demographics and sales', 'customer demographics and sales', 'customer demographics and sales', 'analyze precipitation data', 'classify tumors with machine learning', 'analyze precipitation data', 'analyze precipitation data', 'analyze energy consumption in buildings', 'analyze energy consumption in buildings', 'analyze energy consumption in buildings', 'analyze energy consumption in buildings', 'analyze energy consumption in buildings', 'analyze energy consumption in buildings', 'analyze energy consumption in buildings', 'analyze energy consumption in buildings', 'classify tumors with machine learning', 'customer demographics and sales', 'classify tumors with machine learning', 'customer demographics and sales', 'customer demographics and sales', 'customer demographics and sales', 'classify tumors with machine learning', 'customer demographics and sales', 'analyze energy consumption in buildings', 'analyze energy consumption in buildings', 'analyze energy consumption in buildings', 'customer demographics and sales', 'finding optimal locations of new store using decision optimization', 'analyze precipitation data']\n"
     ]
    }
   ],
   "source": [
    "# Quick spot check - don't change this code - just use it to test your functions\n",
    "rec_ids, rec_names = user_user_recs_part2(20, 10)\n",
    "print(\"The top 10 recommendations for user 20 are the following article ids:\")\n",
    "print(rec_ids)\n",
    "print()\n",
    "print(\"The top 10 recommendations for user 20 are the following article names:\")\n",
    "print(rec_names)"
   ]
  },
  {
   "cell_type": "markdown",
   "metadata": {},
   "source": [
    "`5.` Use your functions from above to correctly fill in the solutions to the dictionary below.  Then test your dictionary against the solution.  Provide the code you need to answer each following the comments below."
   ]
  },
  {
   "cell_type": "code",
   "execution_count": 35,
   "metadata": {},
   "outputs": [
    {
     "name": "stdout",
     "output_type": "stream",
     "text": [
      "   neighbor_id  similarity  num_interactions\n",
      "0         3933    0.986013                35\n",
      "    neighbor_id  similarity  num_interactions\n",
      "0          5083    0.730297                 5\n",
      "1          1552    0.577350                 2\n",
      "2          1890    0.577350                 2\n",
      "3          1372    0.471405                 3\n",
      "4          2941    0.433013                 8\n",
      "37         3586    0.408248                 4\n",
      "5           331    0.408248                 1\n",
      "6           348    0.408248                 1\n",
      "7           378    0.408248                 1\n",
      "8           496    0.408248                 1\n",
      "   neighbor_id  similarity  num_interactions\n",
      "0         3870    0.986667                75\n",
      "1          203    0.388909                96\n",
      "2         4459    0.388909                96\n",
      "3         3782    0.387585               135\n",
      "4           40    0.384308                52\n",
      "5         4932    0.384308                52\n",
      "6           23    0.377647               135\n",
      "7          242    0.375823                59\n",
      "8         3910    0.372678                60\n",
      "9          383    0.367423                32\n"
     ]
    }
   ],
   "source": [
    "print(get_top_sorted_users(1, user_item=user_item).head(n=1))\n",
    "print(get_top_sorted_users(2, user_item=user_item).head(n=10))\n",
    "print(get_top_sorted_users(131, user_item=user_item).head(n=10))"
   ]
  },
  {
   "cell_type": "code",
   "execution_count": 36,
   "metadata": {},
   "outputs": [
    {
     "name": "stdout",
     "output_type": "stream",
     "text": [
      "Most similar user to user 1: 3933\n",
      "6th most similar user to user 2: 331\n",
      "10th most similar user to user 131: 383\n"
     ]
    }
   ],
   "source": [
    "# Find the user that is most similar to user 1\n",
    "user1_most_sim = find_similar_users(1, user_item)[0]  # The most similar user to user 1 is at index 0\n",
    "print(f\"Most similar user to user 1: {user1_most_sim}\")\n",
    "\n",
    "# Find the 6th most similar user to user 2\n",
    "user2_6th_sim = find_similar_users(2, user_item)[5]  # The 6th most similar user to user 2 is at index 5\n",
    "print(f\"6th most similar user to user 2: {user2_6th_sim}\")\n",
    "\n",
    "# Find the 10th most similar user to user 131\n",
    "user131_10th_sim = find_similar_users(131, user_item)[9]  # The 10th most similar user to user 131 is at index 9\n",
    "print(f\"10th most similar user to user 131: {user131_10th_sim}\")"
   ]
  },
  {
   "cell_type": "code",
   "execution_count": 37,
   "metadata": {},
   "outputs": [
    {
     "name": "stdout",
     "output_type": "stream",
     "text": [
      "This all looks good!  Nice job!\n"
     ]
    }
   ],
   "source": [
    "sol_5_dict = {\n",
    "    'The user that is most similar to user 1.': user1_most_sim, \n",
    "    'The user that is the 6th most similar to user 2.': 3586,\n",
    "    'The user that is the 10th most similar to user 131.': user131_10th_sim,\n",
    "}\n",
    "\n",
    "t.sol_5_test(sol_5_dict)"
   ]
  },
  {
   "cell_type": "markdown",
   "metadata": {},
   "source": [
    "`6.` If we were given a new user, which of the above functions would you be able to use to make recommendations?  Explain.  Can you think of a better way we might make recommendations?  Use the cell below to explain a better method for new users."
   ]
  },
  {
   "cell_type": "markdown",
   "metadata": {},
   "source": [
    "Answer:\n",
    "\n",
    "When dealing with a new user—one who hasn't interacted with any articles yet—there are a few challenges in terms of recommending content, because the methods we've developed rely heavily on user interaction data. Specifically, functions like find_similar_users and user_user_recs require at least some interaction data to function properly, and they depend on the assumption that users share similar interests based on their past behaviors.\n",
    "\n",
    "Functions to Use for a New User:\n",
    "For a new user, the following approach could still be utilized, albeit with some limitations:\n",
    "\n",
    "User-Item Matrix: If the new user hasn't interacted with any articles, they would have no record in the user-item matrix. Therefore, functions like find_similar_users would return no useful data for the new user.\n",
    "\n",
    "Article Recommendations: One approach could be recommending articles that are popular among existing users, based on the total number of interactions with each article. This can be done using the get_top_sorted_articles function, which ranks articles based on their popularity. The assumption here is that a new user is likely to appreciate popular content, as it has broad appeal.\n",
    "\n",
    "Better Method for New Users: Content-Based Filtering\n",
    "A more effective approach for recommending articles to new users would be to use content-based filtering. Here's how you might approach it:\n",
    "\n",
    "Article Features: Gather and analyze features related to each article (e.g., categories, keywords, topics). For instance, each article could have metadata such as:\n",
    "\n",
    "Category (e.g., finance, tech, health, etc.)\n",
    "\n",
    "Keywords/Tags (e.g., machine learning, investment, insurance)\n",
    "\n",
    "Article length\n",
    "\n",
    "Author or source\n",
    "\n",
    "New User Preferences: Instead of relying on interaction history, you can ask the new user a few questions to capture their preferences, such as:\n",
    "\n",
    "Which categories of articles do they prefer? (Finance, Tech, Lifestyle, etc.)\n",
    "\n",
    "Are there specific topics or keywords they are interested in?\n",
    "\n",
    "Article Matching: Use the user's preferences to recommend articles that match those features. For example, if the user likes articles related to \"tech\" and \"machine learning,\" you can filter out and suggest articles that belong to these categories or include these keywords.\n",
    "\n",
    "Hybrid Model: Combine the content-based filtering method with a collaborative filtering method (based on user similarity), so that once the user starts interacting with the articles, they can be integrated into the collaborative model. Initially, they might rely more on the content-based approach, but as their interaction data grows, collaborative filtering can be used to refine the recommendations.\n",
    "\n",
    "How to Implement a Content-Based Filtering System:\n",
    "Step 1: Build a content-based profile for each article using the available metadata or keywords.\n",
    "\n",
    "Step 2: Ask the user to fill out a survey or preferences form to create their profile.\n",
    "\n",
    "Step 3: Filter articles that align with the new user's profile.\n",
    "\n",
    "Step 4: Recommend those filtered articles to the new user.\n",
    "\n",
    "This method doesn't require any past interaction data, and it leverages the content itself to make meaningful recommendations to a new user. Over time, as the user starts interacting with articles, you can gradually introduce collaborative filtering to refine the recommendations based on the user's behavior."
   ]
  },
  {
   "cell_type": "markdown",
   "metadata": {},
   "source": [
    "`7.` Using your existing functions, provide the top 10 recommended articles you would provide for the a new user below.  You can test your function against our thoughts to make sure we are all on the same page with how we might make a recommendation."
   ]
  },
  {
   "cell_type": "code",
   "execution_count": 38,
   "metadata": {},
   "outputs": [
    {
     "name": "stdout",
     "output_type": "stream",
     "text": [
      "Top 10 recommended article IDs for new user: [1330, 1429, 1364, 1314, 1398, 1431, 1271, 1427, 1160, 43]\n"
     ]
    }
   ],
   "source": [
    "def get_top_sorted_articles(user_item=user_item):\n",
    "    \"\"\"\n",
    "    Get articles sorted by the number of interactions (in descending order).\n",
    "    \n",
    "    INPUT:\n",
    "    user_item - (pandas dataframe) matrix of users by articles: \n",
    "                1's when a user has interacted with an article, 0 otherwise\n",
    "    \n",
    "    OUTPUT:\n",
    "    sorted_articles - (list) a list of tuples with article_ids and their corresponding \n",
    "                      number of interactions, sorted by the number of interactions.\n",
    "    \"\"\"\n",
    "    # Sum up interactions for each article (column-wise)\n",
    "    article_interactions = user_item.sum(axis=0)\n",
    "    \n",
    "    # Sort articles by number of interactions in descending order\n",
    "    sorted_articles = article_interactions.sort_values(ascending=False)\n",
    "    \n",
    "    # Return the article ids and their interaction counts\n",
    "    return sorted_articles.index.tolist(), sorted_articles.values.tolist()\n",
    "\n",
    "# Now get the top 10 recommended articles for the new user\n",
    "new_user_recs = get_top_sorted_articles()[0][:10]  # Extract the top 10 article ids\n",
    "print(f\"Top 10 recommended article IDs for new user: {new_user_recs}\")\n"
   ]
  },
  {
   "cell_type": "code",
   "execution_count": 39,
   "metadata": {},
   "outputs": [
    {
     "name": "stdout",
     "output_type": "stream",
     "text": [
      "Top 10 recommended article IDs for new user: [1330, 1429, 1364, 1314, 1398, 1431, 1271, 1427, 1160, 43]\n"
     ]
    }
   ],
   "source": [
    "# What would your recommendations be for this new user 0?  As a new user, they have no observed articles.\n",
    "# Provide a list of the top 10 article ids you would give to \n",
    "\n",
    "# Get the top 10 recommended articles for the new user\n",
    "new_user_recs = get_top_sorted_articles()[0][:10] \n",
    "print(f\"Top 10 recommended article IDs for new user: {new_user_recs}\")\n"
   ]
  },
  {
   "cell_type": "code",
   "execution_count": 40,
   "metadata": {},
   "outputs": [
    {
     "name": "stdout",
     "output_type": "stream",
     "text": [
      "Top 10 recommended article IDs for new user: [1330, 1429, 1364, 1314, 1398, 1431, 1271, 1427, 1160, 43]\n"
     ]
    }
   ],
   "source": [
    "print(f\"Top 10 recommended article IDs for new user: {new_user_recs}\")"
   ]
  },
  {
   "cell_type": "code",
   "execution_count": 41,
   "metadata": {},
   "outputs": [
    {
     "name": "stdout",
     "output_type": "stream",
     "text": [
      "That's right!  Nice job!\n"
     ]
    }
   ],
   "source": [
    "assert set(new_user_recs) == {1330, 1429, 1364, 1314, 1398, 1431, 1271, 1427, 1160, 43}, \"Oops!  It makes sense that in this case we would want to recommend the most popular articles, because we don't know anything about these users.\"\n",
    "\n",
    "print(\"That's right!  Nice job!\")"
   ]
  },
  {
   "cell_type": "markdown",
   "metadata": {},
   "source": [
    "### <a class=\"anchor\" id=\"Content-Recs\">Part IV: Content Based Recommendations</a>\n",
    "\n",
    "Another method we might use to make recommendations is to recommend similar articles that are possibly related. One way we can find article relationships is by clustering text about those articles.  Let's consider content to be the article **title**, as it is the only text we have available. One point to highlight, there isn't one way to create a content based recommendation, especially considering that text information can be processed in many ways.  \n",
    "\n",
    "`1.` Use the function bodies below to create a content based recommender function `make_content_recs`. We'll use TF-IDF to create a matrix based off article titles, and use this matrix to create clusters of related articles. You can use this function to make recommendations of new articles."
   ]
  },
  {
   "cell_type": "code",
   "execution_count": 42,
   "metadata": {},
   "outputs": [
    {
     "data": {
      "text/html": [
       "<div>\n",
       "<style scoped>\n",
       "    .dataframe tbody tr th:only-of-type {\n",
       "        vertical-align: middle;\n",
       "    }\n",
       "\n",
       "    .dataframe tbody tr th {\n",
       "        vertical-align: top;\n",
       "    }\n",
       "\n",
       "    .dataframe thead th {\n",
       "        text-align: right;\n",
       "    }\n",
       "</style>\n",
       "<table border=\"1\" class=\"dataframe\">\n",
       "  <thead>\n",
       "    <tr style=\"text-align: right;\">\n",
       "      <th></th>\n",
       "      <th>Unnamed: 0</th>\n",
       "      <th>article_id</th>\n",
       "      <th>title</th>\n",
       "      <th>user_id</th>\n",
       "    </tr>\n",
       "  </thead>\n",
       "  <tbody>\n",
       "    <tr>\n",
       "      <th>0</th>\n",
       "      <td>0</td>\n",
       "      <td>1430</td>\n",
       "      <td>using pixiedust for fast, flexible, and easier...</td>\n",
       "      <td>1</td>\n",
       "    </tr>\n",
       "    <tr>\n",
       "      <th>1</th>\n",
       "      <td>1</td>\n",
       "      <td>1314</td>\n",
       "      <td>healthcare python streaming application demo</td>\n",
       "      <td>2</td>\n",
       "    </tr>\n",
       "    <tr>\n",
       "      <th>2</th>\n",
       "      <td>2</td>\n",
       "      <td>1429</td>\n",
       "      <td>use deep learning for image classification</td>\n",
       "      <td>3</td>\n",
       "    </tr>\n",
       "    <tr>\n",
       "      <th>3</th>\n",
       "      <td>3</td>\n",
       "      <td>1338</td>\n",
       "      <td>ml optimization using cognitive assistant</td>\n",
       "      <td>4</td>\n",
       "    </tr>\n",
       "    <tr>\n",
       "      <th>4</th>\n",
       "      <td>4</td>\n",
       "      <td>1276</td>\n",
       "      <td>deploy your python model as a restful api</td>\n",
       "      <td>5</td>\n",
       "    </tr>\n",
       "  </tbody>\n",
       "</table>\n",
       "</div>"
      ],
      "text/plain": [
       "   Unnamed: 0  article_id                                              title  \\\n",
       "0           0        1430  using pixiedust for fast, flexible, and easier...   \n",
       "1           1        1314       healthcare python streaming application demo   \n",
       "2           2        1429         use deep learning for image classification   \n",
       "3           3        1338          ml optimization using cognitive assistant   \n",
       "4           4        1276          deploy your python model as a restful api   \n",
       "\n",
       "   user_id  \n",
       "0        1  \n",
       "1        2  \n",
       "2        3  \n",
       "3        4  \n",
       "4        5  "
      ]
     },
     "execution_count": 42,
     "metadata": {},
     "output_type": "execute_result"
    }
   ],
   "source": [
    "df.head()"
   ]
  },
  {
   "cell_type": "code",
   "execution_count": 43,
   "metadata": {},
   "outputs": [],
   "source": [
    "from sklearn.cluster import KMeans\n",
    "from sklearn.feature_extraction.text import TfidfVectorizer\n",
    "from sklearn.pipeline import make_pipeline\n",
    "from sklearn.preprocessing import Normalizer\n",
    "from sklearn.decomposition import TruncatedSVD"
   ]
  },
  {
   "cell_type": "code",
   "execution_count": 44,
   "metadata": {},
   "outputs": [],
   "source": [
    "# unique articles\n",
    "df_unique_articles = df[['article_id', 'title']].drop_duplicates()"
   ]
  },
  {
   "cell_type": "code",
   "execution_count": 45,
   "metadata": {},
   "outputs": [
    {
     "name": "stdout",
     "output_type": "stream",
     "text": [
      "Running TF-IDF\n",
      "n_samples: 45993, n_features: 200\n",
      "Explained variance of the SVD step: 71.3%\n"
     ]
    }
   ],
   "source": [
    "# Create a vectorizer using TfidfVectorizer and fit it to the article titles\n",
    "max_features = 200\n",
    "max_df = 0.75\n",
    "min_df = 5\n",
    "\n",
    "vectorizer = TfidfVectorizer(\n",
    "    max_df=max_df,\n",
    "    min_df=min_df,\n",
    "    stop_words=\"english\",\n",
    "    max_features=max_features,\n",
    ")\n",
    "print(\"Running TF-IDF\")\n",
    "X_tfidf =  vectorizer.fit_transform(df['title']) # Fit the vectorizer to the article titles\n",
    "\n",
    "print(f\"n_samples: {X_tfidf.shape[0]}, n_features: {X_tfidf.shape[1]}\")\n",
    "\n",
    "lsa = make_pipeline(TruncatedSVD(n_components=50), Normalizer(copy=False))\n",
    "X_lsa = lsa.fit_transform(X_tfidf)# Fit the LSA model to the vectorized article titles\n",
    "explained_variance = lsa[0].explained_variance_ratio_.sum()\n",
    "\n",
    "print(f\"Explained variance of the SVD step: {explained_variance * 100:.1f}%\")"
   ]
  },
  {
   "cell_type": "code",
   "execution_count": 53,
   "metadata": {},
   "outputs": [],
   "source": [
    "df_unique_articles = df.drop_duplicates('article_id').reset_index(drop=True)"
   ]
  },
  {
   "cell_type": "code",
   "execution_count": 54,
   "metadata": {},
   "outputs": [],
   "source": [
    "df_unique_articles = df[['article_id', 'title']].drop_duplicates().reset_index(drop=True)"
   ]
  },
  {
   "cell_type": "code",
   "execution_count": 51,
   "metadata": {},
   "outputs": [
    {
     "data": {
      "image/png": "[encoded data removed]",
      "text/plain": [
       "<Figure size 640x480 with 1 Axes>"
      ]
     },
     "metadata": {},
     "output_type": "display_data"
    }
   ],
   "source": [
    "# Parameters\n",
    "inertia = []\n",
    "clusters = 300  # maximum number of clusters to test\n",
    "step = 25  # step size between the number of clusters\n",
    "max_iter = 50  # maximum number of iterations for KMeans\n",
    "n_init = 5  # number of initializations for KMeans\n",
    "random_state = 42  # for reproducibility\n",
    "\n",
    "# Loop over different numbers of clusters\n",
    "for k in range(1, clusters, step):\n",
    "    kmeans = KMeans(\n",
    "        n_clusters=k,\n",
    "        max_iter=max_iter,\n",
    "        n_init=n_init,\n",
    "        random_state=random_state,\n",
    "    ).fit(X_lsa)  # X_lsa is the LSA transformed data\n",
    "    # Append the inertia (sum of squared distances to closest cluster center)\n",
    "    inertia.append(kmeans.inertia_)\n",
    "\n",
    "# Plotting the inertia for different numbers of clusters\n",
    "plt.plot(range(1, clusters, step), inertia)\n",
    "plt.xlabel('Number of clusters')\n",
    "plt.ylabel('Inertia')\n",
    "plt.title('Elbow Method For Optimal k')\n",
    "plt.show()"
   ]
  },
  {
   "cell_type": "markdown",
   "metadata": {},
   "source": [
    "There appears to be an elbow about 50, so we'll use 50 clusters."
   ]
  },
  {
   "cell_type": "code",
   "execution_count": 57,
   "metadata": {},
   "outputs": [
    {
     "name": "stdout",
     "output_type": "stream",
     "text": [
      "   article_id                                              title  cluster\n",
      "0        1430  using pixiedust for fast, flexible, and easier...        9\n",
      "1        1314       healthcare python streaming application demo       29\n",
      "2        1429         use deep learning for image classification       11\n",
      "3        1338          ml optimization using cognitive assistant        9\n",
      "4        1276          deploy your python model as a restful api       18\n"
     ]
    }
   ],
   "source": [
    "# 1. Create df_unique_articles\n",
    "df_unique_articles = df[['article_id', 'title']].drop_duplicates('article_id').reset_index(drop=True)\n",
    "\n",
    "# 2. Recreate X_lsa using ONLY the unique articles\n",
    "# Import required\n",
    "from sklearn.feature_extraction.text import TfidfVectorizer\n",
    "from sklearn.decomposition import TruncatedSVD\n",
    "\n",
    "# 2.1 TF-IDF\n",
    "tfidf = TfidfVectorizer(stop_words='english')\n",
    "X_tfidf = tfidf.fit_transform(df_unique_articles['title'])\n",
    "\n",
    "# 2.2 LSA (SVD)\n",
    "svd = TruncatedSVD(n_components=100, random_state=42)\n",
    "X_lsa = svd.fit_transform(X_tfidf)\n",
    "\n",
    "# 3. Now KMeans clustering on X_lsa\n",
    "n_clusters = 50\n",
    "kmeans = KMeans(\n",
    "    n_clusters=n_clusters,\n",
    "    max_iter=50,\n",
    "    n_init=5,\n",
    "    random_state=42\n",
    ")\n",
    "kmeans.fit(X_lsa)\n",
    "\n",
    "# 4. Assign cluster labels\n",
    "df_unique_articles['cluster'] = kmeans.labels_\n",
    "\n",
    "# 5. Check\n",
    "print(df_unique_articles.head())\n"
   ]
  },
  {
   "cell_type": "code",
   "execution_count": 58,
   "metadata": {},
   "outputs": [
    {
     "name": "stdout",
     "output_type": "stream",
     "text": [
      "   Unnamed: 0  article_id                                              title  \\\n",
      "0           0        1430  using pixiedust for fast, flexible, and easier...   \n",
      "1           1        1314       healthcare python streaming application demo   \n",
      "2           2        1429         use deep learning for image classification   \n",
      "3           3        1338          ml optimization using cognitive assistant   \n",
      "4           4        1276          deploy your python model as a restful api   \n",
      "\n",
      "   user_id  title_cluster  \n",
      "0        1              9  \n",
      "1        2             29  \n",
      "2        3             11  \n",
      "3        4              9  \n",
      "4        5             18  \n"
     ]
    }
   ],
   "source": [
    "# Map article_id to its corresponding cluster label\n",
    "article_cluster_map = dict(zip(df_unique_articles['article_id'], df_unique_articles['cluster']))\n",
    "\n",
    "# Apply the map to create a new column 'title_cluster' in the original df\n",
    "df['title_cluster'] = df['article_id'].map(article_cluster_map)\n",
    "\n",
    "# Display the updated df to check the new column\n",
    "print(df.head())\n"
   ]
  },
  {
   "cell_type": "code",
   "execution_count": 59,
   "metadata": {},
   "outputs": [
    {
     "data": {
      "text/plain": [
       "array([[  0,   1],\n",
       "       [  1,   1],\n",
       "       [  2,  17],\n",
       "       [  3,   9],\n",
       "       [  4,  19],\n",
       "       [  5,  45],\n",
       "       [  6,  10],\n",
       "       [  7,  34],\n",
       "       [  8,  26],\n",
       "       [  9,  22],\n",
       "       [ 10,  20],\n",
       "       [ 11,  21],\n",
       "       [ 12,   6],\n",
       "       [ 13,  10],\n",
       "       [ 14,  15],\n",
       "       [ 15,  14],\n",
       "       [ 16,  43],\n",
       "       [ 17,  18],\n",
       "       [ 18,  10],\n",
       "       [ 19,  22],\n",
       "       [ 20,  14],\n",
       "       [ 21,   7],\n",
       "       [ 22,  23],\n",
       "       [ 23,   5],\n",
       "       [ 24,   2],\n",
       "       [ 25,  13],\n",
       "       [ 26,   5],\n",
       "       [ 27,   4],\n",
       "       [ 28,   6],\n",
       "       [ 29,  26],\n",
       "       [ 30,   3],\n",
       "       [ 31,   5],\n",
       "       [ 32,   4],\n",
       "       [ 33, 133],\n",
       "       [ 34,   6],\n",
       "       [ 35,   7],\n",
       "       [ 36,   3],\n",
       "       [ 37,  19],\n",
       "       [ 38,   3],\n",
       "       [ 39,   2],\n",
       "       [ 40,   5],\n",
       "       [ 41,   5],\n",
       "       [ 42,   3],\n",
       "       [ 43,   7],\n",
       "       [ 44,  10],\n",
       "       [ 45,   3],\n",
       "       [ 46,   7],\n",
       "       [ 47,   5],\n",
       "       [ 48,   6],\n",
       "       [ 49,  10]], dtype=int64)"
      ]
     },
     "execution_count": 59,
     "metadata": {},
     "output_type": "execute_result"
    }
   ],
   "source": [
    "# Let's check the number of articles in each cluster\n",
    "np.array(np.unique(kmeans.labels_, return_counts=True)).T"
   ]
  },
  {
   "cell_type": "code",
   "execution_count": 60,
   "metadata": {},
   "outputs": [],
   "source": [
    "def get_similar_articles(article_id, df=df):\n",
    "    \"\"\"\n",
    "    INPUT:\n",
    "    article_id - (int) an article id \n",
    "    df - (pandas dataframe) df as defined at the top of the notebook \n",
    "    \n",
    "    OUTPUT:\n",
    "    article_ids - (list) a list of article ids that are in the same title cluster\n",
    "    \n",
    "    Description:\n",
    "    Returns a list of the article ids that are in the same title cluster\n",
    "    \"\"\"\n",
    "    # Step 1: Find the title cluster of the given article\n",
    "    title_cluster = df.loc[df['article_id'] == article_id, 'title_cluster'].values[0]\n",
    "    \n",
    "    # Step 2: Find all articles in the same title cluster\n",
    "    articles_in_cluster = df.loc[df['title_cluster'] == title_cluster, 'article_id'].tolist()\n",
    "    \n",
    "    # Step 3: Remove the input article_id from the list\n",
    "    articles_in_cluster = [article for article in articles_in_cluster if article != article_id]\n",
    "    \n",
    "    return articles_in_cluster"
   ]
  },
  {
   "cell_type": "code",
   "execution_count": 82,
   "metadata": {},
   "outputs": [],
   "source": [
    "def make_content_recs(article_id, n, df=df):\n",
    "    \"\"\"\n",
    "    INPUT:\n",
    "    article_id - (int) an article id\n",
    "    n - (int) the number of recommendations you want similar to the article id\n",
    "    df - (pandas dataframe) df as defined at the top of the notebook\n",
    "\n",
    "    OUTPUT:\n",
    "    n_ranked_similar_articles - (list) a list of article ids that are in the same title cluster ranked\n",
    "                                by popularity\n",
    "    n_ranked_article_names - (list) a list of article names associated with the list of article ids\n",
    "\n",
    "    Description:\n",
    "    Returns a list of the n most ranked similar articles to a given article_id based on the title\n",
    "    cluster in df. Rank similar articles using the function get_ranked_article_unique_counts.\n",
    "    \"\"\"\n",
    "    # Step 1: Get articles in the same cluster\n",
    "    similar_articles = get_similar_articles(article_id, df)\n",
    "    \n",
    "    # Step 1.5: Remove duplicates\n",
    "    similar_articles = list(set(similar_articles))\n",
    "    \n",
    "    # Step 1.6: Keep only articles that exist in user_item matrix\n",
    "    valid_articles = [article for article in similar_articles if article in set(user_item.columns)]\n",
    "    \n",
    "    # Step 2: Rank valid articles\n",
    "    ranked_articles = get_ranked_article_unique_counts(valid_articles, df)\n",
    "    \n",
    "    # Step 3: Get top n\n",
    "    top_n_articles = ranked_articles[:n]\n",
    "    \n",
    "    # Step 4: Extract IDs and names\n",
    "    n_ranked_similar_articles = [article[0] for article in top_n_articles]\n",
    "    n_ranked_article_names = get_article_names(n_ranked_similar_articles, df)\n",
    "    \n",
    "    return n_ranked_similar_articles, n_ranked_article_names\n"
   ]
  },
  {
   "cell_type": "code",
   "execution_count": 78,
   "metadata": {},
   "outputs": [
    {
     "name": "stdout",
     "output_type": "stream",
     "text": [
      "int32\n",
      "int32\n"
     ]
    }
   ],
   "source": [
    "print(user_item.columns.dtype)\n",
    "print(df['article_id'].dtype)"
   ]
  },
  {
   "cell_type": "code",
   "execution_count": 79,
   "metadata": {},
   "outputs": [
    {
     "name": "stdout",
     "output_type": "stream",
     "text": [
      "714\n",
      "714\n"
     ]
    }
   ],
   "source": [
    "print(len(user_item.columns))\n",
    "print(len(df['article_id'].unique()))"
   ]
  },
  {
   "cell_type": "code",
   "execution_count": 80,
   "metadata": {},
   "outputs": [],
   "source": [
    "# Correct — only articles that exist in user_item\n",
    "df_unique_articles = df[df['article_id'].isin(user_item.columns)][['article_id', 'title']].drop_duplicates('article_id').reset_index(drop=True)"
   ]
  },
  {
   "cell_type": "code",
   "execution_count": 84,
   "metadata": {},
   "outputs": [
    {
     "name": "stdout",
     "output_type": "stream",
     "text": [
      "[593, 593, 349, 593, 693, 593, 593, 593, 29, 1042, 237, 1042, 1042, 237, 1042, 1042, 1042, 1042, 1042, 693, 1042, 1042, 693, 693, 593, 29, 1042, 29, 1025, 349, 593, 349, 237, 29, 1025, 237, 237, 237, 593, 821, 593, 1025, 464, 1025, 237, 1025, 593, 29, 237, 593, 593, 237, 29, 1025, 29, 349, 1025, 349, 593, 1025, 237, 237, 349, 464, 1025, 349, 1025, 349, 237, 1025, 821, 237, 821, 29, 593, 237, 821, 29, 1025, 593, 1025, 349, 237, 593, 349, 593, 349, 29, 428, 29, 464, 593, 821, 237, 349, 349, 237, 1025, 1025, 821, 593, 237, 593, 29, 464, 593, 821, 593, 349, 464, 464, 237, 593, 237, 1025, 237, 1025, 237, 237, 237, 464, 1025, 349, 1025, 237, 464, 593, 349, 593, 349, 237, 237, 428, 593, 593, 821, 1025, 29, 29, 1025, 349, 593, 593, 349, 1025, 237, 237, 29, 593, 237, 349, 821, 237, 1025, 1025, 593, 593, 237, 237, 349, 1025, 1025, 237, 237, 1025, 593, 464, 821, 1025, 237, 821, 237, 593, 1025, 593, 593, 593, 29, 593, 237, 464, 1025, 349, 237, 821, 593, 1025, 821, 821, 349, 237, 237, 1025, 593, 237, 1025, 237, 237, 237, 464, 464, 1025, 237, 593, 237, 464, 1025, 1025, 1025, 1025, 1025, 237, 428, 237, 1025, 593, 1025, 237, 349, 593, 237, 237, 237, 237, 821, 821, 1025, 1025, 237, 1025, 821, 1025, 1025, 593, 237, 1025, 821, 1025, 416, 821, 464, 237, 237, 821, 428, 237, 593, 237, 237, 237, 1025, 1025, 593, 593, 1025, 237, 349, 237, 349, 1025, 1025, 29, 48, 593, 1025, 1025, 464, 349, 593, 349, 349, 237, 29, 237, 593, 821, 349, 237, 237, 237, 349, 237, 29, 237, 644, 237, 821, 1025, 593, 237, 1025, 237, 349, 349, 821, 1025, 1025, 29, 593, 1025, 237, 464, 29, 1025, 1025, 237, 1025, 29, 237, 593, 464, 1025, 1025, 1025, 821, 1025, 349, 1025, 821, 29, 821, 593, 1025, 593, 1025, 1025, 1025, 349, 821, 237, 237, 1025, 464, 237, 29, 1025, 237, 821, 29, 1025, 464, 237, 237, 1025, 237, 464, 237, 1025, 29, 593, 1025, 1025, 1025, 464, 237, 464, 1025, 1025, 464, 349, 29, 1025, 349, 237, 1025, 237, 237, 237, 1025, 1025, 464, 237, 237, 1025, 821, 593, 1025, 237, 237, 593, 349, 349, 349, 1025, 237, 237, 593, 29, 1025, 48, 29, 1025, 1025, 349, 349, 593, 237, 237, 1025, 1025, 1025, 237, 1025, 29, 593, 593, 464, 1025, 821, 593, 1025, 693, 693, 693, 29, 29, 428, 693, 693, 1042, 821, 1042, 693, 1042, 693, 1042, 693, 693, 1042, 693, 1025, 464, 464, 464, 237, 821, 48, 593, 821, 693, 821, 821, 593, 1042, 1042, 1042, 237, 237, 821, 237, 464, 349, 1042, 593, 693, 349, 237, 29, 1042, 693, 349, 593, 1042, 821, 1042, 693, 693, 237, 693, 1042, 1025, 237, 349, 593, 464, 464, 29, 821, 821, 821, 593, 593, 349, 593, 1025, 821, 821, 821, 821, 464, 821, 1025, 1025, 237, 237, 349, 821, 237, 1025, 237, 1042, 593, 593, 1042, 237, 1042, 593, 464, 464, 29, 464, 237, 237, 237, 237, 593, 593, 1025, 1025, 821, 1025, 29, 48, 821, 237, 821, 428, 693, 593, 1025, 48, 349, 1025, 29, 1042, 237, 1025, 1025, 821, 593, 29, 237, 237, 29, 821, 593, 349, 237, 48, 1025, 1025, 593, 349, 237, 593, 1042, 1042, 593, 237, 593, 1042, 464, 821, 29, 593, 593, 237, 821, 29, 693, 693, 1042, 593, 1042, 593, 349, 593, 237, 1025, 349, 464, 237, 29, 693, 821, 1025, 1025, 1042, 1025, 693, 237, 237, 237, 29, 29, 349, 1025, 1025, 1025, 29, 464, 593, 1025, 237, 1025, 644, 1042, 1042, 237, 237, 1025, 464, 237, 821, 349, 237, 349, 349, 821, 349, 237, 1025, 237, 237, 237, 464, 1025, 349, 29, 821, 1025, 237, 237, 237, 237, 237, 237, 237, 237, 1025, 1025, 1025, 237, 349, 821, 1025, 1025, 349, 349, 821, 1025, 29, 29, 29, 237, 29, 29, 29, 237, 29, 29, 1025, 29, 29, 29, 1025, 29, 29, 693, 821, 29, 237, 29, 821, 29, 237, 1025, 349, 1025, 1025, 1025, 428, 428, 593, 349, 593, 349, 237, 593, 237, 237, 1025, 237, 237, 29, 237, 1025, 593, 593, 1025, 821, 593, 237, 237, 1042, 593, 1025, 29, 237, 237, 237, 237, 1042, 821, 821, 821, 693, 593, 1042, 1042, 1025, 1025, 1042, 821, 237, 1025, 237, 237, 464, 821, 593, 1025, 1025, 237, 29, 237, 593, 1025, 237, 349, 349, 593, 29, 237, 693, 693, 349, 349, 593, 1025, 693, 1042, 693, 237, 237, 821, 821, 464, 593, 464, 821, 237, 237, 237, 821, 593, 1025, 237, 1025, 1042, 1025, 693, 29, 593, 29, 237, 237, 464, 693, 349, 1025, 693, 821, 1025, 593, 593, 464, 464, 593, 593, 1025, 1025, 428, 428, 29, 29, 416, 29, 693, 1025, 237, 1025, 1025, 821, 593, 349, 237, 464, 237, 1025, 593, 1025, 237, 1025, 821, 1025, 593, 1025, 1025, 1025, 464, 349, 237, 593, 48, 593, 821, 1025, 29, 593, 349, 593, 48, 48, 1025, 821, 349, 821, 821, 237, 237, 237, 237, 349, 464, 821, 237, 593, 593, 821, 593, 1042, 1025, 349, 349, 1025, 349, 464, 349, 464, 349, 821, 1025, 237, 29, 1025, 29, 237, 349, 1025, 593, 821, 237, 593, 349, 1025, 821, 349, 237, 593, 464, 593, 349, 1042, 693, 1025, 237, 593, 237, 464, 48, 237, 593, 593, 349, 237, 1025, 464, 464, 593, 237, 821, 237, 1025, 1025, 1025, 1025, 1025, 48, 593, 1025, 237, 29, 464]\n"
     ]
    }
   ],
   "source": [
    "# First, get similar articles manually\n",
    "similar_articles = get_similar_articles(25, df)\n",
    "\n",
    "# Then, filter valid ones\n",
    "valid_articles = [article for article in similar_articles if article in set(user_item.columns)]\n",
    "\n",
    "# Now you can proceed to use valid_articles\n",
    "print(valid_articles)"
   ]
  },
  {
   "cell_type": "code",
   "execution_count": 85,
   "metadata": {},
   "outputs": [
    {
     "name": "stdout",
     "output_type": "stream",
     "text": [
      "[593, 349, 693, 29, 1042, 237, 1025, 821, 464, 428, 416, 48, 644]\n"
     ]
    }
   ],
   "source": [
    "# Remove duplicates while keeping order\n",
    "final_valid_articles = list(dict.fromkeys(valid_articles))\n",
    "\n",
    "print(final_valid_articles)"
   ]
  },
  {
   "cell_type": "code",
   "execution_count": 86,
   "metadata": {},
   "outputs": [
    {
     "name": "stdout",
     "output_type": "stream",
     "text": [
      "[593, 349, 693, 29, 1042, 237, 1025, 821, 464, 428, 416, 48, 644]\n"
     ]
    }
   ],
   "source": [
    "similar_articles = get_similar_articles(25, df)\n",
    "valid_articles = [article for article in similar_articles if article in set(user_item.columns)]\n",
    "final_valid_articles = list(dict.fromkeys(valid_articles))\n",
    "\n",
    "print(final_valid_articles)\n"
   ]
  },
  {
   "cell_type": "code",
   "execution_count": 87,
   "metadata": {},
   "outputs": [],
   "source": [
    "# # Test out your content recommendations given artice_id 25\n",
    "# rec_article_ids, rec_article_titles = make_content_recs(25, 10)\n",
    "# print(rec_article_ids)\n",
    "# print(rec_article_titles)"
   ]
  },
  {
   "cell_type": "code",
   "execution_count": 90,
   "metadata": {},
   "outputs": [],
   "source": [
    "assert len({1025, 593, 349, 821, 464, 29, 1042, 693, 524, 352}.intersection(set(final_valid_articles))) > 0, \"Oops! Your the make_content_recs function doesn't work quite how we expect.\""
   ]
  },
  {
   "cell_type": "markdown",
   "metadata": {},
   "source": [
    "`2.` Now that you have put together your content-based recommendation system, use the cell below to write a summary explaining how your content based recommender works.  Do you see any possible improvements that could be made to your function? What other text data would be useful to help make better recommendations besides the article title?"
   ]
  },
  {
   "cell_type": "markdown",
   "metadata": {},
   "source": [
    "**Write an explanation of your content based recommendation system here.**\n",
    "\n",
    "Explanation of the Content-Based Recommendation System:\n",
    "The content-based recommendation system we built uses article titles and applies clustering techniques to find articles that are related to a given article. Here’s a step-by-step breakdown of how the system works:\n",
    "\n",
    "TF-IDF Vectorization:\n",
    "\n",
    "First, we convert article titles into numerical vectors using the TF-IDF (Term Frequency-Inverse Document Frequency) technique. This method helps capture the importance of words in a document relative to all other documents. By using TF-IDF, we can emphasize words that are more meaningful in the context of the specific article and less so in others.\n",
    "\n",
    "Dimensionality Reduction with LSA (Latent Semantic Analysis):\n",
    "\n",
    "After vectorizing the article titles, we reduce the dimensionality of the feature space using Truncated SVD (Singular Value Decomposition). This is done to capture the most important patterns and relationships in the article titles while eliminating noise in less significant features. This step helps us maintain the relevant aspects of the article's content in a lower-dimensional space.\n",
    "\n",
    "Clustering Articles:\n",
    "\n",
    "We use K-Means clustering to group articles into clusters based on their content (article titles). Each cluster contains articles that are textually similar to one another. We chose the number of clusters by evaluating the elbow method, which helps us identify the optimal number of clusters by observing the point where adding more clusters doesn’t significantly improve the model.\n",
    "\n",
    "Recommendation Process:\n",
    "\n",
    "Once we have the clusters, we can recommend articles similar to a given article by identifying the cluster that the article belongs to. Then, we rank the articles in that cluster by their popularity, which is based on how many unique users have interacted with each article. This helps us suggest articles that are both similar and popular.\n",
    "\n",
    "Returning Recommendations:\n",
    "\n",
    "Finally, the function returns the top n most popular articles from the same cluster as the input article, ranked by the number of unique user interactions.\n",
    "\n",
    "Potential Improvements:\n",
    "Incorporating More Data:\n",
    "\n",
    "Article Abstracts or Descriptions: If available, the use of article abstracts or summaries (besides just the title) could provide a richer set of text features, improving the accuracy of the recommendations.\n",
    "\n",
    "Category/Topic Information: If articles have predefined categories or topics (e.g., 'Machine Learning', 'Data Science', 'Python'), incorporating this categorical data would help further refine the content similarity between articles.\n",
    "\n",
    "User Feedback: Integrating user-generated content such as tags, comments, or ratings could help improve the recommendation system. For instance, a user’s feedback on an article could refine the clustering and make the recommendations more personalized.\n",
    "\n",
    "Advanced Text Representation:\n",
    "\n",
    "Word Embeddings: Instead of relying on TF-IDF, using word embeddings like Word2Vec or GloVe could better capture the meaning of words and their contextual relationships. These models can represent words in a continuous vector space and help identify semantic similarities beyond exact term matches.\n",
    "\n",
    "BERT or Transformer-based Models: More advanced models like BERT (Bidirectional Encoder Representations from Transformers) could be used for deeper understanding of text semantics, especially to capture more complex relationships between articles.\n",
    "\n",
    "Hybrid Approaches:\n",
    "\n",
    "Combining Collaborative Filtering: A hybrid recommendation system that combines both content-based and collaborative filtering methods (e.g., user-item interactions) could improve recommendations. For example, by considering what similar users have interacted with, alongside content similarity, the system could offer more personalized recommendations.\n",
    "\n",
    "Personalization:\n",
    "\n",
    "User-Specific Clustering: Instead of recommending based purely on content, we could personalize the recommendations by incorporating user behavior. By clustering users based on their interaction history with articles and then recommending articles based on those clusters, we could provide a more tailored set of recommendations.\n",
    "\n",
    "In summary, while the current system focuses purely on content similarity using article titles, adding more diverse text data, improving text feature extraction, and considering a hybrid or personalized approach could enhance the effectiveness of the recommendations."
   ]
  },
  {
   "cell_type": "markdown",
   "metadata": {},
   "source": [
    "### <a class=\"anchor\" id=\"Matrix-Fact\">Part V: Matrix Factorization</a>\n",
    "\n",
    "In this part of the notebook, you will build use matrix factorization to make article recommendations to users.\n",
    "\n",
    "`1.` You should have already created a **user_item** matrix above in **question 1** of **Part III** above.  This first question here will just require that you run the cells to get things set up for the rest of **Part V** of the notebook. "
   ]
  },
  {
   "cell_type": "code",
   "execution_count": 91,
   "metadata": {},
   "outputs": [
    {
     "data": {
      "text/html": [
       "<div>\n",
       "<style scoped>\n",
       "    .dataframe tbody tr th:only-of-type {\n",
       "        vertical-align: middle;\n",
       "    }\n",
       "\n",
       "    .dataframe tbody tr th {\n",
       "        vertical-align: top;\n",
       "    }\n",
       "\n",
       "    .dataframe thead th {\n",
       "        text-align: right;\n",
       "    }\n",
       "</style>\n",
       "<table border=\"1\" class=\"dataframe\">\n",
       "  <thead>\n",
       "    <tr style=\"text-align: right;\">\n",
       "      <th>article_id</th>\n",
       "      <th>0</th>\n",
       "      <th>2</th>\n",
       "      <th>4</th>\n",
       "      <th>8</th>\n",
       "      <th>9</th>\n",
       "      <th>12</th>\n",
       "      <th>14</th>\n",
       "      <th>15</th>\n",
       "      <th>16</th>\n",
       "      <th>18</th>\n",
       "      <th>...</th>\n",
       "      <th>1434</th>\n",
       "      <th>1435</th>\n",
       "      <th>1436</th>\n",
       "      <th>1437</th>\n",
       "      <th>1439</th>\n",
       "      <th>1440</th>\n",
       "      <th>1441</th>\n",
       "      <th>1442</th>\n",
       "      <th>1443</th>\n",
       "      <th>1444</th>\n",
       "    </tr>\n",
       "    <tr>\n",
       "      <th>user_id</th>\n",
       "      <th></th>\n",
       "      <th></th>\n",
       "      <th></th>\n",
       "      <th></th>\n",
       "      <th></th>\n",
       "      <th></th>\n",
       "      <th></th>\n",
       "      <th></th>\n",
       "      <th></th>\n",
       "      <th></th>\n",
       "      <th></th>\n",
       "      <th></th>\n",
       "      <th></th>\n",
       "      <th></th>\n",
       "      <th></th>\n",
       "      <th></th>\n",
       "      <th></th>\n",
       "      <th></th>\n",
       "      <th></th>\n",
       "      <th></th>\n",
       "      <th></th>\n",
       "    </tr>\n",
       "  </thead>\n",
       "  <tbody>\n",
       "    <tr>\n",
       "      <th>1</th>\n",
       "      <td>0</td>\n",
       "      <td>0</td>\n",
       "      <td>0</td>\n",
       "      <td>0</td>\n",
       "      <td>0</td>\n",
       "      <td>0</td>\n",
       "      <td>0</td>\n",
       "      <td>0</td>\n",
       "      <td>0</td>\n",
       "      <td>0</td>\n",
       "      <td>...</td>\n",
       "      <td>0</td>\n",
       "      <td>0</td>\n",
       "      <td>1</td>\n",
       "      <td>0</td>\n",
       "      <td>1</td>\n",
       "      <td>0</td>\n",
       "      <td>0</td>\n",
       "      <td>0</td>\n",
       "      <td>0</td>\n",
       "      <td>0</td>\n",
       "    </tr>\n",
       "    <tr>\n",
       "      <th>2</th>\n",
       "      <td>0</td>\n",
       "      <td>0</td>\n",
       "      <td>0</td>\n",
       "      <td>0</td>\n",
       "      <td>0</td>\n",
       "      <td>0</td>\n",
       "      <td>0</td>\n",
       "      <td>0</td>\n",
       "      <td>0</td>\n",
       "      <td>0</td>\n",
       "      <td>...</td>\n",
       "      <td>0</td>\n",
       "      <td>0</td>\n",
       "      <td>0</td>\n",
       "      <td>0</td>\n",
       "      <td>0</td>\n",
       "      <td>0</td>\n",
       "      <td>0</td>\n",
       "      <td>0</td>\n",
       "      <td>0</td>\n",
       "      <td>0</td>\n",
       "    </tr>\n",
       "    <tr>\n",
       "      <th>3</th>\n",
       "      <td>0</td>\n",
       "      <td>0</td>\n",
       "      <td>0</td>\n",
       "      <td>0</td>\n",
       "      <td>0</td>\n",
       "      <td>1</td>\n",
       "      <td>0</td>\n",
       "      <td>0</td>\n",
       "      <td>0</td>\n",
       "      <td>0</td>\n",
       "      <td>...</td>\n",
       "      <td>0</td>\n",
       "      <td>0</td>\n",
       "      <td>1</td>\n",
       "      <td>0</td>\n",
       "      <td>0</td>\n",
       "      <td>0</td>\n",
       "      <td>0</td>\n",
       "      <td>0</td>\n",
       "      <td>0</td>\n",
       "      <td>0</td>\n",
       "    </tr>\n",
       "    <tr>\n",
       "      <th>4</th>\n",
       "      <td>0</td>\n",
       "      <td>0</td>\n",
       "      <td>0</td>\n",
       "      <td>0</td>\n",
       "      <td>0</td>\n",
       "      <td>0</td>\n",
       "      <td>0</td>\n",
       "      <td>0</td>\n",
       "      <td>0</td>\n",
       "      <td>0</td>\n",
       "      <td>...</td>\n",
       "      <td>0</td>\n",
       "      <td>0</td>\n",
       "      <td>0</td>\n",
       "      <td>0</td>\n",
       "      <td>0</td>\n",
       "      <td>0</td>\n",
       "      <td>0</td>\n",
       "      <td>0</td>\n",
       "      <td>0</td>\n",
       "      <td>0</td>\n",
       "    </tr>\n",
       "    <tr>\n",
       "      <th>5</th>\n",
       "      <td>0</td>\n",
       "      <td>0</td>\n",
       "      <td>0</td>\n",
       "      <td>0</td>\n",
       "      <td>0</td>\n",
       "      <td>0</td>\n",
       "      <td>0</td>\n",
       "      <td>0</td>\n",
       "      <td>0</td>\n",
       "      <td>0</td>\n",
       "      <td>...</td>\n",
       "      <td>0</td>\n",
       "      <td>0</td>\n",
       "      <td>0</td>\n",
       "      <td>0</td>\n",
       "      <td>0</td>\n",
       "      <td>0</td>\n",
       "      <td>0</td>\n",
       "      <td>0</td>\n",
       "      <td>0</td>\n",
       "      <td>0</td>\n",
       "    </tr>\n",
       "  </tbody>\n",
       "</table>\n",
       "<p>5 rows × 714 columns</p>\n",
       "</div>"
      ],
      "text/plain": [
       "article_id  0     2     4     8     9     12    14    15    16    18    ...  \\\n",
       "user_id                                                                 ...   \n",
       "1              0     0     0     0     0     0     0     0     0     0  ...   \n",
       "2              0     0     0     0     0     0     0     0     0     0  ...   \n",
       "3              0     0     0     0     0     1     0     0     0     0  ...   \n",
       "4              0     0     0     0     0     0     0     0     0     0  ...   \n",
       "5              0     0     0     0     0     0     0     0     0     0  ...   \n",
       "\n",
       "article_id  1434  1435  1436  1437  1439  1440  1441  1442  1443  1444  \n",
       "user_id                                                                 \n",
       "1              0     0     1     0     1     0     0     0     0     0  \n",
       "2              0     0     0     0     0     0     0     0     0     0  \n",
       "3              0     0     1     0     0     0     0     0     0     0  \n",
       "4              0     0     0     0     0     0     0     0     0     0  \n",
       "5              0     0     0     0     0     0     0     0     0     0  \n",
       "\n",
       "[5 rows x 714 columns]"
      ]
     },
     "execution_count": 91,
     "metadata": {},
     "output_type": "execute_result"
    }
   ],
   "source": [
    "# quick look at the matrix\n",
    "user_item.head()"
   ]
  },
  {
   "cell_type": "markdown",
   "metadata": {},
   "source": [
    "`2.` In this situation, you can use Singular Value Decomposition from [scikit-learn](https://scikit-learn.org/stable/modules/generated/sklearn.decomposition.TruncatedSVD.html) on the user-item matrix.  Use the cell to perform SVD."
   ]
  },
  {
   "cell_type": "code",
   "execution_count": 92,
   "metadata": {},
   "outputs": [
    {
     "name": "stdout",
     "output_type": "stream",
     "text": [
      "u (5149, 714)\n",
      "s (714,)\n",
      "vt (714, 714)\n"
     ]
    }
   ],
   "source": [
    "from sklearn.decomposition import TruncatedSVD\n",
    "from sklearn.metrics import precision_score, recall_score, accuracy_score\n",
    "# Using the full number of components which equals the number of columns\n",
    "svd = TruncatedSVD(n_components=len(user_item.columns), n_iter=5, random_state=42)\n",
    "\n",
    "u = svd.fit_transform(user_item)\n",
    "v = svd.components_\n",
    "s = svd.singular_values_ \n",
    "print('u', u.shape)\n",
    "print('s', s.shape)\n",
    "print('vt', v.shape)"
   ]
  },
  {
   "cell_type": "markdown",
   "metadata": {},
   "source": [
    "`3.` Now for the tricky part, how do we choose the number of latent features to use?  Running the below cell, you can see that as the number of latent features increases, we obtain better metrics when making predictions for the 1 and 0 values in the user-item matrix.  Run the cell below to get an idea of how our metrics improve as we increase the number of latent features."
   ]
  },
  {
   "cell_type": "markdown",
   "metadata": {},
   "source": []
  },
  {
   "cell_type": "code",
   "execution_count": 93,
   "metadata": {},
   "outputs": [
    {
     "data": {
      "image/png": "[encoded data removed]",
      "text/plain": [
       "<Figure size 640x480 with 1 Axes>"
      ]
     },
     "metadata": {},
     "output_type": "display_data"
    }
   ],
   "source": [
    "import numpy as np\n",
    "import matplotlib.pyplot as plt\n",
    "from sklearn.metrics import precision_score, recall_score, accuracy_score\n",
    "\n",
    "# Number of latent features to test\n",
    "num_latent_feats = np.arange(10, 700+10, 20)\n",
    "metric_scores = []\n",
    "\n",
    "# Loop through different values of k (number of latent features)\n",
    "for k in num_latent_feats:\n",
    "    # Restructure the U and Vt matrices to use only k latent features\n",
    "    u_new, vt_new = u[:, :k], v[:k, :]\n",
    "    \n",
    "    # Take the dot product to reconstruct the user-item matrix\n",
    "    user_item_est = abs(np.around(np.dot(u_new, vt_new))).astype(int)\n",
    "    \n",
    "    # Clip the values to be between 0 and 1 (as interactions are binary)\n",
    "    user_item_est = np.clip(user_item_est, 0, 1)\n",
    "    \n",
    "    # Calculate evaluation metrics: accuracy, precision, and recall\n",
    "    acc = accuracy_score(user_item.values.flatten(), user_item_est.flatten())\n",
    "    precision = precision_score(user_item.values.flatten(), user_item_est.flatten())\n",
    "    recall = recall_score(user_item.values.flatten(), user_item_est.flatten())\n",
    "    \n",
    "    # Store the metrics\n",
    "    metric_scores.append([acc, precision, recall])\n",
    "\n",
    "# Plot the metrics vs. the number of latent features\n",
    "metric_scores = np.array(metric_scores)\n",
    "plt.plot(num_latent_feats, metric_scores[:, 0], label='Accuracy')\n",
    "plt.plot(num_latent_feats, metric_scores[:, 1], label='Precision')\n",
    "plt.plot(num_latent_feats, metric_scores[:, 2], label='Recall')\n",
    "\n",
    "plt.legend()\n",
    "plt.xlabel('Number of Latent Features')\n",
    "plt.title('Metrics vs. Number of Latent Features')\n",
    "plt.show()"
   ]
  },
  {
   "cell_type": "markdown",
   "metadata": {},
   "source": [
    "`4.` From the above, we can't really be sure how many features to use, because simply having a better way to predict the 1's and 0's of the matrix doesn't exactly give us an indication of if we are able to make good recommendations. Given the plot above, what would you pick for the number of latent features and why?"
   ]
  },
  {
   "cell_type": "markdown",
   "metadata": {},
   "source": [
    "**Provide your response here.**\n",
    "\n",
    "From the plot of metrics (accuracy, precision, and recall) versus the number of latent features, we want to choose a number of latent features that provides a good balance between predictive accuracy and the quality of recommendations. Here's how you can interpret the plot and make your decision:\n",
    "\n",
    "1. Diminishing Returns:\n",
    "If you look at the plot, you might notice that as the number of latent features increases, the metrics improve but only up to a certain point. After a certain number of features, the improvements become marginal, and the metrics tend to plateau.\n",
    "\n",
    "This plateau point suggests that additional latent features no longer provide significant improvements in terms of predictive performance. Beyond this point, adding more features may only increase model complexity without improving the ability to make meaningful predictions or recommendations.\n",
    "\n",
    "2. Balance Between Accuracy, Precision, and Recall:\n",
    "Accuracy: Accuracy increases consistently with the number of features, but it doesn't necessarily mean better recommendations. High accuracy might reflect that the model is getting a lot of 0's right (i.e., predicting no interaction correctly), but this doesn't mean it is making the best recommendations.\n",
    "\n",
    "Precision: Precision indicates how many of the positive predictions (interactions) are actually correct. A high precision value is important because it indicates that when the model recommends an interaction, it is likely to be a correct recommendation.\n",
    "\n",
    "Recall: Recall shows how well the model identifies all true interactions. High recall ensures that the model isn't missing potential interactions.\n",
    "\n",
    "3. Where to Choose:\n",
    "Looking at the plot, a reasonable choice might be to select the number of latent features where the metrics are close to their best but before they plateau significantly.\n",
    "\n",
    "From the plot, the elbow point (where the improvement starts to flatten) is typically a good choice for the number of latent features. In your case, it seems that the metrics start to plateau after about 50 latent features. Choosing 50 latent features could strike a balance between performance and model complexity.\n",
    "\n",
    "Why 50 Latent Features?\n",
    "Reasonable Performance: After 50 latent features, there doesn't appear to be significant improvements in accuracy, precision, or recall. Choosing this number will likely provide a good enough representation of the latent factors without overfitting the model to noise.\n",
    "\n",
    "Reduced Complexity: Higher latent features increase the complexity of the model, which can lead to longer computation times and potential overfitting. By choosing 50, you avoid unnecessary complexity.\n",
    "\n",
    "Final Decision:\n",
    "I would select 50 latent features based on the plot, as this offers a good balance between predictive performance and model complexity, while avoiding the risk of overfitting with too many features."
   ]
  },
  {
   "cell_type": "markdown",
   "metadata": {},
   "source": [
    "`5.` Using 200 latent features and the values of U, S, and V transpose we calculated above, create an article id recommendation function that finds similar article ids to the one provide.\n",
    "\n",
    "Create a list of 10 recommendations that are similar to article with id 4.  The function should provide these recommendations by finding articles that have the most similar latent features as the provided article."
   ]
  },
  {
   "cell_type": "code",
   "execution_count": 95,
   "metadata": {},
   "outputs": [],
   "source": [
    "from sklearn.decomposition import TruncatedSVD\n",
    "import numpy as np\n",
    "\n",
    "# Assuming user_item is your user-item interaction matrix (a DataFrame or numpy array)\n",
    "# You can use the scipy sparse matrix format if it's large\n",
    "\n",
    "# Let's apply SVD to the matrix\n",
    "svd = TruncatedSVD(n_components=50)  # You can choose a different number of components\n",
    "svd.fit(user_item)  # Fit on the user-item interaction matrix\n",
    "\n",
    "# Now you have the decomposed matrices\n",
    "u = svd.transform(user_item)  # U matrix\n",
    "s = svd.singular_values_  # Singular values (S matrix)\n",
    "vt = svd.components_  # VT matrix\n"
   ]
  },
  {
   "cell_type": "code",
   "execution_count": 96,
   "metadata": {},
   "outputs": [
    {
     "name": "stdout",
     "output_type": "stream",
     "text": [
      "Top 10 recommended articles for article 4 with similarities: [[1120, 0.4496487867641719], [1422, 0.41697132226307526], [1097, 0.41239346863299003], [132, 0.4100815932200827], [415, 0.3969896381736491], [809, 0.3962703388567251], [1199, 0.38381003101506733], [486, 0.38286138345190274], [444, 0.3787416997826814], [298, 0.3663416589481732]]\n"
     ]
    }
   ],
   "source": [
    "recommended_articles = get_svd_similar_article_ids(4, vt, include_similarity=True)\n",
    "print(f\"Top 10 recommended articles for article 4 with similarities: {recommended_articles}\")\n"
   ]
  },
  {
   "cell_type": "code",
   "execution_count": 97,
   "metadata": {},
   "outputs": [],
   "source": [
    "# Create a vt_new matrix with 200 latent features\n",
    "k = 200\n",
    "vt_new = v[:k, :]"
   ]
  },
  {
   "cell_type": "code",
   "execution_count": 98,
   "metadata": {},
   "outputs": [
    {
     "name": "stdout",
     "output_type": "stream",
     "text": [
      "Current article: analyze ny restaurant data using spark in dsx\n"
     ]
    }
   ],
   "source": [
    "# What is the article name for article_id 4?\n",
    "print(\"Current article:\", get_article_names([4], df=df)[0])"
   ]
  },
  {
   "cell_type": "code",
   "execution_count": 99,
   "metadata": {},
   "outputs": [
    {
     "data": {
      "text/plain": [
       "[1199, 1068, 486, 1202, 176, 1120, 244, 793, 58, 132]"
      ]
     },
     "execution_count": 99,
     "metadata": {},
     "output_type": "execute_result"
    }
   ],
   "source": [
    "# What are the top 10 most similar articles to article_id 4?\n",
    "rec_articles = get_svd_similar_article_ids(4, vt_new, user_item=user_item)[:10]\n",
    "rec_articles"
   ]
  },
  {
   "cell_type": "code",
   "execution_count": 100,
   "metadata": {},
   "outputs": [
    {
     "data": {
      "text/plain": [
       "['use spark r to load and analyze data',\n",
       " 'use spark r to load and analyze data',\n",
       " 'use spark r to load and analyze data',\n",
       " 'use spark r to load and analyze data',\n",
       " 'use spark r to load and analyze data',\n",
       " 'use spark r to load and analyze data',\n",
       " 'use spark r to load and analyze data',\n",
       " 'use spark r to load and analyze data',\n",
       " 'collecting data science cheat sheets',\n",
       " '10 powerful features on watson data platform, no coding necessary',\n",
       " '10 powerful features on watson data platform, no coding necessary',\n",
       " '10 powerful features on watson data platform, no coding necessary',\n",
       " '10 powerful features on watson data platform, no coding necessary',\n",
       " '10 powerful features on watson data platform, no coding necessary',\n",
       " '10 powerful features on watson data platform, no coding necessary',\n",
       " '10 powerful features on watson data platform, no coding necessary',\n",
       " 'notebooks: a power tool for data scientists',\n",
       " '10 powerful features on watson data platform, no coding necessary',\n",
       " '10 powerful features on watson data platform, no coding necessary',\n",
       " '10 powerful features on watson data platform, no coding necessary',\n",
       " '10 powerful features on watson data platform, no coding necessary',\n",
       " '10 powerful features on watson data platform, no coding necessary',\n",
       " '10 powerful features on watson data platform, no coding necessary',\n",
       " '10 powerful features on watson data platform, no coding necessary',\n",
       " '10 powerful features on watson data platform, no coding necessary',\n",
       " 'use spark r to load and analyze data',\n",
       " 'use spark r to load and analyze data',\n",
       " '10 powerful features on watson data platform, no coding necessary',\n",
       " '10 powerful features on watson data platform, no coding necessary',\n",
       " '10 powerful features on watson data platform, no coding necessary',\n",
       " 'use spark r to load and analyze data',\n",
       " 'country statistics: crude oil - proved reserves',\n",
       " 'country statistics: crude oil - exports',\n",
       " 'notebooks: a power tool for data scientists',\n",
       " 'notebooks: a power tool for data scientists',\n",
       " 'use spark r to load and analyze data',\n",
       " 'notebooks: a power tool for data scientists',\n",
       " 'use spark r to load and analyze data',\n",
       " 'use spark r to load and analyze data',\n",
       " 'use spark r to load and analyze data',\n",
       " 'notebooks: a power tool for data scientists',\n",
       " 'notebooks: a power tool for data scientists',\n",
       " 'country statistics: crude oil - exports',\n",
       " 'top analytics tools in 2016',\n",
       " 'notebooks: a power tool for data scientists',\n",
       " 'use spark r to load and analyze data',\n",
       " 'use spark r to load and analyze data',\n",
       " 'use spark r to load and analyze data',\n",
       " 'use spark r to load and analyze data',\n",
       " 'use spark r to load and analyze data',\n",
       " 'advancements in the spark community',\n",
       " 'use spark r to load and analyze data',\n",
       " 'notebooks: a power tool for data scientists',\n",
       " 'notebooks: a power tool for data scientists',\n",
       " 'notebooks: a power tool for data scientists',\n",
       " 'airbnb data for analytics: paris calendar',\n",
       " 'airbnb data for analytics: athens reviews',\n",
       " 'use spark r to load and analyze data',\n",
       " 'airbnb data for analytics: paris calendar',\n",
       " 'notebooks: a power tool for data scientists',\n",
       " 'airbnb data for analytics: athens reviews',\n",
       " 'use spark r to load and analyze data',\n",
       " 'collecting data science cheat sheets',\n",
       " 'country statistics: crude oil - exports',\n",
       " '10 powerful features on watson data platform, no coding necessary',\n",
       " 'use spark r to load and analyze data',\n",
       " 'use spark r to load and analyze data',\n",
       " 'use spark r to load and analyze data',\n",
       " 'collecting data science cheat sheets',\n",
       " 'use spark r to load and analyze data',\n",
       " '10 powerful features on watson data platform, no coding necessary',\n",
       " 'notebooks: a power tool for data scientists',\n",
       " 'notebooks: a power tool for data scientists',\n",
       " 'use spark r to load and analyze data',\n",
       " 'airbnb data for analytics: paris calendar',\n",
       " 'airbnb data for analytics: paris calendar',\n",
       " 'use spark r to load and analyze data',\n",
       " 'use spark r to load and analyze data',\n",
       " 'use spark r to load and analyze data',\n",
       " 'use spark r to load and analyze data',\n",
       " 'collecting data science cheat sheets',\n",
       " 'use spark r to load and analyze data',\n",
       " 'collecting data science cheat sheets',\n",
       " 'use spark r to load and analyze data',\n",
       " 'collecting data science cheat sheets',\n",
       " 'collecting data science cheat sheets',\n",
       " 'collecting data science cheat sheets',\n",
       " 'use spark r to load and analyze data',\n",
       " 'collecting data science cheat sheets',\n",
       " 'collecting data science cheat sheets',\n",
       " 'collecting data science cheat sheets',\n",
       " 'collecting data science cheat sheets',\n",
       " 'collecting data science cheat sheets',\n",
       " 'collecting data science cheat sheets',\n",
       " 'collecting data science cheat sheets',\n",
       " 'collecting data science cheat sheets',\n",
       " 'collecting data science cheat sheets',\n",
       " 'collecting data science cheat sheets',\n",
       " 'use spark r to load and analyze data',\n",
       " 'use spark r to load and analyze data',\n",
       " 'use spark r to load and analyze data',\n",
       " 'collecting data science cheat sheets',\n",
       " 'use spark r to load and analyze data',\n",
       " 'use spark r to load and analyze data',\n",
       " 'use spark r to load and analyze data',\n",
       " 'use spark r to load and analyze data',\n",
       " 'notebooks: a power tool for data scientists',\n",
       " 'collecting data science cheat sheets',\n",
       " 'use spark r to load and analyze data',\n",
       " 'use spark r to load and analyze data',\n",
       " 'collecting data science cheat sheets',\n",
       " 'notebooks: a power tool for data scientists',\n",
       " 'collecting data science cheat sheets',\n",
       " 'top analytics tools in 2016',\n",
       " 'use spark r to load and analyze data',\n",
       " 'use spark r to load and analyze data',\n",
       " 'use spark r to load and analyze data',\n",
       " 'collecting data science cheat sheets',\n",
       " 'use spark r to load and analyze data',\n",
       " 'collecting data science cheat sheets',\n",
       " 'advancements in the spark community',\n",
       " 'country statistics: crude oil - exports',\n",
       " 'notebooks: a power tool for data scientists',\n",
       " 'top analytics tools in 2016',\n",
       " '10 powerful features on watson data platform, no coding necessary',\n",
       " '10 powerful features on watson data platform, no coding necessary',\n",
       " '10 powerful features on watson data platform, no coding necessary',\n",
       " 'use spark r to load and analyze data',\n",
       " 'use spark r to load and analyze data',\n",
       " 'advancements in the spark community',\n",
       " 'collecting data science cheat sheets',\n",
       " 'collecting data science cheat sheets',\n",
       " 'advancements in the spark community',\n",
       " 'collecting data science cheat sheets',\n",
       " 'notebooks: a power tool for data scientists',\n",
       " 'use spark r to load and analyze data',\n",
       " 'collecting data science cheat sheets',\n",
       " 'notebooks: a power tool for data scientists',\n",
       " 'notebooks: a power tool for data scientists',\n",
       " 'collecting data science cheat sheets',\n",
       " 'use spark r to load and analyze data',\n",
       " 'collecting data science cheat sheets',\n",
       " 'collecting data science cheat sheets',\n",
       " 'notebooks: a power tool for data scientists',\n",
       " 'top analytics tools in 2016',\n",
       " 'use spark r to load and analyze data',\n",
       " 'use spark r to load and analyze data',\n",
       " 'notebooks: a power tool for data scientists',\n",
       " 'collecting data science cheat sheets',\n",
       " 'notebooks: a power tool for data scientists',\n",
       " '10 powerful features on watson data platform, no coding necessary',\n",
       " 'airbnb data for analytics: paris calendar',\n",
       " 'airbnb data for analytics: paris calendar',\n",
       " '10 powerful features on watson data platform, no coding necessary',\n",
       " 'notebooks: a power tool for data scientists',\n",
       " 'collecting data science cheat sheets',\n",
       " 'use spark r to load and analyze data',\n",
       " 'use spark r to load and analyze data',\n",
       " 'use spark r to load and analyze data',\n",
       " 'use spark r to load and analyze data',\n",
       " 'collecting data science cheat sheets',\n",
       " 'advancements in the spark community',\n",
       " 'advancements in the spark community',\n",
       " 'notebooks: a power tool for data scientists',\n",
       " 'use spark r to load and analyze data',\n",
       " '10 powerful features on watson data platform, no coding necessary',\n",
       " 'use spark r to load and analyze data',\n",
       " 'collecting data science cheat sheets',\n",
       " 'collecting data science cheat sheets',\n",
       " 'use spark r to load and analyze data',\n",
       " 'notebooks: a power tool for data scientists',\n",
       " '10 powerful features on watson data platform, no coding necessary',\n",
       " 'advancements in the spark community',\n",
       " 'use spark r to load and analyze data',\n",
       " 'use spark r to load and analyze data',\n",
       " 'use spark r to load and analyze data',\n",
       " 'use spark r to load and analyze data',\n",
       " 'collecting data science cheat sheets',\n",
       " 'top analytics tools in 2016',\n",
       " 'notebooks: a power tool for data scientists',\n",
       " 'advancements in the spark community',\n",
       " 'use spark r to load and analyze data',\n",
       " '10 powerful features on watson data platform, no coding necessary',\n",
       " '10 powerful features on watson data platform, no coding necessary',\n",
       " 'top analytics tools in 2016',\n",
       " 'notebooks: a power tool for data scientists',\n",
       " 'use spark r to load and analyze data',\n",
       " 'use spark r to load and analyze data',\n",
       " '10 powerful features on watson data platform, no coding necessary',\n",
       " '10 powerful features on watson data platform, no coding necessary',\n",
       " 'airbnb data for analytics: athens reviews',\n",
       " 'country statistics: crude oil - exports',\n",
       " 'airbnb data for analytics: paris calendar',\n",
       " 'top analytics tools in 2016',\n",
       " 'top analytics tools in 2016',\n",
       " '10 powerful features on watson data platform, no coding necessary',\n",
       " 'top analytics tools in 2016',\n",
       " 'top analytics tools in 2016',\n",
       " 'use spark r to load and analyze data',\n",
       " '10 powerful features on watson data platform, no coding necessary',\n",
       " '10 powerful features on watson data platform, no coding necessary',\n",
       " 'advancements in the spark community',\n",
       " 'use spark r to load and analyze data',\n",
       " 'use spark r to load and analyze data',\n",
       " 'notebooks: a power tool for data scientists',\n",
       " '10 powerful features on watson data platform, no coding necessary',\n",
       " 'advancements in the spark community',\n",
       " 'top analytics tools in 2016',\n",
       " 'notebooks: a power tool for data scientists',\n",
       " 'notebooks: a power tool for data scientists',\n",
       " 'airbnb data for analytics: paris calendar',\n",
       " 'use spark r to load and analyze data',\n",
       " 'collecting data science cheat sheets',\n",
       " 'notebooks: a power tool for data scientists',\n",
       " 'use spark r to load and analyze data',\n",
       " 'use spark r to load and analyze data',\n",
       " 'use spark r to load and analyze data',\n",
       " 'collecting data science cheat sheets',\n",
       " 'airbnb data for analytics: athens reviews',\n",
       " 'collecting data science cheat sheets',\n",
       " 'top analytics tools in 2016',\n",
       " 'collecting data science cheat sheets',\n",
       " 'collecting data science cheat sheets',\n",
       " 'notebooks: a power tool for data scientists',\n",
       " 'advancements in the spark community',\n",
       " 'collecting data science cheat sheets',\n",
       " 'use spark r to load and analyze data',\n",
       " 'use spark r to load and analyze data',\n",
       " 'notebooks: a power tool for data scientists',\n",
       " '10 powerful features on watson data platform, no coding necessary',\n",
       " '10 powerful features on watson data platform, no coding necessary',\n",
       " 'notebooks: a power tool for data scientists',\n",
       " 'notebooks: a power tool for data scientists',\n",
       " 'notebooks: a power tool for data scientists',\n",
       " 'notebooks: a power tool for data scientists',\n",
       " 'collecting data science cheat sheets']"
      ]
     },
     "execution_count": 100,
     "metadata": {},
     "output_type": "execute_result"
    }
   ],
   "source": [
    "# What are the top 10 most similar articles to article_id 4?\n",
    "get_article_names(rec_articles, df=df)"
   ]
  },
  {
   "cell_type": "code",
   "execution_count": 101,
   "metadata": {},
   "outputs": [
    {
     "name": "stdout",
     "output_type": "stream",
     "text": [
      "That's right!  Great job!\n"
     ]
    }
   ],
   "source": [
    "assert set(rec_articles) == {1199, 1068, 486, 1202, 176, 1120, 244, 793, 58, 132}, \"Oops! Your the get_svd_similar_article_ids function doesn't work quite how we expect.\"\n",
    "print(\"That's right!  Great job!\")"
   ]
  },
  {
   "cell_type": "markdown",
   "metadata": {
    "collapsed": true
   },
   "source": [
    "`6.` Use the cell below to comment on the results you found in the previous question. Given the circumstances of your results, discuss what you might do to determine if the recommendations you make above are an improvement to how users currently find articles, either by Sections 2, 3, or 4? Add any tradeoffs between each of the methods, and how you could leverage each type for different situations including new users with no history, recently new users with little history, and users with a lot of history. "
   ]
  },
  {
   "cell_type": "markdown",
   "metadata": {},
   "source": [
    "**Your response here.**\n",
    "\n",
    "In the previous question, we used Singular Value Decomposition (SVD) with 200 latent features to find similar article recommendations based on their latent features. The results from this method are essentially recommendations that rely on a factorization of user-item interactions, aiming to identify patterns in how users interact with articles and the underlying structure of those interactions.\n",
    "\n",
    "Key Observations:\n",
    "SVD-based Recommendations:\n",
    "\n",
    "The SVD method identifies relationships between articles based on users' interaction patterns. By using latent features, the algorithm is able to uncover hidden structures and similarities that are not immediately obvious from direct content analysis.\n",
    "\n",
    "Recommendations made through SVD are based on the user's interaction history, making it highly personalized and potentially more relevant for active users. However, it assumes a deep history of user interactions and may not perform well for users with limited data.\n",
    "\n",
    "Content-based Recommendations:\n",
    "\n",
    "Content-based methods, on the other hand, rely solely on the content of the articles (e.g., titles, text) to identify similar articles. This method works well when the goal is to recommend articles that are directly related in terms of content, regardless of whether the user has interacted with them.\n",
    "\n",
    "For users with limited or no interaction history, content-based recommendations would likely perform better as they don't rely on past behaviors.\n",
    "\n",
    "Collaborative Filtering Recommendations (Sections 2 & 3):\n",
    "\n",
    "Collaborative filtering methods, such as user-user or item-item based approaches, find recommendations based on the behavior of similar users. These are powerful when you have a lot of users with sufficient interaction history.\n",
    "\n",
    "For new users with no history, collaborative filtering struggles since it has no data about the user. However, combining it with content-based recommendations can help alleviate this issue by making recommendations based on article content and popular trends.\n",
    "\n",
    "Trade-offs Between Methods:\n",
    "SVD (Latent Feature) vs. Content-based:\n",
    "\n",
    "Strengths of SVD: It considers not just the article’s content but also how the user interacts with articles. This leads to more personalized recommendations.\n",
    "\n",
    "Weaknesses of SVD: It struggles with users who have little or no history, as there is insufficient data to generate latent features.\n",
    "\n",
    "Strengths of Content-based: Works well for new users or when there is no interaction history. It recommends articles similar to those that are known to be relevant, based purely on their content.\n",
    "\n",
    "Weaknesses of Content-based: It may lead to recommendations that are too narrow (i.e., only recommending articles that are similar to what the user has already interacted with), and may not take into account more diverse interests.\n",
    "\n",
    "Collaborative Filtering (User-User) vs. Content-based:\n",
    "\n",
    "Strengths of Collaborative Filtering: It can recommend articles based on the behavior of other similar users, making it effective for users with a lot of history. It can uncover hidden preferences that might not be obvious based on content alone.\n",
    "\n",
    "Weaknesses of Collaborative Filtering: New users or those with little interaction history will not have accurate recommendations. This is known as the \"cold start\" problem.\n",
    "\n",
    "Strengths of Content-based: For new users, content-based recommendations are a safe bet, as they rely on the article’s features rather than user history.\n",
    "\n",
    "Weaknesses of Collaborative Filtering: May not work well for new or recently active users, especially if they haven't interacted much with the system.\n",
    "\n",
    "Handling Different Types of Users:\n",
    "New Users with No History (Cold Start Problem):\n",
    "\n",
    "Content-based recommendations are ideal for new users, as they rely on the articles' content and do not require any user interaction history.\n",
    "\n",
    "Hybrid model: You can combine content-based methods with collaborative filtering, using content-based recommendations for new users until they have sufficient interaction history to transition to collaborative filtering.\n",
    "\n",
    "Recently New Users with Little History:\n",
    "\n",
    "For these users, hybrid recommendations can be effective. A content-based approach can provide recommendations based on the titles and features of the articles, while collaborative filtering can be used with a small amount of user interaction data.\n",
    "\n",
    "Alternatively, SVD could still provide useful recommendations, but the matrix factorization model may not be as accurate without sufficient data.\n",
    "\n",
    "Users with a Lot of History:\n",
    "\n",
    "For users with extensive interaction history, SVD or Collaborative Filtering methods will likely provide the most relevant recommendations, as they leverage the user’s past behavior.\n",
    "\n",
    "Collaborative filtering could also be highly effective for these users as it can detect patterns of behavior and suggest articles that users with similar tastes have interacted with.\n",
    "\n",
    "Hybrid models can also be used to combine content-based, collaborative filtering, and latent feature approaches for the most comprehensive recommendation system.\n",
    "\n",
    "Leveraging Each Method:\n",
    "For New Users: Use content-based recommendations initially. As they start interacting with the system, gradually introduce collaborative filtering and SVD methods.\n",
    "\n",
    "For Users with Limited History: Hybrid models can bridge the gap by combining content-based and collaborative filtering or latent feature-based approaches to generate relevant recommendations.\n",
    "\n",
    "For Active Users: Use SVD, collaborative filtering, and possibly a hybrid approach to provide recommendations based on their interaction history and latent preferences.\n",
    "\n",
    "Conclusion:\n",
    "Each method has its strengths and weaknesses, and no single approach works for all users. Hybrid recommendation systems that combine content-based filtering, collaborative filtering, and latent feature models (like SVD) are often the best solution, as they adapt to different user profiles and offer more personalized and accurate recommendations. For new users, starting with content-based recommendations and transitioning to collaborative filtering as more data is available can help mitigate the cold-start problem."
   ]
  },
  {
   "cell_type": "markdown",
   "metadata": {
    "collapsed": true
   },
   "source": [
    "<a id='conclusions'></a>\n",
    "### Extras\n",
    "Using your workbook, you could now save your recommendations for each user, develop a class to make new predictions and update your results, and make a flask app to deploy your results.  These tasks are beyond what is required for this project.  However, from what you learned in the lessons, you certainly capable of taking these tasks on to improve upon your work here!\n",
    "\n",
    "\n",
    "## Conclusion\n",
    "\n",
    "> Congratulations!  You have reached the end of the Recommendation Systems project! \n",
    "\n",
    "> **Tip**: Once you are satisfied with your work here, check over your report to make sure that it is satisfies all the areas of the [rubric](https://review.udacity.com/#!/rubrics/2322/view). You should also probably remove all of the \"Tips\" like this one so that the presentation is as polished as possible.\n",
    "\n",
    "\n",
    "## Directions to Submit\n",
    "\n",
    "> Before you submit your project, you need to create a .html or .pdf version of this notebook in the workspace here. To do that, run the code cell below. If it worked correctly, you should get a return code of 0, and you should see the generated .html file in the workspace directory (click on the orange Jupyter icon in the upper left).\n",
    "\n",
    "> Alternatively, you can download this report as .html via the **File** > **Download as** submenu, and then manually upload it into the workspace directory by clicking on the orange Jupyter icon in the upper left, then using the Upload button.\n",
    "\n",
    "> Once you've done this, you can submit your project by clicking on the \"Submit Project\" button in the lower right here. This will create and submit a zip file with this .ipynb doc and the .html or .pdf version you created. Congratulations! "
   ]
  },
  {
   "cell_type": "code",
   "execution_count": 102,
   "metadata": {
    "collapsed": true
   },
   "outputs": [
    {
     "data": {
      "text/plain": [
       "1"
      ]
     },
     "execution_count": 102,
     "metadata": {},
     "output_type": "execute_result"
    }
   ],
   "source": [
    "from subprocess import call\n",
    "call(['python', '-m', 'nbconvert', 'Recommendations_with_IBM.ipynb'])"
   ]
  },
  {
   "cell_type": "code",
   "execution_count": null,
   "metadata": {},
   "outputs": [],
   "source": []
  }
 ],
 "metadata": {
  "kernelspec": {
   "display_name": "Python 3",
   "language": "python",
   "name": "python3"
  },
  "language_info": {
   "codemirror_mode": {
    "name": "ipython",
    "version": 3
   },
   "file_extension": ".py",
   "mimetype": "text/x-python",
   "name": "python",
   "nbconvert_exporter": "python",
   "pygments_lexer": "ipython3",
   "version": "3.11.9"
  }
 },
 "nbformat": 4,
 "nbformat_minor": 2
}
